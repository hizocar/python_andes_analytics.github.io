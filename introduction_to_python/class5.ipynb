{
  "cells": [
    {
      "attachments": {},
      "cell_type": "markdown",
      "id": "9003cfb7",
      "metadata": {},
      "source": [
        "# Class 5: Data Manipulation I\n",
        "\n",
        "<p align=\"center\">\n",
        "<img src=\"images/cat_class5.png\" width=\"50%\" height=\"50%\">\n",
        "</p>"
      ]
    },
    {
      "cell_type": "markdown",
      "id": "a4bfa3de-9b15-4138-bd7d-613de5167f85",
      "metadata": {
        "noteable": {
          "cell_type": "markdown"
        }
      },
      "source": [
        "## Set Logic\n",
        "\n",
        "In mathematics, a set is a collection of distinct objects, considered as an object in its own right. The operations associated with sets include:\n",
        "\n",
        "- **Union**: Represents all elements that are in either set. Denoted as $A \\cup B$.\n",
        "- **Intersection**: Represents all elements that are common to both sets. Denoted as $A \\cap B$.\n",
        "- **Difference**: Represents all elements that are in the first set but not in the second. Denoted as $A - B$.\n",
        "- **Complement**: Represents all elements that are not in the given set. Denoted as $\\overline{A}$.\n",
        "\n",
        "These operations form the basic foundation for set theory and are crucial when dealing with collections of data."
      ]
    },
    {
      "cell_type": "markdown",
      "id": "b6225644-241a-4cfc-b3a5-adb8fa55b1f3",
      "metadata": {
        "noteable": {
          "cell_type": "markdown"
        }
      },
      "source": [
        "## Pandas Merge Function\n",
        "\n",
        "The `merge` function in pandas is used to combine two DataFrames based on common columns or indices. It's similar to SQL JOIN operations. The key parameters include:\n",
        "\n",
        "- `right`: The DataFrame to merge with.\n",
        "- `on`: Column(s) that should be used to join the DataFrames. These columns should exist in both DataFrames.\n",
        "- `left_on`: Columns from the left DataFrame to use as keys.\n",
        "- `right_on`: Columns from the right DataFrame to use as keys.\n",
        "\n",
        "Let's create two example DataFrames to demonstrate the use of `merge` with `right_on` and `left_on`."
      ]
    },
    {
      "cell_type": "code",
      "execution_count": null,
      "id": "6b3372e7-7503-4e93-a5ad-745fb7a0b263",
      "metadata": {
        "ExecuteTime": {
          "end_time": "2023-08-23T00:12:45.432209+00:00",
          "start_time": "2023-08-23T00:12:45.212341+00:00"
        },
        "datalink": {
          "e0b5b8ae-adaf-45ed-b3f3-12e3f80d8c25": {
            "applied_filters": [],
            "dataframe_info": {
              "default_index_used": true,
              "orig_num_cols": 4,
              "orig_num_rows": 2,
              "orig_size_bytes": 80,
              "truncated_num_cols": 4,
              "truncated_num_rows": 2,
              "truncated_size_bytes": 80,
              "truncated_string_columns": []
            },
            "display_id": "e0b5b8ae-adaf-45ed-b3f3-12e3f80d8c25",
            "dx_settings": {
              "ALLOW_NOTEABLE_ATTRS": true,
              "COLUMN_SAMPLING_METHOD": "outer",
              "DB_LOCATION": ":memory:",
              "DEV_MODE": false,
              "DISPLAY_MAX_COLUMNS": 100,
              "DISPLAY_MAX_ROWS": 50000,
              "DISPLAY_MODE": "simple",
              "ENABLE_ASSIGNMENT": true,
              "ENABLE_DATALINK": true,
              "FLATTEN_COLUMN_VALUES": true,
              "FLATTEN_INDEX_VALUES": false,
              "GENERATE_DEX_METADATA": false,
              "HTML_TABLE_SCHEMA": false,
              "LOG_LEVEL": 30,
              "MAX_RENDER_SIZE_BYTES": 104857600,
              "MAX_STRING_LENGTH": 250,
              "NUM_PAST_SAMPLES_TRACKED": 3,
              "RANDOM_STATE": 12648430,
              "RESET_INDEX_VALUES": false,
              "ROW_SAMPLING_METHOD": "random",
              "SAMPLING_FACTOR": 0.1,
              "SAMPLING_METHOD": "random",
              "STRINGIFY_COLUMN_VALUES": true,
              "STRINGIFY_INDEX_VALUES": false
            },
            "sample_history": [],
            "sampling_time": "2023-08-23T00:12:45.262179",
            "user_variable_name": "merged_df",
            "variable_name": "merged_df"
          }
        },
        "dx": {
          "fieldMetadata": {},
          "simpleTable": true,
          "updated": 1692749572262,
          "views": []
        },
        "noteable": {
          "cell_type": "code"
        },
        "vscode": {
          "languageId": "python"
        }
      },
      "outputs": [
        {
          "data": {
            "application/vnd.dataresource+json": {
              "data": [
                {
                  "course": "Math",
                  "index": 0,
                  "name": "Alice",
                  "registration_no": 101,
                  "student_id": 101
                },
                {
                  "course": "Physics",
                  "index": 1,
                  "name": "Bob",
                  "registration_no": 102,
                  "student_id": 102
                }
              ],
              "datalink": {
                "display_id": "e0b5b8ae-adaf-45ed-b3f3-12e3f80d8c25"
              },
              "schema": {
                "fields": [
                  {
                    "name": "index",
                    "type": "integer"
                  },
                  {
                    "name": "student_id",
                    "type": "integer"
                  },
                  {
                    "name": "name",
                    "type": "string"
                  },
                  {
                    "name": "registration_no",
                    "type": "integer"
                  },
                  {
                    "name": "course",
                    "type": "string"
                  }
                ],
                "pandas_version": "1.4.0",
                "primaryKey": [
                  "index"
                ]
              }
            }
          },
          "metadata": {
            "application/vnd.dataresource+json": {
              "datalink": {
                "applied_filters": [],
                "dataframe_info": {
                  "default_index_used": true,
                  "orig_num_cols": 4,
                  "orig_num_rows": 2,
                  "orig_size_bytes": 80,
                  "truncated_num_cols": 4,
                  "truncated_num_rows": 2,
                  "truncated_size_bytes": 80,
                  "truncated_string_columns": []
                },
                "display_id": "e0b5b8ae-adaf-45ed-b3f3-12e3f80d8c25",
                "dx_settings": {
                  "ALLOW_NOTEABLE_ATTRS": true,
                  "COLUMN_SAMPLING_METHOD": "outer",
                  "DB_LOCATION": ":memory:",
                  "DEV_MODE": false,
                  "DISPLAY_MAX_COLUMNS": 100,
                  "DISPLAY_MAX_ROWS": 50000,
                  "DISPLAY_MODE": "simple",
                  "ENABLE_ASSIGNMENT": true,
                  "ENABLE_DATALINK": true,
                  "FLATTEN_COLUMN_VALUES": true,
                  "FLATTEN_INDEX_VALUES": false,
                  "GENERATE_DEX_METADATA": false,
                  "HTML_TABLE_SCHEMA": false,
                  "LOG_LEVEL": 30,
                  "MAX_RENDER_SIZE_BYTES": 104857600,
                  "MAX_STRING_LENGTH": 250,
                  "NUM_PAST_SAMPLES_TRACKED": 3,
                  "RANDOM_STATE": 12648430,
                  "RESET_INDEX_VALUES": false,
                  "ROW_SAMPLING_METHOD": "random",
                  "SAMPLING_FACTOR": 0.1,
                  "SAMPLING_METHOD": "random",
                  "STRINGIFY_COLUMN_VALUES": true,
                  "STRINGIFY_INDEX_VALUES": false
                },
                "sample_history": [],
                "sampling_time": "2023-08-23T00:12:45.262179",
                "user_variable_name": "merged_df",
                "variable_name": "merged_df"
              },
              "display_id": "e0b5b8ae-adaf-45ed-b3f3-12e3f80d8c25"
            }
          },
          "output_type": "display_data"
        }
      ],
      "source": [
        "import pandas as pd\n",
        "\n",
        "# Creating two example DataFrames\n",
        "students = pd.DataFrame({\n",
        "    'student_id': [101, 102, 103],\n",
        "    'name': ['Alice', 'Bob', 'Charlie']\n",
        "})\n",
        "\n",
        "courses = pd.DataFrame({\n",
        "    'registration_no': [101, 102, 104],\n",
        "    'course': ['Math', 'Physics', 'Chemistry']\n",
        "})\n",
        "\n",
        "# Merging the DataFrames using merge with right_on and left_on\n",
        "merged_df = students.merge(courses, left_on='student_id', right_on='registration_no', how='inner')\n",
        "\n",
        "merged_df"
      ]
    },
    {
      "cell_type": "markdown",
      "id": "a0c7f174-ed21-435c-a4c4-df46666e3f80",
      "metadata": {
        "noteable": {
          "cell_type": "markdown"
        }
      },
      "source": [
        "## Outer Join vs Inner Join\n",
        "\n",
        "When merging or joining DataFrames in pandas, it's essential to understand the type of join you want to perform. The two most common types are `outer join` and `inner join`:\n",
        "\n",
        "- **Outer Join**: This type of join returns all the rows when there is a match in one of the DataFrames. Therefore, it returns all the rows from the left DataFrame and all the rows from the right DataFrame. If there is no match, the missing side will contain NaN.\n",
        "\n",
        "- **Inner Join**: This type of join returns only the rows where there is a match in both DataFrames. If there's no match in one of the DataFrames, that row will not be in the result.\n",
        "\n",
        "To illustrate the difference between these two types of joins, let's consider an example. Suppose we have a DataFrame of authors and their books, and another DataFrame of books and their prices. We want to merge these DataFrames based on the book titles. Let's first create and display these DataFrames."
      ]
    },
    {
      "cell_type": "code",
      "execution_count": null,
      "id": "781bff30-bb15-4a85-b777-1b6277596179",
      "metadata": {
        "ExecuteTime": {
          "end_time": "2023-08-23T00:15:26.250981+00:00",
          "start_time": "2023-08-23T00:15:26.083510+00:00"
        },
        "noteable": {
          "cell_type": "code"
        },
        "vscode": {
          "languageId": "python"
        }
      },
      "outputs": [
        {
          "data": {
            "text/plain": [
              "(            book_title               author\n",
              " 0     The Great Gatsby  F. Scott Fitzgerald\n",
              " 1            Moby Dick      Herman Melville\n",
              " 2  Pride and Prejudice          Jane Austen,\n",
              "          book_title  price\n",
              " 0  The Great Gatsby     10\n",
              " 1         Moby Dick     15\n",
              " 2     War and Peace     20)"
            ]
          },
          "execution_count": null,
          "metadata": {},
          "output_type": "execute_result"
        }
      ],
      "source": [
        "# Creating two example DataFrames\n",
        "authors = pd.DataFrame({\n",
        "    'book_title': ['The Great Gatsby', 'Moby Dick', 'Pride and Prejudice'],\n",
        "    'author': ['F. Scott Fitzgerald', 'Herman Melville', 'Jane Austen']\n",
        "})\n",
        "\n",
        "prices = pd.DataFrame({\n",
        "    'book_title': ['The Great Gatsby', 'Moby Dick', 'War and Peace'],\n",
        "    'price': [10, 15, 20]\n",
        "})\n",
        "\n",
        "authors, prices"
      ]
    },
    {
      "cell_type": "code",
      "execution_count": null,
      "id": "b0c89029-de41-4715-9366-465598de4bb2",
      "metadata": {
        "ExecuteTime": {
          "end_time": "2023-08-23T00:16:05.243455+00:00",
          "start_time": "2023-08-23T00:16:05.073452+00:00"
        },
        "noteable": {
          "cell_type": "code"
        },
        "vscode": {
          "languageId": "python"
        }
      },
      "outputs": [
        {
          "data": {
            "text/plain": [
              "(            book_title               author  price\n",
              " 0     The Great Gatsby  F. Scott Fitzgerald   10.0\n",
              " 1            Moby Dick      Herman Melville   15.0\n",
              " 2  Pride and Prejudice          Jane Austen    NaN\n",
              " 3        War and Peace                  NaN   20.0,\n",
              "          book_title               author  price\n",
              " 0  The Great Gatsby  F. Scott Fitzgerald     10\n",
              " 1         Moby Dick      Herman Melville     15)"
            ]
          },
          "execution_count": null,
          "metadata": {},
          "output_type": "execute_result"
        }
      ],
      "source": [
        "# Performing an outer join\n",
        "outer_join_result = authors.merge(prices, on='book_title', how='outer')\n",
        "\n",
        "# Performing an inner join\n",
        "inner_join_result = authors.merge(prices, on='book_title', how='inner')\n",
        "\n",
        "outer_join_result, inner_join_result"
      ]
    },
    {
      "cell_type": "markdown",
      "id": "855b8117-078c-4c30-9b5e-6c2ca5da65ef",
      "metadata": {
        "noteable": {
          "cell_type": "markdown"
        }
      },
      "source": [
        "## Pivot Tables, Transposition, and Lambda Functions\n",
        "\n",
        "In this section, we'll delve into some advanced data manipulation techniques in pandas, including pivot tables, transposition, and the use of lambda functions."
      ]
    },
    {
      "cell_type": "markdown",
      "id": "4800f307-2642-47ca-8c00-d2f7a2c231ef",
      "metadata": {
        "noteable": {
          "cell_type": "markdown"
        }
      },
      "source": [
        "### Pivot Tables\n",
        "\n",
        "A pivot table is a data summarization tool used in spreadsheets and other data visualization software. It aggregates a table of data by one or more keys, arranging the data in a rectangle with some of the group keys along the rows and some along the columns. In pandas, the `pivot_table` function provides this functionality.\n",
        "\n",
        "The primary parameters of the `pivot_table` function are:\n",
        "\n",
        "- `values`: Column(s) to aggregate.\n",
        "- `index`: Column(s) to use as the row of the pivot table.\n",
        "- `columns`: Column(s) to use as the columns of the pivot table.\n",
        "- `aggfunc`: Aggregation function to use on the data. It can be 'sum', 'mean', etc. or a custom function.\n",
        "\n",
        "Let's look at two practical examples to understand the use of pivot tables."
      ]
    },
    {
      "cell_type": "code",
      "execution_count": null,
      "id": "71bba39c-3d36-41a2-9acf-5caff056a023",
      "metadata": {
        "ExecuteTime": {
          "end_time": "2023-08-23T00:20:50.231537+00:00",
          "start_time": "2023-08-23T00:20:50.045270+00:00"
        },
        "noteable": {
          "cell_type": "code"
        },
        "vscode": {
          "languageId": "python"
        }
      },
      "outputs": [
        {
          "data": {
            "text/plain": [
              "(Product       A    B\n",
              " Date                \n",
              " 2022-01-01  100  150\n",
              " 2022-01-02  110  160,\n",
              " Subject  History  Math\n",
              " Student               \n",
              " Alice         78    85\n",
              " Bob           88    90)"
            ]
          },
          "execution_count": null,
          "metadata": {},
          "output_type": "execute_result"
        }
      ],
      "source": [
        "# Creating two example DataFrames for pivot_table demonstration\n",
        "\n",
        "# Example 1: Sales data\n",
        "sales_data = pd.DataFrame({\n",
        "    'Date': ['2022-01-01', '2022-01-01', '2022-01-02', '2022-01-02'],\n",
        "    'Product': ['A', 'B', 'A', 'B'],\n",
        "    'Sales': [100, 150, 110, 160]\n",
        "})\n",
        "\n",
        "# Pivot table to get total sales for each product across dates\n",
        "pivot_sales = sales_data.pivot_table(values='Sales', index='Date', columns='Product', aggfunc='sum')\n",
        "\n",
        "# Example 2: Student grades\n",
        "grades_data = pd.DataFrame({\n",
        "    'Student': ['Alice', 'Bob', 'Alice', 'Bob'],\n",
        "    'Subject': ['Math', 'Math', 'History', 'History'],\n",
        "    'Grade': [85, 90, 78, 88]\n",
        "})\n",
        "\n",
        "# Pivot table to get grades for each student across subjects\n",
        "pivot_grades = grades_data.pivot_table(values='Grade', index='Student', columns='Subject')\n",
        "\n",
        "pivot_sales, pivot_grades"
      ]
    },
    {
      "cell_type": "markdown",
      "id": "1ab2a790-1595-4272-876d-194e4bde3774",
      "metadata": {
        "noteable": {
          "cell_type": "markdown"
        }
      },
      "source": [
        "### Transposition\n",
        "\n",
        "Transposition is a fundamental operation in linear algebra and data manipulation. In the context of DataFrames, transposition refers to switching the rows and columns with each other. In pandas, you can transpose a DataFrame using the `transpose()` method or its shorthand `.T`.\n",
        "\n",
        "Transposing can be useful in various scenarios, such as when you want to change the orientation of your data for visualization or when you want to treat columns as rows for certain operations.\n",
        "\n",
        "Let's look at an example to understand the use of transposition."
      ]
    },
    {
      "cell_type": "code",
      "execution_count": null,
      "id": "e505d682-dbd2-4ee5-8b32-ffcafbc3936c",
      "metadata": {
        "ExecuteTime": {
          "end_time": "2023-08-23T00:22:08.956996+00:00",
          "start_time": "2023-08-23T00:22:08.787858+00:00"
        },
        "noteable": {
          "cell_type": "code"
        },
        "vscode": {
          "languageId": "python"
        }
      },
      "outputs": [
        {
          "data": {
            "text/plain": [
              "(      Name  Age      City\n",
              " 0    Alice   25  New York\n",
              " 1      Bob   30    London\n",
              " 2  Charlie   35     Paris,\n",
              "              0       1        2\n",
              " Name     Alice     Bob  Charlie\n",
              " Age         25      30       35\n",
              " City  New York  London    Paris)"
            ]
          },
          "execution_count": null,
          "metadata": {},
          "output_type": "execute_result"
        }
      ],
      "source": [
        "# Example DataFrame for transposition\n",
        "df_transpose = pd.DataFrame({\n",
        "    'Name': ['Alice', 'Bob', 'Charlie'],\n",
        "    'Age': [25, 30, 35],\n",
        "    'City': ['New York', 'London', 'Paris']\n",
        "})\n",
        "\n",
        "# Transposing the DataFrame\n",
        "transposed_df = df_transpose.transpose()\n",
        "\n",
        "df_transpose, transposed_df"
      ]
    },
    {
      "cell_type": "markdown",
      "id": "2f957062-9331-4f22-98fd-ca6bfdcf72b1",
      "metadata": {
        "noteable": {
          "cell_type": "markdown"
        }
      },
      "source": [
        "### Lambda Functions with Pivot Tables\n",
        "\n",
        "Lambda functions are small, anonymous functions that can have any number of arguments, but can only have one expression. They are useful for performing simple operations without the need to define a full function. In the context of `pivot_table`, lambda functions can be used as custom aggregation functions.\n",
        "\n",
        "For instance, you might want to aggregate data in a way that's not directly supported by built-in functions. In such cases, a lambda function can be handy.\n",
        "\n",
        "Let's look at an example where we use a lambda function with `pivot_table` to calculate the range (difference between max and min) of values."
      ]
    },
    {
      "cell_type": "code",
      "execution_count": null,
      "id": "42170c94-387b-4e85-ab38-25d9668a3b02",
      "metadata": {
        "ExecuteTime": {
          "end_time": "2023-08-23T00:23:22.788644+00:00",
          "start_time": "2023-08-23T00:23:22.561701+00:00"
        },
        "datalink": {
          "84beb63a-702b-4f1d-adeb-8f50910b0ae5": {
            "applied_filters": [],
            "dataframe_info": {
              "default_index_used": false,
              "orig_num_cols": 1,
              "orig_num_rows": 2,
              "orig_size_bytes": 32,
              "truncated_num_cols": 1,
              "truncated_num_rows": 2,
              "truncated_size_bytes": 32,
              "truncated_string_columns": []
            },
            "display_id": "84beb63a-702b-4f1d-adeb-8f50910b0ae5",
            "dx_settings": {
              "ALLOW_NOTEABLE_ATTRS": true,
              "COLUMN_SAMPLING_METHOD": "outer",
              "DB_LOCATION": ":memory:",
              "DEV_MODE": false,
              "DISPLAY_MAX_COLUMNS": 100,
              "DISPLAY_MAX_ROWS": 50000,
              "DISPLAY_MODE": "simple",
              "ENABLE_ASSIGNMENT": true,
              "ENABLE_DATALINK": true,
              "FLATTEN_COLUMN_VALUES": true,
              "FLATTEN_INDEX_VALUES": false,
              "GENERATE_DEX_METADATA": false,
              "HTML_TABLE_SCHEMA": false,
              "LOG_LEVEL": 30,
              "MAX_RENDER_SIZE_BYTES": 104857600,
              "MAX_STRING_LENGTH": 250,
              "NUM_PAST_SAMPLES_TRACKED": 3,
              "RANDOM_STATE": 12648430,
              "RESET_INDEX_VALUES": false,
              "ROW_SAMPLING_METHOD": "random",
              "SAMPLING_FACTOR": 0.1,
              "SAMPLING_METHOD": "random",
              "STRINGIFY_COLUMN_VALUES": true,
              "STRINGIFY_INDEX_VALUES": false
            },
            "sample_history": [],
            "sampling_time": "2023-08-23T00:23:22.621802",
            "user_variable_name": "pivot_lambda",
            "variable_name": "pivot_lambda"
          }
        },
        "dx": {
          "fieldMetadata": {},
          "simpleTable": true,
          "updated": 1692750208843,
          "views": []
        },
        "noteable": {
          "cell_type": "code"
        },
        "vscode": {
          "languageId": "python"
        }
      },
      "outputs": [
        {
          "data": {
            "application/vnd.dataresource+json": {
              "data": [
                {
                  "Category": "A",
                  "Values": 20
                },
                {
                  "Category": "B",
                  "Values": 15
                }
              ],
              "datalink": {
                "display_id": "84beb63a-702b-4f1d-adeb-8f50910b0ae5"
              },
              "schema": {
                "fields": [
                  {
                    "name": "Category",
                    "type": "string"
                  },
                  {
                    "name": "Values",
                    "type": "integer"
                  }
                ],
                "pandas_version": "1.4.0",
                "primaryKey": [
                  "Category"
                ]
              }
            }
          },
          "metadata": {
            "application/vnd.dataresource+json": {
              "datalink": {
                "applied_filters": [],
                "dataframe_info": {
                  "default_index_used": false,
                  "orig_num_cols": 1,
                  "orig_num_rows": 2,
                  "orig_size_bytes": 32,
                  "truncated_num_cols": 1,
                  "truncated_num_rows": 2,
                  "truncated_size_bytes": 32,
                  "truncated_string_columns": []
                },
                "display_id": "84beb63a-702b-4f1d-adeb-8f50910b0ae5",
                "dx_settings": {
                  "ALLOW_NOTEABLE_ATTRS": true,
                  "COLUMN_SAMPLING_METHOD": "outer",
                  "DB_LOCATION": ":memory:",
                  "DEV_MODE": false,
                  "DISPLAY_MAX_COLUMNS": 100,
                  "DISPLAY_MAX_ROWS": 50000,
                  "DISPLAY_MODE": "simple",
                  "ENABLE_ASSIGNMENT": true,
                  "ENABLE_DATALINK": true,
                  "FLATTEN_COLUMN_VALUES": true,
                  "FLATTEN_INDEX_VALUES": false,
                  "GENERATE_DEX_METADATA": false,
                  "HTML_TABLE_SCHEMA": false,
                  "LOG_LEVEL": 30,
                  "MAX_RENDER_SIZE_BYTES": 104857600,
                  "MAX_STRING_LENGTH": 250,
                  "NUM_PAST_SAMPLES_TRACKED": 3,
                  "RANDOM_STATE": 12648430,
                  "RESET_INDEX_VALUES": false,
                  "ROW_SAMPLING_METHOD": "random",
                  "SAMPLING_FACTOR": 0.1,
                  "SAMPLING_METHOD": "random",
                  "STRINGIFY_COLUMN_VALUES": true,
                  "STRINGIFY_INDEX_VALUES": false
                },
                "sample_history": [],
                "sampling_time": "2023-08-23T00:23:22.621802",
                "user_variable_name": "pivot_lambda",
                "variable_name": "pivot_lambda"
              },
              "display_id": "84beb63a-702b-4f1d-adeb-8f50910b0ae5"
            }
          },
          "output_type": "display_data"
        }
      ],
      "source": [
        "# Example DataFrame for lambda function with pivot_table\n",
        "df_lambda = pd.DataFrame({\n",
        "    'Category': ['A', 'A', 'B', 'B', 'A', 'B'],\n",
        "    'Values': [10, 15, 20, 25, 30, 35]\n",
        "})\n",
        "\n",
        "# Using pivot_table with lambda function to calculate the range of values for each category\n",
        "pivot_lambda = df_lambda.pivot_table(index='Category', values='Values', aggfunc=lambda x: x.max() - x.min())\n",
        "\n",
        "pivot_lambda"
      ]
    },
    {
      "cell_type": "markdown",
      "id": "6d804ca5-0dd2-4941-96bc-e12ea1a91971",
      "metadata": {
        "noteable": {
          "cell_type": "markdown"
        }
      },
      "source": [
        "## Data Cleaning and Transformation\n",
        "\n",
        "One of the essential steps in the data preprocessing pipeline is data cleaning and transformation. This step ensures that the data is of high quality and is ready for analysis. A common issue encountered during this phase is the presence of duplicate records.\n",
        "\n",
        "### Duplicates in a DataFrame\n",
        "\n",
        "Duplicates refer to rows in a DataFrame that are identical to another row. These can arise due to various reasons such as data entry errors, merging datasets, or not handling data updates correctly. Duplicates can lead to incorrect analysis results, so it's crucial to identify and handle them appropriately.\n",
        "\n",
        "In pandas, you can use the `drop_duplicates()` method to remove duplicate rows and the `duplicated()` method to identify them. The `subset` parameter allows you to consider certain columns for identifying duplicates.\n",
        "\n",
        "Let's dive into an entertaining example to understand the use of these functions."
      ]
    },
    {
      "cell_type": "code",
      "execution_count": null,
      "id": "1323b4bb-0a3e-4e2b-83d5-1a42e57aae6f",
      "metadata": {
        "ExecuteTime": {
          "end_time": "2023-08-23T00:27:17.286034+00:00",
          "start_time": "2023-08-23T00:27:17.114894+00:00"
        },
        "noteable": {
          "cell_type": "code"
        },
        "vscode": {
          "languageId": "python"
        }
      },
      "outputs": [
        {
          "data": {
            "text/plain": [
              "(    Superhero     Real Name         City\n",
              " 0  Spider-Man  Peter Parker     New York\n",
              " 1    Iron Man    Tony Stark     New York\n",
              " 2  Spider-Man  Peter Parker     New York\n",
              " 3        Thor  Thor Odinson       Asgard\n",
              " 4    Iron Man    Tony Stark  Los Angeles\n",
              " 5        Hulk  Bruce Banner     New York,\n",
              "     Superhero     Real Name         City\n",
              " 2  Spider-Man  Peter Parker     New York\n",
              " 4    Iron Man    Tony Stark  Los Angeles,\n",
              "     Superhero     Real Name      City\n",
              " 0  Spider-Man  Peter Parker  New York\n",
              " 1    Iron Man    Tony Stark  New York\n",
              " 3        Thor  Thor Odinson    Asgard\n",
              " 5        Hulk  Bruce Banner  New York)"
            ]
          },
          "execution_count": null,
          "metadata": {},
          "output_type": "execute_result"
        }
      ],
      "source": [
        "# Example DataFrame with duplicate records\n",
        "df_duplicates = pd.DataFrame({\n",
        "    'Superhero': ['Spider-Man', 'Iron Man', 'Spider-Man', 'Thor', 'Iron Man', 'Hulk'],\n",
        "    'Real Name': ['Peter Parker', 'Tony Stark', 'Peter Parker', 'Thor Odinson', 'Tony Stark', 'Bruce Banner'],\n",
        "    'City': ['New York', 'New York', 'New York', 'Asgard', 'Los Angeles', 'New York']\n",
        "})\n",
        "\n",
        "# Identifying duplicate rows\n",
        "duplicated_rows = df_duplicates[df_duplicates.duplicated(subset=['Superhero', 'Real Name'])]\n",
        "\n",
        "# Removing duplicate rows\n",
        "df_cleaned = df_duplicates.drop_duplicates(subset=['Superhero', 'Real Name'])\n",
        "\n",
        "df_duplicates, duplicated_rows, df_cleaned"
      ]
    },
    {
      "cell_type": "markdown",
      "id": "2c33d3eb-46ee-4101-bbae-164493beb96a",
      "metadata": {
        "noteable": {
          "cell_type": "markdown"
        }
      },
      "source": [
        "### Original DataFrame (Superhero Records)\n",
        "\n",
        "This DataFrame contains records of superheroes, their real names, and cities. As you can observe, there are some duplicate entries in the data."
      ]
    },
    {
      "cell_type": "code",
      "execution_count": null,
      "id": "be8edf5e-d6bf-4a03-8ba2-0626260c5590",
      "metadata": {
        "noteable": {
          "cell_type": "code"
        },
        "vscode": {
          "languageId": "python"
        }
      },
      "outputs": [],
      "source": [
        "df_duplicates"
      ]
    },
    {
      "cell_type": "markdown",
      "id": "5b915a0f-8def-4293-b44c-f6b8c8b1ef33",
      "metadata": {
        "noteable": {
          "cell_type": "markdown"
        }
      },
      "source": [
        "### Identified Duplicate Rows\n",
        "\n",
        "Using the `duplicated()` function with the `subset` parameter, we can identify rows where both the 'Superhero' and 'Real Name' columns are duplicated. Here are the rows that have been identified as duplicates:"
      ]
    },
    {
      "cell_type": "code",
      "execution_count": null,
      "id": "4a48c6eb-d8ce-4e8c-958b-f08b837a25d1",
      "metadata": {
        "noteable": {
          "cell_type": "code"
        },
        "vscode": {
          "languageId": "python"
        }
      },
      "outputs": [],
      "source": [
        "duplicated_rows"
      ]
    },
    {
      "cell_type": "markdown",
      "id": "d237aeb8-c1b1-462d-8c42-bdd06919da4e",
      "metadata": {
        "noteable": {
          "cell_type": "markdown"
        }
      },
      "source": [
        "### Cleaned DataFrame (After Removing Duplicates)\n",
        "\n",
        "After identifying the duplicate rows, we can use the `drop_duplicates()` function with the `subset` parameter to remove these rows and obtain a cleaned DataFrame. Here's the DataFrame after removing the duplicates:"
      ]
    },
    {
      "cell_type": "code",
      "execution_count": null,
      "id": "6e332fc1-f1d0-4163-be3c-ab4e3f68f67b",
      "metadata": {
        "noteable": {
          "cell_type": "code"
        },
        "vscode": {
          "languageId": "python"
        }
      },
      "outputs": [],
      "source": [
        "df_cleaned"
      ]
    },
    {
      "cell_type": "markdown",
      "id": "1a0443c1-4f3d-44c3-b0b0-b7eba65e3d76",
      "metadata": {
        "noteable": {
          "cell_type": "markdown"
        }
      },
      "source": [
        "## Missing Data\n",
        "\n",
        "In the realm of data analysis, missing data, often represented as `NaN` (Not a Number), is a common occurrence. It can arise due to various reasons, such as data entry errors, unrecorded observations, or during data processing. Handling missing data is crucial as it can significantly impact the results of your analysis."
      ]
    },
    {
      "cell_type": "markdown",
      "id": "24ff9c55-45e1-4763-bf3c-bf44d4e94f10",
      "metadata": {
        "noteable": {
          "cell_type": "markdown"
        }
      },
      "source": [
        "### Identifying Missing Data\n",
        "\n",
        "Before handling missing data, it's essential to identify them in your dataset. In pandas, the `isna()` or `isnull()` methods can be used to detect missing values. These methods return a DataFrame of the same shape as the original, but with `True` where the data is missing and `False` where it's not."
      ]
    },
    {
      "cell_type": "code",
      "execution_count": null,
      "id": "a2641501-cdef-4595-9390-262166aabd97",
      "metadata": {
        "noteable": {
          "cell_type": "code"
        },
        "vscode": {
          "languageId": "python"
        }
      },
      "outputs": [],
      "source": [
        "# Example DataFrame with missing data\n",
        "df_missing = pd.DataFrame({\n",
        "    'Name': ['Alice', 'Bob', 'Charlie', 'David'],\n",
        "    'Age': [25, np.nan, 35, 40],\n",
        "    'City': ['New York', 'Los Angeles', np.nan, 'Chicago']\n",
        "})\n",
        "\n",
        "# Identifying missing data\n",
        "df_missing.isna()"
      ]
    },
    {
      "cell_type": "markdown",
      "id": "cc76a437-b19b-459c-ad4c-5e7278ba94dd",
      "metadata": {
        "noteable": {
          "cell_type": "markdown"
        }
      },
      "source": [
        "### Removing Missing Data\n",
        "\n",
        "Once you've identified missing data, you might decide to remove them from your dataset. Pandas provides two main methods for this:\n",
        "\n",
        "- `dropna()`: This method allows you to drop rows or columns containing missing data.\n",
        "- `fillna()`: Instead of dropping missing data, you can also replace them with a specific value or a computed value (like mean, median, etc.)."
      ]
    },
    {
      "cell_type": "code",
      "execution_count": null,
      "id": "67643e24-42c1-4aae-b171-335608ecc688",
      "metadata": {
        "noteable": {
          "cell_type": "code"
        },
        "vscode": {
          "languageId": "python"
        }
      },
      "outputs": [],
      "source": [
        "# Removing rows with missing data\n",
        "df_no_missing_rows = df_missing.dropna()\n",
        "\n",
        "# Removing columns with missing data\n",
        "df_no_missing_columns = df_missing.dropna(axis=1)\n",
        "\n",
        "df_no_missing_rows, df_no_missing_columns"
      ]
    },
    {
      "cell_type": "markdown",
      "id": "666460fc-890c-4855-94fd-2f0413701234",
      "metadata": {
        "noteable": {
          "cell_type": "markdown"
        }
      },
      "source": [
        "### Filling Missing Data\n",
        "\n",
        "Instead of removing missing data, another approach is to fill or replace them. The `fillna()` method in pandas allows you to replace missing values with a specific value, forward fill, backward fill, or even a computed value like the mean or median of the column."
      ]
    },
    {
      "cell_type": "code",
      "execution_count": null,
      "id": "11d88101-6015-4ced-baaf-11d0f028a54c",
      "metadata": {
        "noteable": {
          "cell_type": "code"
        },
        "vscode": {
          "languageId": "python"
        }
      },
      "outputs": [],
      "source": [
        "# Filling missing data with a specific value\n",
        "df_filled_value = df_missing.fillna('Unknown')\n",
        "\n",
        "# Filling missing data with mean of the column\n",
        "df_filled_mean = df_missing.copy()\n",
        "df_filled_mean['Age'] = df_filled_mean['Age'].fillna(df_filled_mean['Age'].mean())\n",
        "\n",
        "df_filled_value, df_filled_mean"
      ]
    },
    {
      "cell_type": "markdown",
      "id": "0d49c1a7-f369-45c3-bd1c-0a7fa2cc7f20",
      "metadata": {
        "noteable": {
          "cell_type": "markdown"
        }
      },
      "source": [
        "## Apply Function\n",
        "\n",
        "The `apply()` function in pandas is a powerful tool that allows you to apply a function along the axis of a DataFrame (either rows or columns). It's especially useful when you want to perform custom operations that are not readily available through built-in pandas functions.\n",
        "\n",
        "Let's explore some entertaining examples to understand the versatility of the `apply()` function."
      ]
    },
    {
      "cell_type": "code",
      "execution_count": null,
      "id": "d249e0df-f4ae-44d7-9510-e09251f3fb3f",
      "metadata": {
        "noteable": {
          "cell_type": "code"
        },
        "vscode": {
          "languageId": "python"
        }
      },
      "outputs": [],
      "source": [
        "# Example 1: Capitalizing names\n",
        "df_names = pd.DataFrame({\n",
        "    'Name': ['alice', 'bob', 'charlie', 'david']\n",
        "})\n",
        "\n",
        "df_names['Capitalized Name'] = df_names['Name'].apply(lambda x: x.capitalize())\n",
        "df_names"
      ]
    },
    {
      "cell_type": "code",
      "execution_count": null,
      "id": "11052dd6-29b6-4cc3-bb8e-58e574050d82",
      "metadata": {
        "noteable": {
          "cell_type": "code"
        },
        "vscode": {
          "languageId": "python"
        }
      },
      "outputs": [],
      "source": [
        "# Example 2: Calculating the length of strings\n",
        "df_phrases = pd.DataFrame({\n",
        "    'Phrase': ['Hello World', 'Pandas is awesome', 'Apply function rocks!', 'Data Science']\n",
        "})\n",
        "\n",
        "df_phrases['Length'] = df_phrases['Phrase'].apply(len)\n",
        "df_phrases"
      ]
    },
    {
      "cell_type": "code",
      "execution_count": null,
      "id": "8d7141a0-540b-4d88-b71b-275d1e5685d7",
      "metadata": {
        "noteable": {
          "cell_type": "code"
        },
        "vscode": {
          "languageId": "python"
        }
      },
      "outputs": [],
      "source": [
        "# Example 3: Categorizing based on age\n",
        "df_age = pd.DataFrame({\n",
        "    'Name': ['Alice', 'Bob', 'Charlie', 'David'],\n",
        "    'Age': [15, 28, 35, 42]\n",
        "})\n",
        "\n",
        "def age_category(age):\n",
        "    if age < 18:\n",
        "        return 'Minor'\n",
        "    elif 18 <= age < 35:\n",
        "        return 'Young Adult'\n",
        "    else:\n",
        "        return 'Adult'\n",
        "\n",
        "df_age['Category'] = df_age['Age'].apply(age_category)\n",
        "df_age"
      ]
    },
    {
      "cell_type": "markdown",
      "id": "062a8111-d59d-4564-8677-8937139c1699",
      "metadata": {
        "noteable": {
          "cell_type": "markdown"
        }
      },
      "source": [
        "## Differences between `apply` and `applymap`\n",
        "\n",
        "Both `apply` and `applymap` are essential tools in pandas for element-wise operations, but they serve different purposes and are used in different contexts.\n",
        "\n",
        "- **apply**: This function is used on both Series and DataFrame. When used on a Series, it applies a function to each element. When used on a DataFrame, it can apply a function along the axis (either rows or columns).\n",
        "\n",
        "- **applymap**: This function is exclusive to DataFrames and is used to apply a function to each element of the DataFrame.\n",
        "\n",
        "Let's delve into some examples to understand when to use one over the other."
      ]
    },
    {
      "cell_type": "code",
      "execution_count": null,
      "id": "3214d452-b6bc-4ad6-b94e-c61c1e9d0efb",
      "metadata": {
        "ExecuteTime": {
          "end_time": "2023-08-23T00:40:17.251073+00:00",
          "start_time": "2023-08-23T00:40:17.087213+00:00"
        },
        "noteable": {
          "cell_type": "code"
        },
        "vscode": {
          "languageId": "python"
        }
      },
      "outputs": [],
      "source": [
        "# Example DataFrame\n",
        "df_example = pd.DataFrame({\n",
        "    'A': [1, 2, 3],\n",
        "    'B': [4, 5, 6],\n",
        "    'C': [7, 8, 9]\n",
        "})\n",
        "\n",
        "# Using apply on a Series\n",
        "series_squared = df_example['A'].apply(lambda x: x**2)\n",
        "\n",
        "# Using apply on a DataFrame to get the sum of each column\n",
        "column_sum = df_example.apply(sum, axis=0)\n",
        "\n",
        "# Using applymap to square each element of the DataFrame\n",
        "df_squared = df_example.applymap(lambda x: x**2)"
      ]
    },
    {
      "cell_type": "code",
      "execution_count": null,
      "id": "55e76cde-7499-49f1-9846-ec843b00fa7c",
      "metadata": {
        "ExecuteTime": {
          "end_time": "2023-08-23T00:40:24.713730+00:00",
          "start_time": "2023-08-23T00:40:24.487033+00:00"
        },
        "datalink": {
          "7a5194e9-7649-4876-8d01-a5771a699be5": {
            "applied_filters": [],
            "dataframe_info": {
              "default_index_used": true,
              "orig_num_cols": 1,
              "orig_num_rows": 3,
              "orig_size_bytes": 48,
              "truncated_num_cols": 1,
              "truncated_num_rows": 3,
              "truncated_size_bytes": 48,
              "truncated_string_columns": []
            },
            "display_id": "7a5194e9-7649-4876-8d01-a5771a699be5",
            "dx_settings": {
              "ALLOW_NOTEABLE_ATTRS": true,
              "COLUMN_SAMPLING_METHOD": "outer",
              "DB_LOCATION": ":memory:",
              "DEV_MODE": false,
              "DISPLAY_MAX_COLUMNS": 100,
              "DISPLAY_MAX_ROWS": 50000,
              "DISPLAY_MODE": "simple",
              "ENABLE_ASSIGNMENT": true,
              "ENABLE_DATALINK": true,
              "FLATTEN_COLUMN_VALUES": true,
              "FLATTEN_INDEX_VALUES": false,
              "GENERATE_DEX_METADATA": false,
              "HTML_TABLE_SCHEMA": false,
              "LOG_LEVEL": 30,
              "MAX_RENDER_SIZE_BYTES": 104857600,
              "MAX_STRING_LENGTH": 250,
              "NUM_PAST_SAMPLES_TRACKED": 3,
              "RANDOM_STATE": 12648430,
              "RESET_INDEX_VALUES": false,
              "ROW_SAMPLING_METHOD": "random",
              "SAMPLING_FACTOR": 0.1,
              "SAMPLING_METHOD": "random",
              "STRINGIFY_COLUMN_VALUES": true,
              "STRINGIFY_INDEX_VALUES": false
            },
            "sample_history": [],
            "sampling_time": "2023-08-23T00:40:24.548201",
            "user_variable_name": "series_squared",
            "variable_name": "series_squared"
          }
        },
        "dx": {
          "fieldMetadata": {},
          "simpleTable": true,
          "updated": 1692751226315,
          "views": []
        },
        "jupyter": {
          "outputs_hidden": false,
          "source_hidden": false
        },
        "noteable": {
          "cell_type": "code"
        },
        "vscode": {
          "languageId": "python"
        }
      },
      "outputs": [
        {
          "data": {
            "application/vnd.dataresource+json": {
              "data": [
                {
                  "A": 1,
                  "index": 0
                },
                {
                  "A": 4,
                  "index": 1
                },
                {
                  "A": 9,
                  "index": 2
                }
              ],
              "datalink": {
                "display_id": "7a5194e9-7649-4876-8d01-a5771a699be5"
              },
              "schema": {
                "fields": [
                  {
                    "name": "index",
                    "type": "integer"
                  },
                  {
                    "name": "A",
                    "type": "integer"
                  }
                ],
                "pandas_version": "1.4.0",
                "primaryKey": [
                  "index"
                ]
              }
            }
          },
          "metadata": {
            "application/vnd.dataresource+json": {
              "datalink": {
                "applied_filters": [],
                "dataframe_info": {
                  "default_index_used": true,
                  "orig_num_cols": 1,
                  "orig_num_rows": 3,
                  "orig_size_bytes": 48,
                  "truncated_num_cols": 1,
                  "truncated_num_rows": 3,
                  "truncated_size_bytes": 48,
                  "truncated_string_columns": []
                },
                "display_id": "7a5194e9-7649-4876-8d01-a5771a699be5",
                "dx_settings": {
                  "ALLOW_NOTEABLE_ATTRS": true,
                  "COLUMN_SAMPLING_METHOD": "outer",
                  "DB_LOCATION": ":memory:",
                  "DEV_MODE": false,
                  "DISPLAY_MAX_COLUMNS": 100,
                  "DISPLAY_MAX_ROWS": 50000,
                  "DISPLAY_MODE": "simple",
                  "ENABLE_ASSIGNMENT": true,
                  "ENABLE_DATALINK": true,
                  "FLATTEN_COLUMN_VALUES": true,
                  "FLATTEN_INDEX_VALUES": false,
                  "GENERATE_DEX_METADATA": false,
                  "HTML_TABLE_SCHEMA": false,
                  "LOG_LEVEL": 30,
                  "MAX_RENDER_SIZE_BYTES": 104857600,
                  "MAX_STRING_LENGTH": 250,
                  "NUM_PAST_SAMPLES_TRACKED": 3,
                  "RANDOM_STATE": 12648430,
                  "RESET_INDEX_VALUES": false,
                  "ROW_SAMPLING_METHOD": "random",
                  "SAMPLING_FACTOR": 0.1,
                  "SAMPLING_METHOD": "random",
                  "STRINGIFY_COLUMN_VALUES": true,
                  "STRINGIFY_INDEX_VALUES": false
                },
                "sample_history": [],
                "sampling_time": "2023-08-23T00:40:24.548201",
                "user_variable_name": "series_squared",
                "variable_name": "series_squared"
              },
              "display_id": "7a5194e9-7649-4876-8d01-a5771a699be5"
            }
          },
          "output_type": "display_data"
        }
      ],
      "source": [
        "series_squared"
      ]
    },
    {
      "cell_type": "code",
      "execution_count": null,
      "id": "44d9b6cf-f328-41d2-8b78-d37e43d1ece7",
      "metadata": {
        "ExecuteTime": {
          "end_time": "2023-08-23T00:40:33.039592+00:00",
          "start_time": "2023-08-23T00:40:32.816993+00:00"
        },
        "datalink": {
          "ca669a3f-70a0-4476-abdc-d432c89e3dad": {
            "applied_filters": [],
            "dataframe_info": {
              "default_index_used": false,
              "orig_num_cols": 1,
              "orig_num_rows": 3,
              "orig_size_bytes": 48,
              "truncated_num_cols": 1,
              "truncated_num_rows": 3,
              "truncated_size_bytes": 48,
              "truncated_string_columns": []
            },
            "display_id": "ca669a3f-70a0-4476-abdc-d432c89e3dad",
            "dx_settings": {
              "ALLOW_NOTEABLE_ATTRS": true,
              "COLUMN_SAMPLING_METHOD": "outer",
              "DB_LOCATION": ":memory:",
              "DEV_MODE": false,
              "DISPLAY_MAX_COLUMNS": 100,
              "DISPLAY_MAX_ROWS": 50000,
              "DISPLAY_MODE": "simple",
              "ENABLE_ASSIGNMENT": true,
              "ENABLE_DATALINK": true,
              "FLATTEN_COLUMN_VALUES": true,
              "FLATTEN_INDEX_VALUES": false,
              "GENERATE_DEX_METADATA": false,
              "HTML_TABLE_SCHEMA": false,
              "LOG_LEVEL": 30,
              "MAX_RENDER_SIZE_BYTES": 104857600,
              "MAX_STRING_LENGTH": 250,
              "NUM_PAST_SAMPLES_TRACKED": 3,
              "RANDOM_STATE": 12648430,
              "RESET_INDEX_VALUES": false,
              "ROW_SAMPLING_METHOD": "random",
              "SAMPLING_FACTOR": 0.1,
              "SAMPLING_METHOD": "random",
              "STRINGIFY_COLUMN_VALUES": true,
              "STRINGIFY_INDEX_VALUES": false
            },
            "sample_history": [],
            "sampling_time": "2023-08-23T00:40:32.875939",
            "user_variable_name": "column_sum",
            "variable_name": "column_sum"
          }
        },
        "dx": {
          "fieldMetadata": {},
          "simpleTable": true,
          "updated": 1692751235549,
          "views": []
        },
        "jupyter": {
          "outputs_hidden": false,
          "source_hidden": false
        },
        "noteable": {
          "cell_type": "code"
        },
        "vscode": {
          "languageId": "python"
        }
      },
      "outputs": [
        {
          "data": {
            "application/vnd.dataresource+json": {
              "data": [
                {
                  "0": 6,
                  "index": "A"
                },
                {
                  "0": 15,
                  "index": "B"
                },
                {
                  "0": 24,
                  "index": "C"
                }
              ],
              "datalink": {
                "display_id": "ca669a3f-70a0-4476-abdc-d432c89e3dad"
              },
              "schema": {
                "fields": [
                  {
                    "name": "index",
                    "type": "string"
                  },
                  {
                    "name": "0",
                    "type": "integer"
                  }
                ],
                "pandas_version": "1.4.0",
                "primaryKey": [
                  "index"
                ]
              }
            }
          },
          "metadata": {
            "application/vnd.dataresource+json": {
              "datalink": {
                "applied_filters": [],
                "dataframe_info": {
                  "default_index_used": false,
                  "orig_num_cols": 1,
                  "orig_num_rows": 3,
                  "orig_size_bytes": 48,
                  "truncated_num_cols": 1,
                  "truncated_num_rows": 3,
                  "truncated_size_bytes": 48,
                  "truncated_string_columns": []
                },
                "display_id": "ca669a3f-70a0-4476-abdc-d432c89e3dad",
                "dx_settings": {
                  "ALLOW_NOTEABLE_ATTRS": true,
                  "COLUMN_SAMPLING_METHOD": "outer",
                  "DB_LOCATION": ":memory:",
                  "DEV_MODE": false,
                  "DISPLAY_MAX_COLUMNS": 100,
                  "DISPLAY_MAX_ROWS": 50000,
                  "DISPLAY_MODE": "simple",
                  "ENABLE_ASSIGNMENT": true,
                  "ENABLE_DATALINK": true,
                  "FLATTEN_COLUMN_VALUES": true,
                  "FLATTEN_INDEX_VALUES": false,
                  "GENERATE_DEX_METADATA": false,
                  "HTML_TABLE_SCHEMA": false,
                  "LOG_LEVEL": 30,
                  "MAX_RENDER_SIZE_BYTES": 104857600,
                  "MAX_STRING_LENGTH": 250,
                  "NUM_PAST_SAMPLES_TRACKED": 3,
                  "RANDOM_STATE": 12648430,
                  "RESET_INDEX_VALUES": false,
                  "ROW_SAMPLING_METHOD": "random",
                  "SAMPLING_FACTOR": 0.1,
                  "SAMPLING_METHOD": "random",
                  "STRINGIFY_COLUMN_VALUES": true,
                  "STRINGIFY_INDEX_VALUES": false
                },
                "sample_history": [],
                "sampling_time": "2023-08-23T00:40:32.875939",
                "user_variable_name": "column_sum",
                "variable_name": "column_sum"
              },
              "display_id": "ca669a3f-70a0-4476-abdc-d432c89e3dad"
            }
          },
          "output_type": "display_data"
        }
      ],
      "source": [
        "column_sum"
      ]
    },
    {
      "cell_type": "code",
      "execution_count": null,
      "id": "44a3299c-6330-4494-8d98-36ed2883aaea",
      "metadata": {
        "ExecuteTime": {
          "end_time": "2023-08-23T00:40:42.080794+00:00",
          "start_time": "2023-08-23T00:40:41.847258+00:00"
        },
        "datalink": {
          "74f49712-15a2-494d-bc8e-fe8a859dc204": {
            "applied_filters": [],
            "dataframe_info": {
              "default_index_used": true,
              "orig_num_cols": 3,
              "orig_num_rows": 3,
              "orig_size_bytes": 96,
              "truncated_num_cols": 3,
              "truncated_num_rows": 3,
              "truncated_size_bytes": 96,
              "truncated_string_columns": []
            },
            "display_id": "74f49712-15a2-494d-bc8e-fe8a859dc204",
            "dx_settings": {
              "ALLOW_NOTEABLE_ATTRS": true,
              "COLUMN_SAMPLING_METHOD": "outer",
              "DB_LOCATION": ":memory:",
              "DEV_MODE": false,
              "DISPLAY_MAX_COLUMNS": 100,
              "DISPLAY_MAX_ROWS": 50000,
              "DISPLAY_MODE": "simple",
              "ENABLE_ASSIGNMENT": true,
              "ENABLE_DATALINK": true,
              "FLATTEN_COLUMN_VALUES": true,
              "FLATTEN_INDEX_VALUES": false,
              "GENERATE_DEX_METADATA": false,
              "HTML_TABLE_SCHEMA": false,
              "LOG_LEVEL": 30,
              "MAX_RENDER_SIZE_BYTES": 104857600,
              "MAX_STRING_LENGTH": 250,
              "NUM_PAST_SAMPLES_TRACKED": 3,
              "RANDOM_STATE": 12648430,
              "RESET_INDEX_VALUES": false,
              "ROW_SAMPLING_METHOD": "random",
              "SAMPLING_FACTOR": 0.1,
              "SAMPLING_METHOD": "random",
              "STRINGIFY_COLUMN_VALUES": true,
              "STRINGIFY_INDEX_VALUES": false
            },
            "sample_history": [],
            "sampling_time": "2023-08-23T00:40:41.912869",
            "user_variable_name": "df_squared",
            "variable_name": "df_squared"
          }
        },
        "dx": {
          "fieldMetadata": {},
          "simpleTable": true,
          "updated": 1692751244419,
          "views": []
        },
        "jupyter": {
          "outputs_hidden": false,
          "source_hidden": false
        },
        "noteable": {
          "cell_type": "code"
        },
        "vscode": {
          "languageId": "python"
        }
      },
      "outputs": [
        {
          "data": {
            "application/vnd.dataresource+json": {
              "data": [
                {
                  "A": 1,
                  "B": 16,
                  "C": 49,
                  "index": 0
                },
                {
                  "A": 4,
                  "B": 25,
                  "C": 64,
                  "index": 1
                },
                {
                  "A": 9,
                  "B": 36,
                  "C": 81,
                  "index": 2
                }
              ],
              "datalink": {
                "display_id": "74f49712-15a2-494d-bc8e-fe8a859dc204"
              },
              "schema": {
                "fields": [
                  {
                    "name": "index",
                    "type": "integer"
                  },
                  {
                    "name": "A",
                    "type": "integer"
                  },
                  {
                    "name": "B",
                    "type": "integer"
                  },
                  {
                    "name": "C",
                    "type": "integer"
                  }
                ],
                "pandas_version": "1.4.0",
                "primaryKey": [
                  "index"
                ]
              }
            }
          },
          "metadata": {
            "application/vnd.dataresource+json": {
              "datalink": {
                "applied_filters": [],
                "dataframe_info": {
                  "default_index_used": true,
                  "orig_num_cols": 3,
                  "orig_num_rows": 3,
                  "orig_size_bytes": 96,
                  "truncated_num_cols": 3,
                  "truncated_num_rows": 3,
                  "truncated_size_bytes": 96,
                  "truncated_string_columns": []
                },
                "display_id": "74f49712-15a2-494d-bc8e-fe8a859dc204",
                "dx_settings": {
                  "ALLOW_NOTEABLE_ATTRS": true,
                  "COLUMN_SAMPLING_METHOD": "outer",
                  "DB_LOCATION": ":memory:",
                  "DEV_MODE": false,
                  "DISPLAY_MAX_COLUMNS": 100,
                  "DISPLAY_MAX_ROWS": 50000,
                  "DISPLAY_MODE": "simple",
                  "ENABLE_ASSIGNMENT": true,
                  "ENABLE_DATALINK": true,
                  "FLATTEN_COLUMN_VALUES": true,
                  "FLATTEN_INDEX_VALUES": false,
                  "GENERATE_DEX_METADATA": false,
                  "HTML_TABLE_SCHEMA": false,
                  "LOG_LEVEL": 30,
                  "MAX_RENDER_SIZE_BYTES": 104857600,
                  "MAX_STRING_LENGTH": 250,
                  "NUM_PAST_SAMPLES_TRACKED": 3,
                  "RANDOM_STATE": 12648430,
                  "RESET_INDEX_VALUES": false,
                  "ROW_SAMPLING_METHOD": "random",
                  "SAMPLING_FACTOR": 0.1,
                  "SAMPLING_METHOD": "random",
                  "STRINGIFY_COLUMN_VALUES": true,
                  "STRINGIFY_INDEX_VALUES": false
                },
                "sample_history": [],
                "sampling_time": "2023-08-23T00:40:41.912869",
                "user_variable_name": "df_squared",
                "variable_name": "df_squared"
              },
              "display_id": "74f49712-15a2-494d-bc8e-fe8a859dc204"
            }
          },
          "output_type": "display_data"
        }
      ],
      "source": [
        "df_squared"
      ]
    },
    {
      "cell_type": "markdown",
      "id": "00e2e577-ebff-4be7-af47-6f0c68433987",
      "metadata": {
        "noteable": {
          "cell_type": "markdown"
        }
      },
      "source": [
        "## Replacing Data\n",
        "\n",
        "In data manipulation, there are often scenarios where you need to replace certain values in your dataset. The `replace()` method in pandas is a versatile tool that allows you to replace values in a DataFrame or Series.\n",
        "\n",
        "Let's start with a basic example of the `replace()` method."
      ]
    },
    {
      "cell_type": "code",
      "execution_count": null,
      "id": "c5faf725-86b5-47e2-8a19-9909212c2b97",
      "metadata": {
        "noteable": {
          "cell_type": "code"
        },
        "vscode": {
          "languageId": "python"
        }
      },
      "outputs": [],
      "source": [
        "# Example DataFrame\n",
        "df_replace = pd.DataFrame({\n",
        "    'Fruit': ['Apple', 'Banana', 'Cherry', 'Apple'],\n",
        "    'Color': ['Red', 'Yellow', 'Red', 'Green']\n",
        "})\n",
        "\n",
        "# Using replace to change 'Apple' to 'Mango'\n",
        "df_replaced = df_replace.replace('Apple', 'Mango')\n",
        "df_replaced"
      ]
    },
    {
      "cell_type": "markdown",
      "id": "00205e76-54dd-4efa-b0aa-233bcb260e57",
      "metadata": {
        "noteable": {
          "cell_type": "markdown"
        }
      },
      "source": [
        "## Regular Expressions (Regex)\n",
        "\n",
        "Regular expressions, often abbreviated as regex, are sequences of characters that define a search pattern. They are incredibly powerful for string matching and manipulation. In pandas, you can use regex with the `replace()` method to perform more complex replacements.\n",
        "\n",
        "Let's delve into the world of regex and explore some examples to understand its capabilities."
      ]
    },
    {
      "cell_type": "code",
      "execution_count": null,
      "id": "ad6367b7-2bed-4164-826f-e51e0a83e052",
      "metadata": {
        "ExecuteTime": {
          "end_time": "2023-08-23T00:43:55.020595+00:00",
          "start_time": "2023-08-23T00:43:54.859079+00:00"
        },
        "noteable": {
          "cell_type": "code"
        },
        "vscode": {
          "languageId": "python"
        }
      },
      "outputs": [],
      "source": [
        "# Example DataFrame with phone numbers\n",
        "df_phone = pd.DataFrame({\n",
        "    'Name': ['Alice', 'Bob', 'Charlie'],\n",
        "    'Phone': ['123-456-7890', '(123) 456-7890', '123.456.7890']\n",
        "})\n",
        "\n",
        "# Using regex to standardize phone number format\n",
        "df_phone_standardized = df_phone.copy()\n",
        "df_phone_standardized['Phone'] = df_phone_standardized['Phone'].replace(r'\\D', '', regex=True)\n",
        "df_phone_standardized['Phone'] = df_phone_standardized['Phone'].replace(r'(\\d{3})(\\d{3})(\\d{4})', r'\\1-\\2-\\3', regex=True)"
      ]
    },
    {
      "cell_type": "code",
      "execution_count": null,
      "id": "27e912f3-edca-4adf-842f-2a07f1d95a95",
      "metadata": {
        "ExecuteTime": {
          "end_time": "2023-08-23T00:43:56.627415+00:00",
          "start_time": "2023-08-23T00:43:56.387278+00:00"
        },
        "datalink": {
          "a2ab346a-f2a2-4f9d-beec-c6658e31d797": {
            "applied_filters": [],
            "dataframe_info": {
              "default_index_used": true,
              "orig_num_cols": 2,
              "orig_num_rows": 3,
              "orig_size_bytes": 72,
              "truncated_num_cols": 2,
              "truncated_num_rows": 3,
              "truncated_size_bytes": 72,
              "truncated_string_columns": []
            },
            "display_id": "a2ab346a-f2a2-4f9d-beec-c6658e31d797",
            "dx_settings": {
              "ALLOW_NOTEABLE_ATTRS": true,
              "COLUMN_SAMPLING_METHOD": "outer",
              "DB_LOCATION": ":memory:",
              "DEV_MODE": false,
              "DISPLAY_MAX_COLUMNS": 100,
              "DISPLAY_MAX_ROWS": 50000,
              "DISPLAY_MODE": "simple",
              "ENABLE_ASSIGNMENT": true,
              "ENABLE_DATALINK": true,
              "FLATTEN_COLUMN_VALUES": true,
              "FLATTEN_INDEX_VALUES": false,
              "GENERATE_DEX_METADATA": false,
              "HTML_TABLE_SCHEMA": false,
              "LOG_LEVEL": 30,
              "MAX_RENDER_SIZE_BYTES": 104857600,
              "MAX_STRING_LENGTH": 250,
              "NUM_PAST_SAMPLES_TRACKED": 3,
              "RANDOM_STATE": 12648430,
              "RESET_INDEX_VALUES": false,
              "ROW_SAMPLING_METHOD": "random",
              "SAMPLING_FACTOR": 0.1,
              "SAMPLING_METHOD": "random",
              "STRINGIFY_COLUMN_VALUES": true,
              "STRINGIFY_INDEX_VALUES": false
            },
            "sample_history": [],
            "sampling_time": "2023-08-23T00:43:56.462637",
            "user_variable_name": "df_phone",
            "variable_name": "df_phone"
          }
        },
        "dx": {
          "fieldMetadata": {},
          "simpleTable": true,
          "updated": 1692751438324,
          "views": []
        },
        "jupyter": {
          "outputs_hidden": false,
          "source_hidden": false
        },
        "noteable": {
          "cell_type": "code"
        },
        "vscode": {
          "languageId": "python"
        }
      },
      "outputs": [
        {
          "data": {
            "application/vnd.dataresource+json": {
              "data": [
                {
                  "Name": "Alice",
                  "Phone": "123-456-7890",
                  "index": 0
                },
                {
                  "Name": "Bob",
                  "Phone": "(123) 456-7890",
                  "index": 1
                },
                {
                  "Name": "Charlie",
                  "Phone": "123.456.7890",
                  "index": 2
                }
              ],
              "datalink": {
                "display_id": "a2ab346a-f2a2-4f9d-beec-c6658e31d797"
              },
              "schema": {
                "fields": [
                  {
                    "name": "index",
                    "type": "integer"
                  },
                  {
                    "name": "Name",
                    "type": "string"
                  },
                  {
                    "name": "Phone",
                    "type": "string"
                  }
                ],
                "pandas_version": "1.4.0",
                "primaryKey": [
                  "index"
                ]
              }
            }
          },
          "metadata": {
            "application/vnd.dataresource+json": {
              "datalink": {
                "applied_filters": [],
                "dataframe_info": {
                  "default_index_used": true,
                  "orig_num_cols": 2,
                  "orig_num_rows": 3,
                  "orig_size_bytes": 72,
                  "truncated_num_cols": 2,
                  "truncated_num_rows": 3,
                  "truncated_size_bytes": 72,
                  "truncated_string_columns": []
                },
                "display_id": "a2ab346a-f2a2-4f9d-beec-c6658e31d797",
                "dx_settings": {
                  "ALLOW_NOTEABLE_ATTRS": true,
                  "COLUMN_SAMPLING_METHOD": "outer",
                  "DB_LOCATION": ":memory:",
                  "DEV_MODE": false,
                  "DISPLAY_MAX_COLUMNS": 100,
                  "DISPLAY_MAX_ROWS": 50000,
                  "DISPLAY_MODE": "simple",
                  "ENABLE_ASSIGNMENT": true,
                  "ENABLE_DATALINK": true,
                  "FLATTEN_COLUMN_VALUES": true,
                  "FLATTEN_INDEX_VALUES": false,
                  "GENERATE_DEX_METADATA": false,
                  "HTML_TABLE_SCHEMA": false,
                  "LOG_LEVEL": 30,
                  "MAX_RENDER_SIZE_BYTES": 104857600,
                  "MAX_STRING_LENGTH": 250,
                  "NUM_PAST_SAMPLES_TRACKED": 3,
                  "RANDOM_STATE": 12648430,
                  "RESET_INDEX_VALUES": false,
                  "ROW_SAMPLING_METHOD": "random",
                  "SAMPLING_FACTOR": 0.1,
                  "SAMPLING_METHOD": "random",
                  "STRINGIFY_COLUMN_VALUES": true,
                  "STRINGIFY_INDEX_VALUES": false
                },
                "sample_history": [],
                "sampling_time": "2023-08-23T00:43:56.462637",
                "user_variable_name": "df_phone",
                "variable_name": "df_phone"
              },
              "display_id": "a2ab346a-f2a2-4f9d-beec-c6658e31d797"
            }
          },
          "output_type": "display_data"
        }
      ],
      "source": [
        "df_phone"
      ]
    },
    {
      "cell_type": "code",
      "execution_count": null,
      "id": "e841362a-ac03-447c-ad11-64512fdaa7c6",
      "metadata": {
        "ExecuteTime": {
          "end_time": "2023-08-23T00:44:03.721474+00:00",
          "start_time": "2023-08-23T00:44:03.485962+00:00"
        },
        "datalink": {
          "a82e3560-dd38-4e60-80ea-572f3deebf5a": {
            "applied_filters": [],
            "dataframe_info": {
              "default_index_used": true,
              "orig_num_cols": 2,
              "orig_num_rows": 3,
              "orig_size_bytes": 72,
              "truncated_num_cols": 2,
              "truncated_num_rows": 3,
              "truncated_size_bytes": 72,
              "truncated_string_columns": []
            },
            "display_id": "a82e3560-dd38-4e60-80ea-572f3deebf5a",
            "dx_settings": {
              "ALLOW_NOTEABLE_ATTRS": true,
              "COLUMN_SAMPLING_METHOD": "outer",
              "DB_LOCATION": ":memory:",
              "DEV_MODE": false,
              "DISPLAY_MAX_COLUMNS": 100,
              "DISPLAY_MAX_ROWS": 50000,
              "DISPLAY_MODE": "simple",
              "ENABLE_ASSIGNMENT": true,
              "ENABLE_DATALINK": true,
              "FLATTEN_COLUMN_VALUES": true,
              "FLATTEN_INDEX_VALUES": false,
              "GENERATE_DEX_METADATA": false,
              "HTML_TABLE_SCHEMA": false,
              "LOG_LEVEL": 30,
              "MAX_RENDER_SIZE_BYTES": 104857600,
              "MAX_STRING_LENGTH": 250,
              "NUM_PAST_SAMPLES_TRACKED": 3,
              "RANDOM_STATE": 12648430,
              "RESET_INDEX_VALUES": false,
              "ROW_SAMPLING_METHOD": "random",
              "SAMPLING_FACTOR": 0.1,
              "SAMPLING_METHOD": "random",
              "STRINGIFY_COLUMN_VALUES": true,
              "STRINGIFY_INDEX_VALUES": false
            },
            "sample_history": [],
            "sampling_time": "2023-08-23T00:44:03.557716",
            "user_variable_name": "df_phone_standardized",
            "variable_name": "df_phone_standardized"
          }
        },
        "dx": {
          "fieldMetadata": {},
          "simpleTable": true,
          "updated": 1692751445159,
          "views": []
        },
        "jupyter": {
          "outputs_hidden": false,
          "source_hidden": false
        },
        "noteable": {
          "cell_type": "code"
        },
        "vscode": {
          "languageId": "python"
        }
      },
      "outputs": [
        {
          "data": {
            "application/vnd.dataresource+json": {
              "data": [
                {
                  "Name": "Alice",
                  "Phone": "123-456-7890",
                  "index": 0
                },
                {
                  "Name": "Bob",
                  "Phone": "123-456-7890",
                  "index": 1
                },
                {
                  "Name": "Charlie",
                  "Phone": "123-456-7890",
                  "index": 2
                }
              ],
              "datalink": {
                "display_id": "a82e3560-dd38-4e60-80ea-572f3deebf5a"
              },
              "schema": {
                "fields": [
                  {
                    "name": "index",
                    "type": "integer"
                  },
                  {
                    "name": "Name",
                    "type": "string"
                  },
                  {
                    "name": "Phone",
                    "type": "string"
                  }
                ],
                "pandas_version": "1.4.0",
                "primaryKey": [
                  "index"
                ]
              }
            }
          },
          "metadata": {
            "application/vnd.dataresource+json": {
              "datalink": {
                "applied_filters": [],
                "dataframe_info": {
                  "default_index_used": true,
                  "orig_num_cols": 2,
                  "orig_num_rows": 3,
                  "orig_size_bytes": 72,
                  "truncated_num_cols": 2,
                  "truncated_num_rows": 3,
                  "truncated_size_bytes": 72,
                  "truncated_string_columns": []
                },
                "display_id": "a82e3560-dd38-4e60-80ea-572f3deebf5a",
                "dx_settings": {
                  "ALLOW_NOTEABLE_ATTRS": true,
                  "COLUMN_SAMPLING_METHOD": "outer",
                  "DB_LOCATION": ":memory:",
                  "DEV_MODE": false,
                  "DISPLAY_MAX_COLUMNS": 100,
                  "DISPLAY_MAX_ROWS": 50000,
                  "DISPLAY_MODE": "simple",
                  "ENABLE_ASSIGNMENT": true,
                  "ENABLE_DATALINK": true,
                  "FLATTEN_COLUMN_VALUES": true,
                  "FLATTEN_INDEX_VALUES": false,
                  "GENERATE_DEX_METADATA": false,
                  "HTML_TABLE_SCHEMA": false,
                  "LOG_LEVEL": 30,
                  "MAX_RENDER_SIZE_BYTES": 104857600,
                  "MAX_STRING_LENGTH": 250,
                  "NUM_PAST_SAMPLES_TRACKED": 3,
                  "RANDOM_STATE": 12648430,
                  "RESET_INDEX_VALUES": false,
                  "ROW_SAMPLING_METHOD": "random",
                  "SAMPLING_FACTOR": 0.1,
                  "SAMPLING_METHOD": "random",
                  "STRINGIFY_COLUMN_VALUES": true,
                  "STRINGIFY_INDEX_VALUES": false
                },
                "sample_history": [],
                "sampling_time": "2023-08-23T00:44:03.557716",
                "user_variable_name": "df_phone_standardized",
                "variable_name": "df_phone_standardized"
              },
              "display_id": "a82e3560-dd38-4e60-80ea-572f3deebf5a"
            }
          },
          "output_type": "display_data"
        }
      ],
      "source": [
        "df_phone_standardized"
      ]
    },
    {
      "cell_type": "markdown",
      "id": "94b66dbd-ea2e-4d4f-a8c7-9133440dcf03",
      "metadata": {
        "noteable": {
          "cell_type": "markdown"
        }
      },
      "source": [
        "## Deep Dive into Regular Expressions (Regex)\n",
        "\n",
        "Regular expressions (regex) are a powerful tool for working with text data. They allow you to create search patterns using sequences of characters, which can be used for string matching and manipulation. The true power of regex lies in its flexibility and the wide range of patterns it can match.\n",
        "\n",
        "Let's break down some of the fundamental components of regex and explore various examples to understand its capabilities."
      ]
    },
    {
      "cell_type": "markdown",
      "id": "7fc71a15-4b9d-43c7-8c0e-d0b9191c3331",
      "metadata": {
        "noteable": {
          "cell_type": "markdown"
        }
      },
      "source": [
        "### Basic Regex Patterns\n",
        "\n",
        "- **`.`** : Matches any character except a newline.\n",
        "- **`^`** : Matches the start of a string.\n",
        "- **`$`** : Matches the end of a string.\n",
        "- **`*`** : Matches 0 or more repetitions of the preceding character or group.\n",
        "- **`+`** : Matches 1 or more repetitions of the preceding character or group.\n",
        "- **`?`** : Matches 0 or 1 repetition of the preceding character or group.\n",
        "- **`\\d`** : Matches any decimal digit. Equivalent to `[0-9]`.\n",
        "- **`\\D`** : Matches any non-digit character.\n",
        "- **`\\w`** : Matches any alphanumeric character or underscore. Equivalent to `[a-zA-Z0-9_]`.\n",
        "- **`\\W`** : Matches any non-alphanumeric character.\n",
        "- **`\\s`** : Matches any whitespace character (spaces, tabs, line breaks).\n",
        "- **`\\S`** : Matches any non-whitespace character.\n",
        "\n",
        "Let's see some of these patterns in action with examples."
      ]
    },
    {
      "cell_type": "code",
      "execution_count": null,
      "id": "994f0bcf-60de-470c-beb8-06e5fa994070",
      "metadata": {
        "noteable": {
          "cell_type": "code"
        },
        "vscode": {
          "languageId": "python"
        }
      },
      "outputs": [],
      "source": [
        "import re\n",
        "\n",
        "# Sample text\n",
        "text = 'My phone number is 123-456-7890 and my zip code is 98765.'\n",
        "\n",
        "# Extracting phone number using regex\n",
        "phone_pattern = r'\\d{3}-\\d{3}-\\d{4}'\n",
        "phone_match = re.search(phone_pattern, text)\n",
        "phone_number = phone_match.group() if phone_match else None\n",
        "\n",
        "# Extracting zip code using regex\n",
        "zip_pattern = r'\\d{5}$'\n",
        "zip_match = re.search(zip_pattern, text)\n",
        "zip_code = zip_match.group() if zip_match else None\n",
        "\n",
        "phone_number, zip_code"
      ]
    },
    {
      "cell_type": "markdown",
      "id": "ff3e1ce2-d180-4251-859d-623bf457a006",
      "metadata": {
        "noteable": {
          "cell_type": "markdown"
        }
      },
      "source": [
        "In the example above, we used the following regex patterns:\n",
        "\n",
        "- **`\\d{3}-\\d{3}-\\d{4}`**: This pattern matches a phone number format where there are three digits, followed by a hyphen, another three digits, another hyphen, and finally four digits.\n",
        "\n",
        "- **`\\d{5}$`**: This pattern matches five digits at the end of a string, which is a common format for zip codes in the US.\n",
        "\n",
        "Now, let's explore more advanced regex patterns and their applications."
      ]
    },
    {
      "cell_type": "markdown",
      "id": "90056804-6e36-4370-81e1-eb6d215aee92",
      "metadata": {
        "noteable": {
          "cell_type": "markdown"
        }
      },
      "source": [
        "### Advanced Regex Patterns\n",
        "\n",
        "- **Character Sets** `[...]`: Matches any one of the characters inside the square brackets. For example, `[aeiou]` matches any vowel.\n",
        "- **Negated Character Sets** `[^...]`: Matches any character that is not inside the square brackets. For example, `[^aeiou]` matches any non-vowel character.\n",
        "- **Quantifiers** `{m,n}`: Matches between `m` and `n` repetitions of the preceding character or group. For example, `a{2,4}` matches 'aa', 'aaa', or 'aaaa'.\n",
        "- **Non-capturing Groups** `(?:...)`: Groups multiple patterns together without creating a capture group.\n",
        "- **Positive Lookahead** `(?=...)`: Asserts that what directly follows the current position in the string matches the pattern inside the lookahead, but doesn't consume any characters.\n",
        "- **Negative Lookahead** `(?!...)`: Asserts that what directly follows the current position in the string does not match the pattern inside the lookahead.\n",
        "\n",
        "Let's see some of these advanced patterns in action with examples."
      ]
    },
    {
      "cell_type": "code",
      "execution_count": null,
      "id": "604b3298-a6b6-4730-be7c-7bf2022e6aa4",
      "metadata": {
        "noteable": {
          "cell_type": "code"
        },
        "vscode": {
          "languageId": "python"
        }
      },
      "outputs": [],
      "source": [
        "# Sample text for regex examples\n",
        "text_advanced = 'The price is $100.00, but there's a discount of 10% if you pay within 5 days.'\n",
        "\n",
        "# Extracting all prices using regex (character sets)\n",
        "price_pattern = r'\\$[0-9]+\\.[0-9]{2}'\n",
        "prices = re.findall(price_pattern, text_advanced)\n",
        "\n",
        "# Extracting words that don't start with a vowel (negated character sets)\n",
        "non_vowel_pattern = r'\\b[^aeiouAEIOU \\d][a-zA-Z]*'\n",
        "non_vowel_words = re.findall(non_vowel_pattern, text_advanced)\n",
        "\n",
        "# Using positive lookahead to find 'discount' if it's followed by '10%'\n",
        "lookahead_pattern = r'discount(?= of 10%)'\n",
        "lookahead_match = re.search(lookahead_pattern, text_advanced)\n",
        "lookahead_word = lookahead_match.group() if lookahead_match else None\n",
        "\n",
        "prices, non_vowel_words, lookahead_word"
      ]
    },
    {
      "cell_type": "markdown",
      "id": "d0dbcbc7-b1c6-4f76-9e39-7059c95b250b",
      "metadata": {
        "noteable": {
          "cell_type": "markdown"
        }
      },
      "source": [
        "In the examples above, we utilized various advanced regex patterns:\n",
        "\n",
        "- **Character Sets**: The pattern `\\$[0-9]+\\.[0-9]{2}` matches dollar amounts. It looks for a dollar sign, followed by one or more digits, a period, and exactly two digits after the period.\n",
        "\n",
        "- **Negated Character Sets**: The pattern `\\b[^aeiouAEIOU \\d][a-zA-Z]*` matches words that don't start with a vowel. It looks for word boundaries (`\\b`), followed by any character that is not a vowel or a digit, and then any sequence of alphabetic characters.\n",
        "\n",
        "- **Positive Lookahead**: The pattern `discount(?= of 10%)` matches the word 'discount' only if it's directly followed by ' of 10%'. The positive lookahead `(?=...)` checks for the presence of a pattern without consuming any characters, allowing us to match based on what follows our main pattern.\n",
        "\n",
        "Regular expressions are a vast topic, and there's a lot more to explore. The key is to practice and experiment with different patterns to become proficient."
      ]
    },
    {
      "cell_type": "markdown",
      "id": "e07ea31f-5538-4aca-ae63-f5d09a93888c",
      "metadata": {
        "noteable": {
          "cell_type": "markdown"
        }
      },
      "source": [
        "## Exercises\n",
        "\n",
        "Now that you've learned about various data manipulation techniques in pandas and regular expressions, it's time to test your knowledge! Below are 10 exercises that cover the topics discussed in this notebook. Try to solve each one to reinforce your understanding."
      ]
    },
    {
      "cell_type": "markdown",
      "id": "8307099e-7217-49f2-ad13-17b3774a80b7",
      "metadata": {
        "noteable": {
          "cell_type": "markdown"
        }
      },
      "source": [
        "1. **Merging DataFrames**: Given two DataFrames, `df1` with columns `['A', 'B']` and `df2` with columns `['B', 'C']`, merge them on column 'B'.\n",
        "\n",
        "2. **Pivot Tables**: Create a pivot table from a DataFrame `df` with columns `['Date', 'Product', 'Sales']` to show the total sales for each product over time.\n",
        "\n",
        "3. **Transpose**: Transpose a DataFrame `df` and explain what happens to its indices and columns.\n",
        "\n",
        "4. **Lambda Functions**: Use a lambda function to square all the values in a DataFrame column 'X'.\n",
        "\n",
        "5. **Regex Phone Numbers**: Extract all phone numbers from a text string. Consider phone numbers to be in the formats `123-456-7890`, `(123) 456-7890`, and `123.456.7890`.\n",
        "\n",
        "6. **Handling Duplicates**: Identify and remove any duplicate rows in a DataFrame `df` based on columns 'A' and 'B'.\n",
        "\n",
        "7. **Handling Missing Data**: Replace all NaN values in a DataFrame `df` with the mean of the column they are in.\n",
        "\n",
        "8. **Apply Function**: Apply a function that calculates the length of each string in the 'Name' column of a DataFrame `df`.\n",
        "\n",
        "9. **Replace with Regex**: Replace all occurrences of the word 'color' (case-insensitive) in a text string with the word 'hue' using regex.\n",
        "\n",
        "10. **Advanced Regex**: Extract all email addresses from a text string. Consider email addresses to be in the format `name@domain.com`."
      ]
    }
  ],
  "metadata": {
    "kernel_info": {
      "name": "python3"
    },
    "kernelspec": {
      "display_name": "Python 3.9",
      "language": "python",
      "name": "python3"
    },
    "noteable": {
      "last_delta_id": "fa3dabdb-3038-4bf9-aec4-1bdd59ce6fd2"
    },
    "noteable-chatgpt": {
      "create_notebook": {
        "openai_conversation_id": "6c62c02a-654a-54d9-bea3-30063020a7a1",
        "openai_ephemeral_user_id": "0c13afda-f2e3-5aaa-a3fc-b06083265022",
        "openai_subdivision1_iso_code": "ES-CT"
      }
    },
    "nteract": {
      "version": "noteable@2.9.0"
    },
    "selected_hardware_size": "small"
  },
  "nbformat": 4,
  "nbformat_minor": 5
}
