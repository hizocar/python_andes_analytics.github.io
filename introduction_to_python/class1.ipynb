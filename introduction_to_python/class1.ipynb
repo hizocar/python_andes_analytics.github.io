{
  "cells": [
    {
      "attachments": {},
      "cell_type": "markdown",
      "id": "64624742",
      "metadata": {},
      "source": [
        "[![](http://colab.research.google.com/assets/colab-badge.svg)](https://drive.google.com/file/d/1p_lU6QOuDreo17Yrzc1Ttyrc1uDbs9xg/view?usp=drive_link)"
      ]
    },
    {
      "attachments": {},
      "cell_type": "markdown",
      "id": "9092316d-00a1-4527-9fcf-9d75e191e7da",
      "metadata": {
        "noteable": {
          "cell_type": "markdown"
        }
      },
      "source": [
        "## Class 1: Getting to Know Python\n",
        "<p align=\"center\">\n",
        "<img src=\"images/cat_class1.png\" width=\"50%\" height=\"50%\">\n",
        "</p>\n"
      ]
    },
    {
      "cell_type": "markdown",
      "id": "182b0b74-3d96-4568-bd58-c55f9c4147d8",
      "metadata": {
        "noteable": {
          "cell_type": "markdown"
        }
      },
      "source": [
        "Python is a high-level, interpreted programming language known for its readability and simplicity. It supports multiple programming paradigms, including procedural, object-oriented, and functional programming. Python is widely used in data analysis, web development, machine learning, and artificial intelligence. Its extensive library support and vibrant community make it a popular choice for both beginners and experienced developers."
      ]
    },
    {
      "cell_type": "markdown",
      "id": "7079cef3-c5c4-4a7c-9f54-d8632d17280d",
      "metadata": {
        "noteable": {
          "cell_type": "markdown"
        }
      },
      "source": [
        "Here is a simple example of Python code that takes an input and produces an output:"
      ]
    },
    {
      "cell_type": "code",
      "execution_count": null,
      "id": "6e11dfa2-f5cf-41a9-bb27-6e80f3befd09",
      "metadata": {
        "noteable": {
          "cell_type": "code"
        },
        "vscode": {
          "languageId": "python"
        }
      },
      "outputs": [],
      "source": [
        "# Input\n",
        "name = input('What is your name? ')\n",
        "\n",
        "# Output\n",
        "print(f'Hello, {name}!')"
      ]
    },
    {
      "cell_type": "markdown",
      "id": "5137dc46-189e-439b-a142-3f01f472ac89",
      "metadata": {
        "noteable": {
          "cell_type": "markdown"
        }
      },
      "source": [
        "## Data Types in Python"
      ]
    },
    {
      "cell_type": "markdown",
      "id": "da8aa64a-1c51-43f0-87d8-3434b3807d6d",
      "metadata": {
        "noteable": {
          "cell_type": "markdown"
        }
      },
      "source": [
        "Python has several built-in data types. Here are some of the most common ones:\n",
        "\n",
        "- **Integers (`int`):** Whole numbers, such as 3, 4, or 100.\n",
        "- **Floating point numbers (`float`):** Numbers with a decimal point, such as 2.3 or 4.6.\n",
        "- **Strings (`str`):** Sequences of characters, such as 'hello' or 'python'.\n",
        "- **Booleans (`bool`):** True or false values.\n",
        "\n",
        "Let's see some examples:"
      ]
    },
    {
      "cell_type": "code",
      "execution_count": null,
      "id": "46f5d11d-22ef-40b7-a9eb-8af446917451",
      "metadata": {
        "noteable": {
          "cell_type": "code"
        },
        "vscode": {
          "languageId": "python"
        }
      },
      "outputs": [],
      "source": [
        "# Integer\n",
        "x = 10\n",
        "print(type(x))\n",
        "\n",
        "# Float\n",
        "y = 3.14\n",
        "print(type(y))\n",
        "\n",
        "# String\n",
        "z = 'Hello, Python!'\n",
        "print(type(z))\n",
        "\n",
        "# Boolean\n",
        "w = True\n",
        "print(type(w))"
      ]
    },
    {
      "cell_type": "markdown",
      "id": "cbd3833e-4f7f-46e4-8068-ac5f34a240f2",
      "metadata": {
        "noteable": {
          "cell_type": "markdown"
        }
      },
      "source": [
        "## Lists in Python"
      ]
    },
    {
      "cell_type": "markdown",
      "id": "4fec1373-0255-49d0-8b56-f2ead4cf9da6",
      "metadata": {
        "noteable": {
          "cell_type": "markdown"
        }
      },
      "source": [
        "A list in Python is an ordered collection of items that can be of any type. Lists are very flexible and can be modified after they are created (they are mutable).\n",
        "\n",
        "Here is an example of a list:"
      ]
    },
    {
      "cell_type": "code",
      "execution_count": null,
      "id": "16be500a-925b-461d-8d27-2b7240fc0194",
      "metadata": {
        "noteable": {
          "cell_type": "code"
        },
        "vscode": {
          "languageId": "python"
        }
      },
      "outputs": [],
      "source": [
        "# List of integers\n",
        "numbers = [1, 2, 3, 4, 5]\n",
        "print(numbers)\n",
        "\n",
        "# List of different types\n",
        "mixed = [1, 'two', 3.0, True]\n",
        "print(mixed)"
      ]
    },
    {
      "cell_type": "markdown",
      "id": "8d0f1fb0-afc7-4cc5-a58f-030f5f6a3b60",
      "metadata": {
        "noteable": {
          "cell_type": "markdown"
        }
      },
      "source": [
        "## Dictionaries in Python"
      ]
    },
    {
      "cell_type": "markdown",
      "id": "15bd08a7-1a1f-43f1-96cb-c3faabe79b61",
      "metadata": {
        "noteable": {
          "cell_type": "markdown"
        }
      },
      "source": [
        "A dictionary in Python is an unordered collection of items. Each item in a dictionary has a key and a corresponding value. Dictionaries are mutable, meaning they can be changed after they are created.\n",
        "\n",
        "Here is an example of a dictionary:"
      ]
    },
    {
      "cell_type": "code",
      "execution_count": null,
      "id": "6b9d3866-c7ee-40b9-a1bc-928c8c26dbd0",
      "metadata": {
        "noteable": {
          "cell_type": "code"
        },
        "vscode": {
          "languageId": "python"
        }
      },
      "outputs": [],
      "source": [
        "# Dictionary\n",
        "person = {\n",
        "    'name': 'John',\n",
        "    'age': 30,\n",
        "    'is_married': True\n",
        "}\n",
        "print(person)"
      ]
    },
    {
      "cell_type": "markdown",
      "id": "9ed74fc5-3635-43cc-9f8b-7c12d74847fc",
      "metadata": {
        "noteable": {
          "cell_type": "markdown"
        }
      },
      "source": [
        "## Comparing Lists and Dictionaries"
      ]
    },
    {
      "cell_type": "markdown",
      "id": "068b46b8-fd27-4e7e-a763-ed6bf2cc0aa3",
      "metadata": {
        "noteable": {
          "cell_type": "markdown"
        }
      },
      "source": [
        "Lists and dictionaries are both versatile data structures in Python, but they are used in different scenarios.\n",
        "\n",
        "**Lists** are ordered collections of items, and they are best when the order of items matters. You can use lists when you have a collection of items that you want to keep in a specific order, or when you want to easily add or remove items from the collection.\n",
        "\n",
        "**Dictionaries** are unordered collections of key-value pairs, and they are best when you need to associate values with keys, so you can look them up efficiently by key. Dictionaries are ideal for data that is labeled, where each item can be accessed by a unique key (like a product code or name).\n",
        "\n",
        "Let's see some examples:"
      ]
    },
    {
      "cell_type": "code",
      "execution_count": null,
      "id": "f9d1fcb1-7f2c-443f-9a17-d0a51fba2a86",
      "metadata": {
        "noteable": {
          "cell_type": "code"
        },
        "vscode": {
          "languageId": "python"
        }
      },
      "outputs": [],
      "source": [
        "# List example\n",
        "fruits = ['apple', 'banana', 'cherry']\n",
        "print(fruits)\n",
        "\n",
        "# Add an item to the list\n",
        "fruits.append('date')\n",
        "print(fruits)\n",
        "\n",
        "# Dictionary example\n",
        "fruit_colors = {\n",
        "    'apple': 'red',\n",
        "    'banana': 'yellow',\n",
        "    'cherry': 'red'\n",
        "}\n",
        "print(fruit_colors)\n",
        "\n",
        "# Add an item to the dictionary\n",
        "fruit_colors['date'] = 'brown'\n",
        "print(fruit_colors)"
      ]
    },
    {
      "cell_type": "markdown",
      "id": "d44d501b-3150-426d-8190-ff0d84d7fbed",
      "metadata": {
        "noteable": {
          "cell_type": "markdown"
        }
      },
      "source": [
        "It is possible to convert a list to a dictionary and vice versa, but the way you do it depends on the structure of your data.\n",
        "\n",
        "For example, if you have a list of pairs, you can convert it to a dictionary using the `dict()` function. And if you have a dictionary, you can convert it to a list of pairs using the `items()` method.\n",
        "\n",
        "Let's see some examples:"
      ]
    },
    {
      "cell_type": "code",
      "execution_count": null,
      "id": "ca981bce-6e44-42ba-8af9-8e8681300b58",
      "metadata": {
        "noteable": {
          "cell_type": "code"
        },
        "vscode": {
          "languageId": "python"
        }
      },
      "outputs": [],
      "source": [
        "# List of pairs\n",
        "pairs = [('one', 1), ('two', 2), ('three', 3)]\n",
        "\n",
        "# Convert list to dictionary\n",
        "dict_from_list = dict(pairs)\n",
        "print(dict_from_list)\n",
        "\n",
        "# Dictionary\n",
        "dictionary = {'one': 1, 'two': 2, 'three': 3}\n",
        "\n",
        "# Convert dictionary to list\n",
        "list_from_dict = list(dictionary.items())\n",
        "print(list_from_dict)"
      ]
    },
    {
      "cell_type": "markdown",
      "id": "67c266fe-a041-4e14-abf4-830f9b749b0c",
      "metadata": {
        "noteable": {
          "cell_type": "markdown"
        }
      },
      "source": [
        "## Operations and Methods in Python"
      ]
    },
    {
      "cell_type": "markdown",
      "id": "3726aa28-8b7f-40ac-9609-a54b516fc874",
      "metadata": {
        "noteable": {
          "cell_type": "markdown"
        }
      },
      "source": [
        "In Python, an **operation** is an action that is carried out on one or more values. For example, the `+` operation adds two numbers together, and the `*` operation multiplies them.\n",
        "\n",
        "A **method** is a function that is associated with a particular type of object. For example, the `count` method can be used on a list to count the number of times a particular value appears in the list, and the `upper` method can be used on a string to convert all the characters to uppercase.\n",
        "\n",
        "The `len` function is a built-in Python function that returns the length of a sequence, such as a list or a string.\n",
        "\n",
        "Let's see some examples:"
      ]
    },
    {
      "cell_type": "code",
      "execution_count": null,
      "id": "e794c0a1-a7e4-47d9-9b79-fbdbff5ebe61",
      "metadata": {
        "noteable": {
          "cell_type": "code"
        },
        "vscode": {
          "languageId": "python"
        }
      },
      "outputs": [],
      "source": [
        "# Operations\n",
        "print(3 + 4)  # Addition\n",
        "print(3 * 4)  # Multiplication\n",
        "\n",
        "# Methods\n",
        "numbers = [1, 2, 3, 2, 1]\n",
        "print(numbers.count(2))  # Count method\n",
        "\n",
        "text = 'hello'\n",
        "print(text.upper())  # Upper method\n",
        "\n",
        "# Len function\n",
        "print(len(numbers))  # Length of a list\n",
        "print(len(text))  # Length of a string"
      ]
    },
    {
      "cell_type": "markdown",
      "id": "98e26865-47bb-4842-bd1b-1463d1915154",
      "metadata": {
        "noteable": {
          "cell_type": "markdown"
        }
      },
      "source": [
        "## Combining Different Data Types with + and *"
      ]
    },
    {
      "cell_type": "markdown",
      "id": "23743aec-f9af-4141-bd96-e8c79a5cb2df",
      "metadata": {
        "noteable": {
          "cell_type": "markdown"
        }
      },
      "source": [
        "In Python, the `+` and `*` operators can be used with different types of data, but the behavior can be different depending on the types of the operands.\n",
        "\n",
        "When used with integers (`int`), the `+` operator performs addition and the `*` operator performs multiplication.\n",
        "\n",
        "When used with strings (`str`), the `+` operator concatenates the strings, and the `*` operator repeats the string a certain number of times.\n",
        "\n",
        "However, trying to use `+` or `*` with an integer and a string will result in a `TypeError`.\n",
        "\n",
        "Let's see some examples:"
      ]
    },
    {
      "cell_type": "code",
      "execution_count": null,
      "id": "41192c84-b498-4866-9110-0b74300dcca2",
      "metadata": {
        "ExecuteTime": {
          "end_time": "2023-07-25T22:47:33.505886+00:00",
          "start_time": "2023-07-25T22:47:33.344623+00:00"
        },
        "noteable": {
          "cell_type": "code"
        },
        "vscode": {
          "languageId": "python"
        }
      },
      "outputs": [
        {
          "name": "stdout",
          "output_type": "stream",
          "text": [
            "7\n",
            "12\n",
            "helloworld\n",
            "hellohellohello\n",
            "unsupported operand type(s) for +: 'int' and 'str'\n",
            "hellohellohello\n"
          ]
        }
      ],
      "source": [
        "# Addition with integers\n",
        "print(3 + 4)\n",
        "\n",
        "# Multiplication with integers\n",
        "print(3 * 4)\n",
        "\n",
        "# Concatenation with strings\n",
        "print('hello' + 'world')\n",
        "\n",
        "# Repetition with strings\n",
        "print('hello' * 3)\n",
        "\n",
        "# Trying to add an integer and a string\n",
        "try:\n",
        "    print(3 + 'hello')\n",
        "except TypeError as e:\n",
        "    print(e)\n",
        "\n",
        "# Trying to multiply an integer and a string\n",
        "try:\n",
        "    print(3 * 'hello')\n",
        "except TypeError as e:\n",
        "    print(e)"
      ]
    },
    {
      "cell_type": "markdown",
      "id": "834c362f-17c5-4660-ae3b-5164f42ef1aa",
      "metadata": {
        "noteable": {
          "cell_type": "markdown"
        }
      },
      "source": [
        "## Libraries in Python"
      ]
    },
    {
      "cell_type": "markdown",
      "id": "0c6a48a7-d08f-47ac-afcb-cc6033e90276",
      "metadata": {
        "noteable": {
          "cell_type": "markdown"
        }
      },
      "source": [
        "In Python, a **library** is a collection of modules, which are files containing Python code that define functions, classes, and variables that you can use once the module is imported.\n",
        "\n",
        "Python comes with a standard library that includes many useful modules, and there are also many third-party libraries available that provide additional functionality.\n",
        "\n",
        "You can import a module using the `import` statement. Once a module is imported, you can use its functions and variables by prefixing them with the module name and a dot.\n",
        "\n",
        "If a library is not installed, you can install it using the `pip` tool, which is the package installer for Python.\n",
        "\n",
        "Let's see some examples:"
      ]
    },
    {
      "cell_type": "code",
      "execution_count": null,
      "id": "e5e48026-092e-4047-a58a-cfb34c6604fd",
      "metadata": {
        "ExecuteTime": {
          "end_time": "2023-07-25T22:49:23.840799+00:00",
          "start_time": "2023-07-25T22:49:23.682628+00:00"
        },
        "noteable": {
          "cell_type": "code"
        },
        "vscode": {
          "languageId": "python"
        }
      },
      "outputs": [
        {
          "name": "stdout",
          "output_type": "stream",
          "text": [
            "4.0\n"
          ]
        }
      ],
      "source": [
        "# Importing a module from the standard library\n",
        "import math\n",
        "\n",
        "# Using a function from the math module\n",
        "print(math.sqrt(16))\n",
        "\n",
        "# Note: The following code is commented out because it requires user interaction and might not work in this notebook interface.\n",
        "# But you can run it in your local Python environment.\n",
        "\n",
        "# Installing a third-party library (uncomment to run)\n",
        "# !pip install numpy"
      ]
    },
    {
      "cell_type": "markdown",
      "id": "2190fec2-e74a-410e-9235-9ef070a7eba8",
      "metadata": {
        "noteable": {
          "cell_type": "markdown"
        }
      },
      "source": [
        "If you only need a specific function from a module, you can import just that function using the `from ... import ...` statement. This allows you to use the function directly without prefixing it with the module name.\n",
        "\n",
        "Let's see an example:"
      ]
    },
    {
      "cell_type": "code",
      "execution_count": null,
      "id": "cb757248-c145-4e49-a8b7-5d54fd886b32",
      "metadata": {
        "ExecuteTime": {
          "end_time": "2023-07-25T22:50:29.518457+00:00",
          "start_time": "2023-07-25T22:50:29.361571+00:00"
        },
        "noteable": {
          "cell_type": "code"
        },
        "vscode": {
          "languageId": "python"
        }
      },
      "outputs": [
        {
          "name": "stdout",
          "output_type": "stream",
          "text": [
            "4.0\n"
          ]
        }
      ],
      "source": [
        "# Importing a specific function from the math module\n",
        "from math import sqrt\n",
        "\n",
        "# Using the function directly\n",
        "print(sqrt(16))"
      ]
    },
    {
      "cell_type": "markdown",
      "id": "688583ac-1001-45b0-b318-d5f19fcfd2ff",
      "metadata": {
        "noteable": {
          "cell_type": "markdown"
        }
      },
      "source": [
        "## Google Colab"
      ]
    },
    {
      "cell_type": "markdown",
      "id": "af8a5371-06fa-489f-ba50-1c442060f2f5",
      "metadata": {
        "noteable": {
          "cell_type": "markdown"
        }
      },
      "source": [
        "[Google Colab](https://colab.research.google.com/) is a cloud-based Python development environment that provides a platform for anyone to write and execute Python code through the browser. It is especially useful for machine learning, data analysis, and education.\n",
        "\n",
        "### Advantages\n",
        "- No setup required\n",
        "- Free access to GPUs\n",
        "- Easy sharing\n",
        "\n",
        "Whether you're a student, a data scientist, or an AI researcher, Colab can make your work easier. You can write and execute code, save and share your analyses, and access powerful computing resources, all for free from your browser.\n",
        "\n",
        "### Disadvantages\n",
        "- Internet connection is required\n",
        "- Limited resources\n",
        "\n",
        "Despite its advantages, Google Colab does have some limitations. It requires an internet connection to save and run notebooks, and the available resources (RAM and disk space) are limited.\n",
        "\n",
        "To start a new notebook in Google Colab, you can follow this [link](https://colab.research.google.com/#create=true)."
      ]
    },
    {
      "cell_type": "markdown",
      "id": "390efd5f-dab2-4a4a-ac3b-d242d4f52483",
      "metadata": {
        "noteable": {
          "cell_type": "markdown"
        }
      },
      "source": [
        "## Exercises"
      ]
    },
    {
      "cell_type": "markdown",
      "id": "de1dbf80-aaa9-4a36-a805-6459da79e71e",
      "metadata": {
        "noteable": {
          "cell_type": "markdown"
        }
      },
      "source": [
        "1. **Data Types**: Write a Python function that takes two inputs, determines their data types, and returns a message indicating the data type of each input.\n",
        "\n",
        "2. **List Operations**: Given a list of numbers, write a Python function that returns a new list containing the square of each number. Use a loop in your solution.\n",
        "\n",
        "3. **Dictionary Operations**: Write a Python function that takes a dictionary and a key as input, checks if the key is in the dictionary, and returns a message indicating whether the key was found.\n",
        "\n",
        "4. **String Methods**: Write a Python function that takes a string as input and returns a new string with the first letter of each word capitalized.\n",
        "\n",
        "5. **Library Usage**: Use the `math` library to write a Python function that takes a number as input and returns the square root of the number."
      ]
    }
  ],
  "metadata": {
    "kernel_info": {
      "name": "python3"
    },
    "kernelspec": {
      "display_name": "Python 3.9",
      "language": "python",
      "name": "python3"
    },
    "noteable": {
      "last_delta_id": "f4439203-9d9b-4f88-a05b-3d8708258463"
    },
    "noteable-chatgpt": {
      "create_notebook": {
        "openai_conversation_id": "895a271c-19fb-55ae-b476-73dd99d5e3fc",
        "openai_ephemeral_user_id": "3be50e69-4ee8-5a44-aecd-406302faacfc",
        "openai_subdivision1_iso_code": "CL-RM"
      }
    },
    "nteract": {
      "version": "noteable@2.9.0"
    },
    "selected_hardware_size": "small"
  },
  "nbformat": 4,
  "nbformat_minor": 5
}
