{
  "cells": [
    {
      "attachments": {},
      "cell_type": "markdown",
      "id": "6f96e0f8-48f4-4397-a14b-42a267d67d77",
      "metadata": {
        "noteable": {
          "cell_type": "markdown"
        }
      },
      "source": [
        "## Class 6: Data Manipulation II"
      ]
    },
    {
      "cell_type": "markdown",
      "id": "eeb61414-0801-4bb1-b304-a0272db90a1f",
      "metadata": {
        "noteable": {
          "cell_type": "markdown"
        }
      },
      "source": [
        "## Discretization of Data\n",
        "\n",
        "Discretization refers to the process of converting continuous variables into discrete ones. This can be particularly useful when we want to categorize continuous data into specific bins or intervals. In data analysis, sometimes, it's more meaningful to work with categories or intervals rather than raw continuous values.\n",
        "\n",
        "### Continuous vs. Discrete Variables\n",
        "- **Continuous Variable:** A variable that can take any value within a given range. Examples include height, weight, and temperature.\n",
        "- **Discrete Variable:** A variable that can take specific values, often in the form of integers. Examples include the number of cars in a household or the number of students in a class.\n",
        "\n",
        "The `pandas` library in Python provides a function called `pd.cut()` that helps in discretizing continuous variables. Let's delve deeper into its parameters and see how it works."
      ]
    },
    {
      "cell_type": "markdown",
      "id": "06cb048c-fe31-41be-a69c-48853b3c5481",
      "metadata": {
        "noteable": {
          "cell_type": "markdown"
        }
      },
      "source": [
        "### Parameters of `pd.cut()`\n",
        "\n",
        "- **x:** The input array to be binned. Must be 1-dimensional.\n",
        "- **bins:** Defines the bin edges for the discretization. It can be an integer, sequence of scalars, or an IntervalIndex.\n",
        "- **right:** Indicates whether the bins include the rightmost edge or not. Default is `True`.\n",
        "- **labels:** Specifies the labels for the returned bins. Must be the same length as the resulting bins.\n",
        "- **retbins:** Whether to return the bin edges (`True` or `False`). Default is `False`.\n",
        "- **precision:** The precision at which to store and display the bins labels.\n",
        "- **include_lowest:** Whether the first interval should be left-inclusive or not. Default is `False`.\n",
        "\n",
        "Now, let's see some examples of how to use `pd.cut()`."
      ]
    },
    {
      "cell_type": "code",
      "execution_count": null,
      "id": "0c62c0ca-52b9-4f14-b585-53a9b1cec557",
      "metadata": {
        "ExecuteTime": {
          "end_time": "2023-08-30T00:29:30.274642+00:00",
          "start_time": "2023-08-30T00:29:30.108450+00:00"
        },
        "noteable": {
          "cell_type": "code"
        },
        "vscode": {
          "languageId": "python"
        }
      },
      "outputs": [
        {
          "data": {
            "text/plain": [
              "[(0, 2], (0, 2], (2, 4], (2, 4], (4, 6], (4, 6], (6, 8], (6, 8], (8, 10], (8, 10]]\n",
              "Categories (5, interval[int64, right]): [(0, 2] < (2, 4] < (4, 6] < (6, 8] < (8, 10]]"
            ]
          },
          "execution_count": null,
          "metadata": {},
          "output_type": "execute_result"
        }
      ],
      "source": [
        "import pandas as pd\n",
        "\n",
        "# Example 1: Basic usage of pd.cut()\n",
        "data = [1, 2, 3, 4, 5, 6, 7, 8, 9, 10]\n",
        "bins = [0, 2, 4, 6, 8, 10]\n",
        "categories = pd.cut(data, bins)\n",
        "categories"
      ]
    },
    {
      "cell_type": "code",
      "execution_count": null,
      "id": "e94327a8-2844-4cfb-8d84-21b4393278dd",
      "metadata": {
        "ExecuteTime": {
          "end_time": "2023-08-30T00:29:36.387480+00:00",
          "start_time": "2023-08-30T00:29:36.224759+00:00"
        },
        "noteable": {
          "cell_type": "code"
        },
        "vscode": {
          "languageId": "python"
        }
      },
      "outputs": [
        {
          "data": {
            "text/plain": [
              "['low', 'low', 'medium', 'medium', 'high', 'high', 'very high', 'very high', 'extreme', 'extreme']\n",
              "Categories (5, object): ['low' < 'medium' < 'high' < 'very high' < 'extreme']"
            ]
          },
          "execution_count": null,
          "metadata": {},
          "output_type": "execute_result"
        }
      ],
      "source": [
        "# Example 2: Using labels parameter\n",
        "bin_labels = ['low', 'medium', 'high', 'very high', 'extreme']\n",
        "categories_with_labels = pd.cut(data, bins, labels=bin_labels)\n",
        "categories_with_labels"
      ]
    },
    {
      "cell_type": "code",
      "execution_count": null,
      "id": "d8d6894c-20a8-4245-99df-cb20b73d5f38",
      "metadata": {
        "ExecuteTime": {
          "end_time": "2023-08-30T00:29:43.156372+00:00",
          "start_time": "2023-08-30T00:29:42.989927+00:00"
        },
        "noteable": {
          "cell_type": "code"
        },
        "vscode": {
          "languageId": "python"
        }
      },
      "outputs": [
        {
          "data": {
            "text/plain": [
              "[[0.0, 2.0), [2.0, 4.0), [2.0, 4.0), [4.0, 6.0), [4.0, 6.0), [6.0, 8.0), [6.0, 8.0), [8.0, 10.0), [8.0, 10.0), NaN]\n",
              "Categories (5, interval[int64, left]): [[0, 2) < [2, 4) < [4, 6) < [6, 8) < [8, 10)]"
            ]
          },
          "execution_count": null,
          "metadata": {},
          "output_type": "execute_result"
        }
      ],
      "source": [
        "# Example 3: Using right parameter to exclude the rightmost edge\n",
        "categories_excluding_right = pd.cut(data, bins, right=False)\n",
        "categories_excluding_right"
      ]
    },
    {
      "cell_type": "markdown",
      "id": "e05cd4fc-c4ef-41e6-a77c-1a726e4cefd3",
      "metadata": {
        "noteable": {
          "cell_type": "markdown"
        }
      },
      "source": [
        "## Using `np.where` with Pandas DataFrames\n",
        "\n",
        "The `np.where` function from the NumPy library is a versatile tool that allows for conditional logic based on array-like structures. In essence, it's a vectorized version of the ternary expression `x if condition else y`.\n",
        "\n",
        "When working with Pandas DataFrames, `np.where` can be particularly useful for creating or modifying columns based on certain conditions.\n",
        "\n",
        "The basic syntax is as follows:\n",
        "```python\n",
        "np.where(condition, value_if_true, value_if_false)\n",
        "```\n",
        "\n",
        "Let's explore some examples to understand its usage with Pandas DataFrames."
      ]
    },
    {
      "cell_type": "code",
      "execution_count": null,
      "id": "8c6e32a5-33da-4869-908a-4f6827f25f95",
      "metadata": {
        "ExecuteTime": {
          "end_time": "2023-08-30T00:32:33.900550+00:00",
          "start_time": "2023-08-30T00:32:33.685107+00:00"
        },
        "datalink": {
          "333d66be-0355-45f2-b2b6-91126cc68832": {
            "applied_filters": [],
            "dataframe_info": {
              "default_index_used": true,
              "orig_num_cols": 3,
              "orig_num_rows": 5,
              "orig_size_bytes": 160,
              "truncated_num_cols": 3,
              "truncated_num_rows": 5,
              "truncated_size_bytes": 160,
              "truncated_string_columns": []
            },
            "display_id": "333d66be-0355-45f2-b2b6-91126cc68832",
            "dx_settings": {
              "ALLOW_NOTEABLE_ATTRS": true,
              "COLUMN_SAMPLING_METHOD": "outer",
              "DB_LOCATION": ":memory:",
              "DEV_MODE": false,
              "DISPLAY_MAX_COLUMNS": 100,
              "DISPLAY_MAX_ROWS": 50000,
              "DISPLAY_MODE": "simple",
              "ENABLE_ASSIGNMENT": true,
              "ENABLE_DATALINK": true,
              "FLATTEN_COLUMN_VALUES": true,
              "FLATTEN_INDEX_VALUES": false,
              "GENERATE_DEX_METADATA": false,
              "HTML_TABLE_SCHEMA": false,
              "LOG_LEVEL": 30,
              "MAX_RENDER_SIZE_BYTES": 104857600,
              "MAX_STRING_LENGTH": 250,
              "NUM_PAST_SAMPLES_TRACKED": 3,
              "RANDOM_STATE": 12648430,
              "RESET_INDEX_VALUES": false,
              "ROW_SAMPLING_METHOD": "random",
              "SAMPLING_FACTOR": 0.1,
              "SAMPLING_METHOD": "random",
              "STRINGIFY_COLUMN_VALUES": true,
              "STRINGIFY_INDEX_VALUES": false
            },
            "sample_history": [],
            "sampling_time": "2023-08-30T00:32:33.729089",
            "user_variable_name": "df1",
            "variable_name": "df1"
          }
        },
        "dx": {
          "fieldMetadata": {},
          "simpleTable": true,
          "updated": 1693355556013,
          "views": []
        },
        "noteable": {
          "cell_type": "code"
        },
        "vscode": {
          "languageId": "python"
        }
      },
      "outputs": [
        {
          "data": {
            "application/vnd.dataresource+json": {
              "data": [
                {
                  "A": 1,
                  "B": 10,
                  "C": "low",
                  "index": 0
                },
                {
                  "A": 2,
                  "B": 20,
                  "C": "low",
                  "index": 1
                },
                {
                  "A": 3,
                  "B": 30,
                  "C": "low",
                  "index": 2
                },
                {
                  "A": 4,
                  "B": 40,
                  "C": "high",
                  "index": 3
                },
                {
                  "A": 5,
                  "B": 50,
                  "C": "high",
                  "index": 4
                }
              ],
              "datalink": {
                "display_id": "333d66be-0355-45f2-b2b6-91126cc68832"
              },
              "schema": {
                "fields": [
                  {
                    "name": "index",
                    "type": "integer"
                  },
                  {
                    "name": "A",
                    "type": "integer"
                  },
                  {
                    "name": "B",
                    "type": "integer"
                  },
                  {
                    "name": "C",
                    "type": "string"
                  }
                ],
                "pandas_version": "1.4.0",
                "primaryKey": [
                  "index"
                ]
              }
            }
          },
          "metadata": {
            "application/vnd.dataresource+json": {
              "datalink": {
                "applied_filters": [],
                "dataframe_info": {
                  "default_index_used": true,
                  "orig_num_cols": 3,
                  "orig_num_rows": 5,
                  "orig_size_bytes": 160,
                  "truncated_num_cols": 3,
                  "truncated_num_rows": 5,
                  "truncated_size_bytes": 160,
                  "truncated_string_columns": []
                },
                "display_id": "333d66be-0355-45f2-b2b6-91126cc68832",
                "dx_settings": {
                  "ALLOW_NOTEABLE_ATTRS": true,
                  "COLUMN_SAMPLING_METHOD": "outer",
                  "DB_LOCATION": ":memory:",
                  "DEV_MODE": false,
                  "DISPLAY_MAX_COLUMNS": 100,
                  "DISPLAY_MAX_ROWS": 50000,
                  "DISPLAY_MODE": "simple",
                  "ENABLE_ASSIGNMENT": true,
                  "ENABLE_DATALINK": true,
                  "FLATTEN_COLUMN_VALUES": true,
                  "FLATTEN_INDEX_VALUES": false,
                  "GENERATE_DEX_METADATA": false,
                  "HTML_TABLE_SCHEMA": false,
                  "LOG_LEVEL": 30,
                  "MAX_RENDER_SIZE_BYTES": 104857600,
                  "MAX_STRING_LENGTH": 250,
                  "NUM_PAST_SAMPLES_TRACKED": 3,
                  "RANDOM_STATE": 12648430,
                  "RESET_INDEX_VALUES": false,
                  "ROW_SAMPLING_METHOD": "random",
                  "SAMPLING_FACTOR": 0.1,
                  "SAMPLING_METHOD": "random",
                  "STRINGIFY_COLUMN_VALUES": true,
                  "STRINGIFY_INDEX_VALUES": false
                },
                "sample_history": [],
                "sampling_time": "2023-08-30T00:32:33.729089",
                "user_variable_name": "df1",
                "variable_name": "df1"
              },
              "display_id": "333d66be-0355-45f2-b2b6-91126cc68832"
            }
          },
          "output_type": "display_data"
        }
      ],
      "source": [
        "import numpy as np\n",
        "\n",
        "# Example 1: Basic usage of np.where with DataFrame\n",
        "df1 = pd.DataFrame({'A': [1, 2, 3, 4, 5], 'B': [10, 20, 30, 40, 50]})\n",
        "df1['C'] = np.where(df1['A'] > 3, 'high', 'low')\n",
        "df1"
      ]
    },
    {
      "cell_type": "code",
      "execution_count": null,
      "id": "0ff432b5-5f48-4161-8448-f910147cdcfb",
      "metadata": {
        "ExecuteTime": {
          "end_time": "2023-08-30T00:32:44.034276+00:00",
          "start_time": "2023-08-30T00:32:43.824803+00:00"
        },
        "datalink": {
          "de6b1c22-c861-4b48-85d8-59c2b67d39da": {
            "applied_filters": [],
            "dataframe_info": {
              "default_index_used": true,
              "orig_num_cols": 2,
              "orig_num_rows": 7,
              "orig_size_bytes": 168,
              "truncated_num_cols": 2,
              "truncated_num_rows": 7,
              "truncated_size_bytes": 168,
              "truncated_string_columns": []
            },
            "display_id": "de6b1c22-c861-4b48-85d8-59c2b67d39da",
            "dx_settings": {
              "ALLOW_NOTEABLE_ATTRS": true,
              "COLUMN_SAMPLING_METHOD": "outer",
              "DB_LOCATION": ":memory:",
              "DEV_MODE": false,
              "DISPLAY_MAX_COLUMNS": 100,
              "DISPLAY_MAX_ROWS": 50000,
              "DISPLAY_MODE": "simple",
              "ENABLE_ASSIGNMENT": true,
              "ENABLE_DATALINK": true,
              "FLATTEN_COLUMN_VALUES": true,
              "FLATTEN_INDEX_VALUES": false,
              "GENERATE_DEX_METADATA": false,
              "HTML_TABLE_SCHEMA": false,
              "LOG_LEVEL": 30,
              "MAX_RENDER_SIZE_BYTES": 104857600,
              "MAX_STRING_LENGTH": 250,
              "NUM_PAST_SAMPLES_TRACKED": 3,
              "RANDOM_STATE": 12648430,
              "RESET_INDEX_VALUES": false,
              "ROW_SAMPLING_METHOD": "random",
              "SAMPLING_FACTOR": 0.1,
              "SAMPLING_METHOD": "random",
              "STRINGIFY_COLUMN_VALUES": true,
              "STRINGIFY_INDEX_VALUES": false
            },
            "sample_history": [],
            "sampling_time": "2023-08-30T00:32:43.870028",
            "user_variable_name": "df2",
            "variable_name": "df2"
          }
        },
        "dx": {
          "fieldMetadata": {},
          "simpleTable": true,
          "updated": 1693355565849,
          "views": []
        },
        "noteable": {
          "cell_type": "code"
        },
        "vscode": {
          "languageId": "python"
        }
      },
      "outputs": [
        {
          "data": {
            "application/vnd.dataresource+json": {
              "data": [
                {
                  "Grade": "Pass",
                  "Score": 85,
                  "index": 0
                },
                {
                  "Grade": "Excellent",
                  "Score": 90,
                  "index": 1
                },
                {
                  "Grade": "Fail",
                  "Score": 78,
                  "index": 2
                },
                {
                  "Grade": "Pass",
                  "Score": 88,
                  "index": 3
                },
                {
                  "Grade": "Fail",
                  "Score": 76,
                  "index": 4
                },
                {
                  "Grade": "Excellent",
                  "Score": 95,
                  "index": 5
                },
                {
                  "Grade": "Pass",
                  "Score": 89,
                  "index": 6
                }
              ],
              "datalink": {
                "display_id": "de6b1c22-c861-4b48-85d8-59c2b67d39da"
              },
              "schema": {
                "fields": [
                  {
                    "name": "index",
                    "type": "integer"
                  },
                  {
                    "name": "Score",
                    "type": "integer"
                  },
                  {
                    "name": "Grade",
                    "type": "string"
                  }
                ],
                "pandas_version": "1.4.0",
                "primaryKey": [
                  "index"
                ]
              }
            }
          },
          "metadata": {
            "application/vnd.dataresource+json": {
              "datalink": {
                "applied_filters": [],
                "dataframe_info": {
                  "default_index_used": true,
                  "orig_num_cols": 2,
                  "orig_num_rows": 7,
                  "orig_size_bytes": 168,
                  "truncated_num_cols": 2,
                  "truncated_num_rows": 7,
                  "truncated_size_bytes": 168,
                  "truncated_string_columns": []
                },
                "display_id": "de6b1c22-c861-4b48-85d8-59c2b67d39da",
                "dx_settings": {
                  "ALLOW_NOTEABLE_ATTRS": true,
                  "COLUMN_SAMPLING_METHOD": "outer",
                  "DB_LOCATION": ":memory:",
                  "DEV_MODE": false,
                  "DISPLAY_MAX_COLUMNS": 100,
                  "DISPLAY_MAX_ROWS": 50000,
                  "DISPLAY_MODE": "simple",
                  "ENABLE_ASSIGNMENT": true,
                  "ENABLE_DATALINK": true,
                  "FLATTEN_COLUMN_VALUES": true,
                  "FLATTEN_INDEX_VALUES": false,
                  "GENERATE_DEX_METADATA": false,
                  "HTML_TABLE_SCHEMA": false,
                  "LOG_LEVEL": 30,
                  "MAX_RENDER_SIZE_BYTES": 104857600,
                  "MAX_STRING_LENGTH": 250,
                  "NUM_PAST_SAMPLES_TRACKED": 3,
                  "RANDOM_STATE": 12648430,
                  "RESET_INDEX_VALUES": false,
                  "ROW_SAMPLING_METHOD": "random",
                  "SAMPLING_FACTOR": 0.1,
                  "SAMPLING_METHOD": "random",
                  "STRINGIFY_COLUMN_VALUES": true,
                  "STRINGIFY_INDEX_VALUES": false
                },
                "sample_history": [],
                "sampling_time": "2023-08-30T00:32:43.870028",
                "user_variable_name": "df2",
                "variable_name": "df2"
              },
              "display_id": "de6b1c22-c861-4b48-85d8-59c2b67d39da"
            }
          },
          "output_type": "display_data"
        }
      ],
      "source": [
        "# Example 2: Using np.where with multiple conditions\n",
        "df2 = pd.DataFrame({'Score': [85, 90, 78, 88, 76, 95, 89]})\n",
        "conditions = [df2['Score'] < 80, (df2['Score'] >= 80) & (df2['Score'] < 90), df2['Score'] >= 90]\n",
        "choices = ['Fail', 'Pass', 'Excellent']\n",
        "df2['Grade'] = np.select(conditions, choices, default='Unknown')\n",
        "df2"
      ]
    },
    {
      "cell_type": "code",
      "execution_count": null,
      "id": "3f56e3cf-d6c4-44ad-935b-59c37421be67",
      "metadata": {
        "ExecuteTime": {
          "end_time": "2023-08-30T00:33:05.328828+00:00",
          "start_time": "2023-08-30T00:33:05.119481+00:00"
        },
        "datalink": {
          "20685e17-31c5-4b54-a4a4-5c3ff6322815": {
            "applied_filters": [],
            "dataframe_info": {
              "default_index_used": true,
              "orig_num_cols": 2,
              "orig_num_rows": 7,
              "orig_size_bytes": 168,
              "truncated_num_cols": 2,
              "truncated_num_rows": 7,
              "truncated_size_bytes": 168,
              "truncated_string_columns": []
            },
            "display_id": "20685e17-31c5-4b54-a4a4-5c3ff6322815",
            "dx_settings": {
              "ALLOW_NOTEABLE_ATTRS": true,
              "COLUMN_SAMPLING_METHOD": "outer",
              "DB_LOCATION": ":memory:",
              "DEV_MODE": false,
              "DISPLAY_MAX_COLUMNS": 100,
              "DISPLAY_MAX_ROWS": 50000,
              "DISPLAY_MODE": "simple",
              "ENABLE_ASSIGNMENT": true,
              "ENABLE_DATALINK": true,
              "FLATTEN_COLUMN_VALUES": true,
              "FLATTEN_INDEX_VALUES": false,
              "GENERATE_DEX_METADATA": false,
              "HTML_TABLE_SCHEMA": false,
              "LOG_LEVEL": 30,
              "MAX_RENDER_SIZE_BYTES": 104857600,
              "MAX_STRING_LENGTH": 250,
              "NUM_PAST_SAMPLES_TRACKED": 3,
              "RANDOM_STATE": 12648430,
              "RESET_INDEX_VALUES": false,
              "ROW_SAMPLING_METHOD": "random",
              "SAMPLING_FACTOR": 0.1,
              "SAMPLING_METHOD": "random",
              "STRINGIFY_COLUMN_VALUES": true,
              "STRINGIFY_INDEX_VALUES": false
            },
            "sample_history": [],
            "sampling_time": "2023-08-30T00:33:05.165180",
            "user_variable_name": "df3",
            "variable_name": "df3"
          }
        },
        "dx": {
          "fieldMetadata": {},
          "simpleTable": true,
          "updated": 1693355587534,
          "views": []
        },
        "noteable": {
          "cell_type": "code"
        },
        "vscode": {
          "languageId": "python"
        }
      },
      "outputs": [
        {
          "data": {
            "application/vnd.dataresource+json": {
              "data": [
                {
                  "Age": 25,
                  "Category": "Young",
                  "index": 0
                },
                {
                  "Age": 30,
                  "Category": "Young",
                  "index": 1
                },
                {
                  "Age": 35,
                  "Category": "Young",
                  "index": 2
                },
                {
                  "Age": 40,
                  "Category": "Old",
                  "index": 3
                },
                {
                  "Age": 45,
                  "Category": "Old",
                  "index": 4
                },
                {
                  "Age": 50,
                  "Category": "Old",
                  "index": 5
                },
                {
                  "Age": 55,
                  "Category": "Old",
                  "index": 6
                }
              ],
              "datalink": {
                "display_id": "20685e17-31c5-4b54-a4a4-5c3ff6322815"
              },
              "schema": {
                "fields": [
                  {
                    "name": "index",
                    "type": "integer"
                  },
                  {
                    "name": "Age",
                    "type": "integer"
                  },
                  {
                    "name": "Category",
                    "type": "string"
                  }
                ],
                "pandas_version": "1.4.0",
                "primaryKey": [
                  "index"
                ]
              }
            }
          },
          "metadata": {
            "application/vnd.dataresource+json": {
              "datalink": {
                "applied_filters": [],
                "dataframe_info": {
                  "default_index_used": true,
                  "orig_num_cols": 2,
                  "orig_num_rows": 7,
                  "orig_size_bytes": 168,
                  "truncated_num_cols": 2,
                  "truncated_num_rows": 7,
                  "truncated_size_bytes": 168,
                  "truncated_string_columns": []
                },
                "display_id": "20685e17-31c5-4b54-a4a4-5c3ff6322815",
                "dx_settings": {
                  "ALLOW_NOTEABLE_ATTRS": true,
                  "COLUMN_SAMPLING_METHOD": "outer",
                  "DB_LOCATION": ":memory:",
                  "DEV_MODE": false,
                  "DISPLAY_MAX_COLUMNS": 100,
                  "DISPLAY_MAX_ROWS": 50000,
                  "DISPLAY_MODE": "simple",
                  "ENABLE_ASSIGNMENT": true,
                  "ENABLE_DATALINK": true,
                  "FLATTEN_COLUMN_VALUES": true,
                  "FLATTEN_INDEX_VALUES": false,
                  "GENERATE_DEX_METADATA": false,
                  "HTML_TABLE_SCHEMA": false,
                  "LOG_LEVEL": 30,
                  "MAX_RENDER_SIZE_BYTES": 104857600,
                  "MAX_STRING_LENGTH": 250,
                  "NUM_PAST_SAMPLES_TRACKED": 3,
                  "RANDOM_STATE": 12648430,
                  "RESET_INDEX_VALUES": false,
                  "ROW_SAMPLING_METHOD": "random",
                  "SAMPLING_FACTOR": 0.1,
                  "SAMPLING_METHOD": "random",
                  "STRINGIFY_COLUMN_VALUES": true,
                  "STRINGIFY_INDEX_VALUES": false
                },
                "sample_history": [],
                "sampling_time": "2023-08-30T00:33:05.165180",
                "user_variable_name": "df3",
                "variable_name": "df3"
              },
              "display_id": "20685e17-31c5-4b54-a4a4-5c3ff6322815"
            }
          },
          "output_type": "display_data"
        }
      ],
      "source": [
        "# Example 3: Modifying an existing column based on a condition\n",
        "df3 = pd.DataFrame({'Age': [25, 30, 35, 40, 45, 50, 55]})\n",
        "df3['Category'] = np.where(df3['Age'] < 40, 'Young', 'Old')\n",
        "df3"
      ]
    },
    {
      "cell_type": "markdown",
      "id": "9f0199b4-ed94-4712-91e1-6229351c5ec1",
      "metadata": {
        "noteable": {
          "cell_type": "markdown"
        }
      },
      "source": [
        "## One-Hot Encoding with `pd.get_dummies()`\n",
        "\n",
        "One of the common challenges in data preprocessing, especially when dealing with categorical data, is how to convert these categories into a format that can be provided to machine learning algorithms. One popular way to convert categorical variables is by using one-hot encoding.\n",
        "\n",
        "One-hot encoding is a process of converting categorical data variables so they can be provided to machine learning algorithms to improve predictions. The `pd.get_dummies()` function is used for this purpose. It converts categorical variable(s) into dummy/indicator variables.\n",
        "\n",
        "The basic idea is to convert each category into a new column, and assign a 1 or 0 (True/False) value to the column. This has the benefit of not weighting a value improperly.\n",
        "\n",
        "Let's explore some examples to understand its usage with Pandas DataFrames."
      ]
    },
    {
      "cell_type": "code",
      "execution_count": null,
      "id": "b23ef805-c5b2-4384-9dcf-99ffa37a933f",
      "metadata": {
        "ExecuteTime": {
          "end_time": "2023-08-30T00:35:11.458796+00:00",
          "start_time": "2023-08-30T00:35:11.247216+00:00"
        },
        "datalink": {
          "e7c8e6d4-a128-42da-b671-dbf3cfe7e74f": {
            "applied_filters": [],
            "dataframe_info": {
              "default_index_used": true,
              "orig_num_cols": 3,
              "orig_num_rows": 5,
              "orig_size_bytes": 55,
              "truncated_num_cols": 3,
              "truncated_num_rows": 5,
              "truncated_size_bytes": 55,
              "truncated_string_columns": []
            },
            "display_id": "e7c8e6d4-a128-42da-b671-dbf3cfe7e74f",
            "dx_settings": {
              "ALLOW_NOTEABLE_ATTRS": true,
              "COLUMN_SAMPLING_METHOD": "outer",
              "DB_LOCATION": ":memory:",
              "DEV_MODE": false,
              "DISPLAY_MAX_COLUMNS": 100,
              "DISPLAY_MAX_ROWS": 50000,
              "DISPLAY_MODE": "simple",
              "ENABLE_ASSIGNMENT": true,
              "ENABLE_DATALINK": true,
              "FLATTEN_COLUMN_VALUES": true,
              "FLATTEN_INDEX_VALUES": false,
              "GENERATE_DEX_METADATA": false,
              "HTML_TABLE_SCHEMA": false,
              "LOG_LEVEL": 30,
              "MAX_RENDER_SIZE_BYTES": 104857600,
              "MAX_STRING_LENGTH": 250,
              "NUM_PAST_SAMPLES_TRACKED": 3,
              "RANDOM_STATE": 12648430,
              "RESET_INDEX_VALUES": false,
              "ROW_SAMPLING_METHOD": "random",
              "SAMPLING_FACTOR": 0.1,
              "SAMPLING_METHOD": "random",
              "STRINGIFY_COLUMN_VALUES": true,
              "STRINGIFY_INDEX_VALUES": false
            },
            "sample_history": [],
            "sampling_time": "2023-08-30T00:35:11.293911",
            "user_variable_name": "dummies1",
            "variable_name": "dummies1"
          }
        },
        "dx": {
          "fieldMetadata": {},
          "simpleTable": true,
          "updated": 1693355713166,
          "views": []
        },
        "noteable": {
          "cell_type": "code"
        },
        "vscode": {
          "languageId": "python"
        }
      },
      "outputs": [
        {
          "data": {
            "application/vnd.dataresource+json": {
              "data": [
                {
                  "Apple": 1,
                  "Banana": 0,
                  "Cherry": 0,
                  "index": 0
                },
                {
                  "Apple": 0,
                  "Banana": 1,
                  "Cherry": 0,
                  "index": 1
                },
                {
                  "Apple": 0,
                  "Banana": 0,
                  "Cherry": 1,
                  "index": 2
                },
                {
                  "Apple": 1,
                  "Banana": 0,
                  "Cherry": 0,
                  "index": 3
                },
                {
                  "Apple": 0,
                  "Banana": 1,
                  "Cherry": 0,
                  "index": 4
                }
              ],
              "datalink": {
                "display_id": "e7c8e6d4-a128-42da-b671-dbf3cfe7e74f"
              },
              "schema": {
                "fields": [
                  {
                    "name": "index",
                    "type": "integer"
                  },
                  {
                    "name": "Apple",
                    "type": "integer"
                  },
                  {
                    "name": "Banana",
                    "type": "integer"
                  },
                  {
                    "name": "Cherry",
                    "type": "integer"
                  }
                ],
                "pandas_version": "1.4.0",
                "primaryKey": [
                  "index"
                ]
              }
            }
          },
          "metadata": {
            "application/vnd.dataresource+json": {
              "datalink": {
                "applied_filters": [],
                "dataframe_info": {
                  "default_index_used": true,
                  "orig_num_cols": 3,
                  "orig_num_rows": 5,
                  "orig_size_bytes": 55,
                  "truncated_num_cols": 3,
                  "truncated_num_rows": 5,
                  "truncated_size_bytes": 55,
                  "truncated_string_columns": []
                },
                "display_id": "e7c8e6d4-a128-42da-b671-dbf3cfe7e74f",
                "dx_settings": {
                  "ALLOW_NOTEABLE_ATTRS": true,
                  "COLUMN_SAMPLING_METHOD": "outer",
                  "DB_LOCATION": ":memory:",
                  "DEV_MODE": false,
                  "DISPLAY_MAX_COLUMNS": 100,
                  "DISPLAY_MAX_ROWS": 50000,
                  "DISPLAY_MODE": "simple",
                  "ENABLE_ASSIGNMENT": true,
                  "ENABLE_DATALINK": true,
                  "FLATTEN_COLUMN_VALUES": true,
                  "FLATTEN_INDEX_VALUES": false,
                  "GENERATE_DEX_METADATA": false,
                  "HTML_TABLE_SCHEMA": false,
                  "LOG_LEVEL": 30,
                  "MAX_RENDER_SIZE_BYTES": 104857600,
                  "MAX_STRING_LENGTH": 250,
                  "NUM_PAST_SAMPLES_TRACKED": 3,
                  "RANDOM_STATE": 12648430,
                  "RESET_INDEX_VALUES": false,
                  "ROW_SAMPLING_METHOD": "random",
                  "SAMPLING_FACTOR": 0.1,
                  "SAMPLING_METHOD": "random",
                  "STRINGIFY_COLUMN_VALUES": true,
                  "STRINGIFY_INDEX_VALUES": false
                },
                "sample_history": [],
                "sampling_time": "2023-08-30T00:35:11.293911",
                "user_variable_name": "dummies1",
                "variable_name": "dummies1"
              },
              "display_id": "e7c8e6d4-a128-42da-b671-dbf3cfe7e74f"
            }
          },
          "output_type": "display_data"
        }
      ],
      "source": [
        "# Example 1: Basic usage of pd.get_dummies()\n",
        "df1 = pd.DataFrame({'Fruit': ['Apple', 'Banana', 'Cherry', 'Apple', 'Banana']})\n",
        "dummies1 = pd.get_dummies(df1, columns=['Fruit'], prefix='', prefix_sep='')\n",
        "dummies1"
      ]
    },
    {
      "cell_type": "code",
      "execution_count": null,
      "id": "0419a4a7-81c3-4f71-9289-a8885455a207",
      "metadata": {
        "ExecuteTime": {
          "end_time": "2023-08-30T00:35:16.360748+00:00",
          "start_time": "2023-08-30T00:35:16.147292+00:00"
        },
        "datalink": {
          "58b835d8-0c20-465b-a198-84469d923abf": {
            "applied_filters": [],
            "dataframe_info": {
              "default_index_used": true,
              "orig_num_cols": 3,
              "orig_num_rows": 5,
              "orig_size_bytes": 55,
              "truncated_num_cols": 3,
              "truncated_num_rows": 5,
              "truncated_size_bytes": 55,
              "truncated_string_columns": []
            },
            "display_id": "58b835d8-0c20-465b-a198-84469d923abf",
            "dx_settings": {
              "ALLOW_NOTEABLE_ATTRS": true,
              "COLUMN_SAMPLING_METHOD": "outer",
              "DB_LOCATION": ":memory:",
              "DEV_MODE": false,
              "DISPLAY_MAX_COLUMNS": 100,
              "DISPLAY_MAX_ROWS": 50000,
              "DISPLAY_MODE": "simple",
              "ENABLE_ASSIGNMENT": true,
              "ENABLE_DATALINK": true,
              "FLATTEN_COLUMN_VALUES": true,
              "FLATTEN_INDEX_VALUES": false,
              "GENERATE_DEX_METADATA": false,
              "HTML_TABLE_SCHEMA": false,
              "LOG_LEVEL": 30,
              "MAX_RENDER_SIZE_BYTES": 104857600,
              "MAX_STRING_LENGTH": 250,
              "NUM_PAST_SAMPLES_TRACKED": 3,
              "RANDOM_STATE": 12648430,
              "RESET_INDEX_VALUES": false,
              "ROW_SAMPLING_METHOD": "random",
              "SAMPLING_FACTOR": 0.1,
              "SAMPLING_METHOD": "random",
              "STRINGIFY_COLUMN_VALUES": true,
              "STRINGIFY_INDEX_VALUES": false
            },
            "sample_history": [],
            "sampling_time": "2023-08-30T00:35:16.196766",
            "user_variable_name": "dummies2",
            "variable_name": "dummies2"
          }
        },
        "dx": {
          "fieldMetadata": {},
          "simpleTable": true,
          "updated": 1693355717832,
          "views": []
        },
        "noteable": {
          "cell_type": "code"
        },
        "vscode": {
          "languageId": "python"
        }
      },
      "outputs": [
        {
          "data": {
            "application/vnd.dataresource+json": {
              "data": [
                {
                  "Color_Blue": 0,
                  "Color_Green": 0,
                  "Color_Red": 1,
                  "index": 0
                },
                {
                  "Color_Blue": 1,
                  "Color_Green": 0,
                  "Color_Red": 0,
                  "index": 1
                },
                {
                  "Color_Blue": 0,
                  "Color_Green": 1,
                  "Color_Red": 0,
                  "index": 2
                },
                {
                  "Color_Blue": 0,
                  "Color_Green": 0,
                  "Color_Red": 1,
                  "index": 3
                },
                {
                  "Color_Blue": 0,
                  "Color_Green": 1,
                  "Color_Red": 0,
                  "index": 4
                }
              ],
              "datalink": {
                "display_id": "58b835d8-0c20-465b-a198-84469d923abf"
              },
              "schema": {
                "fields": [
                  {
                    "name": "index",
                    "type": "integer"
                  },
                  {
                    "name": "Color_Blue",
                    "type": "integer"
                  },
                  {
                    "name": "Color_Green",
                    "type": "integer"
                  },
                  {
                    "name": "Color_Red",
                    "type": "integer"
                  }
                ],
                "pandas_version": "1.4.0",
                "primaryKey": [
                  "index"
                ]
              }
            }
          },
          "metadata": {
            "application/vnd.dataresource+json": {
              "datalink": {
                "applied_filters": [],
                "dataframe_info": {
                  "default_index_used": true,
                  "orig_num_cols": 3,
                  "orig_num_rows": 5,
                  "orig_size_bytes": 55,
                  "truncated_num_cols": 3,
                  "truncated_num_rows": 5,
                  "truncated_size_bytes": 55,
                  "truncated_string_columns": []
                },
                "display_id": "58b835d8-0c20-465b-a198-84469d923abf",
                "dx_settings": {
                  "ALLOW_NOTEABLE_ATTRS": true,
                  "COLUMN_SAMPLING_METHOD": "outer",
                  "DB_LOCATION": ":memory:",
                  "DEV_MODE": false,
                  "DISPLAY_MAX_COLUMNS": 100,
                  "DISPLAY_MAX_ROWS": 50000,
                  "DISPLAY_MODE": "simple",
                  "ENABLE_ASSIGNMENT": true,
                  "ENABLE_DATALINK": true,
                  "FLATTEN_COLUMN_VALUES": true,
                  "FLATTEN_INDEX_VALUES": false,
                  "GENERATE_DEX_METADATA": false,
                  "HTML_TABLE_SCHEMA": false,
                  "LOG_LEVEL": 30,
                  "MAX_RENDER_SIZE_BYTES": 104857600,
                  "MAX_STRING_LENGTH": 250,
                  "NUM_PAST_SAMPLES_TRACKED": 3,
                  "RANDOM_STATE": 12648430,
                  "RESET_INDEX_VALUES": false,
                  "ROW_SAMPLING_METHOD": "random",
                  "SAMPLING_FACTOR": 0.1,
                  "SAMPLING_METHOD": "random",
                  "STRINGIFY_COLUMN_VALUES": true,
                  "STRINGIFY_INDEX_VALUES": false
                },
                "sample_history": [],
                "sampling_time": "2023-08-30T00:35:16.196766",
                "user_variable_name": "dummies2",
                "variable_name": "dummies2"
              },
              "display_id": "58b835d8-0c20-465b-a198-84469d923abf"
            }
          },
          "output_type": "display_data"
        }
      ],
      "source": [
        "# Example 2: Using prefix and prefix_sep parameters\n",
        "df2 = pd.DataFrame({'Color': ['Red', 'Blue', 'Green', 'Red', 'Green']})\n",
        "dummies2 = pd.get_dummies(df2, columns=['Color'], prefix='Color', prefix_sep='_')\n",
        "dummies2"
      ]
    },
    {
      "cell_type": "code",
      "execution_count": null,
      "id": "6b45aafb-0775-4df0-9d64-5a02242d3a07",
      "metadata": {
        "ExecuteTime": {
          "end_time": "2023-08-30T00:35:21.846447+00:00",
          "start_time": "2023-08-30T00:35:21.610294+00:00"
        },
        "datalink": {
          "d31fecea-6b0f-4b50-963d-0b6b59ab26b3": {
            "applied_filters": [],
            "dataframe_info": {
              "default_index_used": true,
              "orig_num_cols": 6,
              "orig_num_rows": 5,
              "orig_size_bytes": 70,
              "truncated_num_cols": 6,
              "truncated_num_rows": 5,
              "truncated_size_bytes": 70,
              "truncated_string_columns": []
            },
            "display_id": "d31fecea-6b0f-4b50-963d-0b6b59ab26b3",
            "dx_settings": {
              "ALLOW_NOTEABLE_ATTRS": true,
              "COLUMN_SAMPLING_METHOD": "outer",
              "DB_LOCATION": ":memory:",
              "DEV_MODE": false,
              "DISPLAY_MAX_COLUMNS": 100,
              "DISPLAY_MAX_ROWS": 50000,
              "DISPLAY_MODE": "simple",
              "ENABLE_ASSIGNMENT": true,
              "ENABLE_DATALINK": true,
              "FLATTEN_COLUMN_VALUES": true,
              "FLATTEN_INDEX_VALUES": false,
              "GENERATE_DEX_METADATA": false,
              "HTML_TABLE_SCHEMA": false,
              "LOG_LEVEL": 30,
              "MAX_RENDER_SIZE_BYTES": 104857600,
              "MAX_STRING_LENGTH": 250,
              "NUM_PAST_SAMPLES_TRACKED": 3,
              "RANDOM_STATE": 12648430,
              "RESET_INDEX_VALUES": false,
              "ROW_SAMPLING_METHOD": "random",
              "SAMPLING_FACTOR": 0.1,
              "SAMPLING_METHOD": "random",
              "STRINGIFY_COLUMN_VALUES": true,
              "STRINGIFY_INDEX_VALUES": false
            },
            "sample_history": [],
            "sampling_time": "2023-08-30T00:35:21.680227",
            "user_variable_name": "dummies3",
            "variable_name": "dummies3"
          }
        },
        "dx": {
          "fieldMetadata": {},
          "simpleTable": true,
          "updated": 1693355723799,
          "views": []
        },
        "noteable": {
          "cell_type": "code"
        },
        "vscode": {
          "languageId": "python"
        }
      },
      "outputs": [
        {
          "data": {
            "application/vnd.dataresource+json": {
              "data": [
                {
                  "Animal_Bird": 0,
                  "Animal_Cat": 0,
                  "Animal_Dog": 1,
                  "Size_Large": 0,
                  "Size_Medium": 0,
                  "Size_Small": 1,
                  "index": 0
                },
                {
                  "Animal_Bird": 0,
                  "Animal_Cat": 1,
                  "Animal_Dog": 0,
                  "Size_Large": 0,
                  "Size_Medium": 1,
                  "Size_Small": 0,
                  "index": 1
                },
                {
                  "Animal_Bird": 1,
                  "Animal_Cat": 0,
                  "Animal_Dog": 0,
                  "Size_Large": 0,
                  "Size_Medium": 0,
                  "Size_Small": 1,
                  "index": 2
                },
                {
                  "Animal_Bird": 0,
                  "Animal_Cat": 0,
                  "Animal_Dog": 1,
                  "Size_Large": 1,
                  "Size_Medium": 0,
                  "Size_Small": 0,
                  "index": 3
                },
                {
                  "Animal_Bird": 1,
                  "Animal_Cat": 0,
                  "Animal_Dog": 0,
                  "Size_Large": 0,
                  "Size_Medium": 1,
                  "Size_Small": 0,
                  "index": 4
                }
              ],
              "datalink": {
                "display_id": "d31fecea-6b0f-4b50-963d-0b6b59ab26b3"
              },
              "schema": {
                "fields": [
                  {
                    "name": "index",
                    "type": "integer"
                  },
                  {
                    "name": "Animal_Bird",
                    "type": "integer"
                  },
                  {
                    "name": "Animal_Cat",
                    "type": "integer"
                  },
                  {
                    "name": "Animal_Dog",
                    "type": "integer"
                  },
                  {
                    "name": "Size_Large",
                    "type": "integer"
                  },
                  {
                    "name": "Size_Medium",
                    "type": "integer"
                  },
                  {
                    "name": "Size_Small",
                    "type": "integer"
                  }
                ],
                "pandas_version": "1.4.0",
                "primaryKey": [
                  "index"
                ]
              }
            }
          },
          "metadata": {
            "application/vnd.dataresource+json": {
              "datalink": {
                "applied_filters": [],
                "dataframe_info": {
                  "default_index_used": true,
                  "orig_num_cols": 6,
                  "orig_num_rows": 5,
                  "orig_size_bytes": 70,
                  "truncated_num_cols": 6,
                  "truncated_num_rows": 5,
                  "truncated_size_bytes": 70,
                  "truncated_string_columns": []
                },
                "display_id": "d31fecea-6b0f-4b50-963d-0b6b59ab26b3",
                "dx_settings": {
                  "ALLOW_NOTEABLE_ATTRS": true,
                  "COLUMN_SAMPLING_METHOD": "outer",
                  "DB_LOCATION": ":memory:",
                  "DEV_MODE": false,
                  "DISPLAY_MAX_COLUMNS": 100,
                  "DISPLAY_MAX_ROWS": 50000,
                  "DISPLAY_MODE": "simple",
                  "ENABLE_ASSIGNMENT": true,
                  "ENABLE_DATALINK": true,
                  "FLATTEN_COLUMN_VALUES": true,
                  "FLATTEN_INDEX_VALUES": false,
                  "GENERATE_DEX_METADATA": false,
                  "HTML_TABLE_SCHEMA": false,
                  "LOG_LEVEL": 30,
                  "MAX_RENDER_SIZE_BYTES": 104857600,
                  "MAX_STRING_LENGTH": 250,
                  "NUM_PAST_SAMPLES_TRACKED": 3,
                  "RANDOM_STATE": 12648430,
                  "RESET_INDEX_VALUES": false,
                  "ROW_SAMPLING_METHOD": "random",
                  "SAMPLING_FACTOR": 0.1,
                  "SAMPLING_METHOD": "random",
                  "STRINGIFY_COLUMN_VALUES": true,
                  "STRINGIFY_INDEX_VALUES": false
                },
                "sample_history": [],
                "sampling_time": "2023-08-30T00:35:21.680227",
                "user_variable_name": "dummies3",
                "variable_name": "dummies3"
              },
              "display_id": "d31fecea-6b0f-4b50-963d-0b6b59ab26b3"
            }
          },
          "output_type": "display_data"
        }
      ],
      "source": [
        "# Example 3: Handling multiple categorical columns\n",
        "df3 = pd.DataFrame({'Animal': ['Dog', 'Cat', 'Bird', 'Dog', 'Bird'],\n",
        "                   'Size': ['Small', 'Medium', 'Small', 'Large', 'Medium']})\n",
        "dummies3 = pd.get_dummies(df3, columns=['Animal', 'Size'], prefix=['Animal', 'Size'])\n",
        "dummies3"
      ]
    },
    {
      "cell_type": "markdown",
      "id": "72e911e5-1fbb-4e2c-b817-3a1cfb92d008",
      "metadata": {
        "noteable": {
          "cell_type": "markdown"
        }
      },
      "source": [
        "## Dropping a Dummy Variable (Avoiding the Dummy Variable Trap)\n",
        "\n",
        "When we use one-hot encoding, we can sometimes fall into the 'dummy variable trap', which can mess up the results of some machine learning models. The dummy variable trap is a scenario where variables are highly correlated, meaning one variable can be predicted from the others.\n",
        "\n",
        "For instance, if we have three categories (`A`, `B`, and `C`) and we know the values of `A` and `B` dummy variables, we can easily infer the value of the `C` dummy variable. This is because if `A=0` and `B=0`, then `C` must be 1. This multicollinearity can lead to issues in certain machine learning models.\n",
        "\n",
        "To avoid the dummy variable trap, one common practice is to drop one of the dummy variables if we have `n` categories. By doing this, we will have `n-1` dummy variables. This is often referred to as 'dropping the first level'.\n",
        "\n",
        "Let's see an example to understand this better."
      ]
    },
    {
      "cell_type": "code",
      "execution_count": null,
      "id": "018f1e7b-5b85-4dd8-829c-b3e68ca6033c",
      "metadata": {
        "noteable": {
          "cell_type": "code"
        },
        "vscode": {
          "languageId": "python"
        }
      },
      "outputs": [],
      "source": [
        "# Creating a sample DataFrame with three categories\n",
        "df = pd.DataFrame({'Category': ['A', 'B', 'C', 'A', 'B', 'C', 'A']})\n",
        "\n",
        "# Using pd.get_dummies() and dropping the first level\n",
        "dummies = pd.get_dummies(df, columns=['Category'], drop_first=True)\n",
        "dummies"
      ]
    },
    {
      "cell_type": "markdown",
      "id": "83b00b95-31d5-4705-93a4-03f84a18d93c",
      "metadata": {
        "noteable": {
          "cell_type": "markdown"
        }
      },
      "source": [
        "## String Manipulation\n",
        "\n",
        "In data analysis, often we encounter columns that contain string (text) data. Pandas provides a set of string functions which make it easy to operate on string data. These functions are available in the `str` attribute of the Series/DataFrame.\n",
        "\n",
        "Let's explore some of the commonly used string functions:\n",
        "\n",
        "1. **.lower()**: Converts all characters in string to lowercase.\n",
        "2. **.str**: Allows us to apply string functions on a Series of a DataFrame.\n",
        "3. **.strip()**: Removes leading and trailing whitespaces (including spaces)."
      ]
    },
    {
      "cell_type": "code",
      "execution_count": null,
      "id": "42aa5364-56ab-4208-8ee1-556590366d2c",
      "metadata": {
        "noteable": {
          "cell_type": "code"
        },
        "vscode": {
          "languageId": "python"
        }
      },
      "outputs": [],
      "source": [
        "# Example for .lower()\n",
        "df1 = pd.DataFrame({'Names': ['ALICE', 'BOB', 'CHARLIE', 'DAVID']})\n",
        "df1['Names_lower'] = df1['Names'].str.lower()\n",
        "df1"
      ]
    },
    {
      "cell_type": "code",
      "execution_count": null,
      "id": "af832628-9693-41db-a604-f6279ffc811c",
      "metadata": {
        "noteable": {
          "cell_type": "code"
        },
        "vscode": {
          "languageId": "python"
        }
      },
      "outputs": [],
      "source": [
        "# Example for .strip()\n",
        "df2 = pd.DataFrame({'Data': ['  apple  ', ' banana ', ' cherry  ', ' date']})\n",
        "df2['Stripped_Data'] = df2['Data'].str.strip()\n",
        "df2"
      ]
    },
    {
      "cell_type": "markdown",
      "id": "15350dd5-a601-4251-9c20-07404fcf8f0b",
      "metadata": {
        "noteable": {
          "cell_type": "markdown"
        }
      },
      "source": [
        "## Date Manipulation with Pandas\n",
        "\n",
        "Handling dates and time is a common task in data analysis. Pandas provides a rich set of functions to work with date and time, which makes it easy to perform operations like parsing dates, extracting date components, and even doing arithmetic with dates.\n",
        "\n",
        "One of the most commonly used functions for date manipulation in Pandas is `pd.to_datetime()`. This function is used to convert arguments to datetime format."
      ]
    },
    {
      "cell_type": "code",
      "execution_count": null,
      "id": "708cd4f5-7f67-4336-964e-bc22a1fb63b5",
      "metadata": {
        "noteable": {
          "cell_type": "code"
        },
        "vscode": {
          "languageId": "python"
        }
      },
      "outputs": [],
      "source": [
        "# Example: Converting a Series of strings to datetime format\n",
        "df_dates = pd.DataFrame({'Date_String': ['2023-01-01', '2023-02-15', '2023-03-20', '2023-04-25']})\n",
        "df_dates['Date'] = pd.to_datetime(df_dates['Date_String'])\n",
        "df_dates"
      ]
    },
    {
      "cell_type": "markdown",
      "id": "d817ebcc-f942-404f-ae57-c73aecdfed68",
      "metadata": {
        "noteable": {
          "cell_type": "markdown"
        }
      },
      "source": [
        "The `pd.to_datetime()` function has several parameters that allow for customization. Some of the commonly used parameters are:\n",
        "\n",
        "- **format**: This is used to specify the date format. For example, '%Y-%m-%d' represents the format 'YYYY-MM-DD'.\n",
        "- **errors**: This parameter specifies what should be returned if parsing fails. The default is 'raise', which means an exception is raised. Other options include 'coerce' (returns NaT for invalid parsing) and 'ignore' (returns the original input).\n",
        "\n",
        "Once we have our dates in datetime format, we can easily extract various components from it. Let's see how to extract the year, month, day of the week, and the name of the month from our datetime column."
      ]
    },
    {
      "cell_type": "code",
      "execution_count": null,
      "id": "ae889f7e-c5fa-44ea-8e04-68e24810e85d",
      "metadata": {
        "noteable": {
          "cell_type": "code"
        },
        "vscode": {
          "languageId": "python"
        }
      },
      "outputs": [],
      "source": [
        "# Extracting various components from the datetime column\n",
        "df_dates['Year'] = df_dates['Date'].dt.year\n",
        "df_dates['Month'] = df_dates['Date'].dt.month\n",
        "df_dates['Day_of_Week'] = df_dates['Date'].dt.dayofweek\n",
        "df_dates['Month_Name'] = df_dates['Date'].dt.strftime('%B')\n",
        "df_dates"
      ]
    },
    {
      "cell_type": "markdown",
      "id": "9b1c975c-dfd0-4447-afaa-867217272231",
      "metadata": {
        "noteable": {
          "cell_type": "markdown"
        }
      },
      "source": [
        "The `format` parameter in `pd.to_datetime()` allows us to specify the expected date format of our input. This can be particularly useful when dealing with dates that are in non-standard formats. By providing the correct format, we can ensure that our dates are parsed correctly.\n",
        "\n",
        "Let's look at some examples with different date formats:"
      ]
    },
    {
      "cell_type": "code",
      "execution_count": null,
      "id": "583e5c19-d75e-4873-9246-251221cecbc4",
      "metadata": {
        "noteable": {
          "cell_type": "code"
        },
        "vscode": {
          "languageId": "python"
        }
      },
      "outputs": [],
      "source": [
        "# Example with different date formats\n",
        "df_formats = pd.DataFrame({'Date_String': ['01-23-2023', '15/02/2023', '20.03.2023']})\n",
        "\n",
        "# Parsing dates with specified formats\n",
        "df_formats['Date_1'] = pd.to_datetime(df_formats['Date_String'], format='%m-%d-%Y')\n",
        "df_formats['Date_2'] = pd.to_datetime(df_formats['Date_String'], format='%d/%m/%Y', errors='coerce')\n",
        "df_formats['Date_3'] = pd.to_datetime(df_formats['Date_String'], format='%d.%m.%Y', errors='coerce')\n",
        "df_formats"
      ]
    },
    {
      "cell_type": "markdown",
      "id": "2c313aab-9954-4a75-8530-6952b74ff21d",
      "metadata": {
        "noteable": {
          "cell_type": "markdown"
        }
      },
      "source": [
        "## Exercises\n",
        "\n",
        "Now that you've learned various data manipulation techniques with Pandas, it's time to put your knowledge to the test! Below are exercises that cover the topics we've discussed. Each exercise provides a sample dataframe for you to work with.\n",
        "\n",
        "### Discretization of Data"
      ]
    },
    {
      "cell_type": "markdown",
      "id": "2fa0e129-1984-4d90-b968-2a4128b9ba1c",
      "metadata": {
        "noteable": {
          "cell_type": "markdown"
        }
      },
      "source": [
        "1. **Age Groups**:\n",
        "\n",
        "Given the following dataset of customers with their ages, create age groups as 'Young (0-18)', 'Adult (19-50)', and 'Senior (51 and above)'. How many customers fall into each category?\n",
        "\n",
        "```python\n",
        "df_ages = pd.DataFrame({'Name': ['Alice', 'Bob', 'Charlie', 'David', 'Eva'],\n",
        "                       'Age': [15, 25, 55, 60, 30]})\n",
        "```\n",
        "\n",
        "2. **Salary Brackets**:\n",
        "\n",
        "Given the following dataset of employee salaries, categorize them into 'Low', 'Medium', 'High' salary brackets. Define the salary ranges for each bracket yourself.\n",
        "\n",
        "```python\n",
        "df_salaries = pd.DataFrame({'Employee': ['John', 'Doe', 'Smith', 'Jane', 'Emily'],\n",
        "                           'Salary': [3000, 5000, 7000, 10000, 4000]})\n",
        "```\n",
        "\n",
        "### `np.where` Usage"
      ]
    },
    {
      "cell_type": "markdown",
      "id": "27712b62-aba7-4309-bef2-4d486b337ccf",
      "metadata": {
        "noteable": {
          "cell_type": "markdown"
        }
      },
      "source": [
        "3. **Temperature Analysis**:\n",
        "\n",
        "Given the following dataset of daily temperatures, identify days with temperatures below freezing (0°C) and label them as 'Cold'. Days with temperatures between 0°C and 20°C are 'Moderate', and days above 20°C are 'Hot'.\n",
        "\n",
        "```python\n",
        "df_temperatures = pd.DataFrame({'Day': ['Mon', 'Tue', 'Wed', 'Thu', 'Fri'],\n",
        "                               'Temperature': [-5, 10, 15, 25, 30]})\n",
        "```\n",
        "\n",
        "4. **Product Sales**:\n",
        "\n",
        "Given the following dataset of product sales, identify products with sales less than 100 as 'Low Selling', between 100 and 500 as 'Moderate Selling', and above 500 as 'High Selling'.\n",
        "\n",
        "```python\n",
        "df_sales = pd.DataFrame({'Product': ['A', 'B', 'C', 'D', 'E'],\n",
        "                        'Sales': [50, 150, 300, 600, 800]})\n",
        "```\n",
        "\n",
        "### One-Hot Encoding with `pd.get_dummies`"
      ]
    },
    {
      "cell_type": "markdown",
      "id": "c44e677e-53f8-43b4-abc5-b072b40c4fe1",
      "metadata": {
        "noteable": {
          "cell_type": "markdown"
        }
      },
      "source": [
        "5. **Car Brands**:\n",
        "\n",
        "Given the following dataset of car sales, perform one-hot encoding on the 'Brand' column.\n",
        "\n",
        "```python\n",
        "df_cars = pd.DataFrame({'Brand': ['Toyota', 'Honda', 'Ford', 'Toyota', 'Ford'],\n",
        "                       'Sales': [200, 150, 300, 400, 250]})\n",
        "```\n",
        "\n",
        "6. **Student Majors**:\n",
        "\n",
        "Given the following dataset of students and their majors, perform one-hot encoding on the 'Major' column, but only keep columns for 'Engineering' and 'Business'.\n",
        "\n",
        "```python\n",
        "df_students = pd.DataFrame({'Name': ['Alice', 'Bob', 'Charlie', 'David', 'Eva'],\n",
        "                           'Major': ['Engineering', 'Business', 'Arts', 'Business', 'Science']})\n",
        "```\n",
        "\n",
        "### String Manipulation"
      ]
    },
    {
      "cell_type": "markdown",
      "id": "fd6a2a75-7028-4606-a3ac-65325b4e0a9b",
      "metadata": {
        "noteable": {
          "cell_type": "markdown"
        }
      },
      "source": [
        "7. **Name Formatting**:\n",
        "\n",
        "Given the following dataset of names, convert all names to lowercase.\n",
        "\n",
        "```python\n",
        "df_names = pd.DataFrame({'Name': ['ALICE', 'bOB', 'ChArLiE', 'David', 'EVA']})\n",
        "```\n",
        "\n",
        "8. **Whitespace Removal**:\n",
        "\n",
        "Given the following dataset of product descriptions, remove any leading or trailing whitespace from the 'Description' column.\n",
        "\n",
        "```python\n",
        "df_products = pd.DataFrame({'Product': ['A', 'B', 'C', 'D', 'E'],\n",
        "                           'Description': ['  toy ', 'book  ', '  pen', ' notebook', ' pencil ']})\n",
        "```\n",
        "\n",
        "### Date Manipulation"
      ]
    },
    {
      "cell_type": "markdown",
      "id": "b1fda58c-314a-4074-b701-6a53216f01db",
      "metadata": {
        "noteable": {
          "cell_type": "markdown"
        }
      },
      "source": [
        "9. **Date Conversion**:\n",
        "\n",
        "Given the following dataset of events with dates in the format 'dd-mm-yyyy', convert the 'Date' column to a datetime format.\n",
        "\n",
        "```python\n",
        "df_events = pd.DataFrame({'Event': ['Concert', 'Festival', 'Exhibition', 'Play', 'Conference'],\n",
        "                         'Date': ['01-05-2022', '15-06-2022', '20-07-2022', '10-08-2022', '25-09-2022']})\n",
        "```\n",
        "\n",
        "10. **Extracting Date Components**:\n",
        "\n",
        "Given the following dataset of birthdays, extract the month and day of the week for each date.\n",
        "\n",
        "```python\n",
        "df_birthdays = pd.DataFrame({'Name': ['Alice', 'Bob', 'Charlie', 'David', 'Eva'],\n",
        "                            'Birthday': ['1995-05-01', '1987-06-15', '1992-07-20', '1985-08-10', '1990-09-25']})\n",
        "```\n",
        "\n",
        "Remember to practice regularly and apply these techniques to real-world datasets to reinforce your understanding. Happy coding!"
      ]
    }
  ],
  "metadata": {
    "kernel_info": {
      "name": "python3"
    },
    "kernelspec": {
      "display_name": "Python 3.9",
      "language": "python",
      "name": "python3"
    },
    "noteable": {
      "last_delta_id": "7ed758e2-d24b-4a55-8b95-679fae496ef6"
    },
    "noteable-chatgpt": {
      "create_notebook": {
        "openai_conversation_id": "6c62c02a-654a-54d9-bea3-30063020a7a1",
        "openai_ephemeral_user_id": "e37dc127-7c56-57a3-9d4f-2ba7df4cd5bb",
        "openai_subdivision1_iso_code": "CL-RM"
      }
    },
    "nteract": {
      "version": "noteable@2.9.0"
    },
    "selected_hardware_size": "small"
  },
  "nbformat": 4,
  "nbformat_minor": 5
}
