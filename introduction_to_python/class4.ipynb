{
  "cells": [
    {
      "attachments": {},
      "cell_type": "markdown",
      "id": "76a1cedd",
      "metadata": {},
      "source": [
        "# Class 4: Control Structures, functions and list comprehension\n",
        "\n",
        "<p align=\"center\">\n",
        "<img src=\"images/cat_class4.png\" width=\"50%\" height=\"50%\">\n",
        "</p>"
      ]
    },
    {
      "cell_type": "markdown",
      "id": "13551edf-5c6e-403c-91c9-042a66d926a4",
      "metadata": {
        "noteable": {
          "cell_type": "markdown"
        }
      },
      "source": [
        "## Control Structures in Python\n",
        "\n",
        "Control structures in Python provide a way to direct the flow of the program's execution. They allow the program to make decisions, repeat certain actions, or execute specific blocks of code based on conditions. The primary control structures in Python are:\n",
        "\n",
        "1. **Conditional Statements (`if`, `elif`, `else`)**: These statements allow the program to execute specific blocks of code based on whether a condition is true or false.\n",
        "   ```python\n",
        "   if condition:\n",
        "       # code to execute if condition is true\n",
        "   elif another_condition:\n",
        "       # code to execute if another_condition is true\n",
        "   else:\n",
        "       # code to execute if none of the above conditions are true\n",
        "   ```\n",
        "\n",
        "2. **Loops (`for`, `while`)**: Loops allow the program to repeat a block of code multiple times.\n",
        "   - `for` loop: Iterates over a sequence (like a list or range) and executes the block of code for each item in the sequence.\n",
        "     ```python\n",
        "     for item in sequence:\n",
        "         # code to execute for each item\n",
        "     ```\n",
        "   - `while` loop: Repeats a block of code as long as a condition is true.\n",
        "     ```python\n",
        "     while condition:\n",
        "         # code to execute while condition is true\n",
        "     ```\n",
        "\n",
        "3. **Control Keywords (`break`, `continue`, `pass`)**:\n",
        "   - `break`: Exits the current loop prematurely.\n",
        "   - `continue`: Skips the rest of the current iteration and moves to the next iteration of the loop.\n",
        "   - `pass`: A placeholder that does nothing; it's used when a statement is syntactically required but no action is needed.\n",
        "   ```python\n",
        "   for item in sequence:\n",
        "       if condition:\n",
        "           break\n",
        "       elif another_condition:\n",
        "           continue\n",
        "       else:\n",
        "           pass\n",
        "   ```\n",
        "\n",
        "Understanding and effectively using these control structures is fundamental to writing efficient and organized Python code."
      ]
    },
    {
      "cell_type": "code",
      "execution_count": null,
      "id": "e9597419-d2c0-456f-b78a-90bb93b09cb0",
      "metadata": {
        "noteable": {
          "cell_type": "code"
        }
      },
      "outputs": [],
      "source": [
        "# Example of Conditional Statements\n",
        "x = 10\n",
        "if x > 5:\n",
        "    print('x is greater than 5')\n",
        "elif x == 5:\n",
        "    print('x is equal to 5')\n",
        "else:\n",
        "    print('x is less than 5')"
      ]
    },
    {
      "cell_type": "code",
      "execution_count": null,
      "id": "12e950b6-1081-4c15-bd17-cc3833876d47",
      "metadata": {
        "noteable": {
          "cell_type": "code"
        }
      },
      "outputs": [],
      "source": [
        "# Example of Loops\n",
        "\n",
        "# for loop\n",
        "print('Example of for loop:')\n",
        "for i in range(3):\n",
        "    print(f'Iteration {i}')\n",
        "\n",
        "# while loop\n",
        "print('\\nExample of while loop:')\n",
        "count = 0\n",
        "while count < 3:\n",
        "    print(f'Count is {count}')\n",
        "    count += 1"
      ]
    },
    {
      "cell_type": "code",
      "execution_count": null,
      "id": "1867954d-76cd-4eae-845c-7fe9752f4074",
      "metadata": {
        "noteable": {
          "cell_type": "code"
        }
      },
      "outputs": [],
      "source": [
        "# Example of Control Keywords\n",
        "\n",
        "# break\n",
        "print('Example of break:')\n",
        "for i in range(5):\n",
        "    if i == 3:\n",
        "        break\n",
        "    print(i)\n",
        "\n",
        "# continue\n",
        "print('\\nExample of continue:')\n",
        "for i in range(5):\n",
        "    if i == 3:\n",
        "        continue\n",
        "    print(i)\n",
        "\n",
        "# pass\n",
        "print('\\nExample of pass:')\n",
        "for i in range(5):\n",
        "    if i == 3:\n",
        "        pass\n",
        "    print(i)"
      ]
    },
    {
      "cell_type": "code",
      "execution_count": null,
      "id": "c77af681-d797-4a11-aa24-eb971cc3502c",
      "metadata": {
        "noteable": {
          "cell_type": "code"
        }
      },
      "outputs": [],
      "source": [
        "# Complex example of 'if' statement\n",
        "\n",
        "# Determine if a year is a leap year\n",
        "year = 2000\n",
        "if (year % 4 == 0 and year % 100 != 0) or (year % 400 == 0):\n",
        "    print(f'{year} is a leap year.')\n",
        "else:\n",
        "    print(f'{year} is not a leap year.')"
      ]
    },
    {
      "cell_type": "code",
      "execution_count": null,
      "id": "317cf249-630f-4df6-a12a-ccc9e4e1f522",
      "metadata": {
        "noteable": {
          "cell_type": "code"
        }
      },
      "outputs": [],
      "source": [
        "# Complex example of 'for' loop\n",
        "\n",
        "# Calculate the factorial of a number using a for loop\n",
        "num = 5\n",
        "factorial = 1\n",
        "for i in range(1, num + 1):\n",
        "    factorial *= i\n",
        "print(f'Factorial of {num} is {factorial}')"
      ]
    },
    {
      "cell_type": "code",
      "execution_count": null,
      "id": "a9921df9-00bf-45de-ac72-adb49651e435",
      "metadata": {
        "noteable": {
          "cell_type": "code"
        }
      },
      "outputs": [],
      "source": [
        "# Complex example of 'while' loop\n",
        "\n",
        "# Generate the Fibonacci sequence up to a certain number using a while loop\n",
        "n = 10\n",
        "a, b = 0, 1\n",
        "print('Fibonacci sequence up to', n, ':')\n",
        "while a < n:\n",
        "    print(a, end=', ')\n",
        "    a, b = b, a+b"
      ]
    },
    {
      "cell_type": "code",
      "execution_count": null,
      "id": "63de9095-8f6b-468b-896d-79a782609ddd",
      "metadata": {
        "noteable": {
          "cell_type": "code"
        }
      },
      "outputs": [],
      "source": [
        "# Complex example of 'break'\n",
        "\n",
        "# Find the first number in a list that is divisible by 7 and 5\n",
        "numbers = list(range(1, 100))\n",
        "for num in numbers:\n",
        "    if num % 7 == 0 and num % 5 == 0:\n",
        "        print(f'The first number divisible by 7 and 5 is: {num}')\n",
        "        break"
      ]
    },
    {
      "cell_type": "code",
      "execution_count": null,
      "id": "5c61b3d1-b56c-468e-bc4a-d31c043e0060",
      "metadata": {
        "noteable": {
          "cell_type": "code"
        }
      },
      "outputs": [],
      "source": [
        "# Complex example of 'continue'\n",
        "\n",
        "# Print numbers from a list, but skip numbers that are divisible by 3\n",
        "numbers = list(range(1, 15))\n",
        "for num in numbers:\n",
        "    if num % 3 == 0:\n",
        "        continue\n",
        "    print(num, end=', ')"
      ]
    },
    {
      "cell_type": "code",
      "execution_count": null,
      "id": "2cb24f8b-64c0-48f4-88aa-5bb92ad51458",
      "metadata": {
        "noteable": {
          "cell_type": "code"
        }
      },
      "outputs": [],
      "source": [
        "# Complex example of 'pass'\n",
        "\n",
        "# Placeholder for future implementation of a function\n",
        "def complex_function():\n",
        "    # TODO: Implement this function in the future\n",
        "    pass\n",
        "\n",
        "print('Function defined, but not yet implemented.')"
      ]
    },
    {
      "cell_type": "markdown",
      "id": "fedd692c-423e-4dbc-8bb6-7f2103667e50",
      "metadata": {
        "noteable": {
          "cell_type": "markdown"
        }
      },
      "source": [
        "## Functions in Python\n",
        "\n",
        "In Python, a function is a block of organized, reusable code that is used to perform a single, related action. Functions provide better modularity for your application and a high degree of code reusing. They are defined using the `def` keyword, followed by the function name and parentheses `()`.\n",
        "\n",
        "Functions are essential in programming as they help you break down complex tasks into smaller, more manageable pieces. This not only makes the code more readable but also allows for code reuse.\n",
        "\n",
        "Let's dive into some examples with different data types."
      ]
    },
    {
      "cell_type": "markdown",
      "id": "14c2a5e3-ff09-4db9-848b-1b899077dad6",
      "metadata": {
        "noteable": {
          "cell_type": "markdown"
        }
      },
      "source": [
        "### Function with Lists"
      ]
    },
    {
      "cell_type": "code",
      "execution_count": null,
      "id": "ffdc0c52-5738-47b4-a720-5c47abdcc6e9",
      "metadata": {
        "noteable": {
          "cell_type": "code"
        }
      },
      "outputs": [],
      "source": [
        "def list_operations(input_list):\n",
        "    \"\"\"Perform some basic operations on a list.\"\"\"\n",
        "    # Append an element\n",
        "    input_list.append('new_element')\n",
        "    # Remove the first element\n",
        "    input_list.pop(0)\n",
        "    # Reverse the list\n",
        "    input_list.reverse()\n",
        "    return input_list\n",
        "\n",
        "# Test the function\n",
        "sample_list = [1, 2, 3, 4, 5]\n",
        "list_operations(sample_list)"
      ]
    },
    {
      "cell_type": "markdown",
      "id": "1ad31306-9d52-46b2-9d0e-5f3009bf085b",
      "metadata": {
        "noteable": {
          "cell_type": "markdown"
        }
      },
      "source": [
        "### Function with Dictionaries"
      ]
    },
    {
      "cell_type": "code",
      "execution_count": null,
      "id": "02fca1e5-5a15-49dd-afc7-14390fb1ae05",
      "metadata": {
        "noteable": {
          "cell_type": "code"
        }
      },
      "outputs": [],
      "source": [
        "def dict_operations(input_dict):\n",
        "    \"\"\"Perform some basic operations on a dictionary.\"\"\"\n",
        "    # Add a new key-value pair\n",
        "    input_dict['new_key'] = 'new_value'\n",
        "    # Remove a key-value pair\n",
        "    del input_dict['key1']\n",
        "    # Get value of a key with default\n",
        "    value = input_dict.get('non_existent_key', 'default_value')\n",
        "    return input_dict, value\n",
        "\n",
        "# Test the function\n",
        "sample_dict = {'key1': 'value1', 'key2': 'value2'}\n",
        "dict_operations(sample_dict)"
      ]
    },
    {
      "cell_type": "markdown",
      "id": "97e53040-c9a1-4f7e-811e-d284715dc92b",
      "metadata": {
        "noteable": {
          "cell_type": "markdown"
        }
      },
      "source": [
        "### Function with numpy Arrays"
      ]
    },
    {
      "cell_type": "code",
      "execution_count": null,
      "id": "1da62599-ff80-46ef-8e0f-594b1237733a",
      "metadata": {
        "noteable": {
          "cell_type": "code"
        }
      },
      "outputs": [],
      "source": [
        "import numpy as np\n",
        "\n",
        "def numpy_operations(input_array):\n",
        "    \"\"\"Perform some basic operations on a numpy array.\"\"\"\n",
        "    # Square each element\n",
        "    squared_array = np.square(input_array)\n",
        "    # Calculate the mean\n",
        "    mean_value = np.mean(input_array)\n",
        "    # Reshape the array\n",
        "    reshaped_array = input_array.reshape(2, 2)\n",
        "    return squared_array, mean_value, reshaped_array\n",
        "\n",
        "# Test the function\n",
        "sample_array = np.array([1, 2, 3, 4])\n",
        "numpy_operations(sample_array)"
      ]
    },
    {
      "cell_type": "markdown",
      "id": "5326ceea-00e5-4b27-85e1-51ec78daf4fd",
      "metadata": {
        "noteable": {
          "cell_type": "markdown"
        }
      },
      "source": [
        "### Function with pandas Series"
      ]
    },
    {
      "cell_type": "code",
      "execution_count": null,
      "id": "f3d88115-9c5a-4da7-8664-fbdbc5ecc5c7",
      "metadata": {
        "noteable": {
          "cell_type": "code"
        }
      },
      "outputs": [],
      "source": [
        "import pandas as pd\n",
        "\n",
        "def series_operations(input_series):\n",
        "    \"\"\"Perform some basic operations on a pandas Series.\"\"\"\n",
        "    # Add a new element\n",
        "    input_series['d'] = 4\n",
        "    # Remove an element\n",
        "    input_series.drop('a', inplace=True)\n",
        "    # Calculate the sum\n",
        "    sum_value = input_series.sum()\n",
        "    return input_series, sum_value\n",
        "\n",
        "# Test the function\n",
        "sample_series = pd.Series({'a': 1, 'b': 2, 'c': 3})\n",
        "series_operations(sample_series)"
      ]
    },
    {
      "cell_type": "markdown",
      "id": "28989898-e838-4aac-bc9d-989b950ab897",
      "metadata": {
        "noteable": {
          "cell_type": "markdown"
        }
      },
      "source": [
        "### Function with pandas DataFrame"
      ]
    },
    {
      "cell_type": "code",
      "execution_count": null,
      "id": "d17f2a8d-24df-4109-91c5-4f2deb154116",
      "metadata": {
        "noteable": {
          "cell_type": "code"
        }
      },
      "outputs": [],
      "source": [
        "def dataframe_operations(input_df):\n",
        "    \"\"\"Perform some basic operations on a pandas DataFrame.\"\"\"\n",
        "    # Add a new column\n",
        "    input_df['column3'] = [7, 8, 9]\n",
        "    # Drop a column\n",
        "    input_df.drop('column1', axis=1, inplace=True)\n",
        "    # Calculate the mean of column2\n",
        "    mean_value = input_df['column2'].mean()\n",
        "    return input_df, mean_value\n",
        "\n",
        "# Test the function\n",
        "sample_df = pd.DataFrame({'column1': [1, 2, 3], 'column2': [4, 5, 6]})\n",
        "dataframe_operations(sample_df)"
      ]
    },
    {
      "cell_type": "markdown",
      "id": "e4c01d02-ca80-46a2-997d-2b27915b60b2",
      "metadata": {
        "noteable": {
          "cell_type": "markdown"
        }
      },
      "source": [
        "## List Comprehension"
      ]
    },
    {
      "cell_type": "markdown",
      "id": "87cdc816-1d00-4170-b32d-c4d883d7ca22",
      "metadata": {
        "noteable": {
          "cell_type": "markdown"
        }
      },
      "source": [
        "List comprehension is a concise way to create lists in Python. It offers a shorter syntax when you want to create a new list based on the values of an existing list or iterable. The primary motivation behind using list comprehension is to make code more readable and expressive.\n",
        "\n",
        "The basic syntax is:\n",
        "```\n",
        "[expression for item in iterable if condition]\n",
        "```\n",
        "- `expression` is the current item in the iteration, but it is also the outcome, which can be manipulated before it ends up like a list item in the new list.\n",
        "- `item` is the current iteration/item.\n",
        "- `iterable` is any object that can return its elements one at a time, such as a list, a tuple, a string, etc.\n",
        "- `condition` is like a filter that only accepts the items that evaluate as `True`.\n",
        "\n",
        "List comprehensions are related to control structures, particularly loops and conditionals. In essence, a list comprehension combines a `for` loop and an `if` statement to create a new list. The `for` loop iterates over each element in the iterable, and the `if` statement filters out the unwanted elements.\n",
        "\n",
        "For example, if you want to create a list of squares for even numbers from 0 to 9, you can use a list comprehension with a conditional statement to filter out odd numbers."
      ]
    },
    {
      "cell_type": "code",
      "execution_count": null,
      "id": "f227d154-4273-4e75-9cb5-2bdd5aaa4610",
      "metadata": {
        "noteable": {
          "cell_type": "code"
        }
      },
      "outputs": [],
      "source": [
        "# Using list comprehension to get squares of even numbers from 0 to 9\n",
        "squares_with_comprehension = [x**2 for x in range(10) if x % 2 == 0]\n",
        "\n",
        "# Without using list comprehension\n",
        "squares_without_comprehension = []\n",
        "for x in range(10):\n",
        "    if x % 2 == 0:\n",
        "        squares_without_comprehension.append(x**2)\n",
        "\n",
        "squares_with_comprehension, squares_without_comprehension"
      ]
    },
    {
      "cell_type": "code",
      "execution_count": null,
      "id": "4463305b-f855-4cdd-b9dc-c7f1b869e19f",
      "metadata": {
        "noteable": {
          "cell_type": "code"
        }
      },
      "outputs": [],
      "source": [
        "# Example 1: Get all vowels from a string\n",
        "\n",
        "# Using list comprehension\n",
        "input_string = 'Hello, World!'\n",
        "vowels_with_comprehension = [char for char in input_string if char.lower() in 'aeiou']\n",
        "\n",
        "# Without using list comprehension\n",
        "vowels_without_comprehension = []\n",
        "for char in input_string:\n",
        "    if char.lower() in 'aeiou':\n",
        "        vowels_without_comprehension.append(char)\n",
        "\n",
        "vowels_with_comprehension, vowels_without_comprehension"
      ]
    },
    {
      "cell_type": "code",
      "execution_count": null,
      "id": "2eccbd41-f3a0-4cde-b1e3-15fb9370a36a",
      "metadata": {
        "noteable": {
          "cell_type": "code"
        }
      },
      "outputs": [],
      "source": [
        "# Example 2: Get numbers from a list that are greater than 5\n",
        "\n",
        "# Using list comprehension\n",
        "numbers = [1, 3, 7, 9, 10, 12]\n",
        "greater_than_five_with_comprehension = [num for num in numbers if num > 5]\n",
        "\n",
        "# Without using list comprehension\n",
        "greater_than_five_without_comprehension = []\n",
        "for num in numbers:\n",
        "    if num > 5:\n",
        "        greater_than_five_without_comprehension.append(num)\n",
        "\n",
        "greater_than_five_with_comprehension, greater_than_five_without_comprehension"
      ]
    },
    {
      "cell_type": "code",
      "execution_count": null,
      "id": "ee31e887-41fe-45b9-b9df-35677c9c8142",
      "metadata": {
        "noteable": {
          "cell_type": "code"
        }
      },
      "outputs": [],
      "source": [
        "# Example 3: Get even indices from a list\n",
        "\n",
        "# Using list comprehension\n",
        "items = ['a', 'b', 'c', 'd', 'e', 'f']\n",
        "even_indices_with_comprehension = [items[i] for i in range(len(items)) if i % 2 == 0]\n",
        "\n",
        "# Without using list comprehension\n",
        "even_indices_without_comprehension = []\n",
        "for i in range(len(items)):\n",
        "    if i % 2 == 0:\n",
        "        even_indices_without_comprehension.append(items[i])\n",
        "\n",
        "even_indices_with_comprehension, even_indices_without_comprehension"
      ]
    },
    {
      "cell_type": "markdown",
      "id": "6ee72814-232e-4a81-9a67-3af957b70565",
      "metadata": {
        "noteable": {
          "cell_type": "markdown"
        }
      },
      "source": [
        "## Exercises\n",
        "\n",
        "To test your understanding of the concepts covered in this notebook, try the following exercises:\n",
        "\n",
        "### Easy\n",
        "1. **Control Structures**: Write a program that prints numbers from 1 to 10 using a `for` loop.\n",
        "2. **Functions**: Create a function that takes a list of numbers and returns their average.\n",
        "\n",
        "### Medium\n",
        "3. **List Comprehension**: Use list comprehension to create a list of squares for numbers from 1 to 20 that are divisible by 3.\n",
        "4. **Functions with Data Structures**: Create a function that takes a dictionary and returns a list of keys whose values are strings.\n",
        "\n",
        "### Hard\n",
        "5. **Complex Control Structures**: Write a program that prints the Fibonacci sequence up to the 10th term using a `while` loop.\n",
        "6. **Advanced Functions**: Create a function that takes a pandas DataFrame and returns a new DataFrame with only the numeric columns, and each value squared."
      ]
    }
  ],
  "metadata": {
    "kernel_info": {
      "name": "python3"
    },
    "kernelspec": {
      "display_name": "Python 3.9",
      "language": "python",
      "name": "python3"
    },
    "language_info": {
      "codemirror_mode": {
        "name": "ipython",
        "version": 3
      },
      "file_extension": ".py",
      "mimetype": "text/x-python",
      "name": "python",
      "nbconvert_exporter": "python",
      "pygments_lexer": "ipython3",
      "version": "3.8.9"
    },
    "noteable": {
      "last_delta_id": "5e845ced-c326-4850-9c3b-fceeb5f93050"
    },
    "noteable-chatgpt": {
      "create_notebook": {
        "openai_conversation_id": "d8655549-973e-5557-8087-be0c0853a45d",
        "openai_ephemeral_user_id": "db47f780-3d81-57af-8892-5bde484eea12"
      }
    },
    "nteract": {
      "version": "noteable@2.9.0"
    },
    "selected_hardware_size": "small"
  },
  "nbformat": 4,
  "nbformat_minor": 5
}
