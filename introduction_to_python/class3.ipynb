{
  "cells": [
    {
      "attachments": {},
      "cell_type": "markdown",
      "id": "e230317c-3dab-4ffd-bb79-ffc00db36d10",
      "metadata": {
        "noteable": {
          "cell_type": "markdown"
        }
      },
      "source": [
        "# Dataframes in Python\n",
        "\n",
        "<p align=\"center\">\n",
        "<img src=\"images/cat_class2.png\" width=\"50%\" height=\"50%\">\n",
        "</p>\n",
        "\n",
        "\n",
        "A DataFrame is a two-dimensional labeled data structure with columns of potentially different types. It is generally the most commonly used pandas object. You can think of it like a spreadsheet or SQL table, or a dictionary of Series objects. It is generally the most commonly used pandas object.\n",
        "\n",
        "DataFrames can be created in various ways, but for this example, we'll create a DataFrame from a dictionary of pandas Series."
      ]
    },
    {
      "cell_type": "code",
      "execution_count": null,
      "id": "9827b844-04b9-40ea-b462-11fe23c1463b",
      "metadata": {
        "ExecuteTime": {
          "end_time": "2023-08-01T22:51:41.120996+00:00",
          "start_time": "2023-08-01T22:51:40.931019+00:00"
        },
        "datalink": {
          "f3de9e83-2927-46f3-a02c-2e6c3f0d0c63": {
            "applied_filters": [],
            "dataframe_info": {
              "default_index_used": true,
              "orig_num_cols": 2,
              "orig_num_rows": 4,
              "orig_size_bytes": 96,
              "truncated_num_cols": 2,
              "truncated_num_rows": 4,
              "truncated_size_bytes": 96,
              "truncated_string_columns": []
            },
            "display_id": "f3de9e83-2927-46f3-a02c-2e6c3f0d0c63",
            "dx_settings": {
              "ALLOW_NOTEABLE_ATTRS": true,
              "COLUMN_SAMPLING_METHOD": "outer",
              "DB_LOCATION": ":memory:",
              "DEV_MODE": false,
              "DISPLAY_MAX_COLUMNS": 100,
              "DISPLAY_MAX_ROWS": 50000,
              "DISPLAY_MODE": "simple",
              "ENABLE_ASSIGNMENT": true,
              "ENABLE_DATALINK": true,
              "FLATTEN_COLUMN_VALUES": true,
              "FLATTEN_INDEX_VALUES": false,
              "GENERATE_DEX_METADATA": false,
              "HTML_TABLE_SCHEMA": false,
              "LOG_LEVEL": 30,
              "MAX_RENDER_SIZE_BYTES": 104857600,
              "MAX_STRING_LENGTH": 250,
              "NUM_PAST_SAMPLES_TRACKED": 3,
              "RANDOM_STATE": 12648430,
              "RESET_INDEX_VALUES": false,
              "ROW_SAMPLING_METHOD": "random",
              "SAMPLING_FACTOR": 0.1,
              "SAMPLING_METHOD": "random",
              "STRINGIFY_COLUMN_VALUES": true,
              "STRINGIFY_INDEX_VALUES": false
            },
            "sample_history": [],
            "sampling_time": "2023-08-01T22:51:40.964434",
            "user_variable_name": "df",
            "variable_name": "df"
          }
        },
        "dx": {
          "fieldMetadata": {},
          "simpleTable": true,
          "updated": 1690930333546,
          "views": []
        },
        "noteable": {
          "cell_type": "code"
        },
        "vscode": {
          "languageId": "python"
        }
      },
      "outputs": [
        {
          "data": {
            "application/vnd.dataresource+json": {
              "data": [
                {
                  "apples": 3,
                  "index": 0,
                  "oranges": 0
                },
                {
                  "apples": 2,
                  "index": 1,
                  "oranges": 3
                },
                {
                  "apples": 0,
                  "index": 2,
                  "oranges": 7
                },
                {
                  "apples": 1,
                  "index": 3,
                  "oranges": 2
                }
              ],
              "datalink": {
                "display_id": "f3de9e83-2927-46f3-a02c-2e6c3f0d0c63"
              },
              "schema": {
                "fields": [
                  {
                    "name": "index",
                    "type": "integer"
                  },
                  {
                    "name": "apples",
                    "type": "integer"
                  },
                  {
                    "name": "oranges",
                    "type": "integer"
                  }
                ],
                "pandas_version": "1.4.0",
                "primaryKey": [
                  "index"
                ]
              }
            }
          },
          "metadata": {
            "application/vnd.dataresource+json": {
              "datalink": {
                "applied_filters": [],
                "dataframe_info": {
                  "default_index_used": true,
                  "orig_num_cols": 2,
                  "orig_num_rows": 4,
                  "orig_size_bytes": 96,
                  "truncated_num_cols": 2,
                  "truncated_num_rows": 4,
                  "truncated_size_bytes": 96,
                  "truncated_string_columns": []
                },
                "display_id": "f3de9e83-2927-46f3-a02c-2e6c3f0d0c63",
                "dx_settings": {
                  "ALLOW_NOTEABLE_ATTRS": true,
                  "COLUMN_SAMPLING_METHOD": "outer",
                  "DB_LOCATION": ":memory:",
                  "DEV_MODE": false,
                  "DISPLAY_MAX_COLUMNS": 100,
                  "DISPLAY_MAX_ROWS": 50000,
                  "DISPLAY_MODE": "simple",
                  "ENABLE_ASSIGNMENT": true,
                  "ENABLE_DATALINK": true,
                  "FLATTEN_COLUMN_VALUES": true,
                  "FLATTEN_INDEX_VALUES": false,
                  "GENERATE_DEX_METADATA": false,
                  "HTML_TABLE_SCHEMA": false,
                  "LOG_LEVEL": 30,
                  "MAX_RENDER_SIZE_BYTES": 104857600,
                  "MAX_STRING_LENGTH": 250,
                  "NUM_PAST_SAMPLES_TRACKED": 3,
                  "RANDOM_STATE": 12648430,
                  "RESET_INDEX_VALUES": false,
                  "ROW_SAMPLING_METHOD": "random",
                  "SAMPLING_FACTOR": 0.1,
                  "SAMPLING_METHOD": "random",
                  "STRINGIFY_COLUMN_VALUES": true,
                  "STRINGIFY_INDEX_VALUES": false
                },
                "sample_history": [],
                "sampling_time": "2023-08-01T22:51:40.964434",
                "user_variable_name": "df",
                "variable_name": "df"
              },
              "display_id": "f3de9e83-2927-46f3-a02c-2e6c3f0d0c63"
            }
          },
          "output_type": "display_data"
        }
      ],
      "source": [
        "import pandas as pd\n",
        "\n",
        "data = {\n",
        "    'apples': pd.Series([3, 2, 0, 1]),\n",
        "    'oranges': pd.Series([0, 3, 7, 2])\n",
        "}\n",
        "\n",
        "df = pd.DataFrame(data)\n",
        "\n",
        "df"
      ]
    },
    {
      "cell_type": "markdown",
      "id": "6e0e9635-db63-41aa-9c60-4edca30ab5fd",
      "metadata": {
        "noteable": {
          "cell_type": "markdown"
        }
      },
      "source": [
        "## DataFrame Indexing\n",
        "\n",
        "Indexing in pandas means simply selecting particular rows and columns of data from a DataFrame. Indexes can be used to select specific rows and columns that you want to manipulate. They can also be used to modify the structure of the DataFrame itself, for example, by adding rows or columns.\n",
        "\n",
        "Let's explore some examples of how to work with DataFrame indexes."
      ]
    },
    {
      "cell_type": "code",
      "execution_count": null,
      "id": "4be3fc94-0e68-4a16-92b1-afb60820c503",
      "metadata": {
        "ExecuteTime": {
          "end_time": "2023-08-01T22:53:56.741674+00:00",
          "start_time": "2023-08-01T22:53:56.552034+00:00"
        },
        "datalink": {
          "56d9440c-560e-4cff-b6a0-e556b95a3a1f": {
            "applied_filters": [],
            "dataframe_info": {
              "default_index_used": false,
              "orig_num_cols": 1,
              "orig_num_rows": 4,
              "orig_size_bytes": 64,
              "truncated_num_cols": 1,
              "truncated_num_rows": 4,
              "truncated_size_bytes": 64,
              "truncated_string_columns": []
            },
            "display_id": "56d9440c-560e-4cff-b6a0-e556b95a3a1f",
            "dx_settings": {
              "ALLOW_NOTEABLE_ATTRS": true,
              "COLUMN_SAMPLING_METHOD": "outer",
              "DB_LOCATION": ":memory:",
              "DEV_MODE": false,
              "DISPLAY_MAX_COLUMNS": 100,
              "DISPLAY_MAX_ROWS": 50000,
              "DISPLAY_MODE": "simple",
              "ENABLE_ASSIGNMENT": true,
              "ENABLE_DATALINK": true,
              "FLATTEN_COLUMN_VALUES": true,
              "FLATTEN_INDEX_VALUES": false,
              "GENERATE_DEX_METADATA": false,
              "HTML_TABLE_SCHEMA": false,
              "LOG_LEVEL": 30,
              "MAX_RENDER_SIZE_BYTES": 104857600,
              "MAX_STRING_LENGTH": 250,
              "NUM_PAST_SAMPLES_TRACKED": 3,
              "RANDOM_STATE": 12648430,
              "RESET_INDEX_VALUES": false,
              "ROW_SAMPLING_METHOD": "random",
              "SAMPLING_FACTOR": 0.1,
              "SAMPLING_METHOD": "random",
              "STRINGIFY_COLUMN_VALUES": true,
              "STRINGIFY_INDEX_VALUES": false
            },
            "sample_history": [],
            "sampling_time": "2023-08-01T22:53:56.585496",
            "user_variable_name": "df_indexed",
            "variable_name": "df_indexed"
          }
        },
        "dx": {
          "fieldMetadata": {},
          "simpleTable": true,
          "updated": 1690930450913,
          "views": []
        },
        "noteable": {
          "cell_type": "code"
        },
        "vscode": {
          "languageId": "python"
        }
      },
      "outputs": [
        {
          "data": {
            "application/vnd.dataresource+json": {
              "data": [
                {
                  "apples": 3,
                  "oranges": 0
                },
                {
                  "apples": 2,
                  "oranges": 3
                },
                {
                  "apples": 0,
                  "oranges": 7
                },
                {
                  "apples": 1,
                  "oranges": 2
                }
              ],
              "datalink": {
                "display_id": "56d9440c-560e-4cff-b6a0-e556b95a3a1f"
              },
              "schema": {
                "fields": [
                  {
                    "name": "apples",
                    "type": "integer"
                  },
                  {
                    "name": "oranges",
                    "type": "integer"
                  }
                ],
                "pandas_version": "1.4.0",
                "primaryKey": [
                  "apples"
                ]
              }
            }
          },
          "metadata": {
            "application/vnd.dataresource+json": {
              "datalink": {
                "applied_filters": [],
                "dataframe_info": {
                  "default_index_used": false,
                  "orig_num_cols": 1,
                  "orig_num_rows": 4,
                  "orig_size_bytes": 64,
                  "truncated_num_cols": 1,
                  "truncated_num_rows": 4,
                  "truncated_size_bytes": 64,
                  "truncated_string_columns": []
                },
                "display_id": "56d9440c-560e-4cff-b6a0-e556b95a3a1f",
                "dx_settings": {
                  "ALLOW_NOTEABLE_ATTRS": true,
                  "COLUMN_SAMPLING_METHOD": "outer",
                  "DB_LOCATION": ":memory:",
                  "DEV_MODE": false,
                  "DISPLAY_MAX_COLUMNS": 100,
                  "DISPLAY_MAX_ROWS": 50000,
                  "DISPLAY_MODE": "simple",
                  "ENABLE_ASSIGNMENT": true,
                  "ENABLE_DATALINK": true,
                  "FLATTEN_COLUMN_VALUES": true,
                  "FLATTEN_INDEX_VALUES": false,
                  "GENERATE_DEX_METADATA": false,
                  "HTML_TABLE_SCHEMA": false,
                  "LOG_LEVEL": 30,
                  "MAX_RENDER_SIZE_BYTES": 104857600,
                  "MAX_STRING_LENGTH": 250,
                  "NUM_PAST_SAMPLES_TRACKED": 3,
                  "RANDOM_STATE": 12648430,
                  "RESET_INDEX_VALUES": false,
                  "ROW_SAMPLING_METHOD": "random",
                  "SAMPLING_FACTOR": 0.1,
                  "SAMPLING_METHOD": "random",
                  "STRINGIFY_COLUMN_VALUES": true,
                  "STRINGIFY_INDEX_VALUES": false
                },
                "sample_history": [],
                "sampling_time": "2023-08-01T22:53:56.585496",
                "user_variable_name": "df_indexed",
                "variable_name": "df_indexed"
              },
              "display_id": "56d9440c-560e-4cff-b6a0-e556b95a3a1f"
            }
          },
          "output_type": "display_data"
        }
      ],
      "source": [
        "# Set a column as the index\n",
        "df_indexed = df.set_index('apples')\n",
        "df_indexed"
      ]
    },
    {
      "cell_type": "code",
      "execution_count": null,
      "id": "8451c329-4519-4889-8562-cf7d9a1184be",
      "metadata": {
        "ExecuteTime": {
          "end_time": "2023-08-01T22:54:05.196285+00:00",
          "start_time": "2023-08-01T22:54:05.000822+00:00"
        },
        "datalink": {
          "a57b390e-29e8-46fb-a890-b8851110b927": {
            "applied_filters": [],
            "dataframe_info": {
              "default_index_used": true,
              "orig_num_cols": 2,
              "orig_num_rows": 4,
              "orig_size_bytes": 96,
              "truncated_num_cols": 2,
              "truncated_num_rows": 4,
              "truncated_size_bytes": 96,
              "truncated_string_columns": []
            },
            "display_id": "a57b390e-29e8-46fb-a890-b8851110b927",
            "dx_settings": {
              "ALLOW_NOTEABLE_ATTRS": true,
              "COLUMN_SAMPLING_METHOD": "outer",
              "DB_LOCATION": ":memory:",
              "DEV_MODE": false,
              "DISPLAY_MAX_COLUMNS": 100,
              "DISPLAY_MAX_ROWS": 50000,
              "DISPLAY_MODE": "simple",
              "ENABLE_ASSIGNMENT": true,
              "ENABLE_DATALINK": true,
              "FLATTEN_COLUMN_VALUES": true,
              "FLATTEN_INDEX_VALUES": false,
              "GENERATE_DEX_METADATA": false,
              "HTML_TABLE_SCHEMA": false,
              "LOG_LEVEL": 30,
              "MAX_RENDER_SIZE_BYTES": 104857600,
              "MAX_STRING_LENGTH": 250,
              "NUM_PAST_SAMPLES_TRACKED": 3,
              "RANDOM_STATE": 12648430,
              "RESET_INDEX_VALUES": false,
              "ROW_SAMPLING_METHOD": "random",
              "SAMPLING_FACTOR": 0.1,
              "SAMPLING_METHOD": "random",
              "STRINGIFY_COLUMN_VALUES": true,
              "STRINGIFY_INDEX_VALUES": false
            },
            "sample_history": [],
            "sampling_time": "2023-08-01T22:54:05.039762",
            "user_variable_name": "df",
            "variable_name": "df"
          }
        },
        "dx": {
          "fieldMetadata": {},
          "simpleTable": true,
          "updated": 1690930455310,
          "views": []
        },
        "noteable": {
          "cell_type": "code"
        },
        "vscode": {
          "languageId": "python"
        }
      },
      "outputs": [
        {
          "data": {
            "application/vnd.dataresource+json": {
              "data": [
                {
                  "apples": 3,
                  "index": 0,
                  "oranges": 0
                },
                {
                  "apples": 2,
                  "index": 1,
                  "oranges": 3
                },
                {
                  "apples": 0,
                  "index": 2,
                  "oranges": 7
                },
                {
                  "apples": 1,
                  "index": 3,
                  "oranges": 2
                }
              ],
              "datalink": {
                "display_id": "a57b390e-29e8-46fb-a890-b8851110b927"
              },
              "schema": {
                "fields": [
                  {
                    "name": "index",
                    "type": "integer"
                  },
                  {
                    "name": "apples",
                    "type": "integer"
                  },
                  {
                    "name": "oranges",
                    "type": "integer"
                  }
                ],
                "pandas_version": "1.4.0",
                "primaryKey": [
                  "index"
                ]
              }
            }
          },
          "metadata": {
            "application/vnd.dataresource+json": {
              "datalink": {
                "applied_filters": [],
                "dataframe_info": {
                  "default_index_used": true,
                  "orig_num_cols": 2,
                  "orig_num_rows": 4,
                  "orig_size_bytes": 96,
                  "truncated_num_cols": 2,
                  "truncated_num_rows": 4,
                  "truncated_size_bytes": 96,
                  "truncated_string_columns": []
                },
                "display_id": "a57b390e-29e8-46fb-a890-b8851110b927",
                "dx_settings": {
                  "ALLOW_NOTEABLE_ATTRS": true,
                  "COLUMN_SAMPLING_METHOD": "outer",
                  "DB_LOCATION": ":memory:",
                  "DEV_MODE": false,
                  "DISPLAY_MAX_COLUMNS": 100,
                  "DISPLAY_MAX_ROWS": 50000,
                  "DISPLAY_MODE": "simple",
                  "ENABLE_ASSIGNMENT": true,
                  "ENABLE_DATALINK": true,
                  "FLATTEN_COLUMN_VALUES": true,
                  "FLATTEN_INDEX_VALUES": false,
                  "GENERATE_DEX_METADATA": false,
                  "HTML_TABLE_SCHEMA": false,
                  "LOG_LEVEL": 30,
                  "MAX_RENDER_SIZE_BYTES": 104857600,
                  "MAX_STRING_LENGTH": 250,
                  "NUM_PAST_SAMPLES_TRACKED": 3,
                  "RANDOM_STATE": 12648430,
                  "RESET_INDEX_VALUES": false,
                  "ROW_SAMPLING_METHOD": "random",
                  "SAMPLING_FACTOR": 0.1,
                  "SAMPLING_METHOD": "random",
                  "STRINGIFY_COLUMN_VALUES": true,
                  "STRINGIFY_INDEX_VALUES": false
                },
                "sample_history": [],
                "sampling_time": "2023-08-01T22:54:05.039762",
                "user_variable_name": "df",
                "variable_name": "df"
              },
              "display_id": "a57b390e-29e8-46fb-a890-b8851110b927"
            }
          },
          "output_type": "display_data"
        }
      ],
      "source": [
        "# Reset the index\n",
        "df_reset = df_indexed.reset_index()\n",
        "df_reset"
      ]
    },
    {
      "cell_type": "markdown",
      "id": "38e0aa5b-9060-454b-b0f0-7efb9e575c8f",
      "metadata": {
        "noteable": {
          "cell_type": "markdown"
        }
      },
      "source": [
        "## Creating DataFrames\n",
        "\n",
        "Pandas DataFrames can be created in various ways. Some of the most common methods are: from a list, from a dictionary, from a list of dictionaries, and from a NumPy array. Let's explore examples of each."
      ]
    },
    {
      "cell_type": "code",
      "execution_count": null,
      "id": "463f0ccc-481a-40a3-95d6-29e10628e794",
      "metadata": {
        "ExecuteTime": {
          "end_time": "2023-08-01T22:55:57.458365+00:00",
          "start_time": "2023-08-01T22:55:57.252755+00:00"
        },
        "datalink": {
          "66bd1095-be6a-4af2-b62b-793638410a7c": {
            "applied_filters": [],
            "dataframe_info": {
              "default_index_used": true,
              "orig_num_cols": 2,
              "orig_num_rows": 3,
              "orig_size_bytes": 72,
              "truncated_num_cols": 2,
              "truncated_num_rows": 3,
              "truncated_size_bytes": 72,
              "truncated_string_columns": []
            },
            "display_id": "66bd1095-be6a-4af2-b62b-793638410a7c",
            "dx_settings": {
              "ALLOW_NOTEABLE_ATTRS": true,
              "COLUMN_SAMPLING_METHOD": "outer",
              "DB_LOCATION": ":memory:",
              "DEV_MODE": false,
              "DISPLAY_MAX_COLUMNS": 100,
              "DISPLAY_MAX_ROWS": 50000,
              "DISPLAY_MODE": "simple",
              "ENABLE_ASSIGNMENT": true,
              "ENABLE_DATALINK": true,
              "FLATTEN_COLUMN_VALUES": true,
              "FLATTEN_INDEX_VALUES": false,
              "GENERATE_DEX_METADATA": false,
              "HTML_TABLE_SCHEMA": false,
              "LOG_LEVEL": 30,
              "MAX_RENDER_SIZE_BYTES": 104857600,
              "MAX_STRING_LENGTH": 250,
              "NUM_PAST_SAMPLES_TRACKED": 3,
              "RANDOM_STATE": 12648430,
              "RESET_INDEX_VALUES": false,
              "ROW_SAMPLING_METHOD": "random",
              "SAMPLING_FACTOR": 0.1,
              "SAMPLING_METHOD": "random",
              "STRINGIFY_COLUMN_VALUES": true,
              "STRINGIFY_INDEX_VALUES": false
            },
            "sample_history": [],
            "sampling_time": "2023-08-01T22:55:57.300382",
            "user_variable_name": "df_list",
            "variable_name": "df_list"
          }
        },
        "dx": {
          "fieldMetadata": {},
          "simpleTable": true,
          "updated": 1690930611415,
          "views": []
        },
        "noteable": {
          "cell_type": "code"
        },
        "vscode": {
          "languageId": "python"
        }
      },
      "outputs": [
        {
          "data": {
            "application/vnd.dataresource+json": {
              "data": [
                {
                  "Age": 10,
                  "Name": "Alex",
                  "index": 0
                },
                {
                  "Age": 12,
                  "Name": "Bob",
                  "index": 1
                },
                {
                  "Age": 13,
                  "Name": "Clarke",
                  "index": 2
                }
              ],
              "datalink": {
                "display_id": "66bd1095-be6a-4af2-b62b-793638410a7c"
              },
              "schema": {
                "fields": [
                  {
                    "name": "index",
                    "type": "integer"
                  },
                  {
                    "name": "Name",
                    "type": "string"
                  },
                  {
                    "name": "Age",
                    "type": "integer"
                  }
                ],
                "pandas_version": "1.4.0",
                "primaryKey": [
                  "index"
                ]
              }
            }
          },
          "metadata": {
            "application/vnd.dataresource+json": {
              "datalink": {
                "applied_filters": [],
                "dataframe_info": {
                  "default_index_used": true,
                  "orig_num_cols": 2,
                  "orig_num_rows": 3,
                  "orig_size_bytes": 72,
                  "truncated_num_cols": 2,
                  "truncated_num_rows": 3,
                  "truncated_size_bytes": 72,
                  "truncated_string_columns": []
                },
                "display_id": "66bd1095-be6a-4af2-b62b-793638410a7c",
                "dx_settings": {
                  "ALLOW_NOTEABLE_ATTRS": true,
                  "COLUMN_SAMPLING_METHOD": "outer",
                  "DB_LOCATION": ":memory:",
                  "DEV_MODE": false,
                  "DISPLAY_MAX_COLUMNS": 100,
                  "DISPLAY_MAX_ROWS": 50000,
                  "DISPLAY_MODE": "simple",
                  "ENABLE_ASSIGNMENT": true,
                  "ENABLE_DATALINK": true,
                  "FLATTEN_COLUMN_VALUES": true,
                  "FLATTEN_INDEX_VALUES": false,
                  "GENERATE_DEX_METADATA": false,
                  "HTML_TABLE_SCHEMA": false,
                  "LOG_LEVEL": 30,
                  "MAX_RENDER_SIZE_BYTES": 104857600,
                  "MAX_STRING_LENGTH": 250,
                  "NUM_PAST_SAMPLES_TRACKED": 3,
                  "RANDOM_STATE": 12648430,
                  "RESET_INDEX_VALUES": false,
                  "ROW_SAMPLING_METHOD": "random",
                  "SAMPLING_FACTOR": 0.1,
                  "SAMPLING_METHOD": "random",
                  "STRINGIFY_COLUMN_VALUES": true,
                  "STRINGIFY_INDEX_VALUES": false
                },
                "sample_history": [],
                "sampling_time": "2023-08-01T22:55:57.300382",
                "user_variable_name": "df_list",
                "variable_name": "df_list"
              },
              "display_id": "66bd1095-be6a-4af2-b62b-793638410a7c"
            }
          },
          "output_type": "display_data"
        }
      ],
      "source": [
        "# Creating a DataFrame from a list\n",
        "list_data = [['Alex',10],['Bob',12],['Clarke',13]]\n",
        "df_list = pd.DataFrame(list_data, columns=['Name','Age'])\n",
        "df_list"
      ]
    },
    {
      "cell_type": "code",
      "execution_count": null,
      "id": "cfb888f7-6803-4ba6-ac82-16cb6f5d73fa",
      "metadata": {
        "ExecuteTime": {
          "end_time": "2023-08-01T22:56:08.615735+00:00",
          "start_time": "2023-08-01T22:56:08.415579+00:00"
        },
        "datalink": {
          "eeb6be37-bb40-4a92-b287-b27d691469ce": {
            "applied_filters": [],
            "dataframe_info": {
              "default_index_used": true,
              "orig_num_cols": 2,
              "orig_num_rows": 3,
              "orig_size_bytes": 72,
              "truncated_num_cols": 2,
              "truncated_num_rows": 3,
              "truncated_size_bytes": 72,
              "truncated_string_columns": []
            },
            "display_id": "eeb6be37-bb40-4a92-b287-b27d691469ce",
            "dx_settings": {
              "ALLOW_NOTEABLE_ATTRS": true,
              "COLUMN_SAMPLING_METHOD": "outer",
              "DB_LOCATION": ":memory:",
              "DEV_MODE": false,
              "DISPLAY_MAX_COLUMNS": 100,
              "DISPLAY_MAX_ROWS": 50000,
              "DISPLAY_MODE": "simple",
              "ENABLE_ASSIGNMENT": true,
              "ENABLE_DATALINK": true,
              "FLATTEN_COLUMN_VALUES": true,
              "FLATTEN_INDEX_VALUES": false,
              "GENERATE_DEX_METADATA": false,
              "HTML_TABLE_SCHEMA": false,
              "LOG_LEVEL": 30,
              "MAX_RENDER_SIZE_BYTES": 104857600,
              "MAX_STRING_LENGTH": 250,
              "NUM_PAST_SAMPLES_TRACKED": 3,
              "RANDOM_STATE": 12648430,
              "RESET_INDEX_VALUES": false,
              "ROW_SAMPLING_METHOD": "random",
              "SAMPLING_FACTOR": 0.1,
              "SAMPLING_METHOD": "random",
              "STRINGIFY_COLUMN_VALUES": true,
              "STRINGIFY_INDEX_VALUES": false
            },
            "sample_history": [],
            "sampling_time": "2023-08-01T22:56:08.458038",
            "user_variable_name": "df_dict",
            "variable_name": "df_dict"
          }
        },
        "dx": {
          "fieldMetadata": {},
          "simpleTable": true,
          "updated": 1690930615603,
          "views": []
        },
        "noteable": {
          "cell_type": "code"
        },
        "vscode": {
          "languageId": "python"
        }
      },
      "outputs": [
        {
          "data": {
            "application/vnd.dataresource+json": {
              "data": [
                {
                  "Age": 20,
                  "Name": "Tom",
                  "index": 0
                },
                {
                  "Age": 21,
                  "Name": "Nick",
                  "index": 1
                },
                {
                  "Age": 19,
                  "Name": "John",
                  "index": 2
                }
              ],
              "datalink": {
                "display_id": "eeb6be37-bb40-4a92-b287-b27d691469ce"
              },
              "schema": {
                "fields": [
                  {
                    "name": "index",
                    "type": "integer"
                  },
                  {
                    "name": "Name",
                    "type": "string"
                  },
                  {
                    "name": "Age",
                    "type": "integer"
                  }
                ],
                "pandas_version": "1.4.0",
                "primaryKey": [
                  "index"
                ]
              }
            }
          },
          "metadata": {
            "application/vnd.dataresource+json": {
              "datalink": {
                "applied_filters": [],
                "dataframe_info": {
                  "default_index_used": true,
                  "orig_num_cols": 2,
                  "orig_num_rows": 3,
                  "orig_size_bytes": 72,
                  "truncated_num_cols": 2,
                  "truncated_num_rows": 3,
                  "truncated_size_bytes": 72,
                  "truncated_string_columns": []
                },
                "display_id": "eeb6be37-bb40-4a92-b287-b27d691469ce",
                "dx_settings": {
                  "ALLOW_NOTEABLE_ATTRS": true,
                  "COLUMN_SAMPLING_METHOD": "outer",
                  "DB_LOCATION": ":memory:",
                  "DEV_MODE": false,
                  "DISPLAY_MAX_COLUMNS": 100,
                  "DISPLAY_MAX_ROWS": 50000,
                  "DISPLAY_MODE": "simple",
                  "ENABLE_ASSIGNMENT": true,
                  "ENABLE_DATALINK": true,
                  "FLATTEN_COLUMN_VALUES": true,
                  "FLATTEN_INDEX_VALUES": false,
                  "GENERATE_DEX_METADATA": false,
                  "HTML_TABLE_SCHEMA": false,
                  "LOG_LEVEL": 30,
                  "MAX_RENDER_SIZE_BYTES": 104857600,
                  "MAX_STRING_LENGTH": 250,
                  "NUM_PAST_SAMPLES_TRACKED": 3,
                  "RANDOM_STATE": 12648430,
                  "RESET_INDEX_VALUES": false,
                  "ROW_SAMPLING_METHOD": "random",
                  "SAMPLING_FACTOR": 0.1,
                  "SAMPLING_METHOD": "random",
                  "STRINGIFY_COLUMN_VALUES": true,
                  "STRINGIFY_INDEX_VALUES": false
                },
                "sample_history": [],
                "sampling_time": "2023-08-01T22:56:08.458038",
                "user_variable_name": "df_dict",
                "variable_name": "df_dict"
              },
              "display_id": "eeb6be37-bb40-4a92-b287-b27d691469ce"
            }
          },
          "output_type": "display_data"
        }
      ],
      "source": [
        "# Creating a DataFrame from a dictionary\n",
        "dict_data = {'Name':['Tom', 'Nick', 'John'], 'Age':[20, 21, 19]}\n",
        "df_dict = pd.DataFrame(dict_data)\n",
        "df_dict"
      ]
    },
    {
      "cell_type": "code",
      "execution_count": null,
      "id": "2697890d-4d0b-4206-91c8-765fb434702f",
      "metadata": {
        "ExecuteTime": {
          "end_time": "2023-08-01T22:56:20.865250+00:00",
          "start_time": "2023-08-01T22:56:20.655897+00:00"
        },
        "datalink": {
          "88d8c010-b708-42e3-b0be-059f7a90009b": {
            "applied_filters": [],
            "dataframe_info": {
              "default_index_used": true,
              "orig_num_cols": 3,
              "orig_num_rows": 2,
              "orig_size_bytes": 64,
              "truncated_num_cols": 3,
              "truncated_num_rows": 2,
              "truncated_size_bytes": 64,
              "truncated_string_columns": []
            },
            "display_id": "88d8c010-b708-42e3-b0be-059f7a90009b",
            "dx_settings": {
              "ALLOW_NOTEABLE_ATTRS": true,
              "COLUMN_SAMPLING_METHOD": "outer",
              "DB_LOCATION": ":memory:",
              "DEV_MODE": false,
              "DISPLAY_MAX_COLUMNS": 100,
              "DISPLAY_MAX_ROWS": 50000,
              "DISPLAY_MODE": "simple",
              "ENABLE_ASSIGNMENT": true,
              "ENABLE_DATALINK": true,
              "FLATTEN_COLUMN_VALUES": true,
              "FLATTEN_INDEX_VALUES": false,
              "GENERATE_DEX_METADATA": false,
              "HTML_TABLE_SCHEMA": false,
              "LOG_LEVEL": 30,
              "MAX_RENDER_SIZE_BYTES": 104857600,
              "MAX_STRING_LENGTH": 250,
              "NUM_PAST_SAMPLES_TRACKED": 3,
              "RANDOM_STATE": 12648430,
              "RESET_INDEX_VALUES": false,
              "ROW_SAMPLING_METHOD": "random",
              "SAMPLING_FACTOR": 0.1,
              "SAMPLING_METHOD": "random",
              "STRINGIFY_COLUMN_VALUES": true,
              "STRINGIFY_INDEX_VALUES": false
            },
            "sample_history": [],
            "sampling_time": "2023-08-01T22:56:20.706963",
            "user_variable_name": "df_list_dict",
            "variable_name": "df_list_dict"
          }
        },
        "dx": {
          "fieldMetadata": {},
          "simpleTable": true,
          "updated": 1690930618263,
          "views": []
        },
        "noteable": {
          "cell_type": "code"
        },
        "vscode": {
          "languageId": "python"
        }
      },
      "outputs": [
        {
          "data": {
            "application/vnd.dataresource+json": {
              "data": [
                {
                  "a": 1,
                  "b": 2,
                  "c": null,
                  "index": 0
                },
                {
                  "a": 3,
                  "b": 4,
                  "c": 5,
                  "index": 1
                }
              ],
              "datalink": {
                "display_id": "88d8c010-b708-42e3-b0be-059f7a90009b"
              },
              "schema": {
                "fields": [
                  {
                    "name": "index",
                    "type": "integer"
                  },
                  {
                    "name": "a",
                    "type": "integer"
                  },
                  {
                    "name": "b",
                    "type": "integer"
                  },
                  {
                    "name": "c",
                    "type": "number"
                  }
                ],
                "pandas_version": "1.4.0",
                "primaryKey": [
                  "index"
                ]
              }
            }
          },
          "metadata": {
            "application/vnd.dataresource+json": {
              "datalink": {
                "applied_filters": [],
                "dataframe_info": {
                  "default_index_used": true,
                  "orig_num_cols": 3,
                  "orig_num_rows": 2,
                  "orig_size_bytes": 64,
                  "truncated_num_cols": 3,
                  "truncated_num_rows": 2,
                  "truncated_size_bytes": 64,
                  "truncated_string_columns": []
                },
                "display_id": "88d8c010-b708-42e3-b0be-059f7a90009b",
                "dx_settings": {
                  "ALLOW_NOTEABLE_ATTRS": true,
                  "COLUMN_SAMPLING_METHOD": "outer",
                  "DB_LOCATION": ":memory:",
                  "DEV_MODE": false,
                  "DISPLAY_MAX_COLUMNS": 100,
                  "DISPLAY_MAX_ROWS": 50000,
                  "DISPLAY_MODE": "simple",
                  "ENABLE_ASSIGNMENT": true,
                  "ENABLE_DATALINK": true,
                  "FLATTEN_COLUMN_VALUES": true,
                  "FLATTEN_INDEX_VALUES": false,
                  "GENERATE_DEX_METADATA": false,
                  "HTML_TABLE_SCHEMA": false,
                  "LOG_LEVEL": 30,
                  "MAX_RENDER_SIZE_BYTES": 104857600,
                  "MAX_STRING_LENGTH": 250,
                  "NUM_PAST_SAMPLES_TRACKED": 3,
                  "RANDOM_STATE": 12648430,
                  "RESET_INDEX_VALUES": false,
                  "ROW_SAMPLING_METHOD": "random",
                  "SAMPLING_FACTOR": 0.1,
                  "SAMPLING_METHOD": "random",
                  "STRINGIFY_COLUMN_VALUES": true,
                  "STRINGIFY_INDEX_VALUES": false
                },
                "sample_history": [],
                "sampling_time": "2023-08-01T22:56:20.706963",
                "user_variable_name": "df_list_dict",
                "variable_name": "df_list_dict"
              },
              "display_id": "88d8c010-b708-42e3-b0be-059f7a90009b"
            }
          },
          "output_type": "display_data"
        }
      ],
      "source": [
        "# Creating a DataFrame from a list of dictionaries\n",
        "list_dict_data = [{'a': 1, 'b': 2},{'a': 3, 'b': 4, 'c': 5}]\n",
        "df_list_dict = pd.DataFrame(list_dict_data)\n",
        "df_list_dict"
      ]
    },
    {
      "cell_type": "code",
      "execution_count": null,
      "id": "b2c496ad-feb3-48a4-80d8-6b2030ac9e94",
      "metadata": {
        "ExecuteTime": {
          "end_time": "2023-08-01T22:56:32.286408+00:00",
          "start_time": "2023-08-01T22:56:32.059223+00:00"
        },
        "datalink": {
          "a508ada3-ffdf-4a40-9d55-b5b2022f73c1": {
            "applied_filters": [],
            "dataframe_info": {
              "default_index_used": true,
              "orig_num_cols": 2,
              "orig_num_rows": 2,
              "orig_size_bytes": 48,
              "truncated_num_cols": 2,
              "truncated_num_rows": 2,
              "truncated_size_bytes": 48,
              "truncated_string_columns": []
            },
            "display_id": "a508ada3-ffdf-4a40-9d55-b5b2022f73c1",
            "dx_settings": {
              "ALLOW_NOTEABLE_ATTRS": true,
              "COLUMN_SAMPLING_METHOD": "outer",
              "DB_LOCATION": ":memory:",
              "DEV_MODE": false,
              "DISPLAY_MAX_COLUMNS": 100,
              "DISPLAY_MAX_ROWS": 50000,
              "DISPLAY_MODE": "simple",
              "ENABLE_ASSIGNMENT": true,
              "ENABLE_DATALINK": true,
              "FLATTEN_COLUMN_VALUES": true,
              "FLATTEN_INDEX_VALUES": false,
              "GENERATE_DEX_METADATA": false,
              "HTML_TABLE_SCHEMA": false,
              "LOG_LEVEL": 30,
              "MAX_RENDER_SIZE_BYTES": 104857600,
              "MAX_STRING_LENGTH": 250,
              "NUM_PAST_SAMPLES_TRACKED": 3,
              "RANDOM_STATE": 12648430,
              "RESET_INDEX_VALUES": false,
              "ROW_SAMPLING_METHOD": "random",
              "SAMPLING_FACTOR": 0.1,
              "SAMPLING_METHOD": "random",
              "STRINGIFY_COLUMN_VALUES": true,
              "STRINGIFY_INDEX_VALUES": false
            },
            "sample_history": [],
            "sampling_time": "2023-08-01T22:56:32.129897",
            "user_variable_name": "df_numpy",
            "variable_name": "df_numpy"
          }
        },
        "dx": {
          "fieldMetadata": {},
          "simpleTable": true,
          "updated": 1690930621361,
          "views": []
        },
        "noteable": {
          "cell_type": "code"
        },
        "vscode": {
          "languageId": "python"
        }
      },
      "outputs": [
        {
          "data": {
            "application/vnd.dataresource+json": {
              "data": [
                {
                  "Column1": 1,
                  "Column2": 2,
                  "index": 0
                },
                {
                  "Column1": 3,
                  "Column2": 4,
                  "index": 1
                }
              ],
              "datalink": {
                "display_id": "a508ada3-ffdf-4a40-9d55-b5b2022f73c1"
              },
              "schema": {
                "fields": [
                  {
                    "name": "index",
                    "type": "integer"
                  },
                  {
                    "name": "Column1",
                    "type": "integer"
                  },
                  {
                    "name": "Column2",
                    "type": "integer"
                  }
                ],
                "pandas_version": "1.4.0",
                "primaryKey": [
                  "index"
                ]
              }
            }
          },
          "metadata": {
            "application/vnd.dataresource+json": {
              "datalink": {
                "applied_filters": [],
                "dataframe_info": {
                  "default_index_used": true,
                  "orig_num_cols": 2,
                  "orig_num_rows": 2,
                  "orig_size_bytes": 48,
                  "truncated_num_cols": 2,
                  "truncated_num_rows": 2,
                  "truncated_size_bytes": 48,
                  "truncated_string_columns": []
                },
                "display_id": "a508ada3-ffdf-4a40-9d55-b5b2022f73c1",
                "dx_settings": {
                  "ALLOW_NOTEABLE_ATTRS": true,
                  "COLUMN_SAMPLING_METHOD": "outer",
                  "DB_LOCATION": ":memory:",
                  "DEV_MODE": false,
                  "DISPLAY_MAX_COLUMNS": 100,
                  "DISPLAY_MAX_ROWS": 50000,
                  "DISPLAY_MODE": "simple",
                  "ENABLE_ASSIGNMENT": true,
                  "ENABLE_DATALINK": true,
                  "FLATTEN_COLUMN_VALUES": true,
                  "FLATTEN_INDEX_VALUES": false,
                  "GENERATE_DEX_METADATA": false,
                  "HTML_TABLE_SCHEMA": false,
                  "LOG_LEVEL": 30,
                  "MAX_RENDER_SIZE_BYTES": 104857600,
                  "MAX_STRING_LENGTH": 250,
                  "NUM_PAST_SAMPLES_TRACKED": 3,
                  "RANDOM_STATE": 12648430,
                  "RESET_INDEX_VALUES": false,
                  "ROW_SAMPLING_METHOD": "random",
                  "SAMPLING_FACTOR": 0.1,
                  "SAMPLING_METHOD": "random",
                  "STRINGIFY_COLUMN_VALUES": true,
                  "STRINGIFY_INDEX_VALUES": false
                },
                "sample_history": [],
                "sampling_time": "2023-08-01T22:56:32.129897",
                "user_variable_name": "df_numpy",
                "variable_name": "df_numpy"
              },
              "display_id": "a508ada3-ffdf-4a40-9d55-b5b2022f73c1"
            }
          },
          "output_type": "display_data"
        }
      ],
      "source": [
        "# Creating a DataFrame from a NumPy array\n",
        "import numpy as np\n",
        "\n",
        "numpy_data = np.array([[1, 2], [3, 4]])\n",
        "df_numpy = pd.DataFrame(numpy_data, columns=['Column1', 'Column2'])\n",
        "df_numpy"
      ]
    },
    {
      "cell_type": "markdown",
      "id": "24173683-e15b-49a5-a856-c81fc2ff588c",
      "metadata": {
        "noteable": {
          "cell_type": "markdown"
        }
      },
      "source": [
        "## DataFrame Operations and Methods\n",
        "\n",
        "Pandas DataFrames offer a wide range of operations and methods that can be used to manipulate and analyze data. In this section, we'll explore how to create new columns, how to create columns from other columns through operations, and how to combine DataFrames using the concatenate method."
      ]
    },
    {
      "cell_type": "code",
      "execution_count": null,
      "id": "0bc14ed8-354b-4bae-b069-3330d8dd0a10",
      "metadata": {
        "ExecuteTime": {
          "end_time": "2023-08-01T23:00:09.522778+00:00",
          "start_time": "2023-08-01T23:00:09.311733+00:00"
        },
        "datalink": {
          "e1518d2b-636a-4638-8049-71bf591b0c4c": {
            "applied_filters": [],
            "dataframe_info": {
              "default_index_used": true,
              "orig_num_cols": 3,
              "orig_num_rows": 4,
              "orig_size_bytes": 128,
              "truncated_num_cols": 3,
              "truncated_num_rows": 4,
              "truncated_size_bytes": 128,
              "truncated_string_columns": []
            },
            "display_id": "e1518d2b-636a-4638-8049-71bf591b0c4c",
            "dx_settings": {
              "ALLOW_NOTEABLE_ATTRS": true,
              "COLUMN_SAMPLING_METHOD": "outer",
              "DB_LOCATION": ":memory:",
              "DEV_MODE": false,
              "DISPLAY_MAX_COLUMNS": 100,
              "DISPLAY_MAX_ROWS": 50000,
              "DISPLAY_MODE": "simple",
              "ENABLE_ASSIGNMENT": true,
              "ENABLE_DATALINK": true,
              "FLATTEN_COLUMN_VALUES": true,
              "FLATTEN_INDEX_VALUES": false,
              "GENERATE_DEX_METADATA": false,
              "HTML_TABLE_SCHEMA": false,
              "LOG_LEVEL": 30,
              "MAX_RENDER_SIZE_BYTES": 104857600,
              "MAX_STRING_LENGTH": 250,
              "NUM_PAST_SAMPLES_TRACKED": 3,
              "RANDOM_STATE": 12648430,
              "RESET_INDEX_VALUES": false,
              "ROW_SAMPLING_METHOD": "random",
              "SAMPLING_FACTOR": 0.1,
              "SAMPLING_METHOD": "random",
              "STRINGIFY_COLUMN_VALUES": true,
              "STRINGIFY_INDEX_VALUES": false
            },
            "sample_history": [],
            "sampling_time": "2023-08-01T23:00:09.363875",
            "user_variable_name": "df",
            "variable_name": "df"
          }
        },
        "dx": {
          "fieldMetadata": {},
          "simpleTable": true,
          "updated": 1690930850771,
          "views": []
        },
        "noteable": {
          "cell_type": "code"
        },
        "vscode": {
          "languageId": "python"
        }
      },
      "outputs": [
        {
          "data": {
            "application/vnd.dataresource+json": {
              "data": [
                {
                  "apples": 3,
                  "bananas": 1,
                  "index": 0,
                  "oranges": 0
                },
                {
                  "apples": 2,
                  "bananas": 0,
                  "index": 1,
                  "oranges": 3
                },
                {
                  "apples": 0,
                  "bananas": 2,
                  "index": 2,
                  "oranges": 7
                },
                {
                  "apples": 1,
                  "bananas": 4,
                  "index": 3,
                  "oranges": 2
                }
              ],
              "datalink": {
                "display_id": "e1518d2b-636a-4638-8049-71bf591b0c4c"
              },
              "schema": {
                "fields": [
                  {
                    "name": "index",
                    "type": "integer"
                  },
                  {
                    "name": "apples",
                    "type": "integer"
                  },
                  {
                    "name": "oranges",
                    "type": "integer"
                  },
                  {
                    "name": "bananas",
                    "type": "integer"
                  }
                ],
                "pandas_version": "1.4.0",
                "primaryKey": [
                  "index"
                ]
              }
            }
          },
          "metadata": {
            "application/vnd.dataresource+json": {
              "datalink": {
                "applied_filters": [],
                "dataframe_info": {
                  "default_index_used": true,
                  "orig_num_cols": 3,
                  "orig_num_rows": 4,
                  "orig_size_bytes": 128,
                  "truncated_num_cols": 3,
                  "truncated_num_rows": 4,
                  "truncated_size_bytes": 128,
                  "truncated_string_columns": []
                },
                "display_id": "e1518d2b-636a-4638-8049-71bf591b0c4c",
                "dx_settings": {
                  "ALLOW_NOTEABLE_ATTRS": true,
                  "COLUMN_SAMPLING_METHOD": "outer",
                  "DB_LOCATION": ":memory:",
                  "DEV_MODE": false,
                  "DISPLAY_MAX_COLUMNS": 100,
                  "DISPLAY_MAX_ROWS": 50000,
                  "DISPLAY_MODE": "simple",
                  "ENABLE_ASSIGNMENT": true,
                  "ENABLE_DATALINK": true,
                  "FLATTEN_COLUMN_VALUES": true,
                  "FLATTEN_INDEX_VALUES": false,
                  "GENERATE_DEX_METADATA": false,
                  "HTML_TABLE_SCHEMA": false,
                  "LOG_LEVEL": 30,
                  "MAX_RENDER_SIZE_BYTES": 104857600,
                  "MAX_STRING_LENGTH": 250,
                  "NUM_PAST_SAMPLES_TRACKED": 3,
                  "RANDOM_STATE": 12648430,
                  "RESET_INDEX_VALUES": false,
                  "ROW_SAMPLING_METHOD": "random",
                  "SAMPLING_FACTOR": 0.1,
                  "SAMPLING_METHOD": "random",
                  "STRINGIFY_COLUMN_VALUES": true,
                  "STRINGIFY_INDEX_VALUES": false
                },
                "sample_history": [],
                "sampling_time": "2023-08-01T23:00:09.363875",
                "user_variable_name": "df",
                "variable_name": "df"
              },
              "display_id": "e1518d2b-636a-4638-8049-71bf591b0c4c"
            }
          },
          "output_type": "display_data"
        }
      ],
      "source": [
        "# Creating a new column\n",
        "df['bananas'] = pd.Series([1, 0, 2, 4])\n",
        "df"
      ]
    },
    {
      "cell_type": "code",
      "execution_count": null,
      "id": "ff3e24d5-95c9-4b6f-aa8e-796403cb800a",
      "metadata": {
        "ExecuteTime": {
          "end_time": "2023-08-01T23:00:19.303383+00:00",
          "start_time": "2023-08-01T23:00:19.102267+00:00"
        },
        "datalink": {
          "9748e3e5-076f-4c32-a3e6-1fdf44d37d85": {
            "applied_filters": [],
            "dataframe_info": {
              "default_index_used": true,
              "orig_num_cols": 4,
              "orig_num_rows": 4,
              "orig_size_bytes": 160,
              "truncated_num_cols": 4,
              "truncated_num_rows": 4,
              "truncated_size_bytes": 160,
              "truncated_string_columns": []
            },
            "display_id": "9748e3e5-076f-4c32-a3e6-1fdf44d37d85",
            "dx_settings": {
              "ALLOW_NOTEABLE_ATTRS": true,
              "COLUMN_SAMPLING_METHOD": "outer",
              "DB_LOCATION": ":memory:",
              "DEV_MODE": false,
              "DISPLAY_MAX_COLUMNS": 100,
              "DISPLAY_MAX_ROWS": 50000,
              "DISPLAY_MODE": "simple",
              "ENABLE_ASSIGNMENT": true,
              "ENABLE_DATALINK": true,
              "FLATTEN_COLUMN_VALUES": true,
              "FLATTEN_INDEX_VALUES": false,
              "GENERATE_DEX_METADATA": false,
              "HTML_TABLE_SCHEMA": false,
              "LOG_LEVEL": 30,
              "MAX_RENDER_SIZE_BYTES": 104857600,
              "MAX_STRING_LENGTH": 250,
              "NUM_PAST_SAMPLES_TRACKED": 3,
              "RANDOM_STATE": 12648430,
              "RESET_INDEX_VALUES": false,
              "ROW_SAMPLING_METHOD": "random",
              "SAMPLING_FACTOR": 0.1,
              "SAMPLING_METHOD": "random",
              "STRINGIFY_COLUMN_VALUES": true,
              "STRINGIFY_INDEX_VALUES": false
            },
            "sample_history": [],
            "sampling_time": "2023-08-01T23:00:19.146047",
            "user_variable_name": "df",
            "variable_name": "df"
          }
        },
        "dx": {
          "fieldMetadata": {},
          "simpleTable": true,
          "updated": 1690930856638,
          "views": []
        },
        "noteable": {
          "cell_type": "code"
        },
        "vscode": {
          "languageId": "python"
        }
      },
      "outputs": [
        {
          "data": {
            "application/vnd.dataresource+json": {
              "data": [
                {
                  "apples": 3,
                  "bananas": 1,
                  "index": 0,
                  "oranges": 0,
                  "total_fruits": 4
                },
                {
                  "apples": 2,
                  "bananas": 0,
                  "index": 1,
                  "oranges": 3,
                  "total_fruits": 5
                },
                {
                  "apples": 0,
                  "bananas": 2,
                  "index": 2,
                  "oranges": 7,
                  "total_fruits": 9
                },
                {
                  "apples": 1,
                  "bananas": 4,
                  "index": 3,
                  "oranges": 2,
                  "total_fruits": 7
                }
              ],
              "datalink": {
                "display_id": "9748e3e5-076f-4c32-a3e6-1fdf44d37d85"
              },
              "schema": {
                "fields": [
                  {
                    "name": "index",
                    "type": "integer"
                  },
                  {
                    "name": "apples",
                    "type": "integer"
                  },
                  {
                    "name": "oranges",
                    "type": "integer"
                  },
                  {
                    "name": "bananas",
                    "type": "integer"
                  },
                  {
                    "name": "total_fruits",
                    "type": "integer"
                  }
                ],
                "pandas_version": "1.4.0",
                "primaryKey": [
                  "index"
                ]
              }
            }
          },
          "metadata": {
            "application/vnd.dataresource+json": {
              "datalink": {
                "applied_filters": [],
                "dataframe_info": {
                  "default_index_used": true,
                  "orig_num_cols": 4,
                  "orig_num_rows": 4,
                  "orig_size_bytes": 160,
                  "truncated_num_cols": 4,
                  "truncated_num_rows": 4,
                  "truncated_size_bytes": 160,
                  "truncated_string_columns": []
                },
                "display_id": "9748e3e5-076f-4c32-a3e6-1fdf44d37d85",
                "dx_settings": {
                  "ALLOW_NOTEABLE_ATTRS": true,
                  "COLUMN_SAMPLING_METHOD": "outer",
                  "DB_LOCATION": ":memory:",
                  "DEV_MODE": false,
                  "DISPLAY_MAX_COLUMNS": 100,
                  "DISPLAY_MAX_ROWS": 50000,
                  "DISPLAY_MODE": "simple",
                  "ENABLE_ASSIGNMENT": true,
                  "ENABLE_DATALINK": true,
                  "FLATTEN_COLUMN_VALUES": true,
                  "FLATTEN_INDEX_VALUES": false,
                  "GENERATE_DEX_METADATA": false,
                  "HTML_TABLE_SCHEMA": false,
                  "LOG_LEVEL": 30,
                  "MAX_RENDER_SIZE_BYTES": 104857600,
                  "MAX_STRING_LENGTH": 250,
                  "NUM_PAST_SAMPLES_TRACKED": 3,
                  "RANDOM_STATE": 12648430,
                  "RESET_INDEX_VALUES": false,
                  "ROW_SAMPLING_METHOD": "random",
                  "SAMPLING_FACTOR": 0.1,
                  "SAMPLING_METHOD": "random",
                  "STRINGIFY_COLUMN_VALUES": true,
                  "STRINGIFY_INDEX_VALUES": false
                },
                "sample_history": [],
                "sampling_time": "2023-08-01T23:00:19.146047",
                "user_variable_name": "df",
                "variable_name": "df"
              },
              "display_id": "9748e3e5-076f-4c32-a3e6-1fdf44d37d85"
            }
          },
          "output_type": "display_data"
        }
      ],
      "source": [
        "# Creating a column from other columns\n",
        "df['total_fruits'] = df['apples'] + df['oranges'] + df['bananas']\n",
        "df"
      ]
    },
    {
      "cell_type": "code",
      "execution_count": null,
      "id": "8ffb62b4-e37a-40ea-8432-a6fcf9a5546a",
      "metadata": {
        "ExecuteTime": {
          "end_time": "2023-08-01T23:00:31.397187+00:00",
          "start_time": "2023-08-01T23:00:31.191457+00:00"
        },
        "datalink": {
          "ead3a51c-7b76-4754-8c27-ac868dcf0da5": {
            "applied_filters": [],
            "dataframe_info": {
              "default_index_used": true,
              "orig_num_cols": 4,
              "orig_num_rows": 6,
              "orig_size_bytes": 240,
              "truncated_num_cols": 4,
              "truncated_num_rows": 6,
              "truncated_size_bytes": 240,
              "truncated_string_columns": []
            },
            "display_id": "ead3a51c-7b76-4754-8c27-ac868dcf0da5",
            "dx_settings": {
              "ALLOW_NOTEABLE_ATTRS": true,
              "COLUMN_SAMPLING_METHOD": "outer",
              "DB_LOCATION": ":memory:",
              "DEV_MODE": false,
              "DISPLAY_MAX_COLUMNS": 100,
              "DISPLAY_MAX_ROWS": 50000,
              "DISPLAY_MODE": "simple",
              "ENABLE_ASSIGNMENT": true,
              "ENABLE_DATALINK": true,
              "FLATTEN_COLUMN_VALUES": true,
              "FLATTEN_INDEX_VALUES": false,
              "GENERATE_DEX_METADATA": false,
              "HTML_TABLE_SCHEMA": false,
              "LOG_LEVEL": 30,
              "MAX_RENDER_SIZE_BYTES": 104857600,
              "MAX_STRING_LENGTH": 250,
              "NUM_PAST_SAMPLES_TRACKED": 3,
              "RANDOM_STATE": 12648430,
              "RESET_INDEX_VALUES": false,
              "ROW_SAMPLING_METHOD": "random",
              "SAMPLING_FACTOR": 0.1,
              "SAMPLING_METHOD": "random",
              "STRINGIFY_COLUMN_VALUES": true,
              "STRINGIFY_INDEX_VALUES": false
            },
            "sample_history": [],
            "sampling_time": "2023-08-01T23:00:31.240299",
            "user_variable_name": "df_concat",
            "variable_name": "df_concat"
          }
        },
        "dx": {
          "fieldMetadata": {},
          "simpleTable": true,
          "updated": 1690930864508,
          "views": []
        },
        "noteable": {
          "cell_type": "code"
        },
        "vscode": {
          "languageId": "python"
        }
      },
      "outputs": [
        {
          "data": {
            "application/vnd.dataresource+json": {
              "data": [
                {
                  "apples": 3,
                  "bananas": 1,
                  "index": 0,
                  "oranges": 0,
                  "total_fruits": 4
                },
                {
                  "apples": 2,
                  "bananas": 0,
                  "index": 1,
                  "oranges": 3,
                  "total_fruits": 5
                },
                {
                  "apples": 0,
                  "bananas": 2,
                  "index": 2,
                  "oranges": 7,
                  "total_fruits": 9
                },
                {
                  "apples": 1,
                  "bananas": 4,
                  "index": 3,
                  "oranges": 2,
                  "total_fruits": 7
                },
                {
                  "apples": 5,
                  "bananas": 7,
                  "index": 4,
                  "oranges": 2,
                  "total_fruits": null
                },
                {
                  "apples": 3,
                  "bananas": 6,
                  "index": 5,
                  "oranges": 4,
                  "total_fruits": null
                }
              ],
              "datalink": {
                "display_id": "ead3a51c-7b76-4754-8c27-ac868dcf0da5"
              },
              "schema": {
                "fields": [
                  {
                    "name": "index",
                    "type": "integer"
                  },
                  {
                    "name": "apples",
                    "type": "integer"
                  },
                  {
                    "name": "oranges",
                    "type": "integer"
                  },
                  {
                    "name": "bananas",
                    "type": "integer"
                  },
                  {
                    "name": "total_fruits",
                    "type": "number"
                  }
                ],
                "pandas_version": "1.4.0",
                "primaryKey": [
                  "index"
                ]
              }
            }
          },
          "metadata": {
            "application/vnd.dataresource+json": {
              "datalink": {
                "applied_filters": [],
                "dataframe_info": {
                  "default_index_used": true,
                  "orig_num_cols": 4,
                  "orig_num_rows": 6,
                  "orig_size_bytes": 240,
                  "truncated_num_cols": 4,
                  "truncated_num_rows": 6,
                  "truncated_size_bytes": 240,
                  "truncated_string_columns": []
                },
                "display_id": "ead3a51c-7b76-4754-8c27-ac868dcf0da5",
                "dx_settings": {
                  "ALLOW_NOTEABLE_ATTRS": true,
                  "COLUMN_SAMPLING_METHOD": "outer",
                  "DB_LOCATION": ":memory:",
                  "DEV_MODE": false,
                  "DISPLAY_MAX_COLUMNS": 100,
                  "DISPLAY_MAX_ROWS": 50000,
                  "DISPLAY_MODE": "simple",
                  "ENABLE_ASSIGNMENT": true,
                  "ENABLE_DATALINK": true,
                  "FLATTEN_COLUMN_VALUES": true,
                  "FLATTEN_INDEX_VALUES": false,
                  "GENERATE_DEX_METADATA": false,
                  "HTML_TABLE_SCHEMA": false,
                  "LOG_LEVEL": 30,
                  "MAX_RENDER_SIZE_BYTES": 104857600,
                  "MAX_STRING_LENGTH": 250,
                  "NUM_PAST_SAMPLES_TRACKED": 3,
                  "RANDOM_STATE": 12648430,
                  "RESET_INDEX_VALUES": false,
                  "ROW_SAMPLING_METHOD": "random",
                  "SAMPLING_FACTOR": 0.1,
                  "SAMPLING_METHOD": "random",
                  "STRINGIFY_COLUMN_VALUES": true,
                  "STRINGIFY_INDEX_VALUES": false
                },
                "sample_history": [],
                "sampling_time": "2023-08-01T23:00:31.240299",
                "user_variable_name": "df_concat",
                "variable_name": "df_concat"
              },
              "display_id": "ead3a51c-7b76-4754-8c27-ac868dcf0da5"
            }
          },
          "output_type": "display_data"
        }
      ],
      "source": [
        "# Creating another DataFrame to concatenate\n",
        "df2 = pd.DataFrame({'apples': [5, 3], 'oranges': [2, 4], 'bananas': [7, 6]}, index=[4, 5])\n",
        "\n",
        "# Concatenating DataFrames\n",
        "df_concat = pd.concat([df, df2])\n",
        "df_concat"
      ]
    },
    {
      "cell_type": "markdown",
      "id": "072a25da-ed09-4144-9bfb-94e02b133403",
      "metadata": {
        "noteable": {
          "cell_type": "markdown"
        }
      },
      "source": [
        "### The `ignore_index` Parameter\n",
        "\n",
        "When concatenating DataFrames, pandas provides an `ignore_index` parameter. If `ignore_index` is set to True, the resulting DataFrame will have a new integer index, ignoring the original indices of the concatenated DataFrames. Let's see an example."
      ]
    },
    {
      "cell_type": "code",
      "execution_count": null,
      "id": "414b4d60-6f31-45d1-997d-191729074a45",
      "metadata": {
        "ExecuteTime": {
          "end_time": "2023-08-01T23:02:04.602154+00:00",
          "start_time": "2023-08-01T23:02:04.390831+00:00"
        },
        "datalink": {
          "5fa30701-0877-46ea-807c-ad163b23c027": {
            "applied_filters": [],
            "dataframe_info": {
              "default_index_used": true,
              "orig_num_cols": 4,
              "orig_num_rows": 6,
              "orig_size_bytes": 240,
              "truncated_num_cols": 4,
              "truncated_num_rows": 6,
              "truncated_size_bytes": 240,
              "truncated_string_columns": []
            },
            "display_id": "5fa30701-0877-46ea-807c-ad163b23c027",
            "dx_settings": {
              "ALLOW_NOTEABLE_ATTRS": true,
              "COLUMN_SAMPLING_METHOD": "outer",
              "DB_LOCATION": ":memory:",
              "DEV_MODE": false,
              "DISPLAY_MAX_COLUMNS": 100,
              "DISPLAY_MAX_ROWS": 50000,
              "DISPLAY_MODE": "simple",
              "ENABLE_ASSIGNMENT": true,
              "ENABLE_DATALINK": true,
              "FLATTEN_COLUMN_VALUES": true,
              "FLATTEN_INDEX_VALUES": false,
              "GENERATE_DEX_METADATA": false,
              "HTML_TABLE_SCHEMA": false,
              "LOG_LEVEL": 30,
              "MAX_RENDER_SIZE_BYTES": 104857600,
              "MAX_STRING_LENGTH": 250,
              "NUM_PAST_SAMPLES_TRACKED": 3,
              "RANDOM_STATE": 12648430,
              "RESET_INDEX_VALUES": false,
              "ROW_SAMPLING_METHOD": "random",
              "SAMPLING_FACTOR": 0.1,
              "SAMPLING_METHOD": "random",
              "STRINGIFY_COLUMN_VALUES": true,
              "STRINGIFY_INDEX_VALUES": false
            },
            "sample_history": [],
            "sampling_time": "2023-08-01T23:02:04.444133",
            "user_variable_name": "df_concat",
            "variable_name": "df_concat"
          }
        },
        "dx": {
          "fieldMetadata": {},
          "simpleTable": true,
          "updated": 1690930928088,
          "views": []
        },
        "noteable": {
          "cell_type": "code"
        },
        "vscode": {
          "languageId": "python"
        }
      },
      "outputs": [
        {
          "data": {
            "application/vnd.dataresource+json": {
              "data": [
                {
                  "apples": 3,
                  "bananas": 1,
                  "index": 0,
                  "oranges": 0,
                  "total_fruits": 4
                },
                {
                  "apples": 2,
                  "bananas": 0,
                  "index": 1,
                  "oranges": 3,
                  "total_fruits": 5
                },
                {
                  "apples": 0,
                  "bananas": 2,
                  "index": 2,
                  "oranges": 7,
                  "total_fruits": 9
                },
                {
                  "apples": 1,
                  "bananas": 4,
                  "index": 3,
                  "oranges": 2,
                  "total_fruits": 7
                },
                {
                  "apples": 5,
                  "bananas": 7,
                  "index": 4,
                  "oranges": 2,
                  "total_fruits": null
                },
                {
                  "apples": 3,
                  "bananas": 6,
                  "index": 5,
                  "oranges": 4,
                  "total_fruits": null
                }
              ],
              "datalink": {
                "display_id": "5fa30701-0877-46ea-807c-ad163b23c027"
              },
              "schema": {
                "fields": [
                  {
                    "name": "index",
                    "type": "integer"
                  },
                  {
                    "name": "apples",
                    "type": "integer"
                  },
                  {
                    "name": "oranges",
                    "type": "integer"
                  },
                  {
                    "name": "bananas",
                    "type": "integer"
                  },
                  {
                    "name": "total_fruits",
                    "type": "number"
                  }
                ],
                "pandas_version": "1.4.0",
                "primaryKey": [
                  "index"
                ]
              }
            }
          },
          "metadata": {
            "application/vnd.dataresource+json": {
              "datalink": {
                "applied_filters": [],
                "dataframe_info": {
                  "default_index_used": true,
                  "orig_num_cols": 4,
                  "orig_num_rows": 6,
                  "orig_size_bytes": 240,
                  "truncated_num_cols": 4,
                  "truncated_num_rows": 6,
                  "truncated_size_bytes": 240,
                  "truncated_string_columns": []
                },
                "display_id": "5fa30701-0877-46ea-807c-ad163b23c027",
                "dx_settings": {
                  "ALLOW_NOTEABLE_ATTRS": true,
                  "COLUMN_SAMPLING_METHOD": "outer",
                  "DB_LOCATION": ":memory:",
                  "DEV_MODE": false,
                  "DISPLAY_MAX_COLUMNS": 100,
                  "DISPLAY_MAX_ROWS": 50000,
                  "DISPLAY_MODE": "simple",
                  "ENABLE_ASSIGNMENT": true,
                  "ENABLE_DATALINK": true,
                  "FLATTEN_COLUMN_VALUES": true,
                  "FLATTEN_INDEX_VALUES": false,
                  "GENERATE_DEX_METADATA": false,
                  "HTML_TABLE_SCHEMA": false,
                  "LOG_LEVEL": 30,
                  "MAX_RENDER_SIZE_BYTES": 104857600,
                  "MAX_STRING_LENGTH": 250,
                  "NUM_PAST_SAMPLES_TRACKED": 3,
                  "RANDOM_STATE": 12648430,
                  "RESET_INDEX_VALUES": false,
                  "ROW_SAMPLING_METHOD": "random",
                  "SAMPLING_FACTOR": 0.1,
                  "SAMPLING_METHOD": "random",
                  "STRINGIFY_COLUMN_VALUES": true,
                  "STRINGIFY_INDEX_VALUES": false
                },
                "sample_history": [],
                "sampling_time": "2023-08-01T23:02:04.444133",
                "user_variable_name": "df_concat",
                "variable_name": "df_concat"
              },
              "display_id": "5fa30701-0877-46ea-807c-ad163b23c027"
            }
          },
          "output_type": "display_data"
        }
      ],
      "source": [
        "# Concatenating DataFrames with ignore_index\n",
        "df_concat_ignore_index = pd.concat([df, df2], ignore_index=True)\n",
        "df_concat_ignore_index"
      ]
    },
    {
      "cell_type": "markdown",
      "id": "382c9e99-5dab-483e-9011-862d0af26815",
      "metadata": {
        "noteable": {
          "cell_type": "markdown"
        }
      },
      "source": [
        "## Exploring a DataFrame\n",
        "\n",
        "Pandas provides several methods that are useful for quickly summarizing and gaining insights from your data. In this section, we'll explore the `value_counts`, `unique`, `nunique`, and `describe` methods. Let's first create a new DataFrame for these examples."
      ]
    },
    {
      "cell_type": "code",
      "execution_count": null,
      "id": "83457b56-50da-4c94-82ce-f724003921c7",
      "metadata": {
        "ExecuteTime": {
          "end_time": "2023-08-01T23:04:13.286285+00:00",
          "start_time": "2023-08-01T23:04:13.073194+00:00"
        },
        "datalink": {
          "24cd3e48-99f4-45b5-952c-9c8ec98d1e0e": {
            "applied_filters": [],
            "dataframe_info": {
              "default_index_used": true,
              "orig_num_cols": 5,
              "orig_num_rows": 20,
              "orig_size_bytes": 960,
              "truncated_num_cols": 5,
              "truncated_num_rows": 20,
              "truncated_size_bytes": 960,
              "truncated_string_columns": []
            },
            "display_id": "24cd3e48-99f4-45b5-952c-9c8ec98d1e0e",
            "dx_settings": {
              "ALLOW_NOTEABLE_ATTRS": true,
              "COLUMN_SAMPLING_METHOD": "outer",
              "DB_LOCATION": ":memory:",
              "DEV_MODE": false,
              "DISPLAY_MAX_COLUMNS": 100,
              "DISPLAY_MAX_ROWS": 50000,
              "DISPLAY_MODE": "simple",
              "ENABLE_ASSIGNMENT": true,
              "ENABLE_DATALINK": true,
              "FLATTEN_COLUMN_VALUES": true,
              "FLATTEN_INDEX_VALUES": false,
              "GENERATE_DEX_METADATA": false,
              "HTML_TABLE_SCHEMA": false,
              "LOG_LEVEL": 30,
              "MAX_RENDER_SIZE_BYTES": 104857600,
              "MAX_STRING_LENGTH": 250,
              "NUM_PAST_SAMPLES_TRACKED": 3,
              "RANDOM_STATE": 12648430,
              "RESET_INDEX_VALUES": false,
              "ROW_SAMPLING_METHOD": "random",
              "SAMPLING_FACTOR": 0.1,
              "SAMPLING_METHOD": "random",
              "STRINGIFY_COLUMN_VALUES": true,
              "STRINGIFY_INDEX_VALUES": false
            },
            "sample_history": [],
            "sampling_time": "2023-08-01T23:04:13.129311",
            "user_variable_name": "df_explore",
            "variable_name": "df_explore"
          }
        },
        "dx": {
          "fieldMetadata": {},
          "simpleTable": true,
          "simpleTableExpanded": true,
          "updated": 1690931061853,
          "views": []
        },
        "noteable": {
          "cell_type": "code"
        },
        "vscode": {
          "languageId": "python"
        }
      },
      "outputs": [
        {
          "data": {
            "application/vnd.dataresource+json": {
              "data": [
                {
                  "A": 1,
                  "B": "red",
                  "C": -0.3582857776616497,
                  "D": "rabbit",
                  "E": 73,
                  "index": 0
                },
                {
                  "A": 3,
                  "B": "blue",
                  "C": 0.8883577549060309,
                  "D": "dog",
                  "E": 53,
                  "index": 1
                },
                {
                  "A": 3,
                  "B": "blue",
                  "C": -0.8824613057530961,
                  "D": "dog",
                  "E": 59,
                  "index": 2
                },
                {
                  "A": 6,
                  "B": "green",
                  "C": 0.25038173323202384,
                  "D": "dog",
                  "E": 12,
                  "index": 3
                },
                {
                  "A": 6,
                  "B": "green",
                  "C": -1.1691164568437424,
                  "D": "cat",
                  "E": 85,
                  "index": 4
                },
                {
                  "A": 6,
                  "B": "red",
                  "C": 0.2699524358786054,
                  "D": "dog",
                  "E": 51,
                  "index": 5
                },
                {
                  "A": 3,
                  "B": "red",
                  "C": -1.4143779888363075,
                  "D": "dog",
                  "E": 7,
                  "index": 6
                },
                {
                  "A": 6,
                  "B": "blue",
                  "C": 0.9119095167664971,
                  "D": "cat",
                  "E": 97,
                  "index": 7
                },
                {
                  "A": 4,
                  "B": "green",
                  "C": -0.0788016691969199,
                  "D": "cat",
                  "E": 10,
                  "index": 8
                },
                {
                  "A": 6,
                  "B": "green",
                  "C": -0.9854506314217006,
                  "D": "rabbit",
                  "E": 65,
                  "index": 9
                },
                {
                  "A": 3,
                  "B": "red",
                  "C": -0.2016944437691138,
                  "D": "rabbit",
                  "E": 60,
                  "index": 10
                },
                {
                  "A": 5,
                  "B": "green",
                  "C": 0.3223873318544667,
                  "D": "cat",
                  "E": 96,
                  "index": 11
                },
                {
                  "A": 8,
                  "B": "red",
                  "C": -2.2431797216003297,
                  "D": "rabbit",
                  "E": 90,
                  "index": 12
                },
                {
                  "A": 7,
                  "B": "blue",
                  "C": -0.7694628570166446,
                  "D": "cat",
                  "E": 76,
                  "index": 13
                },
                {
                  "A": 6,
                  "B": "red",
                  "C": -0.025487923293082623,
                  "D": "cat",
                  "E": 72,
                  "index": 14
                },
                {
                  "A": 9,
                  "B": "red",
                  "C": -0.8837574763519553,
                  "D": "dog",
                  "E": 44,
                  "index": 15
                },
                {
                  "A": 4,
                  "B": "red",
                  "C": 1.5471738644081607,
                  "D": "rabbit",
                  "E": 6,
                  "index": 16
                },
                {
                  "A": 2,
                  "B": "green",
                  "C": -0.6276678210699645,
                  "D": "dog",
                  "E": 82,
                  "index": 17
                },
                {
                  "A": 8,
                  "B": "blue",
                  "C": -0.3941736209076246,
                  "D": "dog",
                  "E": 22,
                  "index": 18
                },
                {
                  "A": 3,
                  "B": "red",
                  "C": -0.8994495556822881,
                  "D": "dog",
                  "E": 35,
                  "index": 19
                }
              ],
              "datalink": {
                "display_id": "24cd3e48-99f4-45b5-952c-9c8ec98d1e0e"
              },
              "schema": {
                "fields": [
                  {
                    "name": "index",
                    "type": "integer"
                  },
                  {
                    "name": "A",
                    "type": "integer"
                  },
                  {
                    "name": "B",
                    "type": "string"
                  },
                  {
                    "name": "C",
                    "type": "number"
                  },
                  {
                    "name": "D",
                    "type": "string"
                  },
                  {
                    "name": "E",
                    "type": "integer"
                  }
                ],
                "pandas_version": "1.4.0",
                "primaryKey": [
                  "index"
                ]
              }
            }
          },
          "metadata": {
            "application/vnd.dataresource+json": {
              "datalink": {
                "applied_filters": [],
                "dataframe_info": {
                  "default_index_used": true,
                  "orig_num_cols": 5,
                  "orig_num_rows": 20,
                  "orig_size_bytes": 960,
                  "truncated_num_cols": 5,
                  "truncated_num_rows": 20,
                  "truncated_size_bytes": 960,
                  "truncated_string_columns": []
                },
                "display_id": "24cd3e48-99f4-45b5-952c-9c8ec98d1e0e",
                "dx_settings": {
                  "ALLOW_NOTEABLE_ATTRS": true,
                  "COLUMN_SAMPLING_METHOD": "outer",
                  "DB_LOCATION": ":memory:",
                  "DEV_MODE": false,
                  "DISPLAY_MAX_COLUMNS": 100,
                  "DISPLAY_MAX_ROWS": 50000,
                  "DISPLAY_MODE": "simple",
                  "ENABLE_ASSIGNMENT": true,
                  "ENABLE_DATALINK": true,
                  "FLATTEN_COLUMN_VALUES": true,
                  "FLATTEN_INDEX_VALUES": false,
                  "GENERATE_DEX_METADATA": false,
                  "HTML_TABLE_SCHEMA": false,
                  "LOG_LEVEL": 30,
                  "MAX_RENDER_SIZE_BYTES": 104857600,
                  "MAX_STRING_LENGTH": 250,
                  "NUM_PAST_SAMPLES_TRACKED": 3,
                  "RANDOM_STATE": 12648430,
                  "RESET_INDEX_VALUES": false,
                  "ROW_SAMPLING_METHOD": "random",
                  "SAMPLING_FACTOR": 0.1,
                  "SAMPLING_METHOD": "random",
                  "STRINGIFY_COLUMN_VALUES": true,
                  "STRINGIFY_INDEX_VALUES": false
                },
                "sample_history": [],
                "sampling_time": "2023-08-01T23:04:13.129311",
                "user_variable_name": "df_explore",
                "variable_name": "df_explore"
              },
              "display_id": "24cd3e48-99f4-45b5-952c-9c8ec98d1e0e"
            }
          },
          "output_type": "display_data"
        }
      ],
      "source": [
        "# Creating a new DataFrame\n",
        "data = {\n",
        "    'A': np.random.randint(1, 10, 20),\n",
        "    'B': np.random.choice(['red', 'green', 'blue'], 20),\n",
        "    'C': np.random.normal(0, 1, 20),\n",
        "    'D': np.random.choice(['cat', 'dog', 'rabbit'], 20),\n",
        "    'E': np.random.randint(1, 100, 20)\n",
        "}\n",
        "df_explore = pd.DataFrame(data)\n",
        "df_explore"
      ]
    },
    {
      "cell_type": "code",
      "execution_count": null,
      "id": "2a61a859-34ea-4923-992d-392c8ec24851",
      "metadata": {
        "ExecuteTime": {
          "end_time": "2023-08-01T23:04:24.348585+00:00",
          "start_time": "2023-08-01T23:04:24.150314+00:00"
        },
        "datalink": {
          "4b7794f1-9f08-4be4-9711-8f02ed712de3": {
            "applied_filters": [],
            "dataframe_info": {
              "default_index_used": false,
              "orig_num_cols": 1,
              "orig_num_rows": 3,
              "orig_size_bytes": 48,
              "truncated_num_cols": 1,
              "truncated_num_rows": 3,
              "truncated_size_bytes": 48,
              "truncated_string_columns": []
            },
            "display_id": "4b7794f1-9f08-4be4-9711-8f02ed712de3",
            "dx_settings": {
              "ALLOW_NOTEABLE_ATTRS": true,
              "COLUMN_SAMPLING_METHOD": "outer",
              "DB_LOCATION": ":memory:",
              "DEV_MODE": false,
              "DISPLAY_MAX_COLUMNS": 100,
              "DISPLAY_MAX_ROWS": 50000,
              "DISPLAY_MODE": "simple",
              "ENABLE_ASSIGNMENT": true,
              "ENABLE_DATALINK": true,
              "FLATTEN_COLUMN_VALUES": true,
              "FLATTEN_INDEX_VALUES": false,
              "GENERATE_DEX_METADATA": false,
              "HTML_TABLE_SCHEMA": false,
              "LOG_LEVEL": 30,
              "MAX_RENDER_SIZE_BYTES": 104857600,
              "MAX_STRING_LENGTH": 250,
              "NUM_PAST_SAMPLES_TRACKED": 3,
              "RANDOM_STATE": 12648430,
              "RESET_INDEX_VALUES": false,
              "ROW_SAMPLING_METHOD": "random",
              "SAMPLING_FACTOR": 0.1,
              "SAMPLING_METHOD": "random",
              "STRINGIFY_COLUMN_VALUES": true,
              "STRINGIFY_INDEX_VALUES": false
            },
            "sample_history": [],
            "sampling_time": "2023-08-01T23:04:24.192409",
            "user_variable_name": null,
            "variable_name": "unk_dataframe_f261e7e5f6be45549ab675d6e84a2a5c"
          }
        },
        "dx": {
          "fieldMetadata": {},
          "simpleTable": true,
          "updated": 1690931083410,
          "views": []
        },
        "noteable": {
          "cell_type": "code"
        },
        "vscode": {
          "languageId": "python"
        }
      },
      "outputs": [
        {
          "data": {
            "application/vnd.dataresource+json": {
              "data": [
                {
                  "B": 9,
                  "index": "red"
                },
                {
                  "B": 6,
                  "index": "green"
                },
                {
                  "B": 5,
                  "index": "blue"
                }
              ],
              "datalink": {
                "display_id": "4b7794f1-9f08-4be4-9711-8f02ed712de3"
              },
              "schema": {
                "fields": [
                  {
                    "name": "index",
                    "type": "string"
                  },
                  {
                    "name": "B",
                    "type": "integer"
                  }
                ],
                "pandas_version": "1.4.0",
                "primaryKey": [
                  "index"
                ]
              }
            }
          },
          "metadata": {
            "application/vnd.dataresource+json": {
              "datalink": {
                "applied_filters": [],
                "dataframe_info": {
                  "default_index_used": false,
                  "orig_num_cols": 1,
                  "orig_num_rows": 3,
                  "orig_size_bytes": 48,
                  "truncated_num_cols": 1,
                  "truncated_num_rows": 3,
                  "truncated_size_bytes": 48,
                  "truncated_string_columns": []
                },
                "display_id": "4b7794f1-9f08-4be4-9711-8f02ed712de3",
                "dx_settings": {
                  "ALLOW_NOTEABLE_ATTRS": true,
                  "COLUMN_SAMPLING_METHOD": "outer",
                  "DB_LOCATION": ":memory:",
                  "DEV_MODE": false,
                  "DISPLAY_MAX_COLUMNS": 100,
                  "DISPLAY_MAX_ROWS": 50000,
                  "DISPLAY_MODE": "simple",
                  "ENABLE_ASSIGNMENT": true,
                  "ENABLE_DATALINK": true,
                  "FLATTEN_COLUMN_VALUES": true,
                  "FLATTEN_INDEX_VALUES": false,
                  "GENERATE_DEX_METADATA": false,
                  "HTML_TABLE_SCHEMA": false,
                  "LOG_LEVEL": 30,
                  "MAX_RENDER_SIZE_BYTES": 104857600,
                  "MAX_STRING_LENGTH": 250,
                  "NUM_PAST_SAMPLES_TRACKED": 3,
                  "RANDOM_STATE": 12648430,
                  "RESET_INDEX_VALUES": false,
                  "ROW_SAMPLING_METHOD": "random",
                  "SAMPLING_FACTOR": 0.1,
                  "SAMPLING_METHOD": "random",
                  "STRINGIFY_COLUMN_VALUES": true,
                  "STRINGIFY_INDEX_VALUES": false
                },
                "sample_history": [],
                "sampling_time": "2023-08-01T23:04:24.192409",
                "user_variable_name": null,
                "variable_name": "unk_dataframe_f261e7e5f6be45549ab675d6e84a2a5c"
              },
              "display_id": "4b7794f1-9f08-4be4-9711-8f02ed712de3"
            }
          },
          "output_type": "display_data"
        }
      ],
      "source": [
        "# value_counts method\n",
        "df_explore['B'].value_counts()"
      ]
    },
    {
      "cell_type": "code",
      "execution_count": null,
      "id": "af9b71d8-8255-43e7-8db3-4917d2bd50a0",
      "metadata": {
        "ExecuteTime": {
          "end_time": "2023-08-01T23:04:33.269618+00:00",
          "start_time": "2023-08-01T23:04:33.108563+00:00"
        },
        "noteable": {
          "cell_type": "code"
        },
        "vscode": {
          "languageId": "python"
        }
      },
      "outputs": [
        {
          "data": {
            "text/plain": [
              "array(['rabbit', 'dog', 'cat'], dtype=object)"
            ]
          },
          "execution_count": null,
          "metadata": {},
          "output_type": "execute_result"
        }
      ],
      "source": [
        "# unique method\n",
        "df_explore['D'].unique()"
      ]
    },
    {
      "cell_type": "code",
      "execution_count": null,
      "id": "55b79ac0-1a00-4192-8a06-33e8f9e33cfc",
      "metadata": {
        "ExecuteTime": {
          "end_time": "2023-08-01T23:04:42.850993+00:00",
          "start_time": "2023-08-01T23:04:42.691788+00:00"
        },
        "noteable": {
          "cell_type": "code"
        },
        "vscode": {
          "languageId": "python"
        }
      },
      "outputs": [
        {
          "data": {
            "text/plain": [
              "9"
            ]
          },
          "execution_count": null,
          "metadata": {},
          "output_type": "execute_result"
        }
      ],
      "source": [
        "# nunique method\n",
        "df_explore['A'].nunique()"
      ]
    },
    {
      "cell_type": "code",
      "execution_count": null,
      "id": "f9bbba5a-db92-459e-9bb2-d735f2eea67d",
      "metadata": {
        "ExecuteTime": {
          "end_time": "2023-08-01T23:04:52.324449+00:00",
          "start_time": "2023-08-01T23:04:52.111413+00:00"
        },
        "datalink": {
          "c53e93e5-4954-47d6-827f-d7c05035cd4e": {
            "applied_filters": [],
            "dataframe_info": {
              "default_index_used": false,
              "orig_num_cols": 3,
              "orig_num_rows": 8,
              "orig_size_bytes": 256,
              "truncated_num_cols": 3,
              "truncated_num_rows": 8,
              "truncated_size_bytes": 256,
              "truncated_string_columns": []
            },
            "display_id": "c53e93e5-4954-47d6-827f-d7c05035cd4e",
            "dx_settings": {
              "ALLOW_NOTEABLE_ATTRS": true,
              "COLUMN_SAMPLING_METHOD": "outer",
              "DB_LOCATION": ":memory:",
              "DEV_MODE": false,
              "DISPLAY_MAX_COLUMNS": 100,
              "DISPLAY_MAX_ROWS": 50000,
              "DISPLAY_MODE": "simple",
              "ENABLE_ASSIGNMENT": true,
              "ENABLE_DATALINK": true,
              "FLATTEN_COLUMN_VALUES": true,
              "FLATTEN_INDEX_VALUES": false,
              "GENERATE_DEX_METADATA": false,
              "HTML_TABLE_SCHEMA": false,
              "LOG_LEVEL": 30,
              "MAX_RENDER_SIZE_BYTES": 104857600,
              "MAX_STRING_LENGTH": 250,
              "NUM_PAST_SAMPLES_TRACKED": 3,
              "RANDOM_STATE": 12648430,
              "RESET_INDEX_VALUES": false,
              "ROW_SAMPLING_METHOD": "random",
              "SAMPLING_FACTOR": 0.1,
              "SAMPLING_METHOD": "random",
              "STRINGIFY_COLUMN_VALUES": true,
              "STRINGIFY_INDEX_VALUES": false
            },
            "sample_history": [],
            "sampling_time": "2023-08-01T23:04:52.167424",
            "user_variable_name": null,
            "variable_name": "unk_dataframe_1aecddf0d7ce44ffa9687f8e41d86936"
          }
        },
        "dx": {
          "fieldMetadata": {},
          "simpleTable": true,
          "updated": 1690931099020,
          "views": []
        },
        "noteable": {
          "cell_type": "code"
        },
        "vscode": {
          "languageId": "python"
        }
      },
      "outputs": [
        {
          "data": {
            "application/vnd.dataresource+json": {
              "data": [
                {
                  "A": 20,
                  "C": 20,
                  "E": 20,
                  "index": "count"
                },
                {
                  "A": 4.95,
                  "C": -0.3371602306179317,
                  "E": 54.75,
                  "index": "mean"
                },
                {
                  "A": 2.1878853044122666,
                  "C": 0.889613362947958,
                  "E": 30.52328705483043,
                  "index": "std"
                },
                {
                  "A": 1,
                  "C": -2.2431797216003297,
                  "E": 6,
                  "index": "min"
                },
                {
                  "A": 3,
                  "C": -0.8876804961845386,
                  "E": 31.75,
                  "index": "25%"
                },
                {
                  "A": 5.5,
                  "C": -0.3762296992846371,
                  "E": 59.5,
                  "index": "50%"
                },
                {
                  "A": 6,
                  "C": 0.25527440889366926,
                  "E": 77.5,
                  "index": "75%"
                },
                {
                  "A": 9,
                  "C": 1.5471738644081607,
                  "E": 97,
                  "index": "max"
                }
              ],
              "datalink": {
                "display_id": "c53e93e5-4954-47d6-827f-d7c05035cd4e"
              },
              "schema": {
                "fields": [
                  {
                    "name": "index",
                    "type": "string"
                  },
                  {
                    "name": "A",
                    "type": "number"
                  },
                  {
                    "name": "C",
                    "type": "number"
                  },
                  {
                    "name": "E",
                    "type": "number"
                  }
                ],
                "pandas_version": "1.4.0",
                "primaryKey": [
                  "index"
                ]
              }
            }
          },
          "metadata": {
            "application/vnd.dataresource+json": {
              "datalink": {
                "applied_filters": [],
                "dataframe_info": {
                  "default_index_used": false,
                  "orig_num_cols": 3,
                  "orig_num_rows": 8,
                  "orig_size_bytes": 256,
                  "truncated_num_cols": 3,
                  "truncated_num_rows": 8,
                  "truncated_size_bytes": 256,
                  "truncated_string_columns": []
                },
                "display_id": "c53e93e5-4954-47d6-827f-d7c05035cd4e",
                "dx_settings": {
                  "ALLOW_NOTEABLE_ATTRS": true,
                  "COLUMN_SAMPLING_METHOD": "outer",
                  "DB_LOCATION": ":memory:",
                  "DEV_MODE": false,
                  "DISPLAY_MAX_COLUMNS": 100,
                  "DISPLAY_MAX_ROWS": 50000,
                  "DISPLAY_MODE": "simple",
                  "ENABLE_ASSIGNMENT": true,
                  "ENABLE_DATALINK": true,
                  "FLATTEN_COLUMN_VALUES": true,
                  "FLATTEN_INDEX_VALUES": false,
                  "GENERATE_DEX_METADATA": false,
                  "HTML_TABLE_SCHEMA": false,
                  "LOG_LEVEL": 30,
                  "MAX_RENDER_SIZE_BYTES": 104857600,
                  "MAX_STRING_LENGTH": 250,
                  "NUM_PAST_SAMPLES_TRACKED": 3,
                  "RANDOM_STATE": 12648430,
                  "RESET_INDEX_VALUES": false,
                  "ROW_SAMPLING_METHOD": "random",
                  "SAMPLING_FACTOR": 0.1,
                  "SAMPLING_METHOD": "random",
                  "STRINGIFY_COLUMN_VALUES": true,
                  "STRINGIFY_INDEX_VALUES": false
                },
                "sample_history": [],
                "sampling_time": "2023-08-01T23:04:52.167424",
                "user_variable_name": null,
                "variable_name": "unk_dataframe_1aecddf0d7ce44ffa9687f8e41d86936"
              },
              "display_id": "c53e93e5-4954-47d6-827f-d7c05035cd4e"
            }
          },
          "output_type": "display_data"
        }
      ],
      "source": [
        "# describe method\n",
        "df_explore.describe()"
      ]
    },
    {
      "cell_type": "markdown",
      "id": "787fb6fa-6ab0-4698-915c-36f5b2922298",
      "metadata": {
        "noteable": {
          "cell_type": "markdown"
        }
      },
      "source": [
        "## Sorting and Ranking in a DataFrame\n",
        "\n",
        "Pandas provides several methods for sorting and ranking data in a DataFrame. In this section, we'll explore the `sort_values`, `iloc`, and `loc` methods. The `sort_values` method sorts a DataFrame by one or more columns, while `iloc` and `loc` are used for indexing and selecting data."
      ]
    },
    {
      "cell_type": "code",
      "execution_count": null,
      "id": "1c502e98-0191-4ed7-ad1c-9c61105ab985",
      "metadata": {
        "ExecuteTime": {
          "end_time": "2023-08-01T23:07:59.185622+00:00",
          "start_time": "2023-08-01T23:07:58.963545+00:00"
        },
        "datalink": {
          "028dec28-d98e-4cc0-97bf-93dcb668bce5": {
            "applied_filters": [],
            "dataframe_info": {
              "default_index_used": true,
              "orig_num_cols": 5,
              "orig_num_rows": 5,
              "orig_size_bytes": 240,
              "truncated_num_cols": 5,
              "truncated_num_rows": 5,
              "truncated_size_bytes": 240,
              "truncated_string_columns": []
            },
            "display_id": "028dec28-d98e-4cc0-97bf-93dcb668bce5",
            "dx_settings": {
              "ALLOW_NOTEABLE_ATTRS": true,
              "COLUMN_SAMPLING_METHOD": "outer",
              "DB_LOCATION": ":memory:",
              "DEV_MODE": false,
              "DISPLAY_MAX_COLUMNS": 100,
              "DISPLAY_MAX_ROWS": 50000,
              "DISPLAY_MODE": "simple",
              "ENABLE_ASSIGNMENT": true,
              "ENABLE_DATALINK": true,
              "FLATTEN_COLUMN_VALUES": true,
              "FLATTEN_INDEX_VALUES": false,
              "GENERATE_DEX_METADATA": false,
              "HTML_TABLE_SCHEMA": false,
              "LOG_LEVEL": 30,
              "MAX_RENDER_SIZE_BYTES": 104857600,
              "MAX_STRING_LENGTH": 250,
              "NUM_PAST_SAMPLES_TRACKED": 3,
              "RANDOM_STATE": 12648430,
              "RESET_INDEX_VALUES": false,
              "ROW_SAMPLING_METHOD": "random",
              "SAMPLING_FACTOR": 0.1,
              "SAMPLING_METHOD": "random",
              "STRINGIFY_COLUMN_VALUES": true,
              "STRINGIFY_INDEX_VALUES": false
            },
            "sample_history": [],
            "sampling_time": "2023-08-01T23:07:59.028398",
            "user_variable_name": "df_explore_iloc",
            "variable_name": "df_explore_iloc"
          },
          "de6c767d-ef05-4db7-87c9-b8d6d3194d01": {
            "applied_filters": [],
            "dataframe_info": {
              "default_index_used": true,
              "orig_num_cols": 5,
              "orig_num_rows": 20,
              "orig_size_bytes": 960,
              "truncated_num_cols": 5,
              "truncated_num_rows": 20,
              "truncated_size_bytes": 960,
              "truncated_string_columns": []
            },
            "display_id": "de6c767d-ef05-4db7-87c9-b8d6d3194d01",
            "dx_settings": {
              "ALLOW_NOTEABLE_ATTRS": true,
              "COLUMN_SAMPLING_METHOD": "outer",
              "DB_LOCATION": ":memory:",
              "DEV_MODE": false,
              "DISPLAY_MAX_COLUMNS": 100,
              "DISPLAY_MAX_ROWS": 50000,
              "DISPLAY_MODE": "simple",
              "ENABLE_ASSIGNMENT": true,
              "ENABLE_DATALINK": true,
              "FLATTEN_COLUMN_VALUES": true,
              "FLATTEN_INDEX_VALUES": false,
              "GENERATE_DEX_METADATA": false,
              "HTML_TABLE_SCHEMA": false,
              "LOG_LEVEL": 30,
              "MAX_RENDER_SIZE_BYTES": 104857600,
              "MAX_STRING_LENGTH": 250,
              "NUM_PAST_SAMPLES_TRACKED": 3,
              "RANDOM_STATE": 12648430,
              "RESET_INDEX_VALUES": false,
              "ROW_SAMPLING_METHOD": "random",
              "SAMPLING_FACTOR": 0.1,
              "SAMPLING_METHOD": "random",
              "STRINGIFY_COLUMN_VALUES": true,
              "STRINGIFY_INDEX_VALUES": false
            },
            "sample_history": [],
            "sampling_time": "2023-08-01T23:07:19.274781",
            "user_variable_name": "df_explore_sorted",
            "variable_name": "df_explore_sorted"
          }
        },
        "dx": {
          "fieldMetadata": {},
          "simpleTable": true,
          "updated": 1690931263257,
          "views": []
        },
        "noteable": {
          "cell_type": "code"
        },
        "vscode": {
          "languageId": "python"
        }
      },
      "outputs": [
        {
          "data": {
            "application/vnd.dataresource+json": {
              "data": [
                {
                  "A": 1,
                  "B": "red",
                  "C": -0.3582857776616497,
                  "D": "rabbit",
                  "E": 73,
                  "index": 0
                },
                {
                  "A": 2,
                  "B": "green",
                  "C": -0.6276678210699645,
                  "D": "dog",
                  "E": 82,
                  "index": 17
                },
                {
                  "A": 3,
                  "B": "red",
                  "C": -0.2016944437691138,
                  "D": "rabbit",
                  "E": 60,
                  "index": 10
                },
                {
                  "A": 3,
                  "B": "red",
                  "C": -1.4143779888363075,
                  "D": "dog",
                  "E": 7,
                  "index": 6
                },
                {
                  "A": 3,
                  "B": "red",
                  "C": -0.8994495556822881,
                  "D": "dog",
                  "E": 35,
                  "index": 19
                }
              ],
              "datalink": {
                "display_id": "028dec28-d98e-4cc0-97bf-93dcb668bce5"
              },
              "schema": {
                "fields": [
                  {
                    "name": "index",
                    "type": "integer"
                  },
                  {
                    "name": "A",
                    "type": "integer"
                  },
                  {
                    "name": "B",
                    "type": "string"
                  },
                  {
                    "name": "C",
                    "type": "number"
                  },
                  {
                    "name": "D",
                    "type": "string"
                  },
                  {
                    "name": "E",
                    "type": "integer"
                  }
                ],
                "pandas_version": "1.4.0",
                "primaryKey": [
                  "index"
                ]
              }
            }
          },
          "metadata": {
            "application/vnd.dataresource+json": {
              "datalink": {
                "applied_filters": [],
                "dataframe_info": {
                  "default_index_used": true,
                  "orig_num_cols": 5,
                  "orig_num_rows": 5,
                  "orig_size_bytes": 240,
                  "truncated_num_cols": 5,
                  "truncated_num_rows": 5,
                  "truncated_size_bytes": 240,
                  "truncated_string_columns": []
                },
                "display_id": "028dec28-d98e-4cc0-97bf-93dcb668bce5",
                "dx_settings": {
                  "ALLOW_NOTEABLE_ATTRS": true,
                  "COLUMN_SAMPLING_METHOD": "outer",
                  "DB_LOCATION": ":memory:",
                  "DEV_MODE": false,
                  "DISPLAY_MAX_COLUMNS": 100,
                  "DISPLAY_MAX_ROWS": 50000,
                  "DISPLAY_MODE": "simple",
                  "ENABLE_ASSIGNMENT": true,
                  "ENABLE_DATALINK": true,
                  "FLATTEN_COLUMN_VALUES": true,
                  "FLATTEN_INDEX_VALUES": false,
                  "GENERATE_DEX_METADATA": false,
                  "HTML_TABLE_SCHEMA": false,
                  "LOG_LEVEL": 30,
                  "MAX_RENDER_SIZE_BYTES": 104857600,
                  "MAX_STRING_LENGTH": 250,
                  "NUM_PAST_SAMPLES_TRACKED": 3,
                  "RANDOM_STATE": 12648430,
                  "RESET_INDEX_VALUES": false,
                  "ROW_SAMPLING_METHOD": "random",
                  "SAMPLING_FACTOR": 0.1,
                  "SAMPLING_METHOD": "random",
                  "STRINGIFY_COLUMN_VALUES": true,
                  "STRINGIFY_INDEX_VALUES": false
                },
                "sample_history": [],
                "sampling_time": "2023-08-01T23:07:59.028398",
                "user_variable_name": "df_explore_iloc",
                "variable_name": "df_explore_iloc"
              },
              "display_id": "028dec28-d98e-4cc0-97bf-93dcb668bce5"
            }
          },
          "output_type": "display_data"
        }
      ],
      "source": [
        "# sort_values method\n",
        "df_explore_sorted = df_explore.sort_values(by='A')\n",
        "df_explore_sorted.head()"
      ]
    },
    {
      "cell_type": "code",
      "execution_count": null,
      "id": "56b361d1-6c6b-467e-9433-78fba89f1bf5",
      "metadata": {
        "ExecuteTime": {
          "end_time": "2023-08-01T23:07:29.362396+00:00",
          "start_time": "2023-08-01T23:07:29.149698+00:00"
        },
        "datalink": {
          "a28ac4f4-cfec-4afd-b884-9c633e0a1d5b": {
            "applied_filters": [],
            "dataframe_info": {
              "default_index_used": true,
              "orig_num_cols": 5,
              "orig_num_rows": 5,
              "orig_size_bytes": 240,
              "truncated_num_cols": 5,
              "truncated_num_rows": 5,
              "truncated_size_bytes": 240,
              "truncated_string_columns": []
            },
            "display_id": "a28ac4f4-cfec-4afd-b884-9c633e0a1d5b",
            "dx_settings": {
              "ALLOW_NOTEABLE_ATTRS": true,
              "COLUMN_SAMPLING_METHOD": "outer",
              "DB_LOCATION": ":memory:",
              "DEV_MODE": false,
              "DISPLAY_MAX_COLUMNS": 100,
              "DISPLAY_MAX_ROWS": 50000,
              "DISPLAY_MODE": "simple",
              "ENABLE_ASSIGNMENT": true,
              "ENABLE_DATALINK": true,
              "FLATTEN_COLUMN_VALUES": true,
              "FLATTEN_INDEX_VALUES": false,
              "GENERATE_DEX_METADATA": false,
              "HTML_TABLE_SCHEMA": false,
              "LOG_LEVEL": 30,
              "MAX_RENDER_SIZE_BYTES": 104857600,
              "MAX_STRING_LENGTH": 250,
              "NUM_PAST_SAMPLES_TRACKED": 3,
              "RANDOM_STATE": 12648430,
              "RESET_INDEX_VALUES": false,
              "ROW_SAMPLING_METHOD": "random",
              "SAMPLING_FACTOR": 0.1,
              "SAMPLING_METHOD": "random",
              "STRINGIFY_COLUMN_VALUES": true,
              "STRINGIFY_INDEX_VALUES": false
            },
            "sample_history": [],
            "sampling_time": "2023-08-01T23:07:29.205159",
            "user_variable_name": "df_explore_iloc",
            "variable_name": "df_explore_iloc"
          }
        },
        "dx": {
          "fieldMetadata": {},
          "simpleTable": true,
          "updated": 1690931268720,
          "views": []
        },
        "noteable": {
          "cell_type": "code"
        },
        "vscode": {
          "languageId": "python"
        }
      },
      "outputs": [
        {
          "data": {
            "application/vnd.dataresource+json": {
              "data": [
                {
                  "A": 1,
                  "B": "red",
                  "C": -0.3582857776616497,
                  "D": "rabbit",
                  "E": 73,
                  "index": 0
                },
                {
                  "A": 2,
                  "B": "green",
                  "C": -0.6276678210699645,
                  "D": "dog",
                  "E": 82,
                  "index": 17
                },
                {
                  "A": 3,
                  "B": "red",
                  "C": -0.2016944437691138,
                  "D": "rabbit",
                  "E": 60,
                  "index": 10
                },
                {
                  "A": 3,
                  "B": "red",
                  "C": -1.4143779888363075,
                  "D": "dog",
                  "E": 7,
                  "index": 6
                },
                {
                  "A": 3,
                  "B": "red",
                  "C": -0.8994495556822881,
                  "D": "dog",
                  "E": 35,
                  "index": 19
                }
              ],
              "datalink": {
                "display_id": "a28ac4f4-cfec-4afd-b884-9c633e0a1d5b"
              },
              "schema": {
                "fields": [
                  {
                    "name": "index",
                    "type": "integer"
                  },
                  {
                    "name": "A",
                    "type": "integer"
                  },
                  {
                    "name": "B",
                    "type": "string"
                  },
                  {
                    "name": "C",
                    "type": "number"
                  },
                  {
                    "name": "D",
                    "type": "string"
                  },
                  {
                    "name": "E",
                    "type": "integer"
                  }
                ],
                "pandas_version": "1.4.0",
                "primaryKey": [
                  "index"
                ]
              }
            }
          },
          "metadata": {
            "application/vnd.dataresource+json": {
              "datalink": {
                "applied_filters": [],
                "dataframe_info": {
                  "default_index_used": true,
                  "orig_num_cols": 5,
                  "orig_num_rows": 5,
                  "orig_size_bytes": 240,
                  "truncated_num_cols": 5,
                  "truncated_num_rows": 5,
                  "truncated_size_bytes": 240,
                  "truncated_string_columns": []
                },
                "display_id": "a28ac4f4-cfec-4afd-b884-9c633e0a1d5b",
                "dx_settings": {
                  "ALLOW_NOTEABLE_ATTRS": true,
                  "COLUMN_SAMPLING_METHOD": "outer",
                  "DB_LOCATION": ":memory:",
                  "DEV_MODE": false,
                  "DISPLAY_MAX_COLUMNS": 100,
                  "DISPLAY_MAX_ROWS": 50000,
                  "DISPLAY_MODE": "simple",
                  "ENABLE_ASSIGNMENT": true,
                  "ENABLE_DATALINK": true,
                  "FLATTEN_COLUMN_VALUES": true,
                  "FLATTEN_INDEX_VALUES": false,
                  "GENERATE_DEX_METADATA": false,
                  "HTML_TABLE_SCHEMA": false,
                  "LOG_LEVEL": 30,
                  "MAX_RENDER_SIZE_BYTES": 104857600,
                  "MAX_STRING_LENGTH": 250,
                  "NUM_PAST_SAMPLES_TRACKED": 3,
                  "RANDOM_STATE": 12648430,
                  "RESET_INDEX_VALUES": false,
                  "ROW_SAMPLING_METHOD": "random",
                  "SAMPLING_FACTOR": 0.1,
                  "SAMPLING_METHOD": "random",
                  "STRINGIFY_COLUMN_VALUES": true,
                  "STRINGIFY_INDEX_VALUES": false
                },
                "sample_history": [],
                "sampling_time": "2023-08-01T23:07:29.205159",
                "user_variable_name": "df_explore_iloc",
                "variable_name": "df_explore_iloc"
              },
              "display_id": "a28ac4f4-cfec-4afd-b884-9c633e0a1d5b"
            }
          },
          "output_type": "display_data"
        }
      ],
      "source": [
        "# iloc method\n",
        "df_explore_iloc = df_explore_sorted.iloc[0:5]\n",
        "df_explore_iloc"
      ]
    },
    {
      "cell_type": "code",
      "execution_count": null,
      "id": "67ed3176-3b3e-4982-8244-ab254542cad8",
      "metadata": {
        "ExecuteTime": {
          "end_time": "2023-08-01T23:08:06.256377+00:00",
          "start_time": "2023-08-01T23:08:06.033607+00:00"
        },
        "datalink": {
          "d4d70664-87fe-4369-b999-6584379dbca3": {
            "applied_filters": [],
            "dataframe_info": {
              "default_index_used": true,
              "orig_num_cols": 5,
              "orig_num_rows": 9,
              "orig_size_bytes": 432,
              "truncated_num_cols": 5,
              "truncated_num_rows": 9,
              "truncated_size_bytes": 432,
              "truncated_string_columns": []
            },
            "display_id": "d4d70664-87fe-4369-b999-6584379dbca3",
            "dx_settings": {
              "ALLOW_NOTEABLE_ATTRS": true,
              "COLUMN_SAMPLING_METHOD": "outer",
              "DB_LOCATION": ":memory:",
              "DEV_MODE": false,
              "DISPLAY_MAX_COLUMNS": 100,
              "DISPLAY_MAX_ROWS": 50000,
              "DISPLAY_MODE": "simple",
              "ENABLE_ASSIGNMENT": true,
              "ENABLE_DATALINK": true,
              "FLATTEN_COLUMN_VALUES": true,
              "FLATTEN_INDEX_VALUES": false,
              "GENERATE_DEX_METADATA": false,
              "HTML_TABLE_SCHEMA": false,
              "LOG_LEVEL": 30,
              "MAX_RENDER_SIZE_BYTES": 104857600,
              "MAX_STRING_LENGTH": 250,
              "NUM_PAST_SAMPLES_TRACKED": 3,
              "RANDOM_STATE": 12648430,
              "RESET_INDEX_VALUES": false,
              "ROW_SAMPLING_METHOD": "random",
              "SAMPLING_FACTOR": 0.1,
              "SAMPLING_METHOD": "random",
              "STRINGIFY_COLUMN_VALUES": true,
              "STRINGIFY_INDEX_VALUES": false
            },
            "sample_history": [],
            "sampling_time": "2023-08-01T23:07:39.330905",
            "user_variable_name": "df_explore_loc",
            "variable_name": "df_explore_loc"
          },
          "faa0ba03-cc92-40e2-b29b-d7b90eb25066": {
            "applied_filters": [],
            "dataframe_info": {
              "default_index_used": true,
              "orig_num_cols": 5,
              "orig_num_rows": 5,
              "orig_size_bytes": 240,
              "truncated_num_cols": 5,
              "truncated_num_rows": 5,
              "truncated_size_bytes": 240,
              "truncated_string_columns": []
            },
            "display_id": "faa0ba03-cc92-40e2-b29b-d7b90eb25066",
            "dx_settings": {
              "ALLOW_NOTEABLE_ATTRS": true,
              "COLUMN_SAMPLING_METHOD": "outer",
              "DB_LOCATION": ":memory:",
              "DEV_MODE": false,
              "DISPLAY_MAX_COLUMNS": 100,
              "DISPLAY_MAX_ROWS": 50000,
              "DISPLAY_MODE": "simple",
              "ENABLE_ASSIGNMENT": true,
              "ENABLE_DATALINK": true,
              "FLATTEN_COLUMN_VALUES": true,
              "FLATTEN_INDEX_VALUES": false,
              "GENERATE_DEX_METADATA": false,
              "HTML_TABLE_SCHEMA": false,
              "LOG_LEVEL": 30,
              "MAX_RENDER_SIZE_BYTES": 104857600,
              "MAX_STRING_LENGTH": 250,
              "NUM_PAST_SAMPLES_TRACKED": 3,
              "RANDOM_STATE": 12648430,
              "RESET_INDEX_VALUES": false,
              "ROW_SAMPLING_METHOD": "random",
              "SAMPLING_FACTOR": 0.1,
              "SAMPLING_METHOD": "random",
              "STRINGIFY_COLUMN_VALUES": true,
              "STRINGIFY_INDEX_VALUES": false
            },
            "sample_history": [],
            "sampling_time": "2023-08-01T23:08:06.099060",
            "user_variable_name": null,
            "variable_name": "unk_dataframe_af95c50cbef84735aeb31ca1c63c5748"
          }
        },
        "dx": {
          "fieldMetadata": {},
          "simpleTable": true,
          "updated": 1690931287854,
          "views": []
        },
        "noteable": {
          "cell_type": "code"
        },
        "vscode": {
          "languageId": "python"
        }
      },
      "outputs": [
        {
          "data": {
            "application/vnd.dataresource+json": {
              "data": [
                {
                  "A": 1,
                  "B": "red",
                  "C": -0.3582857776616497,
                  "D": "rabbit",
                  "E": 73,
                  "index": 0
                },
                {
                  "A": 3,
                  "B": "red",
                  "C": -0.2016944437691138,
                  "D": "rabbit",
                  "E": 60,
                  "index": 10
                },
                {
                  "A": 3,
                  "B": "red",
                  "C": -1.4143779888363075,
                  "D": "dog",
                  "E": 7,
                  "index": 6
                },
                {
                  "A": 3,
                  "B": "red",
                  "C": -0.8994495556822881,
                  "D": "dog",
                  "E": 35,
                  "index": 19
                },
                {
                  "A": 4,
                  "B": "red",
                  "C": 1.5471738644081607,
                  "D": "rabbit",
                  "E": 6,
                  "index": 16
                }
              ],
              "datalink": {
                "display_id": "faa0ba03-cc92-40e2-b29b-d7b90eb25066"
              },
              "schema": {
                "fields": [
                  {
                    "name": "index",
                    "type": "integer"
                  },
                  {
                    "name": "A",
                    "type": "integer"
                  },
                  {
                    "name": "B",
                    "type": "string"
                  },
                  {
                    "name": "C",
                    "type": "number"
                  },
                  {
                    "name": "D",
                    "type": "string"
                  },
                  {
                    "name": "E",
                    "type": "integer"
                  }
                ],
                "pandas_version": "1.4.0",
                "primaryKey": [
                  "index"
                ]
              }
            }
          },
          "metadata": {
            "application/vnd.dataresource+json": {
              "datalink": {
                "applied_filters": [],
                "dataframe_info": {
                  "default_index_used": true,
                  "orig_num_cols": 5,
                  "orig_num_rows": 5,
                  "orig_size_bytes": 240,
                  "truncated_num_cols": 5,
                  "truncated_num_rows": 5,
                  "truncated_size_bytes": 240,
                  "truncated_string_columns": []
                },
                "display_id": "faa0ba03-cc92-40e2-b29b-d7b90eb25066",
                "dx_settings": {
                  "ALLOW_NOTEABLE_ATTRS": true,
                  "COLUMN_SAMPLING_METHOD": "outer",
                  "DB_LOCATION": ":memory:",
                  "DEV_MODE": false,
                  "DISPLAY_MAX_COLUMNS": 100,
                  "DISPLAY_MAX_ROWS": 50000,
                  "DISPLAY_MODE": "simple",
                  "ENABLE_ASSIGNMENT": true,
                  "ENABLE_DATALINK": true,
                  "FLATTEN_COLUMN_VALUES": true,
                  "FLATTEN_INDEX_VALUES": false,
                  "GENERATE_DEX_METADATA": false,
                  "HTML_TABLE_SCHEMA": false,
                  "LOG_LEVEL": 30,
                  "MAX_RENDER_SIZE_BYTES": 104857600,
                  "MAX_STRING_LENGTH": 250,
                  "NUM_PAST_SAMPLES_TRACKED": 3,
                  "RANDOM_STATE": 12648430,
                  "RESET_INDEX_VALUES": false,
                  "ROW_SAMPLING_METHOD": "random",
                  "SAMPLING_FACTOR": 0.1,
                  "SAMPLING_METHOD": "random",
                  "STRINGIFY_COLUMN_VALUES": true,
                  "STRINGIFY_INDEX_VALUES": false
                },
                "sample_history": [],
                "sampling_time": "2023-08-01T23:08:06.099060",
                "user_variable_name": null,
                "variable_name": "unk_dataframe_af95c50cbef84735aeb31ca1c63c5748"
              },
              "display_id": "faa0ba03-cc92-40e2-b29b-d7b90eb25066"
            }
          },
          "output_type": "display_data"
        }
      ],
      "source": [
        "# loc method\n",
        "df_explore_loc = df_explore_sorted.loc[df_explore_sorted['B'] == 'red']\n",
        "df_explore_loc.head()"
      ]
    },
    {
      "cell_type": "markdown",
      "id": "22fea72c-9079-4444-8385-ee17fd05e7d3",
      "metadata": {
        "noteable": {
          "cell_type": "markdown"
        }
      },
      "source": [
        "## Boolean Indexing\n",
        "\n",
        "Boolean indexing is a powerful tool that allows you to select data that meets certain conditions. This can be done using comparison operators (`>`, `<`, `==`) and logical operators (`&` for 'and', `|` for 'or'). Let's see some examples."
      ]
    },
    {
      "cell_type": "code",
      "execution_count": null,
      "id": "93792dff-efd2-4893-bfb1-9ddbddb86400",
      "metadata": {
        "ExecuteTime": {
          "end_time": "2023-08-01T23:10:11.956621+00:00",
          "start_time": "2023-08-01T23:10:11.719972+00:00"
        },
        "datalink": {
          "1160aa15-c576-433f-a450-dd12d184449c": {
            "applied_filters": [],
            "dataframe_info": {
              "default_index_used": true,
              "orig_num_cols": 5,
              "orig_num_rows": 10,
              "orig_size_bytes": 480,
              "truncated_num_cols": 5,
              "truncated_num_rows": 10,
              "truncated_size_bytes": 480,
              "truncated_string_columns": []
            },
            "display_id": "1160aa15-c576-433f-a450-dd12d184449c",
            "dx_settings": {
              "ALLOW_NOTEABLE_ATTRS": true,
              "COLUMN_SAMPLING_METHOD": "outer",
              "DB_LOCATION": ":memory:",
              "DEV_MODE": false,
              "DISPLAY_MAX_COLUMNS": 100,
              "DISPLAY_MAX_ROWS": 50000,
              "DISPLAY_MODE": "simple",
              "ENABLE_ASSIGNMENT": true,
              "ENABLE_DATALINK": true,
              "FLATTEN_COLUMN_VALUES": true,
              "FLATTEN_INDEX_VALUES": false,
              "GENERATE_DEX_METADATA": false,
              "HTML_TABLE_SCHEMA": false,
              "LOG_LEVEL": 30,
              "MAX_RENDER_SIZE_BYTES": 104857600,
              "MAX_STRING_LENGTH": 250,
              "NUM_PAST_SAMPLES_TRACKED": 3,
              "RANDOM_STATE": 12648430,
              "RESET_INDEX_VALUES": false,
              "ROW_SAMPLING_METHOD": "random",
              "SAMPLING_FACTOR": 0.1,
              "SAMPLING_METHOD": "random",
              "STRINGIFY_COLUMN_VALUES": true,
              "STRINGIFY_INDEX_VALUES": false
            },
            "sample_history": [],
            "sampling_time": "2023-08-01T23:10:11.798434",
            "user_variable_name": null,
            "variable_name": "unk_dataframe_6bfc0a1b7761448fa7d18f3809daa24b"
          }
        },
        "dx": {
          "fieldMetadata": {},
          "simpleTable": true,
          "updated": 1690931441894,
          "views": []
        },
        "noteable": {
          "cell_type": "code"
        },
        "vscode": {
          "languageId": "python"
        }
      },
      "outputs": [
        {
          "data": {
            "application/vnd.dataresource+json": {
              "data": [
                {
                  "A": 6,
                  "B": "green",
                  "C": 0.25038173323202384,
                  "D": "dog",
                  "E": 12,
                  "index": 3
                },
                {
                  "A": 6,
                  "B": "green",
                  "C": -1.1691164568437424,
                  "D": "cat",
                  "E": 85,
                  "index": 4
                },
                {
                  "A": 6,
                  "B": "red",
                  "C": 0.2699524358786054,
                  "D": "dog",
                  "E": 51,
                  "index": 5
                },
                {
                  "A": 6,
                  "B": "blue",
                  "C": 0.9119095167664971,
                  "D": "cat",
                  "E": 97,
                  "index": 7
                },
                {
                  "A": 6,
                  "B": "green",
                  "C": -0.9854506314217006,
                  "D": "rabbit",
                  "E": 65,
                  "index": 9
                },
                {
                  "A": 8,
                  "B": "red",
                  "C": -2.2431797216003297,
                  "D": "rabbit",
                  "E": 90,
                  "index": 12
                },
                {
                  "A": 7,
                  "B": "blue",
                  "C": -0.7694628570166446,
                  "D": "cat",
                  "E": 76,
                  "index": 13
                },
                {
                  "A": 6,
                  "B": "red",
                  "C": -0.025487923293082623,
                  "D": "cat",
                  "E": 72,
                  "index": 14
                },
                {
                  "A": 9,
                  "B": "red",
                  "C": -0.8837574763519553,
                  "D": "dog",
                  "E": 44,
                  "index": 15
                },
                {
                  "A": 8,
                  "B": "blue",
                  "C": -0.3941736209076246,
                  "D": "dog",
                  "E": 22,
                  "index": 18
                }
              ],
              "datalink": {
                "display_id": "1160aa15-c576-433f-a450-dd12d184449c"
              },
              "schema": {
                "fields": [
                  {
                    "name": "index",
                    "type": "integer"
                  },
                  {
                    "name": "A",
                    "type": "integer"
                  },
                  {
                    "name": "B",
                    "type": "string"
                  },
                  {
                    "name": "C",
                    "type": "number"
                  },
                  {
                    "name": "D",
                    "type": "string"
                  },
                  {
                    "name": "E",
                    "type": "integer"
                  }
                ],
                "pandas_version": "1.4.0",
                "primaryKey": [
                  "index"
                ]
              }
            }
          },
          "metadata": {
            "application/vnd.dataresource+json": {
              "datalink": {
                "applied_filters": [],
                "dataframe_info": {
                  "default_index_used": true,
                  "orig_num_cols": 5,
                  "orig_num_rows": 10,
                  "orig_size_bytes": 480,
                  "truncated_num_cols": 5,
                  "truncated_num_rows": 10,
                  "truncated_size_bytes": 480,
                  "truncated_string_columns": []
                },
                "display_id": "1160aa15-c576-433f-a450-dd12d184449c",
                "dx_settings": {
                  "ALLOW_NOTEABLE_ATTRS": true,
                  "COLUMN_SAMPLING_METHOD": "outer",
                  "DB_LOCATION": ":memory:",
                  "DEV_MODE": false,
                  "DISPLAY_MAX_COLUMNS": 100,
                  "DISPLAY_MAX_ROWS": 50000,
                  "DISPLAY_MODE": "simple",
                  "ENABLE_ASSIGNMENT": true,
                  "ENABLE_DATALINK": true,
                  "FLATTEN_COLUMN_VALUES": true,
                  "FLATTEN_INDEX_VALUES": false,
                  "GENERATE_DEX_METADATA": false,
                  "HTML_TABLE_SCHEMA": false,
                  "LOG_LEVEL": 30,
                  "MAX_RENDER_SIZE_BYTES": 104857600,
                  "MAX_STRING_LENGTH": 250,
                  "NUM_PAST_SAMPLES_TRACKED": 3,
                  "RANDOM_STATE": 12648430,
                  "RESET_INDEX_VALUES": false,
                  "ROW_SAMPLING_METHOD": "random",
                  "SAMPLING_FACTOR": 0.1,
                  "SAMPLING_METHOD": "random",
                  "STRINGIFY_COLUMN_VALUES": true,
                  "STRINGIFY_INDEX_VALUES": false
                },
                "sample_history": [],
                "sampling_time": "2023-08-01T23:10:11.798434",
                "user_variable_name": null,
                "variable_name": "unk_dataframe_6bfc0a1b7761448fa7d18f3809daa24b"
              },
              "display_id": "1160aa15-c576-433f-a450-dd12d184449c"
            }
          },
          "output_type": "display_data"
        }
      ],
      "source": [
        "# Boolean indexing with '>'\n",
        "df_explore[df_explore['A'] > 5]"
      ]
    },
    {
      "cell_type": "code",
      "execution_count": null,
      "id": "c9292099-e611-4c1b-9664-4da963989808",
      "metadata": {
        "ExecuteTime": {
          "end_time": "2023-08-01T23:10:21.668420+00:00",
          "start_time": "2023-08-01T23:10:21.450498+00:00"
        },
        "datalink": {
          "587051b8-e31b-4649-b739-d71ca4acc205": {
            "applied_filters": [],
            "dataframe_info": {
              "default_index_used": true,
              "orig_num_cols": 5,
              "orig_num_rows": 9,
              "orig_size_bytes": 432,
              "truncated_num_cols": 5,
              "truncated_num_rows": 9,
              "truncated_size_bytes": 432,
              "truncated_string_columns": []
            },
            "display_id": "587051b8-e31b-4649-b739-d71ca4acc205",
            "dx_settings": {
              "ALLOW_NOTEABLE_ATTRS": true,
              "COLUMN_SAMPLING_METHOD": "outer",
              "DB_LOCATION": ":memory:",
              "DEV_MODE": false,
              "DISPLAY_MAX_COLUMNS": 100,
              "DISPLAY_MAX_ROWS": 50000,
              "DISPLAY_MODE": "simple",
              "ENABLE_ASSIGNMENT": true,
              "ENABLE_DATALINK": true,
              "FLATTEN_COLUMN_VALUES": true,
              "FLATTEN_INDEX_VALUES": false,
              "GENERATE_DEX_METADATA": false,
              "HTML_TABLE_SCHEMA": false,
              "LOG_LEVEL": 30,
              "MAX_RENDER_SIZE_BYTES": 104857600,
              "MAX_STRING_LENGTH": 250,
              "NUM_PAST_SAMPLES_TRACKED": 3,
              "RANDOM_STATE": 12648430,
              "RESET_INDEX_VALUES": false,
              "ROW_SAMPLING_METHOD": "random",
              "SAMPLING_FACTOR": 0.1,
              "SAMPLING_METHOD": "random",
              "STRINGIFY_COLUMN_VALUES": true,
              "STRINGIFY_INDEX_VALUES": false
            },
            "sample_history": [],
            "sampling_time": "2023-08-01T23:10:21.511486",
            "user_variable_name": null,
            "variable_name": "unk_dataframe_cbc92930fcc24e7180d4aeb6f508b6ce"
          }
        },
        "dx": {
          "fieldMetadata": {},
          "simpleTable": true,
          "updated": 1690931446805,
          "views": []
        },
        "noteable": {
          "cell_type": "code"
        },
        "vscode": {
          "languageId": "python"
        }
      },
      "outputs": [
        {
          "data": {
            "application/vnd.dataresource+json": {
              "data": [
                {
                  "A": 1,
                  "B": "red",
                  "C": -0.3582857776616497,
                  "D": "rabbit",
                  "E": 73,
                  "index": 0
                },
                {
                  "A": 3,
                  "B": "blue",
                  "C": 0.8883577549060309,
                  "D": "dog",
                  "E": 53,
                  "index": 1
                },
                {
                  "A": 3,
                  "B": "blue",
                  "C": -0.8824613057530961,
                  "D": "dog",
                  "E": 59,
                  "index": 2
                },
                {
                  "A": 3,
                  "B": "red",
                  "C": -1.4143779888363075,
                  "D": "dog",
                  "E": 7,
                  "index": 6
                },
                {
                  "A": 4,
                  "B": "green",
                  "C": -0.0788016691969199,
                  "D": "cat",
                  "E": 10,
                  "index": 8
                },
                {
                  "A": 3,
                  "B": "red",
                  "C": -0.2016944437691138,
                  "D": "rabbit",
                  "E": 60,
                  "index": 10
                },
                {
                  "A": 4,
                  "B": "red",
                  "C": 1.5471738644081607,
                  "D": "rabbit",
                  "E": 6,
                  "index": 16
                },
                {
                  "A": 2,
                  "B": "green",
                  "C": -0.6276678210699645,
                  "D": "dog",
                  "E": 82,
                  "index": 17
                },
                {
                  "A": 3,
                  "B": "red",
                  "C": -0.8994495556822881,
                  "D": "dog",
                  "E": 35,
                  "index": 19
                }
              ],
              "datalink": {
                "display_id": "587051b8-e31b-4649-b739-d71ca4acc205"
              },
              "schema": {
                "fields": [
                  {
                    "name": "index",
                    "type": "integer"
                  },
                  {
                    "name": "A",
                    "type": "integer"
                  },
                  {
                    "name": "B",
                    "type": "string"
                  },
                  {
                    "name": "C",
                    "type": "number"
                  },
                  {
                    "name": "D",
                    "type": "string"
                  },
                  {
                    "name": "E",
                    "type": "integer"
                  }
                ],
                "pandas_version": "1.4.0",
                "primaryKey": [
                  "index"
                ]
              }
            }
          },
          "metadata": {
            "application/vnd.dataresource+json": {
              "datalink": {
                "applied_filters": [],
                "dataframe_info": {
                  "default_index_used": true,
                  "orig_num_cols": 5,
                  "orig_num_rows": 9,
                  "orig_size_bytes": 432,
                  "truncated_num_cols": 5,
                  "truncated_num_rows": 9,
                  "truncated_size_bytes": 432,
                  "truncated_string_columns": []
                },
                "display_id": "587051b8-e31b-4649-b739-d71ca4acc205",
                "dx_settings": {
                  "ALLOW_NOTEABLE_ATTRS": true,
                  "COLUMN_SAMPLING_METHOD": "outer",
                  "DB_LOCATION": ":memory:",
                  "DEV_MODE": false,
                  "DISPLAY_MAX_COLUMNS": 100,
                  "DISPLAY_MAX_ROWS": 50000,
                  "DISPLAY_MODE": "simple",
                  "ENABLE_ASSIGNMENT": true,
                  "ENABLE_DATALINK": true,
                  "FLATTEN_COLUMN_VALUES": true,
                  "FLATTEN_INDEX_VALUES": false,
                  "GENERATE_DEX_METADATA": false,
                  "HTML_TABLE_SCHEMA": false,
                  "LOG_LEVEL": 30,
                  "MAX_RENDER_SIZE_BYTES": 104857600,
                  "MAX_STRING_LENGTH": 250,
                  "NUM_PAST_SAMPLES_TRACKED": 3,
                  "RANDOM_STATE": 12648430,
                  "RESET_INDEX_VALUES": false,
                  "ROW_SAMPLING_METHOD": "random",
                  "SAMPLING_FACTOR": 0.1,
                  "SAMPLING_METHOD": "random",
                  "STRINGIFY_COLUMN_VALUES": true,
                  "STRINGIFY_INDEX_VALUES": false
                },
                "sample_history": [],
                "sampling_time": "2023-08-01T23:10:21.511486",
                "user_variable_name": null,
                "variable_name": "unk_dataframe_cbc92930fcc24e7180d4aeb6f508b6ce"
              },
              "display_id": "587051b8-e31b-4649-b739-d71ca4acc205"
            }
          },
          "output_type": "display_data"
        }
      ],
      "source": [
        "# Boolean indexing with '<'\n",
        "df_explore[df_explore['A'] < 5]"
      ]
    },
    {
      "cell_type": "code",
      "execution_count": null,
      "id": "bc32c22a-76c9-4301-9f6b-24ff1e684bac",
      "metadata": {
        "ExecuteTime": {
          "end_time": "2023-08-01T23:10:31.468534+00:00",
          "start_time": "2023-08-01T23:10:31.250395+00:00"
        },
        "datalink": {
          "60b9da91-4783-481e-91bf-53ffb6160871": {
            "applied_filters": [],
            "dataframe_info": {
              "default_index_used": true,
              "orig_num_cols": 5,
              "orig_num_rows": 9,
              "orig_size_bytes": 432,
              "truncated_num_cols": 5,
              "truncated_num_rows": 9,
              "truncated_size_bytes": 432,
              "truncated_string_columns": []
            },
            "display_id": "60b9da91-4783-481e-91bf-53ffb6160871",
            "dx_settings": {
              "ALLOW_NOTEABLE_ATTRS": true,
              "COLUMN_SAMPLING_METHOD": "outer",
              "DB_LOCATION": ":memory:",
              "DEV_MODE": false,
              "DISPLAY_MAX_COLUMNS": 100,
              "DISPLAY_MAX_ROWS": 50000,
              "DISPLAY_MODE": "simple",
              "ENABLE_ASSIGNMENT": true,
              "ENABLE_DATALINK": true,
              "FLATTEN_COLUMN_VALUES": true,
              "FLATTEN_INDEX_VALUES": false,
              "GENERATE_DEX_METADATA": false,
              "HTML_TABLE_SCHEMA": false,
              "LOG_LEVEL": 30,
              "MAX_RENDER_SIZE_BYTES": 104857600,
              "MAX_STRING_LENGTH": 250,
              "NUM_PAST_SAMPLES_TRACKED": 3,
              "RANDOM_STATE": 12648430,
              "RESET_INDEX_VALUES": false,
              "ROW_SAMPLING_METHOD": "random",
              "SAMPLING_FACTOR": 0.1,
              "SAMPLING_METHOD": "random",
              "STRINGIFY_COLUMN_VALUES": true,
              "STRINGIFY_INDEX_VALUES": false
            },
            "sample_history": [],
            "sampling_time": "2023-08-01T23:10:31.311365",
            "user_variable_name": null,
            "variable_name": "unk_dataframe_e34139c648674e9ea99b8319e0acd8b6"
          }
        },
        "dx": {
          "fieldMetadata": {},
          "simpleTable": true,
          "updated": 1690931449388,
          "views": []
        },
        "noteable": {
          "cell_type": "code"
        },
        "vscode": {
          "languageId": "python"
        }
      },
      "outputs": [
        {
          "data": {
            "application/vnd.dataresource+json": {
              "data": [
                {
                  "A": 1,
                  "B": "red",
                  "C": -0.3582857776616497,
                  "D": "rabbit",
                  "E": 73,
                  "index": 0
                },
                {
                  "A": 6,
                  "B": "red",
                  "C": 0.2699524358786054,
                  "D": "dog",
                  "E": 51,
                  "index": 5
                },
                {
                  "A": 3,
                  "B": "red",
                  "C": -1.4143779888363075,
                  "D": "dog",
                  "E": 7,
                  "index": 6
                },
                {
                  "A": 3,
                  "B": "red",
                  "C": -0.2016944437691138,
                  "D": "rabbit",
                  "E": 60,
                  "index": 10
                },
                {
                  "A": 8,
                  "B": "red",
                  "C": -2.2431797216003297,
                  "D": "rabbit",
                  "E": 90,
                  "index": 12
                },
                {
                  "A": 6,
                  "B": "red",
                  "C": -0.025487923293082623,
                  "D": "cat",
                  "E": 72,
                  "index": 14
                },
                {
                  "A": 9,
                  "B": "red",
                  "C": -0.8837574763519553,
                  "D": "dog",
                  "E": 44,
                  "index": 15
                },
                {
                  "A": 4,
                  "B": "red",
                  "C": 1.5471738644081607,
                  "D": "rabbit",
                  "E": 6,
                  "index": 16
                },
                {
                  "A": 3,
                  "B": "red",
                  "C": -0.8994495556822881,
                  "D": "dog",
                  "E": 35,
                  "index": 19
                }
              ],
              "datalink": {
                "display_id": "60b9da91-4783-481e-91bf-53ffb6160871"
              },
              "schema": {
                "fields": [
                  {
                    "name": "index",
                    "type": "integer"
                  },
                  {
                    "name": "A",
                    "type": "integer"
                  },
                  {
                    "name": "B",
                    "type": "string"
                  },
                  {
                    "name": "C",
                    "type": "number"
                  },
                  {
                    "name": "D",
                    "type": "string"
                  },
                  {
                    "name": "E",
                    "type": "integer"
                  }
                ],
                "pandas_version": "1.4.0",
                "primaryKey": [
                  "index"
                ]
              }
            }
          },
          "metadata": {
            "application/vnd.dataresource+json": {
              "datalink": {
                "applied_filters": [],
                "dataframe_info": {
                  "default_index_used": true,
                  "orig_num_cols": 5,
                  "orig_num_rows": 9,
                  "orig_size_bytes": 432,
                  "truncated_num_cols": 5,
                  "truncated_num_rows": 9,
                  "truncated_size_bytes": 432,
                  "truncated_string_columns": []
                },
                "display_id": "60b9da91-4783-481e-91bf-53ffb6160871",
                "dx_settings": {
                  "ALLOW_NOTEABLE_ATTRS": true,
                  "COLUMN_SAMPLING_METHOD": "outer",
                  "DB_LOCATION": ":memory:",
                  "DEV_MODE": false,
                  "DISPLAY_MAX_COLUMNS": 100,
                  "DISPLAY_MAX_ROWS": 50000,
                  "DISPLAY_MODE": "simple",
                  "ENABLE_ASSIGNMENT": true,
                  "ENABLE_DATALINK": true,
                  "FLATTEN_COLUMN_VALUES": true,
                  "FLATTEN_INDEX_VALUES": false,
                  "GENERATE_DEX_METADATA": false,
                  "HTML_TABLE_SCHEMA": false,
                  "LOG_LEVEL": 30,
                  "MAX_RENDER_SIZE_BYTES": 104857600,
                  "MAX_STRING_LENGTH": 250,
                  "NUM_PAST_SAMPLES_TRACKED": 3,
                  "RANDOM_STATE": 12648430,
                  "RESET_INDEX_VALUES": false,
                  "ROW_SAMPLING_METHOD": "random",
                  "SAMPLING_FACTOR": 0.1,
                  "SAMPLING_METHOD": "random",
                  "STRINGIFY_COLUMN_VALUES": true,
                  "STRINGIFY_INDEX_VALUES": false
                },
                "sample_history": [],
                "sampling_time": "2023-08-01T23:10:31.311365",
                "user_variable_name": null,
                "variable_name": "unk_dataframe_e34139c648674e9ea99b8319e0acd8b6"
              },
              "display_id": "60b9da91-4783-481e-91bf-53ffb6160871"
            }
          },
          "output_type": "display_data"
        }
      ],
      "source": [
        "# Boolean indexing with '=='\n",
        "df_explore[df_explore['B'] == 'red']"
      ]
    },
    {
      "cell_type": "code",
      "execution_count": null,
      "id": "407cc662-2fa2-48ff-bd52-067ae96a40f4",
      "metadata": {
        "ExecuteTime": {
          "end_time": "2023-08-01T23:10:42.375899+00:00",
          "start_time": "2023-08-01T23:10:42.157061+00:00"
        },
        "datalink": {
          "a40b2a9a-78bb-4e6c-bf90-0faa76daaeb7": {
            "applied_filters": [],
            "dataframe_info": {
              "default_index_used": true,
              "orig_num_cols": 5,
              "orig_num_rows": 4,
              "orig_size_bytes": 192,
              "truncated_num_cols": 5,
              "truncated_num_rows": 4,
              "truncated_size_bytes": 192,
              "truncated_string_columns": []
            },
            "display_id": "a40b2a9a-78bb-4e6c-bf90-0faa76daaeb7",
            "dx_settings": {
              "ALLOW_NOTEABLE_ATTRS": true,
              "COLUMN_SAMPLING_METHOD": "outer",
              "DB_LOCATION": ":memory:",
              "DEV_MODE": false,
              "DISPLAY_MAX_COLUMNS": 100,
              "DISPLAY_MAX_ROWS": 50000,
              "DISPLAY_MODE": "simple",
              "ENABLE_ASSIGNMENT": true,
              "ENABLE_DATALINK": true,
              "FLATTEN_COLUMN_VALUES": true,
              "FLATTEN_INDEX_VALUES": false,
              "GENERATE_DEX_METADATA": false,
              "HTML_TABLE_SCHEMA": false,
              "LOG_LEVEL": 30,
              "MAX_RENDER_SIZE_BYTES": 104857600,
              "MAX_STRING_LENGTH": 250,
              "NUM_PAST_SAMPLES_TRACKED": 3,
              "RANDOM_STATE": 12648430,
              "RESET_INDEX_VALUES": false,
              "ROW_SAMPLING_METHOD": "random",
              "SAMPLING_FACTOR": 0.1,
              "SAMPLING_METHOD": "random",
              "STRINGIFY_COLUMN_VALUES": true,
              "STRINGIFY_INDEX_VALUES": false
            },
            "sample_history": [],
            "sampling_time": "2023-08-01T23:10:42.218715",
            "user_variable_name": null,
            "variable_name": "unk_dataframe_1f0760b658b342e39dce9636d7399f3c"
          }
        },
        "dx": {
          "fieldMetadata": {},
          "simpleTable": true,
          "updated": 1690931451706,
          "views": []
        },
        "noteable": {
          "cell_type": "code"
        },
        "vscode": {
          "languageId": "python"
        }
      },
      "outputs": [
        {
          "data": {
            "application/vnd.dataresource+json": {
              "data": [
                {
                  "A": 6,
                  "B": "red",
                  "C": 0.2699524358786054,
                  "D": "dog",
                  "E": 51,
                  "index": 5
                },
                {
                  "A": 8,
                  "B": "red",
                  "C": -2.2431797216003297,
                  "D": "rabbit",
                  "E": 90,
                  "index": 12
                },
                {
                  "A": 6,
                  "B": "red",
                  "C": -0.025487923293082623,
                  "D": "cat",
                  "E": 72,
                  "index": 14
                },
                {
                  "A": 9,
                  "B": "red",
                  "C": -0.8837574763519553,
                  "D": "dog",
                  "E": 44,
                  "index": 15
                }
              ],
              "datalink": {
                "display_id": "a40b2a9a-78bb-4e6c-bf90-0faa76daaeb7"
              },
              "schema": {
                "fields": [
                  {
                    "name": "index",
                    "type": "integer"
                  },
                  {
                    "name": "A",
                    "type": "integer"
                  },
                  {
                    "name": "B",
                    "type": "string"
                  },
                  {
                    "name": "C",
                    "type": "number"
                  },
                  {
                    "name": "D",
                    "type": "string"
                  },
                  {
                    "name": "E",
                    "type": "integer"
                  }
                ],
                "pandas_version": "1.4.0",
                "primaryKey": [
                  "index"
                ]
              }
            }
          },
          "metadata": {
            "application/vnd.dataresource+json": {
              "datalink": {
                "applied_filters": [],
                "dataframe_info": {
                  "default_index_used": true,
                  "orig_num_cols": 5,
                  "orig_num_rows": 4,
                  "orig_size_bytes": 192,
                  "truncated_num_cols": 5,
                  "truncated_num_rows": 4,
                  "truncated_size_bytes": 192,
                  "truncated_string_columns": []
                },
                "display_id": "a40b2a9a-78bb-4e6c-bf90-0faa76daaeb7",
                "dx_settings": {
                  "ALLOW_NOTEABLE_ATTRS": true,
                  "COLUMN_SAMPLING_METHOD": "outer",
                  "DB_LOCATION": ":memory:",
                  "DEV_MODE": false,
                  "DISPLAY_MAX_COLUMNS": 100,
                  "DISPLAY_MAX_ROWS": 50000,
                  "DISPLAY_MODE": "simple",
                  "ENABLE_ASSIGNMENT": true,
                  "ENABLE_DATALINK": true,
                  "FLATTEN_COLUMN_VALUES": true,
                  "FLATTEN_INDEX_VALUES": false,
                  "GENERATE_DEX_METADATA": false,
                  "HTML_TABLE_SCHEMA": false,
                  "LOG_LEVEL": 30,
                  "MAX_RENDER_SIZE_BYTES": 104857600,
                  "MAX_STRING_LENGTH": 250,
                  "NUM_PAST_SAMPLES_TRACKED": 3,
                  "RANDOM_STATE": 12648430,
                  "RESET_INDEX_VALUES": false,
                  "ROW_SAMPLING_METHOD": "random",
                  "SAMPLING_FACTOR": 0.1,
                  "SAMPLING_METHOD": "random",
                  "STRINGIFY_COLUMN_VALUES": true,
                  "STRINGIFY_INDEX_VALUES": false
                },
                "sample_history": [],
                "sampling_time": "2023-08-01T23:10:42.218715",
                "user_variable_name": null,
                "variable_name": "unk_dataframe_1f0760b658b342e39dce9636d7399f3c"
              },
              "display_id": "a40b2a9a-78bb-4e6c-bf90-0faa76daaeb7"
            }
          },
          "output_type": "display_data"
        }
      ],
      "source": [
        "# Boolean indexing with '&' (and)\n",
        "df_explore[(df_explore['A'] > 5) & (df_explore['B'] == 'red')]"
      ]
    },
    {
      "cell_type": "code",
      "execution_count": null,
      "id": "795499a3-251b-40bb-9904-c4ccbf178632",
      "metadata": {
        "ExecuteTime": {
          "end_time": "2023-08-01T23:10:52.759856+00:00",
          "start_time": "2023-08-01T23:10:52.540982+00:00"
        },
        "datalink": {
          "ea304737-3109-4dac-8bfd-df816b93c8ec": {
            "applied_filters": [],
            "dataframe_info": {
              "default_index_used": true,
              "orig_num_cols": 5,
              "orig_num_rows": 13,
              "orig_size_bytes": 624,
              "truncated_num_cols": 5,
              "truncated_num_rows": 13,
              "truncated_size_bytes": 624,
              "truncated_string_columns": []
            },
            "display_id": "ea304737-3109-4dac-8bfd-df816b93c8ec",
            "dx_settings": {
              "ALLOW_NOTEABLE_ATTRS": true,
              "COLUMN_SAMPLING_METHOD": "outer",
              "DB_LOCATION": ":memory:",
              "DEV_MODE": false,
              "DISPLAY_MAX_COLUMNS": 100,
              "DISPLAY_MAX_ROWS": 50000,
              "DISPLAY_MODE": "simple",
              "ENABLE_ASSIGNMENT": true,
              "ENABLE_DATALINK": true,
              "FLATTEN_COLUMN_VALUES": true,
              "FLATTEN_INDEX_VALUES": false,
              "GENERATE_DEX_METADATA": false,
              "HTML_TABLE_SCHEMA": false,
              "LOG_LEVEL": 30,
              "MAX_RENDER_SIZE_BYTES": 104857600,
              "MAX_STRING_LENGTH": 250,
              "NUM_PAST_SAMPLES_TRACKED": 3,
              "RANDOM_STATE": 12648430,
              "RESET_INDEX_VALUES": false,
              "ROW_SAMPLING_METHOD": "random",
              "SAMPLING_FACTOR": 0.1,
              "SAMPLING_METHOD": "random",
              "STRINGIFY_COLUMN_VALUES": true,
              "STRINGIFY_INDEX_VALUES": false
            },
            "sample_history": [],
            "sampling_time": "2023-08-01T23:10:52.602736",
            "user_variable_name": null,
            "variable_name": "unk_dataframe_ce76e5769b36431aaae91638f923247f"
          }
        },
        "dx": {
          "fieldMetadata": {},
          "simpleTable": true,
          "updated": 1690931456307,
          "views": []
        },
        "noteable": {
          "cell_type": "code"
        },
        "vscode": {
          "languageId": "python"
        }
      },
      "outputs": [
        {
          "data": {
            "application/vnd.dataresource+json": {
              "data": [
                {
                  "A": 1,
                  "B": "red",
                  "C": -0.3582857776616497,
                  "D": "rabbit",
                  "E": 73,
                  "index": 0
                },
                {
                  "A": 3,
                  "B": "blue",
                  "C": 0.8883577549060309,
                  "D": "dog",
                  "E": 53,
                  "index": 1
                },
                {
                  "A": 3,
                  "B": "blue",
                  "C": -0.8824613057530961,
                  "D": "dog",
                  "E": 59,
                  "index": 2
                },
                {
                  "A": 6,
                  "B": "red",
                  "C": 0.2699524358786054,
                  "D": "dog",
                  "E": 51,
                  "index": 5
                },
                {
                  "A": 3,
                  "B": "red",
                  "C": -1.4143779888363075,
                  "D": "dog",
                  "E": 7,
                  "index": 6
                },
                {
                  "A": 4,
                  "B": "green",
                  "C": -0.0788016691969199,
                  "D": "cat",
                  "E": 10,
                  "index": 8
                },
                {
                  "A": 3,
                  "B": "red",
                  "C": -0.2016944437691138,
                  "D": "rabbit",
                  "E": 60,
                  "index": 10
                },
                {
                  "A": 8,
                  "B": "red",
                  "C": -2.2431797216003297,
                  "D": "rabbit",
                  "E": 90,
                  "index": 12
                },
                {
                  "A": 6,
                  "B": "red",
                  "C": -0.025487923293082623,
                  "D": "cat",
                  "E": 72,
                  "index": 14
                },
                {
                  "A": 9,
                  "B": "red",
                  "C": -0.8837574763519553,
                  "D": "dog",
                  "E": 44,
                  "index": 15
                },
                {
                  "A": 4,
                  "B": "red",
                  "C": 1.5471738644081607,
                  "D": "rabbit",
                  "E": 6,
                  "index": 16
                },
                {
                  "A": 2,
                  "B": "green",
                  "C": -0.6276678210699645,
                  "D": "dog",
                  "E": 82,
                  "index": 17
                },
                {
                  "A": 3,
                  "B": "red",
                  "C": -0.8994495556822881,
                  "D": "dog",
                  "E": 35,
                  "index": 19
                }
              ],
              "datalink": {
                "display_id": "ea304737-3109-4dac-8bfd-df816b93c8ec"
              },
              "schema": {
                "fields": [
                  {
                    "name": "index",
                    "type": "integer"
                  },
                  {
                    "name": "A",
                    "type": "integer"
                  },
                  {
                    "name": "B",
                    "type": "string"
                  },
                  {
                    "name": "C",
                    "type": "number"
                  },
                  {
                    "name": "D",
                    "type": "string"
                  },
                  {
                    "name": "E",
                    "type": "integer"
                  }
                ],
                "pandas_version": "1.4.0",
                "primaryKey": [
                  "index"
                ]
              }
            }
          },
          "metadata": {
            "application/vnd.dataresource+json": {
              "datalink": {
                "applied_filters": [],
                "dataframe_info": {
                  "default_index_used": true,
                  "orig_num_cols": 5,
                  "orig_num_rows": 13,
                  "orig_size_bytes": 624,
                  "truncated_num_cols": 5,
                  "truncated_num_rows": 13,
                  "truncated_size_bytes": 624,
                  "truncated_string_columns": []
                },
                "display_id": "ea304737-3109-4dac-8bfd-df816b93c8ec",
                "dx_settings": {
                  "ALLOW_NOTEABLE_ATTRS": true,
                  "COLUMN_SAMPLING_METHOD": "outer",
                  "DB_LOCATION": ":memory:",
                  "DEV_MODE": false,
                  "DISPLAY_MAX_COLUMNS": 100,
                  "DISPLAY_MAX_ROWS": 50000,
                  "DISPLAY_MODE": "simple",
                  "ENABLE_ASSIGNMENT": true,
                  "ENABLE_DATALINK": true,
                  "FLATTEN_COLUMN_VALUES": true,
                  "FLATTEN_INDEX_VALUES": false,
                  "GENERATE_DEX_METADATA": false,
                  "HTML_TABLE_SCHEMA": false,
                  "LOG_LEVEL": 30,
                  "MAX_RENDER_SIZE_BYTES": 104857600,
                  "MAX_STRING_LENGTH": 250,
                  "NUM_PAST_SAMPLES_TRACKED": 3,
                  "RANDOM_STATE": 12648430,
                  "RESET_INDEX_VALUES": false,
                  "ROW_SAMPLING_METHOD": "random",
                  "SAMPLING_FACTOR": 0.1,
                  "SAMPLING_METHOD": "random",
                  "STRINGIFY_COLUMN_VALUES": true,
                  "STRINGIFY_INDEX_VALUES": false
                },
                "sample_history": [],
                "sampling_time": "2023-08-01T23:10:52.602736",
                "user_variable_name": null,
                "variable_name": "unk_dataframe_ce76e5769b36431aaae91638f923247f"
              },
              "display_id": "ea304737-3109-4dac-8bfd-df816b93c8ec"
            }
          },
          "output_type": "display_data"
        }
      ],
      "source": [
        "# Boolean indexing with '|' (or)\n",
        "df_explore[(df_explore['A'] < 5) | (df_explore['B'] == 'red')]"
      ]
    },
    {
      "cell_type": "markdown",
      "id": "c419f47b-1c96-4fdd-a4b2-01884749033e",
      "metadata": {
        "noteable": {
          "cell_type": "markdown"
        }
      },
      "source": [
        "## Exporting DataFrames\n",
        "\n",
        "Pandas provides several methods to export a DataFrame to different file formats. This can be very useful when you want to save your data for later use or to share it with others. In this section, we'll explore how to export a DataFrame to CSV, Excel, and JSON formats."
      ]
    },
    {
      "cell_type": "code",
      "execution_count": null,
      "id": "f96e960b-08f3-413b-8f9d-568691d5b8e3",
      "metadata": {
        "noteable": {
          "cell_type": "code"
        },
        "vscode": {
          "languageId": "python"
        }
      },
      "outputs": [],
      "source": [
        "# Exporting to CSV\n",
        "# df_explore.to_csv('df_explore.csv', index=False)"
      ]
    },
    {
      "cell_type": "code",
      "execution_count": null,
      "id": "1ef8cf3f-e5ab-4e0d-966d-3d5bc774ac47",
      "metadata": {
        "noteable": {
          "cell_type": "code"
        },
        "vscode": {
          "languageId": "python"
        }
      },
      "outputs": [],
      "source": [
        "# Exporting to Excel\n",
        "# df_explore.to_excel('df_explore.xlsx', index=False)"
      ]
    },
    {
      "cell_type": "code",
      "execution_count": null,
      "id": "aecfd35a-b4e6-4fa1-95de-f61abb8e3d40",
      "metadata": {
        "noteable": {
          "cell_type": "code"
        },
        "vscode": {
          "languageId": "python"
        }
      },
      "outputs": [],
      "source": [
        "# Exporting to JSON\n",
        "# df_explore.to_json('df_explore.json', orient='records')"
      ]
    },
    {
      "cell_type": "markdown",
      "id": "33262e72-1f23-48af-a00f-a30e6e727604",
      "metadata": {
        "noteable": {
          "cell_type": "markdown"
        }
      },
      "source": [
        "## Exercises\n",
        "\n",
        "Now that we have learned about pandas DataFrames, let's put our knowledge into practice with some exercises. These exercises cover all the topics we have discussed in this notebook and vary in difficulty from easy to hard."
      ]
    },
    {
      "cell_type": "markdown",
      "id": "afe9dac8-39c9-4267-af2c-e5206e572c7b",
      "metadata": {
        "noteable": {
          "cell_type": "markdown"
        }
      },
      "source": [
        "### Exercise 1 (Easy)\n",
        "\n",
        "Create a DataFrame from a dictionary with keys 'Name', 'Age', and 'City'. The 'Name' column should contain five different names, the 'Age' column should contain ages between 20 and 40, and the 'City' column should contain the names of five different cities."
      ]
    },
    {
      "cell_type": "markdown",
      "id": "ee6e8887-c5cc-4554-abf3-fbe22d48de91",
      "metadata": {
        "noteable": {
          "cell_type": "markdown"
        }
      },
      "source": [
        "### Exercise 2 (Medium)\n",
        "\n",
        "Given the DataFrame created in Exercise 1, perform the following operations:\n",
        "\n",
        "1. Set the 'Name' column as the index of the DataFrame.\n",
        "2. Reset the index of the DataFrame.\n",
        "3. Select only the rows where 'Age' is greater than 30."
      ]
    },
    {
      "cell_type": "markdown",
      "id": "caddfdca-b239-4724-b58a-a50b47ee8c05",
      "metadata": {
        "noteable": {
          "cell_type": "markdown"
        }
      },
      "source": [
        "### Exercise 3 (Medium)\n",
        "\n",
        "Create a DataFrame with 10 rows and 3 columns named 'A', 'B', and 'C'. The 'A' column should contain random integers between 1 and 10, the 'B' column should contain random floats between 0 and 1, and the 'C' column should contain the string 'random' for all rows. Then, export this DataFrame to a CSV file named 'random.csv'."
      ]
    },
    {
      "cell_type": "markdown",
      "id": "d0581ea1-6528-49ad-a9a5-6cb79ab01338",
      "metadata": {
        "noteable": {
          "cell_type": "markdown"
        }
      },
      "source": [
        "### Exercise 4 (Hard)\n",
        "\n",
        "Given the DataFrame created in Exercise 3, perform the following operations:\n",
        "\n",
        "1. Create a new column 'D' that is the result of 'A' divided by 'B'.\n",
        "2. Replace all 'inf' values in column 'D' with 'NaN'.\n",
        "3. Drop all rows with 'NaN' values.\n",
        "4. Reset the index of the DataFrame without adding a new 'index' column."
      ]
    },
    {
      "cell_type": "markdown",
      "id": "344ba4af-5a40-4ab7-85fa-499cc3d4c64e",
      "metadata": {
        "noteable": {
          "cell_type": "markdown"
        }
      },
      "source": [
        "### Exercise 5 (Hard)\n",
        "\n",
        "Given a DataFrame with 100 rows and 5 columns named 'A', 'B', 'C', 'D', and 'E'. All columns should contain random integers between 1 and 100. Perform the following operations:\n",
        "\n",
        "1. Select only the rows where 'A' is greater than 50 and 'B' is less than 50.\n",
        "2. From the resulting DataFrame, select only the 'C', 'D', and 'E' columns.\n",
        "3. Calculate the sum of the 'C', 'D', and 'E' columns for each row (you should end up with a Series).\n",
        "4. Find the row (index) with the highest sum."
      ]
    }
  ],
  "metadata": {
    "kernel_info": {
      "name": "python3"
    },
    "kernelspec": {
      "display_name": "Python 3.9",
      "language": "python",
      "name": "python3"
    },
    "noteable": {
      "last_delta_id": "e35b6ab0-63cb-47e6-b9b3-dafd0de5ab01",
      "last_transaction_id": "b2e7d019-2023-4895-a63f-24f96d33a67b"
    },
    "noteable-chatgpt": {
      "create_notebook": {
        "openai_conversation_id": "9ac71aa4-81c8-5037-8876-b084c66a6b18",
        "openai_ephemeral_user_id": "271cb54c-817a-579f-8200-4dad879ff4d3",
        "openai_subdivision1_iso_code": "CL-RM"
      }
    },
    "nteract": {
      "version": "noteable@2.9.0"
    },
    "selected_hardware_size": "small"
  },
  "nbformat": 4,
  "nbformat_minor": 5
}
