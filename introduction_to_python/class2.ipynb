{
  "cells": [
    {
      "attachments": {},
      "cell_type": "markdown",
      "id": "a4541d47-6a87-46c5-86e0-b353c70ea3fd",
      "metadata": {
        "noteable": {
          "cell_type": "markdown"
        }
      },
      "source": [
        "## Introduction to NumPy\n",
        "\n",
        "<p align=\"center\">\n",
        "<img src=\"images/cat_class3.png\" width=\"50%\" height=\"50%\">\n",
        "</p>\n",
        "\n",
        "NumPy, which stands for Numerical Python, is a foundational package for numerical computations in Python. It provides support for large multi-dimensional arrays and matrices, along with a collection of mathematical functions to operate on these arrays.\n",
        "\n",
        "### Installation\n",
        "To install NumPy, you can use the package manager `pip`:\n",
        "```\n",
        "!pip install numpy\n",
        "```\n",
        "\n",
        "### Importing NumPy\n",
        "Once installed, you can import the NumPy library using the following command:\n",
        "```python\n",
        "import numpy as np\n",
        "```\n",
        "By convention, `numpy` is usually imported as `np`."
      ]
    },
    {
      "cell_type": "markdown",
      "id": "8d5d6974-a8d3-49da-984e-1f072baf8263",
      "metadata": {
        "noteable": {
          "cell_type": "markdown"
        }
      },
      "source": [
        "## Examples of NumPy Arrays\n",
        "\n",
        "In NumPy, arrays are the main way to store and manipulate data. Let's look at some examples of creating and working with arrays."
      ]
    },
    {
      "cell_type": "code",
      "execution_count": null,
      "id": "2a840a4a-d3f3-4cf3-b62c-0f63cfb301f5",
      "metadata": {
        "noteable": {
          "cell_type": "code"
        },
        "vscode": {
          "languageId": "python"
        }
      },
      "outputs": [],
      "source": [
        "import numpy as np\n",
        "\n",
        "# Creating a 1-dimensional array\n",
        "arr_1d = np.array([1, 2, 3, 4, 5])\n",
        "print('1D Array:', arr_1d)\n",
        "\n",
        "# Creating a 2-dimensional array\n",
        "arr_2d = np.array([[1, 2, 3], [4, 5, 6], [7, 8, 9]])\n",
        "print('\\n2D Array:')\n",
        "print(arr_2d)\n",
        "\n",
        "# Creating a 3-dimensional array\n",
        "arr_3d = np.array([[[1, 2], [3, 4]], [[5, 6], [7, 8]]])\n",
        "print('\\n3D Array:')\n",
        "print(arr_3d)"
      ]
    },
    {
      "cell_type": "markdown",
      "id": "d4fc1dd8-8993-4e17-93cd-97868c37f027",
      "metadata": {
        "noteable": {
          "cell_type": "markdown"
        }
      },
      "source": [
        "## Array Operations\n",
        "\n",
        "Arrays in NumPy can be operated on in a variety of ways. One common operation is element-wise addition. Let's see what happens when we try to add arrays of different shapes."
      ]
    },
    {
      "cell_type": "code",
      "execution_count": null,
      "id": "9522c864-1735-4911-bca8-9db486651eb3",
      "metadata": {
        "noteable": {
          "cell_type": "code"
        },
        "vscode": {
          "languageId": "python"
        }
      },
      "outputs": [],
      "source": [
        "# Adding two 1D arrays of the same shape\n",
        "arr1 = np.array([1, 2, 3])\n",
        "arr2 = np.array([4, 5, 6])\n",
        "sum_1d = arr1 + arr2\n",
        "print('Sum of two 1D arrays:', sum_1d)\n",
        "\n",
        "# Adding two 2D arrays of the same shape\n",
        "arr3 = np.array([[1, 2], [3, 4]])\n",
        "arr4 = np.array([[5, 6], [7, 8]])\n",
        "sum_2d = arr3 + arr4\n",
        "print('\\nSum of two 2D arrays:')\n",
        "print(sum_2d)\n",
        "\n",
        "# Trying to add arrays of different shapes (This will raise an error)\n",
        "try:\n",
        "    sum_diff_shapes = arr1 + arr3\n",
        "except ValueError as e:\n",
        "    print('\\nError when trying to add arrays of different shapes:', e)"
      ]
    },
    {
      "cell_type": "markdown",
      "id": "de166b16-1f55-4929-af1d-047954eddaa9",
      "metadata": {
        "noteable": {
          "cell_type": "markdown"
        }
      },
      "source": [
        "## NumPy Functions and Attributes\n",
        "\n",
        "NumPy provides a wide range of functions and attributes to perform operations on arrays. Let's explore some of the commonly used ones."
      ]
    },
    {
      "cell_type": "code",
      "execution_count": null,
      "id": "1ea77724-51c2-4b59-b327-e2f83c8e99fe",
      "metadata": {
        "noteable": {
          "cell_type": "code"
        },
        "vscode": {
          "languageId": "python"
        }
      },
      "outputs": [],
      "source": [
        "# Sample array for demonstration\n",
        "arr = np.array([1, 5, 3, 7, 2, 8, 4, 6])\n",
        "\n",
        "# logical_and and logical_or\n",
        "condition_and = np.logical_and(arr > 2, arr < 7)\n",
        "condition_or = np.logical_or(arr < 3, arr > 6)\n",
        "print('logical_and result:', condition_and)\n",
        "print('logical_or result:', condition_or)\n",
        "\n",
        "# .shape attribute\n",
        "print('\\nShape of the array:', arr.shape)\n",
        "\n",
        "# argmin() and argmax()\n",
        "print('\\nIndex of minimum value:', arr.argmin())\n",
        "print('Index of maximum value:', arr.argmax())\n",
        "\n",
        "# mean, median, std, var\n",
        "print('\\nMean of the array:', np.mean(arr))\n",
        "print('Median of the array:', np.median(arr))\n",
        "print('Standard deviation of the array:', np.std(arr))\n",
        "print('Variance of the array:', np.var(arr))\n",
        "\n",
        "# percentile\n",
        "print('\\n25th percentile:', np.percentile(arr, 25))\n",
        "print('75th percentile:', np.percentile(arr, 75))"
      ]
    },
    {
      "cell_type": "markdown",
      "id": "e77ab72d-ae97-414d-a4cf-3c8d7cf6b9fb",
      "metadata": {
        "noteable": {
          "cell_type": "markdown"
        }
      },
      "source": [
        "### Explanation of the functions and attributes used:\n",
        "\n",
        "- **`logical_and`**: This function performs element-wise logical AND operation. It returns an array of the same shape as the input arrays, with `True` where the condition is met and `False` otherwise.\n",
        "\n",
        "- **`logical_or`**: Similar to `logical_and`, this function performs element-wise logical OR operation.\n",
        "\n",
        "- **`.shape`**: This attribute returns a tuple representing the dimensions of the array.\n",
        "\n",
        "- **`argmin()`**: Returns the index of the minimum value in the array.\n",
        "\n",
        "- **`argmax()`**: Returns the index of the maximum value in the array.\n",
        "\n",
        "- **`mean`**: Computes the arithmetic mean of the array elements.\n",
        "\n",
        "- **`median`**: Returns the median of the array elements.\n",
        "\n",
        "- **`std`**: Computes the standard deviation of the array elements.\n",
        "\n",
        "- **`var`**: Computes the variance of the array elements.\n",
        "\n",
        "- **`percentile`**: Computes the specified percentile of the array elements."
      ]
    },
    {
      "cell_type": "markdown",
      "id": "240aece0-76d3-4a58-989e-3d1bb34910a0",
      "metadata": {
        "noteable": {
          "cell_type": "markdown"
        }
      },
      "source": [
        "## Additional NumPy Functions\n",
        "\n",
        "NumPy offers a plethora of functions for various mathematical and statistical operations. Here are some more functions that haven't been covered yet:"
      ]
    },
    {
      "cell_type": "markdown",
      "id": "be9d03de-6d55-4145-85e2-ef2b31b2c745",
      "metadata": {
        "noteable": {
          "cell_type": "markdown"
        }
      },
      "source": [
        "- **`dot`**: Computes the dot product of two arrays.\n",
        "\n",
        "- **`cross`**: Computes the cross product of two arrays.\n",
        "\n",
        "- **`linspace`**: Returns evenly spaced numbers over a specified range.\n",
        "\n",
        "- **`arange`**: Returns evenly spaced values within a given interval.\n",
        "\n",
        "- **`reshape`**: Gives a new shape to an array without changing its data.\n",
        "\n",
        "- **`concatenate`**: Joins two or more arrays along an existing axis.\n",
        "\n",
        "- **`split`**: Divides an array into multiple sub-arrays.\n",
        "\n",
        "- **`sin`, `cos`, `tan`**: Trigonometric functions.\n",
        "\n",
        "- **`exp`**: Computes the exponential of all elements in the input array.\n",
        "\n",
        "- **`log`, `log10`, `log2`**: Natural logarithm, base-10 logarithm, and base-2 logarithm.\n",
        "\n",
        "- **`sqrt`**: Returns the non-negative square-root of an array, element-wise.\n",
        "\n",
        "- **`unique`**: Finds the unique elements of an array.\n",
        "\n",
        "- **`sort`**: Returns a sorted copy of an array."
      ]
    },
    {
      "cell_type": "code",
      "execution_count": null,
      "id": "f1f41339-ecd8-41c0-8e76-c3371d061620",
      "metadata": {
        "noteable": {
          "cell_type": "code"
        },
        "vscode": {
          "languageId": "python"
        }
      },
      "outputs": [],
      "source": [
        "# Sample arrays for demonstration\n",
        "a = np.array([1, 2, 3])\n",
        "b = np.array([4, 5, 6])\n",
        "\n",
        "# dot\n",
        "dot_product = np.dot(a, b)\n",
        "print('Dot product of a and b:', dot_product)\n",
        "\n",
        "# cross\n",
        "cross_product = np.cross(a, b)\n",
        "print('\\nCross product of a and b:', cross_product)\n",
        "\n",
        "# linspace\n",
        "linspace_array = np.linspace(0, 10, 5)\n",
        "print('\\nLinspace array:', linspace_array)\n",
        "\n",
        "# arange\n",
        "arange_array = np.arange(0, 10, 2)\n",
        "print('\\nArange array:', arange_array)\n",
        "\n",
        "# reshape\n",
        "reshaped_array = np.arange(9).reshape(3, 3)\n",
        "print('\\nReshaped array:')\n",
        "print(reshaped_array)\n",
        "\n",
        "# concatenate\n",
        "concatenated_array = np.concatenate((a, b))\n",
        "print('\\nConcatenated array:', concatenated_array)\n",
        "\n",
        "# split\n",
        "split_arrays = np.split(concatenated_array, 2)\n",
        "print('\\nSplit arrays:', split_arrays)\n",
        "\n",
        "# sin, cos, tan\n",
        "print('\\nSin of a:', np.sin(a))\n",
        "print('Cos of a:', np.cos(a))\n",
        "print('Tan of a:', np.tan(a))\n",
        "\n",
        "# exp\n",
        "print('\\nExponential of a:', np.exp(a))\n",
        "\n",
        "# log, log10, log2\n",
        "print('\\nNatural logarithm of a:', np.log(a))\n",
        "print('Base-10 logarithm of a:', np.log10(a))\n",
        "print('Base-2 logarithm of a:', np.log2(a))\n",
        "\n",
        "# sqrt\n",
        "print('\\nSquare-root of a:', np.sqrt(a))\n",
        "\n",
        "# unique\n",
        "unique_array = np.unique(np.array([1, 2, 2, 3, 3, 3]))\n",
        "print('\\nUnique elements:', unique_array)\n",
        "\n",
        "# sort\n",
        "sorted_array = np.sort(np.array([3, 1, 2]))\n",
        "print('\\nSorted array:', sorted_array)"
      ]
    },
    {
      "cell_type": "markdown",
      "id": "6f0c7db7-4590-42a3-a7b3-a2bc8fbf877f",
      "metadata": {
        "noteable": {
          "cell_type": "markdown"
        }
      },
      "source": [
        "## Exercises\n",
        "\n",
        "To test your understanding of the concepts covered in this notebook, try out the following exercises:\n",
        "\n",
        "### Easy\n",
        "1. **Array Creation**: Create a 1-dimensional NumPy array containing the numbers from 1 to 10.\n",
        "\n",
        "2. **Array Reshaping**: Take the array you created in the previous exercise and reshape it into a 2x5 matrix.\n",
        "\n",
        "### Medium\n",
        "3. **Array Operations**: Given two arrays `a = np.array([1, 2, 3, 4])` and `b = np.array([5, 6, 7, 8])`, compute the dot product and the element-wise sum.\n",
        "\n",
        "4. **Array Functions**: For the array `c = np.array([10, 20, 30, 40, 50, 60, 70, 80, 90, 100])`, compute the mean, median, and standard deviation. Also, find the 25th and 75th percentiles.\n",
        "\n",
        "### Hard\n",
        "5. **Logical Operations**: Given the array `d = np.array([3, 7, 1, 10, 5, 8, 2, 9, 4, 6])`, use logical operations to find all numbers in the array that are greater than 3 and less than 8. Then, compute the sum of these numbers."
      ]
    }
  ],
  "metadata": {
    "kernel_info": {
      "name": "python3"
    },
    "kernelspec": {
      "display_name": "Python 3.9",
      "language": "python",
      "name": "python3"
    },
    "noteable": {
      "last_delta_id": "4cd47a97-a3d6-480d-b3a0-9c682b6ccd67",
      "last_transaction_id": "69904fbd-23cf-4c8f-b42f-238ec6c98303"
    },
    "noteable-chatgpt": {
      "create_notebook": {
        "openai_conversation_id": "afa014e7-50d6-5974-a6db-376ade250dc8",
        "openai_ephemeral_user_id": "3fbbb956-ca37-5c6a-bdc5-22d94463a1ed",
        "openai_subdivision1_iso_code": "CL-RM"
      }
    },
    "nteract": {
      "version": "noteable@2.9.0"
    },
    "selected_hardware_size": "small"
  },
  "nbformat": 4,
  "nbformat_minor": 5
}
