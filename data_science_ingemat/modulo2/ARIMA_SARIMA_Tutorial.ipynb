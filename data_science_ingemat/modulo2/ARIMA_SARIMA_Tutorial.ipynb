{
  "cells": [
    {
      "attachments": {},
      "cell_type": "markdown",
      "id": "a584a662-1374-4b99-ada7-5772b26c86ee",
      "metadata": {
        "noteable": {
          "cell_type": "markdown"
        }
      },
      "source": [
        "# Quiz: Modelos ARIMA y SARIMA\n",
        "\n",
        "## Modelos ARIMA\n",
        "\n",
        "ARIMA es un acrónimo que significa AutoRegressive Integrated Moving Average. Es una clase de modelos que explica una serie de tiempo dada en función de sus propios valores pasados, es decir, su propia lags. Puede ser percibido como una regresión lineal de los datos pasados.\n",
        "\n",
        "Los componentes de los modelos ARIMA son:\n",
        "\n",
        "- **AR: Autoregression.** Un modelo que utiliza la relación dependiente entre una observación y un número de observaciones rezagadas (lagged observations).\n",
        "- **I: Integrated.** El uso de la diferenciación de las observaciones en bruto (por ejemplo, restar una observación de una observación en el paso de tiempo anterior) para hacer que la serie de tiempo sea estacionaria.\n",
        "- **MA: Moving Average.** Un modelo que utiliza la dependencia entre una observación y un error residual de un modelo de media móvil aplicado a observaciones rezagadas.\n",
        "\n",
        "Un modelo ARIMA se denota como ARIMA(p,d,q) donde:\n",
        "\n",
        "- **p** es el número de términos autorregresivos (AR part). Permite incorporar el efecto de los valores pasados en nuestro modelo.\n",
        "- **d** es el número de diferencias no estacionales necesarias para la estacionariedad.\n",
        "- **q** es el número de errores de pronóstico rezagados en la ecuación de predicción (MA part).\n",
        "\n",
        "## Modelos SARIMA\n",
        "\n",
        "Los modelos SARIMA (Seasonal Autoregressive Integrated Moving Average) son una extensión de los modelos ARIMA que soportan directamente las series de tiempo univariadas con un componente estacional.\n",
        "\n",
        "Un modelo SARIMA se denota como SARIMA(p,d,q)(P,D,Q)m donde:\n",
        "\n",
        "- **p, d, q** son los parámetros del modelo ARIMA para las tendencias no estacionales.\n",
        "- **P, D, Q** son los parámetros del modelo ARIMA para las tendencias estacionales.\n",
        "- **m** se refiere al número de periodos en cada temporada.\n",
        "\n",
        "## Ejemplo en Python\n",
        "\n",
        "Aquí hay un ejemplo de cómo ajustar un modelo ARIMA y SARIMA a una serie de tiempo en Python usando la biblioteca `statsmodels`.\n",
        "\n",
        "```python\n",
        "import pandas as pd\n",
        "from statsmodels.tsa.arima.model import ARIMA\n",
        "from statsmodels.tsa.statespace.sarimax import SARIMAX\n",
        "\n",
        "# Cargar datos\n",
        "series = pd.read_csv('your_data.csv', header=0, index_col=0, parse_dates=True, squeeze=True)\n",
        "\n",
        "# Ajustar modelo ARIMA\n",
        "model_arima = ARIMA(series, order=(5,1,0))\n",
        "model_arima_fit = model_arima.fit(disp=0)\n",
        "print(model_arima_fit.summary())\n",
        "\n",
        "# Ajustar modelo SARIMA\n",
        "model_sarima = SARIMAX(series, order=(1, 1, 1), seasonal_order=(1, 1, 1, 12))\n",
        "model_sarima_fit = model_sarima.fit(disp=False)\n",
        "print(model_sarima_fit.summary())\n",
        "```\n",
        "\n",
        "Por favor, reemplace `'your_data.csv'` con la ruta a su archivo de datos. Los parámetros `(5,1,0)` y `(1, 1, 1, 12)` son solo ejemplos y deben ser ajustados a sus datos específicos."
      ]
    },
    {
      "cell_type": "markdown",
      "id": "31cfa8a9-d6c0-4b22-8749-f95757e7154b",
      "metadata": {
        "noteable": {
          "cell_type": "markdown"
        }
      },
      "source": [
        "## Detalles adicionales sobre los modelos ARIMA\n",
        "\n",
        "Los modelos ARIMA son aplicados en algunos casos donde los datos muestran evidencia de no estacionariedad, donde una etapa inicial de diferenciación (correspondiente al componente 'I' en el modelo) puede ser aplicada una o más veces para eliminar la tendencia no estacionaria.\n",
        "\n",
        "El componente AR del modelo ARIMA indica que la variable evolutiva de interés es regresada en sus propios valores rezagados, es decir, anteriores. Por ejemplo, si p es 5, los predictores para x(t) serán x(t-1)….x(t-5).\n",
        "\n",
        "El componente MA del modelo ARIMA indica que el error de regresión es en realidad una combinación lineal de términos de error cuyos valores ocurrieron contemporáneamente y en varios momentos en el pasado.\n",
        "\n",
        "El componente I del modelo ARIMA indica que los datos se han diferenciado al menos una vez para hacer la serie estacionaria.\n",
        "\n",
        "## Detalles adicionales sobre los modelos SARIMA\n",
        "\n",
        "Los modelos SARIMA añaden una capa adicional de complejidad al modelado de series temporales. Estos modelos incorporan elementos de estacionalidad tanto en el componente AR como en el MA del modelo. Esto significa que el modelo no sólo considera las relaciones de los datos consigo mismo (AR), los errores (MA) y las diferencias para la estacionariedad (I), sino que también tiene en cuenta la estacionalidad de los datos.\n",
        "\n",
        "El componente SAR del modelo SARIMA indica que la serie temporal tiene correlaciones estacionales autorregresivas. Por ejemplo, si P es 2, los predictores para x(t) serán x(t-12) y x(t-24) si la serie es mensual.\n",
        "\n",
        "El componente SMA del modelo SARIMA indica que la serie temporal tiene correlaciones estacionales de media móvil. Por ejemplo, si Q es 1, los predictores para x(t) serán los errores en los periodos t-12 y t-24 si la serie es mensual.\n",
        "\n",
        "El componente SI del modelo SARIMA indica que los datos se han diferenciado al menos una vez para eliminar la estacionalidad.\n",
        "\n",
        "El parámetro m en el modelo SARIMA se refiere al número de periodos por temporada, y es fundamental para modelar correctamente la estacionalidad. Por ejemplo, m sería 4 para datos trimestrales, 12 para datos mensuales, o 7 para datos diarios si se espera una estacionalidad semanal."
      ]
    },
    {
      "attachments": {},
      "cell_type": "markdown",
      "id": "44225a6d",
      "metadata": {},
      "source": [
        "### QUIZ:\n",
        "A continuación responde el siguiente quiz: https://forms.gle/aA9Mx1D5BNvhb1SL7"
      ]
    }
  ],
  "metadata": {
    "kernel_info": {
      "name": "python3"
    },
    "kernelspec": {
      "display_name": "Python 3.9",
      "language": "python",
      "name": "python3"
    },
    "noteable": {
      "last_delta_id": "be91c7b5-fcef-44a8-ba63-2488e0928255",
      "last_transaction_id": "be91c7b5-fcef-44a8-ba63-2488e0928255"
    },
    "noteable-chatgpt": {
      "create_notebook": {
        "openai_conversation_id": "96d338e1-ba80-5356-9672-c04b5a281394",
        "openai_ephemeral_user_id": "c07324ec-e1bd-5647-9258-feb58dfbb5ea",
        "openai_subdivision1_iso_code": "CL-VS"
      }
    },
    "nteract": {
      "version": "noteable@2.9.0"
    },
    "selected_hardware_size": "small"
  },
  "nbformat": 4,
  "nbformat_minor": 5
}
