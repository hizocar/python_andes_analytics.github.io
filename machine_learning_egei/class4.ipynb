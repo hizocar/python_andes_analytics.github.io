{
  "cells": [
    {
      "cell_type": "markdown",
      "source": [
        "# Classification\n",
        "Classification is a type of supervised learning where the goal is to predict the categorical class labels of new instances, based on past observations. It involves assigning a class label to input data, and the classification is binary if there are only two classes to predict, or multiclass if there are more than two classes.\n",
        "\n",
        "## Examples of Classification\n",
        "- Email spam filter: Classifying emails as 'Spam' or 'Not Spam'.\n",
        "- Medical diagnosis: Determining if a patient has a disease or not based on their medical records.\n",
        "- Credit scoring: Assessing if an applicant is a 'high' or 'low' credit risk.\n",
        "\n",
        "Classification is used in various domains such as finance, healthcare, marketing, and more, making it a fundamental technique in the field of data science and machine learning."
      ],
      "metadata": {
        "noteable": {
          "cell_type": "markdown"
        }
      },
      "id": "b25e1d62-eb79-480e-ac50-5d362a9ddace"
    },
    {
      "cell_type": "markdown",
      "source": [
        "# C.1 Logistic Regression\n",
        "Logistic Regression is a statistical method for predicting binary outcomes based on independent variables. It is a type of regression analysis that is suited for binary classification problems.\n",
        "\n",
        "## How Logistic Regression Works\n",
        "- Logistic regression measures the relationship between the categorical dependent variable and one or more independent variables by estimating probabilities using a logistic function.\n",
        "- This logistic function is an S-shaped curve that can take any real-valued number and map it into a value between 0 and 1, but never exactly at those limits.\n",
        "- The function is defined as: $$\\frac{1}{1 + e^{-(\\beta_0 + \\beta_1x)}}$$ where $ \\beta_0 $ is the intercept and $ \\beta_1 $ are the coefficients of the independent variables $ x $.\n",
        "\n",
        "## Use Cases for Logistic Regression\n",
        "- Predicting the probability of a customer purchasing a product.\n",
        "- Estimating the odds of a student being admitted to a college, based on their grades and test scores.\n",
        "- Determining whether a transaction is fraudulent or not."
      ],
      "metadata": {
        "noteable": {
          "cell_type": "markdown"
        }
      },
      "id": "a1f0b04f-2ab4-4321-8381-51fb3a323ba4"
    },
    {
      "cell_type": "code",
      "source": [
        "# Python example demonstrating logistic regression with a dataset\n",
        "from sklearn.datasets import load_iris\n",
        "from sklearn.model_selection import train_test_split\n",
        "from sklearn.linear_model import LogisticRegression\n",
        "from sklearn.metrics import classification_report, confusion_matrix\n",
        "\n",
        "# Load dataset\n",
        "data = load_iris()\n",
        "X = data.data\n",
        "y = data.target\n",
        "\n",
        "# Since logistic regression is for binary classification, we will only use two classes\n",
        "X = X[y != 2]\n",
        "y = y[y != 2]\n",
        "\n",
        "# Split the data into training and test sets\n",
        "X_train, X_test, y_train, y_test = train_test_split(X, y, test_size=0.2, random_state=42)\n",
        "\n",
        "# Initialize and train logistic regression model\n",
        "model = LogisticRegression()\n",
        "model.fit(X_train, y_train)\n",
        "\n",
        "# Predictions\n",
        "predictions = model.predict(X_test)\n",
        "\n",
        "# Performance\n",
        "print(confusion_matrix(y_test, predictions))\n",
        "print(classification_report(y_test, predictions))"
      ],
      "outputs": [],
      "execution_count": null,
      "metadata": {
        "noteable": {
          "cell_type": "code"
        },
        "ExecuteTime": {
          "start_time": "2023-11-06T16:32:37.228980+00:00",
          "end_time": "2023-11-06T16:32:37.754788+00:00"
        }
      },
      "id": "87ce90e3-b739-48ee-9a1a-65ab401dafd4"
    },
    {
      "cell_type": "markdown",
      "source": [
        "# Technique and Methodology\n",
        "The process of applying logistic regression typically involves several key steps:\n",
        "\n",
        "1. **Data Collection**: Gather the data that will be used for training the model.\n",
        "2. **Data Preprocessing**: Prepare the data for modeling by handling missing values, encoding categorical variables, normalizing data, etc.\n",
        "3. **Feature Selection**: Choose the most relevant features that will contribute to the model's predictive power.\n",
        "4. **Model Training**: Use the training data to fit the logistic regression model. This involves finding the coefficients that minimize a loss function.\n",
        "5. **Model Evaluation**: Assess the model's performance using a test set and metrics like accuracy, precision, recall, and the F1 score.\n",
        "6. **Parameter Tuning**: Adjust the model parameters to improve performance, if necessary.\n",
        "7. **Model Deployment**: Once the model is trained and evaluated, it can be deployed for making predictions on new data.\n",
        "\n",
        "In the following Python example, we'll go through some of these steps using the logistic regression model we previously trained."
      ],
      "metadata": {
        "noteable": {
          "cell_type": "markdown"
        }
      },
      "id": "dffe608f-a634-4299-ba87-d4d885bee4a3"
    },
    {
      "cell_type": "code",
      "source": [
        "# Example of data preprocessing steps\n",
        "from sklearn.preprocessing import StandardScaler\n",
        "\n",
        "# Standardizing the features (mean=0, std=1)\n",
        "scaler = StandardScaler()\n",
        "X_train_scaled = scaler.fit_transform(X_train)\n",
        "X_test_scaled = scaler.transform(X_test)\n",
        "\n",
        "# Re-training the logistic regression model with standardized data\n",
        "model_scaled = LogisticRegression()\n",
        "model_scaled.fit(X_train_scaled, y_train)\n",
        "\n",
        "# Predictions with standardized data\n",
        "predictions_scaled = model_scaled.predict(X_test_scaled)\n",
        "\n",
        "# Performance with standardized data\n",
        "print(confusion_matrix(y_test, predictions_scaled))\n",
        "print(classification_report(y_test, predictions_scaled))"
      ],
      "outputs": [],
      "execution_count": null,
      "metadata": {
        "noteable": {
          "cell_type": "code"
        },
        "ExecuteTime": {
          "start_time": "2023-11-06T16:33:34.116745+00:00",
          "end_time": "2023-11-06T16:33:34.278193+00:00"
        }
      },
      "id": "b8ce4383-b1aa-44a5-8ea0-1788c32b98b2"
    },
    {
      "cell_type": "markdown",
      "source": [
        "# Measuring the Model Performance\n",
        "To evaluate the performance of a logistic regression model, we use several metrics:\n",
        "\n",
        "- **Accuracy**: The proportion of true results among the total number of cases examined.\n",
        "- **Precision**: The proportion of true positive results divided by the number of all positive results.\n",
        "- **Recall (Sensitivity)**: The proportion of true positive results divided by the number of positives that should have been identified.\n",
        "- **F1 Score**: The harmonic mean of precision and recall, giving both metrics equal weight.\n",
        "\n",
        "These metrics can be derived from the confusion matrix, which is a table showing correct predictions and types of incorrect predictions.\n",
        "\n",
        "In the Python example below, we will calculate these metrics for our logistic regression model."
      ],
      "metadata": {
        "noteable": {
          "cell_type": "markdown"
        }
      },
      "id": "57157193-a927-44bd-9054-d9fd3939494c"
    },
    {
      "cell_type": "code",
      "source": [
        "# Calculating metrics from the confusion matrix\n",
        "from sklearn.metrics import accuracy_score, precision_score, recall_score, f1_score\n",
        "\n",
        "# Accuracy\n",
        "accuracy = accuracy_score(y_test, predictions)\n",
        "print('Accuracy:', accuracy)\n",
        "\n",
        "# Precision\n",
        "precision = precision_score(y_test, predictions)\n",
        "print('Precision:', precision)\n",
        "\n",
        "# Recall\n",
        "recall = recall_score(y_test, predictions)\n",
        "print('Recall:', recall)\n",
        "\n",
        "# F1 Score\n",
        "f1 = f1_score(y_test, predictions)\n",
        "print('F1 Score:', f1)"
      ],
      "outputs": [],
      "execution_count": null,
      "metadata": {
        "noteable": {
          "cell_type": "code"
        },
        "ExecuteTime": {
          "start_time": "2023-11-06T16:34:17.412552+00:00",
          "end_time": "2023-11-06T16:34:17.570301+00:00"
        }
      },
      "id": "7a6c959a-0b45-4d40-b400-01f5ef3fdd2f"
    },
    {
      "cell_type": "markdown",
      "source": [
        "# The ROC Curve\n",
        "The Receiver Operating Characteristic (ROC) curve is a graphical plot that illustrates the diagnostic ability of a binary classifier system as its discrimination threshold is varied. It is created by plotting the true positive rate (TPR) against the false positive rate (FPR) at various threshold settings.\n",
        "\n",
        "The area under the ROC curve (AUC) is a measure of the model's ability to distinguish between the classes. An AUC of 0.5 suggests no discrimination (i.e., random chance), while an AUC of 1.0 indicates perfect discrimination.\n",
        "\n",
        "In the following Python example, we will plot the ROC curve for our logistic regression model."
      ],
      "metadata": {
        "noteable": {
          "cell_type": "markdown"
        }
      },
      "id": "72c825e0-4aa6-4a89-b293-84bd77535869"
    },
    {
      "cell_type": "code",
      "source": [
        "# Plotting the ROC curve\n",
        "from sklearn.metrics import roc_curve, auc\n",
        "import matplotlib.pyplot as plt\n",
        "\n",
        "# Compute ROC curve and ROC area\n",
        "fpr, tpr, thresholds = roc_curve(y_test, model.predict_proba(X_test)[:, 1])\n",
        "roc_auc = auc(fpr, tpr)\n",
        "\n",
        "# Plotting\n",
        "plt.figure()\n",
        "plt.plot(fpr, tpr, color='darkorange', lw=2, label='ROC curve (area = %0.2f)' % roc_auc)\n",
        "plt.plot([0, 1], [0, 1], color='navy', lw=2, linestyle='--')\n",
        "plt.xlim([0.0, 1.0])\n",
        "plt.ylim([0.0, 1.05])\n",
        "plt.xlabel('False Positive Rate')\n",
        "plt.ylabel('True Positive Rate')\n",
        "plt.title('Receiver Operating Characteristic')\n",
        "plt.legend(loc='lower right')\n",
        "plt.show()"
      ],
      "outputs": [],
      "execution_count": null,
      "metadata": {
        "noteable": {
          "cell_type": "code"
        },
        "ExecuteTime": {
          "start_time": "2023-11-06T16:35:06.103215+00:00",
          "end_time": "2023-11-06T16:35:06.710503+00:00"
        }
      },
      "id": "5c9a92b2-3ab8-4297-a49f-17c045f1ec9b"
    },
    {
      "cell_type": "markdown",
      "source": [
        "# Detailed Explanation of Evaluation Metrics\n",
        "\n",
        "In the context of classification problems, evaluation metrics are crucial for assessing the performance of a model. Here's a detailed explanation of the four primary metrics:\n",
        "\n",
        "## Accuracy\n",
        "Accuracy is the most intuitive performance measure and it is simply a ratio of correctly predicted observation to the total observations. It is a measure of how many classifications are correct. The formula for accuracy is:\n",
        "\n",
        "$$\n",
        "\\text{Accuracy} = \\frac{\\text{Number of correct predictions}}{\\text{Total number of predictions made}}\n",
        "$$\n",
        "\n",
        "## Precision\n",
        "Precision is the ratio of correctly predicted positive observations to the total predicted positive observations. High precision relates to the low false positive rate. It is a measure of the quality of a positive prediction made by the model. The formula for precision is:\n",
        "\n",
        "$$\n",
        "\\text{Precision} = \\frac{\\text{True Positives}}{\\text{True Positives} + \\text{False Positives}}\n",
        "$$\n",
        "\n",
        "## Recall (Sensitivity)\n",
        "Recall is the ratio of correctly predicted positive observations to the all observations in actual class - yes. It is a measure of the ability of a model to find all the relevant cases within a dataset. The formula for recall is:\n",
        "\n",
        "$$\n",
        "\\text{Recall} = \\frac{\\text{True Positives}}{\\text{True Positives} + \\text{False Negatives}}\n",
        "$$\n",
        "\n",
        "## F1 Score\n",
        "The F1 Score is the 2*((precision*recall)/(precision+recall)). It is also known as the F-Score or the F-Measure. The F1 Score is the harmonic mean of precision and recall taking both false positives and false negatives into account. It is a measure of the test's accuracy. The formula for the F1 score is:\n",
        "\n",
        "$$\n",
        "\\text{F1 Score} = 2 \\times \\frac{\\text{Precision} \\times \\text{Recall}}{\\text{Precision} + \\text{Recall}}\n",
        "$$\n",
        "\n",
        "In the next Python example, we will calculate these metrics to better understand their interpretation."
      ],
      "metadata": {
        "noteable": {
          "cell_type": "markdown"
        }
      },
      "id": "64fb2453-9cc4-4b9e-ad25-c5938c6e8f5d"
    },
    {
      "cell_type": "code",
      "source": [
        "from sklearn.metrics import accuracy_score, precision_score, recall_score, f1_score\n",
        "\n",
        "# Let's assume the following confusion matrix for a binary classifier\n",
        "# Confusion matrix\n",
        "#               Predicted\n",
        "#               No     Yes\n",
        "# Actual No      TN      FP\n",
        "#        Yes     FN      TP\n",
        "\n",
        "# True Positive (TP)\n",
        "TP = 30\n",
        "\n",
        "# True Negative (TN)\n",
        "TN = 45\n",
        "\n",
        "# False Positive (FP)\n",
        "FP = 5\n",
        "\n",
        "# False Negative (FN)\n",
        "FN = 20\n",
        "\n",
        "# Total number of predictions\n",
        "total_predictions = TP + TN + FP + FN\n",
        "\n",
        "# Calculating metrics\n",
        "accuracy = (TP + TN) / total_predictions\n",
        "precision = TP / (TP + FP)\n",
        "recall = TP / (TP + FN)\n",
        "f1 = 2 * (precision * recall) / (precision + recall)\n",
        "\n",
        "print(f'Accuracy: {accuracy:.2f}')\n",
        "print(f'Precision: {precision:.2f}')\n",
        "print(f'Recall: {recall:.2f}')\n",
        "print(f'F1 Score: {f1:.2f}')"
      ],
      "outputs": [],
      "execution_count": null,
      "metadata": {
        "noteable": {
          "cell_type": "code"
        },
        "ExecuteTime": {
          "start_time": "2023-11-06T16:38:07.277523+00:00",
          "end_time": "2023-11-06T16:38:07.433555+00:00"
        }
      },
      "id": "3d75e8ae-555b-4e38-b680-f16b1168b588"
    },
    {
      "cell_type": "markdown",
      "source": [
        "# Confusion Matrix Explanation\n",
        "\n",
        "A confusion matrix is a table that is often used to describe the performance of a classification model (or \"classifier\") on a set of test data for which the true values are known. It allows the visualization of the performance of an algorithm. Each row of the matrix represents the instances in an actual class while each column represents the instances in a predicted class, or vice versa. Here's the structure of a confusion matrix:\n",
        "\n",
        "| Actual \\ Predicted | Negative (0) | Positive (1) |\n",
        "|----------------------|--------------|--------------|\n",
        "| Negative (0)         | TN           | FP           |\n",
        "| Positive (1)         | FN           | TP           |\n",
        "\n",
        "- **True Positive (TP)**: The cases in which the model correctly predicted the positive class.\n",
        "- **True Negative (TN)**: The cases in which the model correctly predicted the negative class.\n",
        "- **False Positive (FP)**: The cases in which the model incorrectly predicted the positive class (a \"Type I error\").\n",
        "- **False Negative (FN)**: The cases in which the model incorrectly predicted the negative class (a \"Type II error\").\n",
        "\n",
        "The confusion matrix itself is not a performance measure as such, but almost all of the performance metrics are based on it.\n",
        "\n",
        "## When to Use Precision vs Recall\n",
        "\n",
        "- **Precision** is used when the cost of a false positive is high. For example, in email spam detection, a false positive means that a regular email is incorrectly classified as spam. The consequence is that an important email might be missed if it's sent to the spam folder.\n",
        "\n",
        "- **Recall** is used when the cost of a false negative is high. For example, in fraud detection or disease screening, a false negative means that a fraudulent transaction or a disease is not identified. The consequence could be very serious, leading to financial loss or harm to health.\n",
        "\n",
        "In the following Python example, we will create a confusion matrix for a hypothetical classifier and discuss the implications of precision and recall in a practical scenario."
      ],
      "metadata": {
        "noteable": {
          "cell_type": "markdown"
        }
      },
      "id": "cddada05-0113-46f9-9171-8c6c27cce548"
    },
    {
      "cell_type": "code",
      "source": [
        "from sklearn.metrics import confusion_matrix\n",
        "import seaborn as sns\n",
        "import matplotlib.pyplot as plt\n",
        "\n",
        "# Hypothetical predictions and true labels\n",
        "y_true = [0, 1, 0, 1, 0, 1, 0, 0, 0, 1]\n",
        "y_pred = [0, 1, 0, 1, 0, 0, 1, 0, 0, 1]\n",
        "\n",
        "# Generating the confusion matrix\n",
        "cm = confusion_matrix(y_true, y_pred)\n",
        "\n",
        "# Plotting the confusion matrix\n",
        "sns.heatmap(cm, annot=True, fmt='d', cmap='Blues')\n",
        "plt.xlabel('Predicted')\n",
        "plt.ylabel('Actual')\n",
        "plt.title('Confusion Matrix')\n",
        "plt.show()"
      ],
      "outputs": [],
      "execution_count": null,
      "metadata": {
        "noteable": {
          "cell_type": "code"
        },
        "ExecuteTime": {
          "start_time": "2023-11-06T16:44:26.538109+00:00",
          "end_time": "2023-11-06T16:44:26.928603+00:00"
        }
      },
      "id": "0f2d079a-8cc9-46a8-bb3b-b5f7ccf5e1c2"
    },
    {
      "cell_type": "markdown",
      "source": [
        "# Logistic Regression: Precision, Recall, and Confusion Matrix Practice Exercises\n",
        "\n",
        "In this section, we will provide you with exercises to practice calculating precision, recall, and the confusion matrix in the context of logistic regression. These metrics are crucial for evaluating the performance of your classification model beyond simple accuracy.\n",
        "\n",
        "## Exercise 1: Calculating Precision and Recall\n",
        "\n",
        "Given a logistic regression model that predicts whether an email is spam or not, you have the following classification results on the test set:\n",
        "\n",
        "- True Positives (TP): 90\n",
        "- False Positives (FP): 10\n",
        "- True Negatives (TN): 50\n",
        "- False Negatives (FN): 30\n",
        "\n",
        "Calculate the precision and recall of the model.\n",
        "\n",
        "### Precision\n",
        "Precision is the ratio of correctly predicted positive observations to the total predicted positives. It is a measure of a classifier's exactness. High precision relates to a low false positive rate. Calculate the precision using the formula:\n",
        "\n",
        "$$ Precision = \\frac{TP}{TP + FP} $$\n",
        "\n",
        "### Recall\n",
        "Recall (Sensitivity) is the ratio of correctly predicted positive observations to all observations in the actual class. It is a measure of a classifier's completeness. High recall relates to a low false negative rate. Calculate the recall using the formula:\n",
        "\n",
        "$$ Recall = \\frac{TP}{TP + FN} $$\n",
        "\n",
        "Write a Python function to calculate precision and recall, and then calculate these metrics using the given data.\n",
        "\n",
        "## Exercise 2: Confusion Matrix\n",
        "\n",
        "Using the same data from Exercise 1, create a confusion matrix. A confusion matrix is a table that is often used to describe the performance of a classification model on a set of test data for which the true values are known. It allows the visualization of the performance of an algorithm.\n",
        "\n",
        "Create a Python function that takes in the values of TP, FP, TN, and FN and outputs a confusion matrix in a readable format.\n",
        "\n",
        "## Exercise 3: Real-world Scenario\n",
        "\n",
        "Consider a logistic regression model that has been trained to detect fraud in credit card transactions. The model has produced the following results on a test dataset:\n",
        "\n",
        "- True Positives (TP): 120\n",
        "- False Positives (FP): 30\n",
        "- True Negatives (TN): 900\n",
        "- False Negatives (FN): 60\n",
        "\n",
        "Calculate the precision, recall, and F1-score for the model. The F1-score is the harmonic mean of precision and recall and is a balance between the two. It is calculated using the formula:\n",
        "\n",
        "$$ F1 = 2 \\times \\frac{Precision \\times Recall}{Precision + Recall} $$\n",
        "\n",
        "Write a Python function to calculate the F1-score and apply it to the given data."
      ],
      "metadata": {
        "noteable": {
          "cell_type": "markdown"
        }
      },
      "id": "0df134e2-2303-4ccc-a6da-168b461ff62f"
    },
    {
      "cell_type": "code",
      "source": [
        "def calculate_precision_recall(TP, FP, FN):\n",
        "    precision = TP / (TP + FP)\n",
        "    recall = TP / (TP + FN)\n",
        "    return precision, recall\n",
        "\n",
        "# Given data\n",
        "TP = 90\n",
        "FP = 10\n",
        "FN = 30\n",
        "\n",
        "# Calculate precision and recall\n",
        "precision, recall = calculate_precision_recall(TP, FP, FN)\n",
        "\n",
        "print(f'Precision: {precision:.2f}')\n",
        "print(f'Recall: {recall:.2f}')"
      ],
      "outputs": [],
      "execution_count": null,
      "metadata": {
        "noteable": {
          "cell_type": "code"
        }
      },
      "id": "d9fc59f6-db9b-4b83-8f87-cc055f388462"
    },
    {
      "cell_type": "code",
      "source": [
        "def create_confusion_matrix(TP, FP, TN, FN):\n",
        "    confusion_matrix = {\n",
        "        'Predicted Positive': {'Actual Positive': TP, 'Actual Negative': FP},\n",
        "        'Predicted Negative': {'Actual Positive': FN, 'Actual Negative': TN}\n",
        "    }\n",
        "    return confusion_matrix\n",
        "\n",
        "# Given data\n",
        "TP = 90\n",
        "FP = 10\n",
        "TN = 50\n",
        "FN = 30\n",
        "\n",
        "# Create confusion matrix\n",
        "confusion_matrix = create_confusion_matrix(TP, FP, TN, FN)\n",
        "\n",
        "for predicted, actual in confusion_matrix.items():\n",
        "    print(f'{predicted}: {actual}')"
      ],
      "outputs": [],
      "execution_count": null,
      "metadata": {
        "noteable": {
          "cell_type": "code"
        }
      },
      "id": "97bc2f61-6013-43de-b21c-0363046f1d5e"
    },
    {
      "cell_type": "code",
      "source": [
        "def calculate_f1_score(TP, FP, TN, FN):\n",
        "    precision = TP / (TP + FP)\n",
        "    recall = TP / (TP + FN)\n",
        "    f1_score = 2 * (precision * recall) / (precision + recall)\n",
        "    return f1_score\n",
        "\n",
        "# Given data for a fraud detection model\n",
        "TP = 120\n",
        "FP = 30\n",
        "TN = 900\n",
        "FN = 60\n",
        "\n",
        "# Calculate F1-score\n",
        "f1_score = calculate_f1_score(TP, FP, TN, FN)\n",
        "\n",
        "print(f'F1-Score: {f1_score:.2f}')"
      ],
      "outputs": [],
      "execution_count": null,
      "metadata": {
        "noteable": {
          "cell_type": "code"
        }
      },
      "id": "2850a64a-7f37-4799-bf4a-5d1fc054a0d7"
    },
    {
      "cell_type": "markdown",
      "source": [
        "## Exercise 4: Logistic Regression Implementation\n",
        "\n",
        "In this exercise, you will implement a logistic regression model on a dataset other than the commonly used Iris dataset. You will use the Pima Indians Diabetes Database, which is a standard dataset used in machine learning for binary classification problems. The dataset contains various diagnostic measurements and a binary outcome indicating whether the patient has diabetes.\n",
        "\n",
        "Your tasks are as follows:\n",
        "\n",
        "1. Load the dataset.\n",
        "2. Perform any necessary preprocessing, such as handling missing values, feature scaling, etc.\n",
        "3. Split the dataset into training and testing sets.\n",
        "4. Implement a logistic regression model.\n",
        "5. Train the model on the training set.\n",
        "6. Evaluate the model on the test set using accuracy, precision, recall, and the confusion matrix.\n",
        "7. Interpret the results.\n",
        "\n",
        "You will need to write Python code to accomplish these tasks. You can use libraries such as `pandas` for data manipulation, `scikit-learn` for logistic regression and evaluation metrics, and `matplotlib` or `seaborn` for data visualization if needed."
      ],
      "metadata": {
        "noteable": {
          "cell_type": "markdown"
        }
      },
      "id": "31b6e0b1-4e9e-4f9a-823c-52f0bb45397c"
    },
    {
      "cell_type": "code",
      "source": [
        "!pip install -q pandas scikit-learn matplotlib seaborn\n",
        "\n",
        "import pandas as pd\n",
        "from sklearn.model_selection import train_test_split\n",
        "from sklearn.linear_model import LogisticRegression\n",
        "from sklearn.metrics import accuracy_score, precision_score, recall_score, confusion_matrix\n",
        "import matplotlib.pyplot as plt\n",
        "import seaborn as sns\n",
        "\n",
        "# Load the dataset\n",
        "url = 'https://raw.githubusercontent.com/jbrownlee/Datasets/master/pima-indians-diabetes.data.csv'\n",
        "column_names = ['Pregnancies', 'Glucose', 'BloodPressure', 'SkinThickness', 'Insulin', 'BMI', 'DiabetesPedigreeFunction', 'Age', 'Outcome']\n",
        "data = pd.read_csv(url, names=column_names)\n",
        "\n",
        "# Data preprocessing\n",
        "# Here you would handle missing values, feature scaling, etc.\n",
        "\n",
        "# Split the dataset\n",
        "X = data.drop('Outcome', axis=1)\n",
        "y = data['Outcome']\n",
        "X_train, X_test, y_train, y_test = train_test_split(X, y, test_size=0.2, random_state=42)\n",
        "\n",
        "# Implement the logistic regression model\n",
        "model = LogisticRegression()\n",
        "\n",
        "# Train the model\n",
        "model.fit(X_train, y_train)\n",
        "\n",
        "# Evaluate the model\n",
        "y_pred = model.predict(X_test)\n",
        "accuracy = accuracy_score(y_test, y_pred)\n",
        "precision = precision_score(y_test, y_pred)\n",
        "recall = recall_score(y_test, y_pred)\n",
        "conf_matrix = confusion_matrix(y_test, y_pred)\n",
        "\n",
        "# Results\n",
        "print(f'Accuracy: {accuracy:.2f}')\n",
        "print(f'Precision: {precision:.2f}')\n",
        "print(f'Recall: {recall:.2f}')\n",
        "print('Confusion Matrix:')\n",
        "sns.heatmap(conf_matrix, annot=True, fmt='g')\n",
        "plt.show()"
      ],
      "outputs": [],
      "execution_count": null,
      "metadata": {
        "noteable": {
          "cell_type": "code"
        }
      },
      "id": "a5a7c978-c630-492a-b290-eb8c92a11abd"
    }
  ],
  "metadata": {
    "noteable-chatgpt": {
      "create_notebook": {
        "openai_conversation_id": "567992bb-7f7e-526d-81ff-934c67f8d55f",
        "openai_ephemeral_user_id": "1d138988-b58a-539a-966e-0ec3604ec94f",
        "openai_subdivision1_iso_code": "CL-RM"
      }
    },
    "kernel_info": {
      "name": "python3"
    },
    "noteable": {
      "last_delta_id": "9af21acb-2bc7-417d-bd01-cfb5b41d5170"
    },
    "kernelspec": {
      "display_name": "Python 3.9",
      "identifier": "legacy",
      "language": "python",
      "language_version": "3.9",
      "name": "python3"
    },
    "selected_hardware_size": "small",
    "nteract": {
      "version": "noteable@2.9.0"
    }
  },
  "nbformat": 4,
  "nbformat_minor": 5
}