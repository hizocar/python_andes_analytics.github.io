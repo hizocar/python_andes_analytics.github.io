{
  "cells": [
    {
      "cell_type": "markdown",
      "source": [
        "# Self-Learning Lab: Python Dataframes with Examples\n",
        "Welcome to this self-learning lab on Python Dataframes! In this lab, you will explore and practice key concepts related to dataframes using the pandas library. The lab is designed to be completed in approximately two hours.\n",
        "For each topic, we will provide a brief overview, an example, and then an exercise for you to complete. The exercises are designed with a business context in mind, so you'll be able to apply these concepts in real-world scenarios.\n",
        "## Contents:\n",
        "1. Introduction to Dataframes in Pandas\n",
        "2. Data Transformation: Creating New Columns\n",
        "3. Filtering and Indexing in Dataframes\n",
        "4. The `apply` Function and Lambda Expressions\n",
        "5. One Hot Encoding\n",
        "Let's dive in!"
      ],
      "metadata": {
        "noteable": {
          "cell_type": "markdown"
        }
      },
      "id": "6b1b0e81-bf88-4115-83fe-63707f6bd858"
    },
    {
      "cell_type": "markdown",
      "source": [
        "## 1. Introduction to Dataframes in Pandas\n",
        "A DataFrame is a 2-dimensional labeled data structure with columns that can be of different types. It is similar to a spreadsheet, a SQL table, or the `data.frame` in R. The DataFrame is one of the most commonly used pandas objects and is designed to handle a mix of numeric and non-numeric data.\n",
        "### Example:\n",
        "Let's create a simple dataframe with product sales data.\n",
        "```python\n",
        "import pandas as pd\n",
        "data = {\n",
        "    'Product Name': ['Laptop', 'Mouse', 'Keyboard'],\n",
        "    'Units Sold': [50, 150, 80],\n",
        "    'Price per Unit': [800, 20, 30]\n",
        "}\n",
        "df = pd.DataFrame(data)\n",
        "print(df)\n",
        "```\n",
        "### Exercise 1.1:\n",
        "Imagine you are a data analyst at a retail company. You have been given sales data for the past month. The data includes the product name, the number of units sold, and the price per unit.\n",
        "Using the pandas library, create a dataframe with the following data:\n",
        "| Product Name | Units Sold | Price per Unit |\n",
        "|--------------|------------|----------------|\n",
        "| Laptop      | 50         | 800            |\n",
        "| Mouse       | 150        | 20             |\n",
        "| Keyboard    | 80         | 30             |\n",
        "Calculate the total sales for each product and add it as a new column to the dataframe."
      ],
      "metadata": {
        "noteable": {
          "cell_type": "markdown"
        }
      },
      "id": "3a67259b-8acb-4aab-80e1-0460ebc9196e"
    },
    {
      "cell_type": "markdown",
      "source": [
        "## 2. Data Transformation: Creating New Columns\n",
        "Often, while working with data, you might want to create new columns based on the existing columns in the dataframe. This can be done using various operations and functions.\n",
        "### Example:\n",
        "Given the sales data, let's calculate the total sales for each product.\n",
        "```python\n",
        "df['Total Sales'] = df['Units Sold'] * df['Price per Unit']\n",
        "print(df)\n",
        "```\n",
        "### Exercise 2.1:\n",
        "Continuing with the retail company scenario, let's say you have been given additional data regarding the cost of each product. You are required to calculate the profit for each product.\n",
        "Add the following data to your dataframe:\n",
        "| Product Name | Cost per Unit |\n",
        "|--------------|---------------|\n",
        "| Laptop      | 600           |\n",
        "| Mouse       | 10            |\n",
        "| Keyboard    | 20            |\n",
        "Create a new column in the dataframe to calculate the profit for each product. Profit is calculated as `(Price per Unit - Cost per Unit) * Units Sold`."
      ],
      "metadata": {
        "noteable": {
          "cell_type": "markdown"
        }
      },
      "id": "614ebeb3-6a05-41d5-b7fc-2cdfa4926841"
    },
    {
      "cell_type": "markdown",
      "source": [
        "## 3. Filtering and Indexing in Dataframes\n",
        "Filtering allows you to select specific rows based on a condition. Indexing, on the other hand, helps in selecting specific rows and columns from the dataframe.\n",
        "### Example:\n",
        "From the sales data, let's extract the details of products that have sold more than 100 units.\n",
        "```python\n",
        "high_selling_products = df[df['Units Sold'] > 100]\n",
        "print(high_selling_products[['Product Name', 'Units Sold']])\n",
        "```\n",
        "### Exercise 3.1:\n",
        "From the sales data, extract the details of products that have sold more than 100 units. Display only the 'Product Name' and 'Units Sold' columns.\n",
        "### Exercise 3.2:\n",
        "From the sales data, extract the details of the product that has the highest profit. Display the 'Product Name' and 'Profit' columns."
      ],
      "metadata": {
        "noteable": {
          "cell_type": "markdown"
        }
      },
      "id": "115d1a98-80c5-4b37-8b77-7a723c840d33"
    },
    {
      "cell_type": "markdown",
      "source": [
        "## 4. The `apply` Function and Lambda Expressions\n",
        "The `apply` function is used to apply a function along the axis of the dataframe. Lambda expressions are small anonymous functions that can be used with functions like `apply`.\n",
        "### Example:\n",
        "Using the sales data, let's create a new column 'Category' that categorizes products as 'High Selling' if units sold are greater than 100, and 'Low Selling' otherwise.\n",
        "```python\n",
        "df['Category'] = df['Units Sold'].apply(lambda x: 'High Selling' if x > 100 else 'Low Selling')\n",
        "print(df[['Product Name', 'Category']])\n",
        "```\n",
        "### Exercise 4.1:\n",
        "Using the sales data, create a new column 'Category' that categorizes products as 'High Selling' if units sold are greater than 100, and 'Low Selling' otherwise. Use the `apply` function and a lambda expression to achieve this.\n",
        "### Exercise 4.2:\n",
        "Calculate the average profit per unit for each product and add it as a new column to the dataframe. Use the `apply` function to achieve this."
      ],
      "metadata": {
        "noteable": {
          "cell_type": "markdown"
        }
      },
      "id": "89c7a220-2c27-48c1-9128-2c9241af5adc"
    },
    {
      "cell_type": "markdown",
      "source": [
        "## 5. One Hot Encoding\n",
        "One hot encoding is a process of converting categorical data variables so they can be provided to machine learning algorithms to improve predictions. It involves converting each value in a column to a new column and assigning a 1 or 0 (True/False) value to the column.\n",
        "### Example:\n",
        "Using the sales data, let's one-hot encode the 'Category' column.\n",
        "```python\n",
        "encoded_df = pd.get_dummies(df, columns=['Category'])\n",
        "print(encoded_df)\n",
        "```\n",
        "### Exercise 5.1:\n",
        "Using the sales data, one-hot encode the 'Category' column. This will be useful when you want to use this data for machine learning algorithms.\n",
        "### Exercise 5.2:\n",
        "Imagine you have another column 'Region' with values 'North', 'South', 'East', and 'West'. One-hot encode this column."
      ],
      "metadata": {
        "noteable": {
          "cell_type": "markdown"
        }
      },
      "id": "1ecf7051-24a2-49db-9ac6-e6c2a1f8c4bf"
    }
  ],
  "metadata": {
    "noteable-chatgpt": {
      "create_notebook": {
        "openai_conversation_id": "af27de09-a74a-5ac1-9f80-010137b117ff",
        "openai_ephemeral_user_id": "6f3b0c95-d789-57c1-bb2f-805756f42a8e",
        "openai_subdivision1_iso_code": "AR-B"
      }
    },
    "noteable": {
      "last_delta_id": "d29530b7-0750-4f89-9c58-280374b978a0"
    },
    "selected_hardware_size": "small",
    "nteract": {
      "version": "noteable@2.9.0"
    }
  },
  "nbformat": 4,
  "nbformat_minor": 5
}