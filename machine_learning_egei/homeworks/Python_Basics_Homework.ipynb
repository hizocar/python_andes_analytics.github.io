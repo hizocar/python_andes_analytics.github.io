{
  "cells": [
    {
      "cell_type": "markdown",
      "source": [
        "# Python Basics Homework\n",
        "\n",
        "Welcome to your Python Basics Homework! This notebook is designed to help you practice and improve your Python programming skills. Please follow the instructions carefully and complete the tasks below.\n",
        "\n",
        "## Instructions\n",
        "\n",
        "- Read each problem statement carefully.\n",
        "- Write the Python code to solve each problem in the designated cell.\n",
        "- Do not delete or modify any pre-existing code or comments unless instructed to do so.\n",
        "- Run your code to ensure it works as expected and you have solved the problem correctly.\n",
        "- Save your notebook once you have completed the homework.\n",
        "\n",
        "## Problems\n",
        "\n",
        "This homework consists of problems that cover basic Python operations, functions, and libraries. You will practice using basic operations, creating functions, working with lists and strings, and using the `random` and `pandas` libraries.\n",
        "\n",
        "Let's get started!"
      ],
      "metadata": {
        "noteable": {
          "cell_type": "markdown"
        }
      },
      "id": "82866288-ac41-4c82-a050-578e2511da62"
    },
    {
      "cell_type": "markdown",
      "source": [
        "## Problem 1: Basic Operations and Functions\n",
        "\n",
        "### Part 1.1: Basic Operations\n",
        "\n",
        "Perform the following operations and print the results:\n",
        "\n",
        "1. Add 15 and 23.\n",
        "2. Subtract 50 from 200.\n",
        "3. Multiply 25 by 4.\n",
        "4. Divide 100 by 3 (get the result as a float number).\n",
        "\n",
        "### Part 1.2: Creating and Using Functions\n",
        "\n",
        "Create a function named `calculate_area` that takes the base and height of a triangle as parameters and returns its area. The formula to calculate the area of a triangle is `(base * height) / 2`.\n",
        "\n",
        "Then, call this function with base=10 and height=5 and print the result."
      ],
      "metadata": {
        "noteable": {
          "cell_type": "markdown"
        }
      },
      "id": "2cbae193-1496-4fbe-8d32-7d2645e82125"
    },
    {
      "cell_type": "markdown",
      "source": [
        "## Problem 2: Working with Lists and Strings\n",
        "\n",
        "### Part 2.1: Lists\n",
        "\n",
        "You have a list of numbers: `numbers = [10, 20, 30, 40, 50]`.\n",
        "\n",
        "1. Append the number 60 to the list.\n",
        "2. Insert the number 25 between 20 and 30.\n",
        "3. Remove the number 40 from the list.\n",
        "4. Print the modified list.\n",
        "\n",
        "### Part 2.2: Strings\n",
        "\n",
        "You have a string: `sentence = 'Python is fun!'`.\n",
        "\n",
        "1. Convert the string to uppercase and print it.\n",
        "2. Count and print the number of 'n' characters in the string.\n",
        "3. Replace 'fun' with 'awesome' in the string and print the result."
      ],
      "metadata": {
        "noteable": {
          "cell_type": "markdown"
        }
      },
      "id": "8a051439-fbf1-46c3-924d-43aa145caafd"
    },
    {
      "cell_type": "markdown",
      "source": [
        "## Problem 3: Using Libraries\n",
        "\n",
        "### Part 3.1: Importing Libraries and Using the `random` Library\n",
        "\n",
        "1. Import the `random` library.\n",
        "2. Generate and print a random integer between 1 and 100 using the `random.randint()` function.\n",
        "3. Generate and print a random float number between 0 and 1 using the `random.random()` function.\n",
        "\n",
        "### Part 3.2: Introduction to the `pandas` Library\n",
        "\n",
        "1. Import the `pandas` library with the alias `pd`.\n",
        "2. Create a dictionary with two keys: 'Name' and 'Age'. The 'Name' key should have a list of names as values, and the 'Age' key should have a list of ages as values.\n",
        "3. Create a pandas DataFrame from the dictionary and print it.\n",
        "4. Print the average age from the 'Age' column in the DataFrame."
      ],
      "metadata": {
        "noteable": {
          "cell_type": "markdown"
        }
      },
      "id": "7d7cbbd9-e334-4ad7-a2fa-4724f75b053d"
    }
  ],
  "metadata": {
    "noteable-chatgpt": {
      "create_notebook": {
        "openai_conversation_id": "69d698f3-e930-5c6d-99f4-c48c7f9b3718",
        "openai_ephemeral_user_id": "95d5934f-8d69-5fbb-a95b-aed65d68fe5d",
        "openai_subdivision1_iso_code": "CL-RM"
      }
    },
    "kernel_info": {
      "name": "python3"
    },
    "kernelspec": {
      "display_name": "Python 3.9",
      "language": "python",
      "name": "python3"
    },
    "selected_hardware_size": "small",
    "noteable": {
      "last_delta_id": "fab396f1-ad9b-472a-aae7-739524d4575f"
    },
    "nteract": {
      "version": "noteable@2.9.0"
    }
  },
  "nbformat": 4,
  "nbformat_minor": 5
}