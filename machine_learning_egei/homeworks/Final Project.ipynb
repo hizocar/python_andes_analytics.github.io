{
  "cells": [
    {
      "cell_type": "markdown",
      "source": [
        "# Final Project"
      ],
      "metadata": {
        "noteable": {
          "cell_type": "markdown"
        }
      },
      "id": "d74cea6f-b9e3-4009-a1d0-1777b22a415d"
    },
    {
      "cell_type": "markdown",
      "source": [
        "## Instructions\n",
        "\n",
        "- The project is to be carried out by groups of 3-4 students.\n",
        "- It must be presented in person on December 15th.\n",
        "- This project accounts for 40% of your final grade.\n",
        "- The presentation should last no longer than 20 minutes."
      ],
      "metadata": {
        "noteable": {
          "cell_type": "markdown"
        }
      },
      "id": "7a604ecd-f133-493f-bba7-98fcbd85b109"
    },
    {
      "cell_type": "markdown",
      "source": [
        "## Development\n",
        "\n",
        "Choose a relevant dataset that includes at least three categorical columns and three numerical columns. Select a target variable for your predictions.\n",
        "\n",
        "You must clean the data, analyze it, and select the appropriate variables for your model.\n",
        "\n",
        "Test the Logistic, KNN, Decision Tree, and Random Forest models. Create a comparative table of the results obtained, considering all metrics, including the AUC ROC.\n",
        "\n",
        "Perform K-means clustering on your data and explain the characteristics of each cluster."
      ],
      "metadata": {
        "noteable": {
          "cell_type": "markdown"
        }
      },
      "id": "194a7157-1200-4821-9efe-0a544ca2cd20"
    },
    {
      "cell_type": "markdown",
      "source": [
        "## Grading Rubric\n",
        "\n",
        "The 100 points for this project will be divided as follows, with each category evaluated at three levels: Achieved, Partially Achieved, and Not Achieved.\n",
        "\n",
        "1. **Data Selection and Cleaning (20 points)**\n",
        "\n",
        "   - Achieved (20 points): Relevant dataset with appropriate cleaning and preprocessing.\n",
        "   - Partially Achieved (10-15 points): Dataset is relevant but requires more thorough cleaning or preprocessing.\n",
        "   - Not Achieved (0-9 points): Dataset is not relevant or poorly cleaned/preprocessed.\n",
        "\n",
        "2. **Data Analysis and Variable Selection (20 points)**\n",
        "\n",
        "   - Achieved (20 points): Comprehensive analysis and appropriate variable selection for the model.\n",
        "   - Partially Achieved (10-15 points): Basic analysis conducted; variable selection could be improved.\n",
        "   - Not Achieved (0-9 points): Inadequate analysis and poor variable selection.\n",
        "\n",
        "3. **Model Implementation and Testing (30 points)**\n",
        "\n",
        "   - Achieved (30 points): Accurate implementation and testing of all required models with a well-constructed comparative table.\n",
        "   - Partially Achieved (15-25 points): Implementation and testing of most models; comparative table lacks detail.\n",
        "   - Not Achieved (0-14 points): Incomplete model implementation or testing; no comparative table.\n",
        "\n",
        "4. **K-means Clustering Analysis (20 points)**\n",
        "\n",
        "   - Achieved (20 points): Effective use of K-means clustering with clear explanations of each cluster.\n",
        "   - Partially Achieved (10-15 points): Basic use of K-means clustering; explanations of clusters are vague.\n",
        "   - Not Achieved (0-9 points): Poor or no use of K-means clustering; no explanations of clusters.\n",
        "\n",
        "5. **Oral Presentation (10 points)**\n",
        "\n",
        "   - Achieved (10 points): Clear, concise, and well-organized presentation within the time limit.\n",
        "   - Partially Achieved (5-9 points): Presentation is understandable but could be more organized or better timed.\n",
        "   - Not Achieved (0-4 points): Unclear or disorganized presentation; significantly exceeds or falls short of the time limit."
      ],
      "metadata": {
        "noteable": {
          "cell_type": "markdown"
        }
      },
      "id": "2d940af1-b8b2-4469-9a2a-36dff0f4b48c"
    }
  ],
  "metadata": {
    "noteable-chatgpt": {
      "create_notebook": {
        "openai_conversation_id": "32952762-5b39-52fa-9f1a-6eac4fea9aa1",
        "openai_ephemeral_user_id": "7124bf84-37dc-52e1-91f6-64c019aab58f",
        "openai_subdivision1_iso_code": "CL-RM"
      }
    },
    "kernel_info": {
      "name": "python3"
    },
    "kernelspec": {
      "display_name": "Python 3.9",
      "identifier": "legacy",
      "language": "python",
      "language_version": "3.9",
      "name": "python3"
    },
    "selected_hardware_size": "small",
    "noteable": {
      "last_delta_id": "e4dae5e5-153f-4dbc-8cdf-21c7035806b9"
    },
    "nteract": {
      "version": "noteable@2.9.0"
    }
  },
  "nbformat": 4,
  "nbformat_minor": 5
}