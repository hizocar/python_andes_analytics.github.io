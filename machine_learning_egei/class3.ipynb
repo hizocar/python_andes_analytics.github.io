{
  "cells": [
    {
      "cell_type": "markdown",
      "source": [
        "# Machine Learning Models\n",
        "\n",
        "In the realm of data science and artificial intelligence, machine learning models play a pivotal role. They are algorithms that learn patterns from data and then make predictions or decisions without being explicitly programmed to do so. In the business context, machine learning models can be used for a variety of tasks such as customer segmentation, sales forecasting, and even fraud detection.\n",
        "\n",
        "## What is a ML Model?\n",
        "\n",
        "A machine learning model is a mathematical representation of a real-world process. Think of it as a mathematical equation that has been trained on historical data to make predictions about future data. For businesses, these models can be used to gain insights, make informed decisions, and automate tasks.\n",
        "\n",
        "## Fitting a Model\n",
        "\n",
        "Fitting a model, also known as training a model, involves providing a machine learning algorithm with data and allowing it to learn the patterns. This is done by feeding the model input data and the corresponding output. The model then adjusts its weights based on the error of its predictions. In a business scenario, this could mean using past sales data to predict future sales.\n",
        "\n",
        "In the following sections, we will delve deeper into specific machine learning models and their applications in the business world."
      ],
      "metadata": {
        "noteable": {
          "cell_type": "markdown"
        }
      },
      "id": "9de6d612-71a5-479c-b72c-c4acf75d817b"
    },
    {
      "cell_type": "markdown",
      "source": [
        "## KNN (K-Nearest Neighbors)\n",
        "\n",
        "K-Nearest Neighbors (KNN) is a simple, yet powerful supervised machine learning algorithm used for classification and regression. It works by finding the 'k' training examples that are closest to a given input example and returning the most common output value among them.\n",
        "\n",
        "### Business Application of KNN\n",
        "\n",
        "Imagine a retail business that wants to segment its customers based on their purchase behavior. Using KNN, the business can classify a new customer into a particular segment by looking at the purchase behaviors of the 'k' most similar existing customers. This can help the business tailor its marketing strategies for different customer segments.\n",
        "\n",
        "Let's see a simple example in Python where we use KNN to classify customers into two segments: 'High Value' and 'Low Value' based on their annual spending and frequency of purchase."
      ],
      "metadata": {
        "noteable": {
          "cell_type": "markdown"
        }
      },
      "id": "41871f81-23a1-4f65-9708-960524f423f2"
    },
    {
      "cell_type": "code",
      "source": [
        "import numpy as np\n",
        "from sklearn.model_selection import train_test_split\n",
        "from sklearn.neighbors import KNeighborsClassifier\n",
        "import matplotlib.pyplot as plt\n",
        "\n",
        "# Sample data: Annual Spending (in $) and Frequency of Purchase (number of times in a year)\n",
        "X = np.array([[500, 2], [1500, 5], [3000, 8], [4000, 10], [750, 3], [400, 1], [4500, 12], [2000, 6]])\n",
        "# Labels: 0 for 'Low Value' and 1 for 'High Value'\n",
        "y = np.array([0, 0, 1, 1, 0, 0, 1, 1])\n",
        "\n",
        "# Splitting data into training and testing sets\n",
        "X_train, X_test, y_train, y_test = train_test_split(X, y, test_size=0.2, random_state=42)\n",
        "\n",
        "# Using KNN for classification with k=3\n",
        "knn = KNeighborsClassifier(n_neighbors=3)\n",
        "knn.fit(X_train, y_train)\n",
        "predictions = knn.predict(X_test)\n",
        "\n",
        "# Plotting the data points\n",
        "plt.scatter(X[:, 0], X[:, 1], c=y, cmap='viridis')\n",
        "plt.xlabel('Annual Spending ($)')\n",
        "plt.ylabel('Frequency of Purchase')\n",
        "plt.title('Customer Segmentation using KNN')\n",
        "plt.show()\n",
        "\n",
        "predictions"
      ],
      "outputs": [],
      "execution_count": null,
      "metadata": {
        "noteable": {
          "cell_type": "code"
        },
        "ExecuteTime": {
          "start_time": "2023-10-19T20:24:45.184474+00:00",
          "end_time": "2023-10-19T20:24:46.186832+00:00"
        }
      },
      "id": "830fb577-ddc0-4571-a09d-730938121eb7"
    },
    {
      "cell_type": "markdown",
      "source": [
        "## Polynomial Regression\n",
        "\n",
        "Polynomial Regression is a type of regression analysis used to model the relationship between a dependent variable and one or more independent variables by fitting a polynomial equation to the observed data. Unlike linear regression which models the relationship using a straight line, polynomial regression models it using a curve.\n",
        "\n",
        "### Business Application of Polynomial Regression\n",
        "\n",
        "Consider a business that wants to understand the relationship between advertising spend and sales. While initially, an increase in advertising might lead to a significant increase in sales, after a certain point, the effect of additional advertising might diminish. In such cases, a polynomial regression can capture the non-linear relationship between advertising spend and sales more effectively than a linear model.\n",
        "\n",
        "Let's see a Python example where we use Polynomial Regression to model the relationship between advertising spend and sales."
      ],
      "metadata": {
        "noteable": {
          "cell_type": "markdown"
        }
      },
      "id": "562f3189-c807-4f07-8ba3-9dfcfb61fb26"
    },
    {
      "cell_type": "code",
      "source": [
        "from sklearn.preprocessing import PolynomialFeatures\n",
        "from sklearn.linear_model import LinearRegression\n",
        "\n",
        "# Sample data: Advertising Spend (in $) and Sales (in $)\n",
        "X_ad = np.array([[50], [100], [150], [200], [250], [300], [350], [400]])\n",
        "y_sales = np.array([150, 220, 260, 275, 280, 285, 290, 295])\n",
        "\n",
        "# Transforming our data for Polynomial Regression\n",
        "poly = PolynomialFeatures(degree=2)\n",
        "X_poly = poly.fit_transform(X_ad)\n",
        "\n",
        "# Fitting the Polynomial Regression model\n",
        "poly_reg = LinearRegression()\n",
        "poly_reg.fit(X_poly, y_sales)\n",
        "\n",
        "# Predicting sales based on advertising spend\n",
        "y_pred = poly_reg.predict(X_poly)\n",
        "\n",
        "# Plotting the data points and the polynomial regression curve\n",
        "plt.scatter(X_ad, y_sales, color='blue', label='Actual Sales')\n",
        "plt.plot(X_ad, y_pred, color='red', label='Polynomial Regression')\n",
        "plt.xlabel('Advertising Spend ($)')\n",
        "plt.ylabel('Sales ($)')\n",
        "plt.title('Advertising Spend vs Sales using Polynomial Regression')\n",
        "plt.legend()\n",
        "plt.show()"
      ],
      "outputs": [],
      "execution_count": null,
      "metadata": {
        "noteable": {
          "cell_type": "code"
        },
        "ExecuteTime": {
          "start_time": "2023-10-19T20:25:03.144147+00:00",
          "end_time": "2023-10-19T20:25:03.522344+00:00"
        }
      },
      "id": "29eefef7-324c-4357-8006-f724bfcbc0b9"
    },
    {
      "cell_type": "markdown",
      "source": [
        "## Advanced KNN Example: Loan Default Prediction\n",
        "\n",
        "In this scenario, a bank wants to predict the risk associated with a loan based on a customer's credit score and annual income. The bank classifies the risk into three categories: 'Low Risk', 'Medium Risk', and 'High Risk'.\n",
        "\n",
        "Let's use KNN to classify customers into these risk categories."
      ],
      "metadata": {
        "noteable": {
          "cell_type": "markdown"
        }
      },
      "id": "ac2cd72f-8962-4aa8-820f-48120fa4c4c3"
    },
    {
      "cell_type": "code",
      "source": [
        "# Sample data: Credit Score and Annual Income (in $)\n",
        "X_loan = np.array([[650, 40000], [700, 55000], [600, 30000], [720, 75000], [630, 25000], [680, 50000], [590, 20000], [750, 90000]])\n",
        "# Labels: 0 for 'Low Risk', 1 for 'Medium Risk', and 2 for 'High Risk'\n",
        "y_risk = np.array([0, 0, 1, 0, 2, 0, 2, 0])\n",
        "\n",
        "# Splitting data into training and testing sets\n",
        "X_loan_train, X_loan_test, y_risk_train, y_risk_test = train_test_split(X_loan, y_risk, test_size=0.2, random_state=42)\n",
        "\n",
        "# Using KNN for classification with k=3\n",
        "knn_loan = KNeighborsClassifier(n_neighbors=3)\n",
        "knn_loan.fit(X_loan_train, y_risk_train)\n",
        "risk_predictions = knn_loan.predict(X_loan_test)\n",
        "\n",
        "# Plotting the data points\n",
        "plt.scatter(X_loan[:, 0], X_loan[:, 1], c=y_risk, cmap='viridis')\n",
        "plt.xlabel('Credit Score')\n",
        "plt.ylabel('Annual Income ($)')\n",
        "plt.title('Loan Default Risk Prediction using KNN')\n",
        "plt.colorbar().set_label('Risk Level')\n",
        "plt.show()\n",
        "\n",
        "risk_predictions"
      ],
      "outputs": [],
      "execution_count": null,
      "metadata": {
        "noteable": {
          "cell_type": "code"
        },
        "ExecuteTime": {
          "start_time": "2023-10-19T20:27:06.620944+00:00",
          "end_time": "2023-10-19T20:27:07.009005+00:00"
        }
      },
      "id": "622cba4b-37a8-45a7-8aef-af26da878999"
    },
    {
      "cell_type": "markdown",
      "source": [
        "## Advanced Polynomial Regression Example: Salary Prediction\n",
        "\n",
        "In this scenario, a company wants to understand the relationship between the years of experience and the salary of its employees. As employees gain more experience, the growth in their salary might not be linear, especially at higher experience levels where salary increments might start to plateau.\n",
        "\n",
        "Let's use Polynomial Regression to model this non-linear relationship between years of experience and salary."
      ],
      "metadata": {
        "noteable": {
          "cell_type": "markdown"
        }
      },
      "id": "2ee2740f-c448-45d4-b391-c9a5b937c22a"
    },
    {
      "cell_type": "code",
      "source": [
        "# Sample data: Years of Experience and Salary (in $)\n",
        "X_exp = np.array([[1], [2], [3], [4], [5], [6], [7], [8], [9], [10]])\n",
        "y_sal = np.array([40000, 45000, 50000, 60000, 75000, 85000, 95000, 105000, 110000, 115000])\n",
        "\n",
        "# Transforming our data for Polynomial Regression of degree 2\n",
        "poly_exp = PolynomialFeatures(degree=2)\n",
        "X_exp_poly = poly_exp.fit_transform(X_exp)\n",
        "\n",
        "# Fitting the Polynomial Regression model\n",
        "poly_reg_exp = LinearRegression()\n",
        "poly_reg_exp.fit(X_exp_poly, y_sal)\n",
        "\n",
        "# Predicting salary based on years of experience\n",
        "y_sal_pred = poly_reg_exp.predict(X_exp_poly)\n",
        "\n",
        "# Plotting the data points and the polynomial regression curve\n",
        "plt.scatter(X_exp, y_sal, color='blue', label='Actual Salary')\n",
        "plt.plot(X_exp, y_sal_pred, color='red', label='Polynomial Regression')\n",
        "plt.xlabel('Years of Experience')\n",
        "plt.ylabel('Salary ($)')\n",
        "plt.title('Years of Experience vs Salary using Polynomial Regression')\n",
        "plt.legend()\n",
        "plt.show()"
      ],
      "outputs": [],
      "execution_count": null,
      "metadata": {
        "noteable": {
          "cell_type": "code"
        },
        "ExecuteTime": {
          "start_time": "2023-10-19T20:28:02.529063+00:00",
          "end_time": "2023-10-19T20:28:02.875623+00:00"
        }
      },
      "id": "74af9a9b-e217-4619-8d3f-e0b136519015"
    },
    {
      "cell_type": "markdown",
      "source": [
        "## KNN Exercise: Customer Churn Prediction\n",
        "\n",
        "In this exercise, you'll be working with a fictional dataset representing a company's customer data. Your task is to predict customer churn, i.e., the likelihood of a customer leaving the company's services, based on their usage metrics and demographic information.\n",
        "\n",
        "### Dataset Description\n",
        "\n",
        "- **Age**: Age of the customer (numeric)\n",
        "- **MonthlyCharge**: Monthly charge for the services (numeric, in $)\n",
        "- **CustomerServiceCalls**: Number of calls made to customer service (numeric)\n",
        "- **Churn**: Whether the customer left the company within the last month (0 for No, 1 for Yes)\n",
        "\n",
        "### Objective\n",
        "\n",
        "Using the KNN algorithm, classify customers into 'Churn' or 'No Churn' based on the given features.\n",
        "\n",
        "Let's get started!"
      ],
      "metadata": {
        "noteable": {
          "cell_type": "markdown"
        }
      },
      "id": "3b6d2619-75e2-49fd-b267-3f8e5836ee30"
    },
    {
      "cell_type": "code",
      "source": [
        "# Sample dataset\n",
        "data = {\n",
        "    'Age': [25, 30, 35, 40, 45, 50, 55, 60, 65, 70],\n",
        "    'MonthlyCharge': [50, 55, 60, 65, 70, 75, 80, 85, 90, 95],\n",
        "    'CustomerServiceCalls': [1, 2, 1, 3, 2, 3, 1, 2, 3, 1],\n",
        "    'Churn': [0, 0, 0, 1, 0, 1, 0, 1, 1, 0]\n",
        "}\n",
        "\n",
        "# Convert the dictionary to a DataFrame for better visualization\n",
        "import pandas as pd\n",
        "df = pd.DataFrame(data)\n",
        "df"
      ],
      "outputs": [],
      "execution_count": null,
      "metadata": {
        "noteable": {
          "cell_type": "code"
        }
      },
      "id": "03e79503-7811-40a5-bb25-7028e1af749a"
    },
    {
      "cell_type": "markdown",
      "source": [
        "### Data Preparation\n",
        "\n",
        "Before applying the KNN algorithm, we need to prepare our data. This involves:\n",
        "\n",
        "1. **Splitting the data** into features (X) and target label (y). In our case, 'Age', 'MonthlyCharge', and 'CustomerServiceCalls' are our features, and 'Churn' is our target label.\n",
        "2. **Splitting the dataset** into training and testing sets. This allows us to train our model on one subset and test its performance on another unseen subset.\n",
        "\n",
        "Let's perform these steps."
      ],
      "metadata": {
        "noteable": {
          "cell_type": "markdown"
        }
      },
      "id": "57f3aa0c-5db7-409f-8c08-20adce703dd1"
    },
    {
      "cell_type": "code",
      "source": [
        "from sklearn.model_selection import train_test_split\n",
        "\n",
        "# Splitting the data into features (X) and target label (y)\n",
        "X = df[['Age', 'MonthlyCharge', 'CustomerServiceCalls']]\n",
        "y = df['Churn']\n",
        "\n",
        "# Splitting the dataset into training and testing sets (80% training, 20% testing)\n",
        "X_train, X_test, y_train, y_test = train_test_split(X, y, test_size=0.2, random_state=42)\n",
        "\n",
        "X_train.head(), y_train.head()"
      ],
      "outputs": [],
      "execution_count": null,
      "metadata": {
        "noteable": {
          "cell_type": "code"
        }
      },
      "id": "8e61e1b4-830e-47b8-87ab-22d42d7376b0"
    },
    {
      "cell_type": "markdown",
      "source": [
        "### Applying the KNN Algorithm\n",
        "\n",
        "Now that our data is prepared, we can apply the KNN algorithm. Here are the steps we'll follow:\n",
        "\n",
        "1. **Initialize the KNN Classifier:** We'll use the `KNeighborsClassifier` from `sklearn` to create our KNN model. The key parameter here is `n_neighbors`, which represents the number of neighbors to consider when making a prediction.\n",
        "2. **Train the Classifier:** We'll use the `fit` method to train our KNN classifier on the training data.\n",
        "3. **Make Predictions:** Once trained, we can use the `predict` method to make predictions on new, unseen data.\n",
        "\n",
        "Let's go through each step with code and explanations."
      ],
      "metadata": {
        "noteable": {
          "cell_type": "markdown"
        }
      },
      "id": "fa9bebd5-e2b0-4d05-9e51-35622fd23126"
    },
    {
      "cell_type": "code",
      "source": [
        "from sklearn.neighbors import KNeighborsClassifier\n",
        "\n",
        "# Step 1: Initialize the KNN Classifier\n",
        "# We'll start with 3 neighbors for our classifier\n",
        "knn = KNeighborsClassifier(n_neighbors=3)\n",
        "\n",
        "# Step 2: Train the Classifier on the training data\n",
        "knn.fit(X_train, y_train)\n",
        "\n",
        "# Displaying the trained classifier\n",
        "knn"
      ],
      "outputs": [],
      "execution_count": null,
      "metadata": {
        "noteable": {
          "cell_type": "code"
        }
      },
      "id": "78f0f95b-329f-464a-b908-c746ba64a529"
    },
    {
      "cell_type": "markdown",
      "source": [
        "### Making Predictions with the KNN Classifier\n",
        "\n",
        "Now that our KNN classifier is trained, we can use it to make predictions on new data. For this exercise, we'll predict the churn for the test data and then compare these predictions to the actual churn values to evaluate the performance of our model.\n",
        "\n",
        "To make predictions, we'll use the `predict` method of our trained KNN classifier. This method takes in the features of the data we want to predict and returns the predicted labels.\n",
        "\n",
        "Let's make predictions on our test data and display the results."
      ],
      "metadata": {
        "noteable": {
          "cell_type": "markdown"
        }
      },
      "id": "4d93b634-adb2-4ded-ba74-9e32957bacc7"
    },
    {
      "cell_type": "code",
      "source": [
        "# Step 3: Make Predictions on the test data\n",
        "y_pred = knn.predict(X_test)\n",
        "\n",
        "# Displaying the predicted churn values for the test data\n",
        "y_pred"
      ],
      "outputs": [],
      "execution_count": null,
      "metadata": {
        "noteable": {
          "cell_type": "code"
        }
      },
      "id": "cf294cf5-9a0a-4d00-8670-85938dd5f88a"
    },
    {
      "cell_type": "code",
      "source": [
        "from sklearn.metrics import accuracy_score\n",
        "\n",
        "# Calculate the accuracy of the model\n",
        "accuracy = accuracy_score(y_test, y_pred)\n",
        "\n",
        "# Displaying the accuracy\n",
        "accuracy"
      ],
      "outputs": [],
      "execution_count": null,
      "metadata": {
        "noteable": {
          "cell_type": "code"
        }
      },
      "id": "12162cb3-577e-47c0-9385-e70e52a12e3c"
    },
    {
      "cell_type": "markdown",
      "source": [
        "## Overfitting and Underfitting: Bias versus Variance\n",
        "\n",
        "In machine learning, achieving the right balance between bias and variance is crucial for creating models that generalize well to new, unseen data. Let's delve into these concepts:\n",
        "\n",
        "- **Bias:** Refers to the error introduced by approximating a real-world problem (which may be complex) by a too-simple model. High bias can cause the model to miss relevant relations between features and target outputs, leading to underfitting.\n",
        "\n",
        "- **Variance:** Refers to the error introduced by using a model that's too complex. High variance can cause the model to model the random noise in the training data, leading to overfitting.\n",
        "\n",
        "### Underfitting:\n",
        "Occurs when a model is too simple to capture the underlying structure of the data. Such a model has high bias and low variance.\n",
        "\n",
        "### Overfitting:\n",
        "Occurs when a model is too complex and fits the training data too closely, including its noise and outliers. Such a model has low bias and high variance.\n",
        "\n",
        "The goal in machine learning is to achieve a balance between bias and variance, ensuring that the model is flexible enough to model the data's structure but not so flexible that it fits the noise in the data.\n",
        "\n",
        "Let's visualize the concepts of overfitting and underfitting."
      ],
      "metadata": {
        "noteable": {
          "cell_type": "markdown"
        }
      },
      "id": "fffb7ee7-d2a1-4475-b35c-e3a513c214ec"
    },
    {
      "cell_type": "code",
      "source": [
        "import numpy as np\n",
        "import matplotlib.pyplot as plt\n",
        "from sklearn.pipeline import make_pipeline\n",
        "from sklearn.preprocessing import PolynomialFeatures\n",
        "from sklearn.linear_model import LinearRegression\n",
        "\n",
        "# Generate sample data\n",
        "np.random.seed(0)\n",
        "X = np.sort(5 * np.random.rand(80, 1), axis=0)\n",
        "y = np.sin(X).ravel() + np.random.normal(0, 0.1, X.shape[0])\n",
        "\n",
        "# Create polynomial regression models of different degrees\n",
        "degrees = [1, 4, 15]\n",
        "plt.figure(figsize=(14, 5))\n",
        "for i in range(len(degrees)):\n",
        "    ax = plt.subplot(1, len(degrees), i + 1)\n",
        "    plt.setp(ax, xticks=(), yticks=())\n",
        "\n",
        "    polynomial_features = PolynomialFeatures(degree=degrees[i], include_bias=False)\n",
        "    linear_regression = LinearRegression()\n",
        "    pipeline = make_pipeline(polynomial_features, linear_regression)\n",
        "    pipeline.fit(X, y)\n",
        "\n",
        "    # Evaluate the models using cross-validation\n",
        "    X_test = np.linspace(0, 5, 100)\n",
        "    plt.plot(X_test, pipeline.predict(X_test[:, np.newaxis]), label=\"Model\")\n",
        "    plt.scatter(X, y, edgecolor='b', s=20, label=\"Samples\")\n",
        "    plt.xlabel(\"x\")\n",
        "    plt.ylabel(\"y\")\n",
        "    plt.xlim((0, 5))\n",
        "    plt.ylim((-2, 2))\n",
        "    plt.legend(loc=\"best\")\n",
        "    plt.title(\"Degree %d\" % degrees[i])\n",
        "\n",
        "plt.tight_layout()\n",
        "plt.show()"
      ],
      "outputs": [],
      "execution_count": null,
      "metadata": {
        "noteable": {
          "cell_type": "code"
        },
        "ExecuteTime": {
          "start_time": "2023-10-19T20:57:30.586865+00:00",
          "end_time": "2023-10-19T20:57:31.156329+00:00"
        }
      },
      "id": "2221c9ff-77a5-47a7-889f-d525a1ed2f7a"
    },
    {
      "cell_type": "markdown",
      "source": [
        "## The Cost Function\n",
        "\n",
        "In machine learning, the cost function (or loss function) quantifies how well the model's predictions match the actual values. In other words, it measures the error of the model. The goal during training is to minimize this error.\n",
        "\n",
        "For linear regression, a common cost function is the **Mean Squared Error (MSE)**, which calculates the average of the squared differences between the predicted and actual values.\n",
        "\n",
        "The formula for MSE is:\n",
        "\n",
        "$$ MSE = \\frac{1}{n} \\sum_{i=1}^{n} (y_i - \\hat{y}_i)^2 $$\n",
        "\n",
        "Where:\n",
        "- $y_i$ is the actual value.\n",
        "- $\\hat{y}_i$ is the predicted value.\n",
        "- $ n $ is the number of observations.\n",
        "\n",
        "Let's implement the MSE in Python and calculate it for a sample set of actual and predicted values."
      ],
      "metadata": {
        "noteable": {
          "cell_type": "markdown"
        }
      },
      "id": "c9efc515-5902-40da-a829-a2bf05e7288d"
    },
    {
      "cell_type": "code",
      "source": [
        "from sklearn.metrics import mean_squared_error\n",
        "# Sample actual and predicted values\n",
        "y_true = np.array([3, 2.5, 4, 5.6])\n",
        "y_pred = np.array([2.8, 2.7, 3.8, 5.5])\n",
        "\n",
        "# Calculate MSE\n",
        "mse_value = mean_squared_error(y_true, y_pred)\n",
        "mse_value"
      ],
      "outputs": [],
      "execution_count": null,
      "metadata": {
        "noteable": {
          "cell_type": "code"
        },
        "ExecuteTime": {
          "start_time": "2023-10-19T20:57:10.318228+00:00",
          "end_time": "2023-10-19T20:57:10.475266+00:00"
        }
      },
      "id": "9ea002a6-c3f7-4b61-a939-ecb675fed69e"
    },
    {
      "cell_type": "markdown",
      "source": [
        "## The Training Error and The Test Error\n",
        "\n",
        "In machine learning, it's essential to evaluate how well a model performs. Two common metrics used for this purpose are the training error and the test error:\n",
        "\n",
        "- **Training Error:** This is the error (typically the MSE) of the model on the same data it was trained on. A low training error might indicate that the model fits the training data well, but it doesn't necessarily mean the model will perform well on new, unseen data.\n",
        "\n",
        "- **Test Error:** This is the error of the model on a separate set of data that it hasn't seen during training. It gives a better indication of how the model will perform in real-world scenarios. A model that performs well on the training data but poorly on the test data is likely overfitting.\n",
        "\n",
        "In a business context, the training error can help in understanding how well the model fits historical data, while the test error can provide insights into how the model might perform on future data.\n",
        "\n",
        "Let's calculate the training and test errors for a sample linear regression model using a business-related dataset."
      ],
      "metadata": {
        "noteable": {
          "cell_type": "markdown"
        }
      },
      "id": "a21670e7-c289-4e79-a780-2a49368724de"
    },
    {
      "cell_type": "code",
      "source": [
        "from sklearn.model_selection import train_test_split\n",
        "from sklearn.linear_model import LinearRegression\n",
        "\n",
        "# Generate sample business data: Sales vs. Advertising Spend\n",
        "np.random.seed(0)\n",
        "X = 2.5 * np.random.rand(100, 1)\n",
        "y = 5 + 3 * X + np.random.randn(100, 1)\n",
        "\n",
        "# Split the data into training and test sets\n",
        "X_train, X_test, y_train, y_test = train_test_split(X, y, test_size=0.2, random_state=0)\n",
        "\n",
        "# Train a linear regression model\n",
        "regressor = LinearRegression()\n",
        "regressor.fit(X_train, y_train)\n",
        "\n",
        "# Calculate the training error\n",
        "y_train_pred = regressor.predict(X_train)\n",
        "training_error = mean_squared_error(y_train, y_train_pred)\n",
        "\n",
        "# Calculate the test error\n",
        "y_test_pred = regressor.predict(X_test)\n",
        "test_error = mean_squared_error(y_test, y_test_pred)\n",
        "\n",
        "training_error, test_error"
      ],
      "outputs": [],
      "execution_count": null,
      "metadata": {
        "noteable": {
          "cell_type": "code"
        },
        "ExecuteTime": {
          "start_time": "2023-10-19T20:56:35.055582+00:00",
          "end_time": "2023-10-19T20:56:35.214953+00:00"
        }
      },
      "id": "53c1ab91-af85-445d-a7d4-55cb4b93551a"
    },
    {
      "cell_type": "markdown",
      "source": [
        "## The Cost Function (Revisited)\n",
        "\n",
        "The cost function, as previously mentioned, quantifies the error between the model's predictions and the actual values. For regression problems, the Mean Squared Error (MSE) is a commonly used cost function. It's crucial to minimize this error during the training process to ensure the model makes accurate predictions.\n",
        "\n",
        "In a business context, the cost function can be thought of as a measure of how far off our predictions are from the actual outcomes. For instance, if we're predicting monthly sales, a high cost would indicate that our predictions are far from the actual sales figures, which could lead to incorrect business decisions.\n",
        "\n",
        "Now, let's move on to the next topic."
      ],
      "metadata": {
        "noteable": {
          "cell_type": "markdown"
        }
      },
      "id": "9545925d-cd31-4c6a-aaa8-1d4fc98b842d"
    },
    {
      "cell_type": "markdown",
      "source": [
        "## Bias versus Variance (Revisited)\n",
        "\n",
        "Bias and variance are two fundamental concepts in understanding the performance of machine learning models. They represent two types of errors that can occur:\n",
        "\n",
        "- **Bias:** This is the error introduced by approximating a real-world problem, which might be complex, by a too-simple model. High bias can cause the model to miss the relevant relations between features and target outputs, leading to underfitting. In a business context, a high-bias model might consistently make the same type of error, such as consistently underestimating sales by a certain amount.\n",
        "\n",
        "- **Variance:** This is the error introduced by using a model that's too complex. High variance can cause the model to model the random noise in the training data, leading to overfitting. In a business context, a high-variance model might be very sensitive to small fluctuations in the training data, leading to erratic predictions.\n",
        "\n",
        "The challenge in machine learning is to find the right trade-off between bias and variance. Ideally, we want a model with low bias and low variance, but in practice, there's often a trade-off. Reducing bias might increase variance and vice versa.\n",
        "\n",
        "In a business scenario, understanding bias and variance is crucial. A model with high bias might lead to consistent errors in decision-making, while a model with high variance might lead to unpredictable and erratic decisions.\n",
        "\n",
        "Now, let's move on to the next topic."
      ],
      "metadata": {
        "noteable": {
          "cell_type": "markdown"
        }
      },
      "id": "3b46163a-74d9-4103-b5e3-c54ca62284b0"
    },
    {
      "cell_type": "code",
      "source": [
        "# Generate sample business data: Sales vs. Advertising Spend\n",
        "np.random.seed(42)\n",
        "X = 2.5 * np.random.rand(100, 1)\n",
        "y = 5 + 3 * X + np.random.randn(100, 1)\n",
        "\n",
        "# Split the data into training and test sets\n",
        "X_train, X_test, y_train, y_test = train_test_split(X, y, test_size=0.2, random_state=42)\n",
        "\n",
        "# Train a linear regression model\n",
        "regressor = LinearRegression()\n",
        "regressor.fit(X_train, y_train)\n",
        "\n",
        "# Calculate the training error\n",
        "y_train_pred = regressor.predict(X_train)\n",
        "training_error = mean_squared_error(y_train, y_train_pred)\n",
        "\n",
        "# Calculate the test error\n",
        "y_test_pred = regressor.predict(X_test)\n",
        "test_error = mean_squared_error(y_test, y_test_pred)\n",
        "\n",
        "training_error, test_error"
      ],
      "outputs": [],
      "execution_count": null,
      "metadata": {
        "noteable": {
          "cell_type": "code"
        },
        "ExecuteTime": {
          "start_time": "2023-10-19T20:58:26.078139+00:00",
          "end_time": "2023-10-19T20:58:26.244195+00:00"
        }
      },
      "id": "15bd7178-c9a0-43ed-a40e-16aa6fd93b01"
    },
    {
      "cell_type": "markdown",
      "source": [
        "## Exercise: Overfitting and Underfitting in Business Sales Prediction\n",
        "\n",
        "**Scenario:**\n",
        "You are a data scientist at a retail company, and you are tasked with predicting monthly sales based on advertising spend. You decide to use polynomial regression. However, you want to ensure that your model neither overfits nor underfits the data.\n",
        "\n",
        "**Objective:**\n",
        "Fit polynomial regression models of varying degrees to the sales data and visualize the results to understand the concepts of overfitting and underfitting.\n",
        "\n",
        "Let's start by visualizing the provided sales data."
      ],
      "metadata": {
        "noteable": {
          "cell_type": "markdown"
        }
      },
      "id": "c20c3dd3-0cd9-4648-90a0-5d92f0247d4f"
    },
    {
      "cell_type": "code",
      "source": [
        "# Generate sample business data: Sales vs. Advertising Spend\n",
        "np.random.seed(0)\n",
        "X = 2.5 * np.random.rand(100, 1)\n",
        "y = 5 + 3 * X + np.random.randn(100, 1)\n",
        "\n",
        "# Visualize the data\n",
        "plt.figure(figsize=(10, 6))\n",
        "plt.scatter(X, y, color='blue', s=30)\n",
        "plt.title('Sales vs. Advertising Spend')\n",
        "plt.xlabel('Advertising Spend (in thousands)')\n",
        "plt.ylabel('Sales (in thousands)')\n",
        "plt.grid(True)\n",
        "plt.show()"
      ],
      "outputs": [],
      "execution_count": null,
      "metadata": {
        "noteable": {
          "cell_type": "code"
        }
      },
      "id": "8a1474e1-ddbf-4898-b453-33ce5890ebd5"
    },
    {
      "cell_type": "code",
      "source": [
        "# Split the data into training and test sets\n",
        "X_train, X_test, y_train, y_test = train_test_split(X, y, test_size=0.2, random_state=0)\n",
        "\n",
        "# Display the size of the training and test sets\n",
        "len(X_train), len(X_test)"
      ],
      "outputs": [],
      "execution_count": null,
      "metadata": {
        "noteable": {
          "cell_type": "code"
        }
      },
      "id": "6e0d8cbf-3658-4cf7-ae71-c549a8a765cd"
    },
    {
      "cell_type": "code",
      "source": [
        "# Fit polynomial regression models of varying degrees and visualize the results\n",
        "degrees = [1, 4, 15]\n",
        "plt.figure(figsize=(14, 5))\n",
        "for i in range(len(degrees)):\n",
        "    ax = plt.subplot(1, len(degrees), i + 1)\n",
        "    plt.setp(ax, xticks=(), yticks=())\n",
        "\n",
        "    polynomial_features = PolynomialFeatures(degree=degrees[i], include_bias=False)\n",
        "    linear_regression = LinearRegression()\n",
        "    pipeline = make_pipeline(polynomial_features, linear_regression)\n",
        "    pipeline.fit(X_train, y_train)\n",
        "\n",
        "    # Visualize the models\n",
        "    X_range = np.linspace(0, 2.5, 100)\n",
        "    plt.plot(X_range, pipeline.predict(X_range[:, np.newaxis]), label=\"Model\")\n",
        "    plt.scatter(X_train, y_train, edgecolor='b', s=20, label=\"Training Data\")\n",
        "    plt.scatter(X_test, y_test, edgecolor='r', s=20, label=\"Test Data\")\n",
        "    plt.xlabel(\"Advertising Spend (in thousands)\")\n",
        "    plt.ylabel(\"Sales (in thousands)\")\n",
        "    plt.xlim((0, 2.5))\n",
        "    plt.ylim((0, 15))\n",
        "    plt.legend(loc=\"best\")\n",
        "    plt.title(\"Degree %d\" % degrees[i])\n",
        "\n",
        "plt.tight_layout()\n",
        "plt.show()"
      ],
      "outputs": [],
      "execution_count": null,
      "metadata": {
        "noteable": {
          "cell_type": "code"
        }
      },
      "id": "a3efefd6-a44e-47b3-9788-b7398a9e9b4f"
    },
    {
      "cell_type": "markdown",
      "source": [
        "## Exercise: Understanding the Cost Function in Business\n",
        "\n",
        "**Scenario:**\n",
        "You are working for a retail company and are tasked with predicting monthly sales based on advertising spend. You've chosen a linear regression model for this task. To evaluate the performance of your model, you decide to compute the Mean Squared Error (MSE) as your cost function.\n",
        "\n",
        "**Objective:**\n",
        "Calculate the MSE for your linear regression model using both the training and test data. Compare the results to understand the model's performance.\n",
        "\n",
        "Let's begin by calculating the MSE for the training data."
      ],
      "metadata": {
        "noteable": {
          "cell_type": "markdown"
        }
      },
      "id": "dc103297-68ad-4a7d-b5e6-98ea58be04a6"
    },
    {
      "cell_type": "code",
      "source": [
        "# Calculate the MSE for the training data\n",
        "y_train_pred = regressor.predict(X_train)\n",
        "mse_train = mean_squared_error(y_train, y_train_pred)\n",
        "mse_train"
      ],
      "outputs": [],
      "execution_count": null,
      "metadata": {
        "noteable": {
          "cell_type": "code"
        }
      },
      "id": "7823b8f1-3f9b-4fb2-945f-8949819f0416"
    },
    {
      "cell_type": "code",
      "source": [
        "# Calculate the MSE for the test data\n",
        "y_test_pred = regressor.predict(X_test)\n",
        "mse_test = mean_squared_error(y_test, y_test_pred)\n",
        "mse_test"
      ],
      "outputs": [],
      "execution_count": null,
      "metadata": {
        "noteable": {
          "cell_type": "code"
        }
      },
      "id": "ca0a6be5-3122-46f2-85d6-d25ee82cf45f"
    },
    {
      "cell_type": "markdown",
      "source": [
        "## Exercise: Evaluating Model Performance using Training and Test Errors\n",
        "\n",
        "**Scenario:**\n",
        "You are a data scientist at a retail company. The marketing team wants to understand the performance of the sales prediction model before launching a new advertising campaign. They are particularly interested in knowing how well the model performs on historical data (training data) and how it might perform on future data (test data).\n",
        "\n",
        "**Objective:**\n",
        "Calculate the training and test errors for the sales prediction model. Analyze the results to provide insights to the marketing team.\n",
        "\n",
        "Let's begin by calculating the training and test errors."
      ],
      "metadata": {
        "noteable": {
          "cell_type": "markdown"
        }
      },
      "id": "8cfbc561-14a6-4fbc-9f5e-5fa3012e14b1"
    },
    {
      "cell_type": "code",
      "source": [
        "# Calculate the training error\n",
        "training_error = mean_squared_error(y_train, y_train_pred)\n",
        "\n",
        "# Calculate the test error\n",
        "test_error = mean_squared_error(y_test, y_test_pred)\n",
        "\n",
        "training_error, test_error"
      ],
      "outputs": [],
      "execution_count": null,
      "metadata": {
        "noteable": {
          "cell_type": "code"
        }
      },
      "id": "8e71c0b0-6ad7-40e0-88b1-3fb5f1f206d3"
    }
  ],
  "metadata": {
    "noteable-chatgpt": {
      "create_notebook": {
        "openai_conversation_id": "ca4b4ac5-34cb-5f91-b045-4899f3ecb23b",
        "openai_ephemeral_user_id": "0a551cae-8a4d-53cc-9d38-188fccc07a0d",
        "openai_subdivision1_iso_code": "CL-RM"
      }
    },
    "kernel_info": {
      "name": "python3"
    },
    "kernelspec": {
      "name": "python3",
      "display_name": "Python 3.9",
      "language": "python",
      "language_version": "3.9",
      "identifier": "legacy"
    },
    "selected_hardware_size": "small",
    "noteable": {
      "last_delta_id": "493d8723-ee4b-4659-a983-160d96baa2e7"
    },
    "nteract": {
      "version": "noteable@2.9.0"
    }
  },
  "nbformat": 4,
  "nbformat_minor": 5
}