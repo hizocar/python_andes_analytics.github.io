{
  "cells": [
    {
      "attachments": {},
      "cell_type": "markdown",
      "id": "fdf1cf70-7920-4e36-afa3-b90e08ee104b",
      "metadata": {
        "noteable": {
          "cell_type": "markdown"
        }
      },
      "source": [
        "## DataFrames\n",
        "\n",
        "<p align=\"center\">\n",
        "<img src=\"images/class2.png\" width=\"50%\" height=\"50%\">\n",
        "</p>"
      ]
    },
    {
      "cell_type": "markdown",
      "id": "7de9d946-564e-48ab-8d3e-ecd4d66fdc94",
      "metadata": {
        "noteable": {
          "cell_type": "markdown"
        }
      },
      "source": [
        "A **DataFrame** is a two-dimensional, size-mutable, and heterogeneous tabular data structure with labeled axes (rows and columns). It is one of the most commonly used data structures in data analysis and machine learning, especially when dealing with structured data.\n",
        "\n",
        "### Why are DataFrames important?\n",
        "- **Structured Representation**: DataFrames provide a structured representation of data, making it easier to observe and analyze.\n",
        "- **Flexibility**: They can hold different types of data (e.g., integer, string, float) in different columns.\n",
        "- **Functionality**: Libraries like pandas in Python offer a wide range of functions to manipulate, filter, group, and transform data in DataFrames.\n",
        "- **Integration with Machine Learning**: DataFrames are often used as input data structures for machine learning models. They can be easily split into training and testing sets, and their columns can be used as features for models.\n",
        "\n",
        "### Applications in Data Analysis and Machine Learning\n",
        "1. **Data Cleaning**: Handling missing values, filtering rows or columns, and transforming data.\n",
        "2. **Data Exploration**: Calculating statistics, visualizing data, and identifying patterns.\n",
        "3. **Feature Engineering**: Creating new features from existing ones to improve model performance.\n",
        "4. **Model Training**: Using DataFrames to train machine learning models.\n",
        "\n",
        "### Business Example\n",
        "Imagine a retail company that wants to analyze its sales data. The data might include columns like 'Product ID', 'Product Name', 'Category', 'Price', 'Units Sold', and 'Date of Sale'. With a DataFrame, the company can easily:\n",
        "- Analyze sales trends over time.\n",
        "- Identify the best-selling products.\n",
        "- Calculate the total revenue for a specific time period.\n",
        "- Group sales data by category or product.\n",
        "- Predict future sales using machine learning models."
      ]
    },
    {
      "cell_type": "markdown",
      "id": "522305bb-c98d-4777-9140-e7c26c95783c",
      "metadata": {
        "noteable": {
          "cell_type": "markdown"
        }
      },
      "source": [
        "## Example 1: Fictitious Data"
      ]
    },
    {
      "cell_type": "markdown",
      "id": "bef29c03-8639-445c-9d4f-f638926fd495",
      "metadata": {
        "noteable": {
          "cell_type": "markdown"
        }
      },
      "source": [
        "### Creating a Fictitious Data"
      ]
    },
    {
      "cell_type": "code",
      "execution_count": null,
      "id": "62dfa3e9-1800-47bd-88e8-2698e050424b",
      "metadata": {
        "noteable": {
          "cell_type": "code"
        },
        "vscode": {
          "languageId": "python"
        }
      },
      "outputs": [],
      "source": [
        "import pandas as pd\n",
        "import numpy as np\n",
        "\n",
        "# Creating a fictitious sales data\n",
        "np.random.seed(42)\n",
        "data = {\n",
        "    'Product ID': np.arange(1, 101),\n",
        "    'Product Name': ['Product_' + str(i) for i in range(1, 101)],\n",
        "    'Category': np.random.choice(['Electronics', 'Clothing', 'Groceries', 'Household'], 100),\n",
        "    'Price': np.random.uniform(10, 500, 100).round(2),\n",
        "    'Units Sold': np.random.randint(1, 100, 100),\n",
        "    'Date of Sale': pd.date_range(start='2022-01-01', periods=100, freq='D')\n",
        "}\n",
        "\n",
        "# Introducing some missing values\n",
        "for _ in range(10):\n",
        "    data['Price'][np.random.randint(0, 100)] = np.nan\n",
        "    data['Units Sold'][np.random.randint(0, 100)] = np.nan\n",
        "\n",
        "sales_df = pd.DataFrame(data)\n",
        "sales_df.head()"
      ]
    },
    {
      "cell_type": "markdown",
      "id": "2deb5d20-bd8a-4157-8e80-2fa72bcb850a",
      "metadata": {
        "noteable": {
          "cell_type": "markdown"
        }
      },
      "source": [
        "### Data Cleaning"
      ]
    },
    {
      "cell_type": "code",
      "execution_count": null,
      "id": "151ecc63-035d-4d3f-a56a-bd42645b4e05",
      "metadata": {
        "noteable": {
          "cell_type": "code"
        },
        "vscode": {
          "languageId": "python"
        }
      },
      "outputs": [],
      "source": [
        "# Checking for missing values\n",
        "missing_values = sales_df.isnull().sum()\n",
        "missing_values"
      ]
    },
    {
      "cell_type": "code",
      "execution_count": null,
      "id": "73b01f70-b13d-4935-a9f5-6a4542377b49",
      "metadata": {
        "noteable": {
          "cell_type": "code"
        },
        "vscode": {
          "languageId": "python"
        }
      },
      "outputs": [],
      "source": [
        "# Handling missing values by filling with the mean of the column\n",
        "sales_df['Price'].fillna(sales_df['Price'].mean(), inplace=True)\n",
        "sales_df['Units Sold'].fillna(sales_df['Units Sold'].mean(), inplace=True)\n",
        "\n",
        "# Verifying if there are any missing values left\n",
        "sales_df.isnull().sum()"
      ]
    },
    {
      "cell_type": "markdown",
      "id": "4f81f10f-23ff-428e-b311-7b88eb3ab4ef",
      "metadata": {
        "noteable": {
          "cell_type": "markdown"
        }
      },
      "source": [
        "### Data Exploration"
      ]
    },
    {
      "cell_type": "code",
      "execution_count": null,
      "id": "6fb303b9-6e2e-48c6-aba5-7b4c9ad21210",
      "metadata": {
        "noteable": {
          "cell_type": "code"
        },
        "vscode": {
          "languageId": "python"
        }
      },
      "outputs": [],
      "source": [
        "# Getting a summary of the data\n",
        "sales_summary = sales_df.describe()\n",
        "sales_summary"
      ]
    },
    {
      "cell_type": "code",
      "execution_count": null,
      "id": "2d9d3f96-0d05-4c48-b93c-e368b0f2a391",
      "metadata": {
        "noteable": {
          "cell_type": "code"
        },
        "vscode": {
          "languageId": "python"
        }
      },
      "outputs": [],
      "source": [
        "import matplotlib.pyplot as plt\n",
        "\n",
        "# Visualizing the distribution of 'Price'\n",
        "plt.figure(figsize=(10, 6))\n",
        "sales_df['Price'].hist(bins=30, color='skyblue', edgecolor='black')\n",
        "plt.title('Distribution of Product Prices')\n",
        "plt.xlabel('Price')\n",
        "plt.ylabel('Number of Products')\n",
        "plt.grid(False)\n",
        "plt.show()"
      ]
    },
    {
      "cell_type": "markdown",
      "id": "133b7726-15a6-4f88-b39d-961485d31eee",
      "metadata": {
        "noteable": {
          "cell_type": "markdown"
        }
      },
      "source": [
        "### Feature Engineering"
      ]
    },
    {
      "cell_type": "code",
      "execution_count": null,
      "id": "0bb9e2fb-bbb8-4c52-a005-82f77dcaddd9",
      "metadata": {
        "noteable": {
          "cell_type": "code"
        },
        "vscode": {
          "languageId": "python"
        }
      },
      "outputs": [],
      "source": [
        "# Creating a new feature 'Revenue' which is 'Price' multiplied by 'Units Sold'\n",
        "sales_df['Revenue'] = sales_df['Price'] * sales_df['Units Sold']\n",
        "\n",
        "# Creating a feature 'Month of Sale' extracted from 'Date of Sale'\n",
        "sales_df['Month of Sale'] = sales_df['Date of Sale'].dt.month\n",
        "\n",
        "sales_df[['Product Name', 'Price', 'Units Sold', 'Revenue', 'Month of Sale']].head()"
      ]
    },
    {
      "cell_type": "markdown",
      "id": "45763c2a-5bb8-4f92-aec3-7b50bd9139a2",
      "metadata": {
        "noteable": {
          "cell_type": "markdown"
        }
      },
      "source": [
        "## Example 2: Fortune Data"
      ]
    },
    {
      "cell_type": "markdown",
      "id": "b8236204-4b6b-4338-aa2c-f0ed9537e94e",
      "metadata": {
        "noteable": {
          "cell_type": "markdown"
        }
      },
      "source": [
        "### Reading a CSV File"
      ]
    },
    {
      "cell_type": "code",
      "execution_count": null,
      "id": "fb0b6514-0f96-4da0-ba95-a370e24904cd",
      "metadata": {
        "ExecuteTime": {
          "end_time": "2023-08-16T19:15:53.581731+00:00",
          "start_time": "2023-08-16T19:15:53.170911+00:00"
        },
        "datalink": {
          "1350a37d-fd1b-44d6-847e-e168b2f5ccf1": {
            "applied_filters": [],
            "dataframe_info": {
              "default_index_used": true,
              "orig_num_cols": 7,
              "orig_num_rows": 5,
              "orig_size_bytes": 320,
              "truncated_num_cols": 7,
              "truncated_num_rows": 5,
              "truncated_size_bytes": 320,
              "truncated_string_columns": []
            },
            "display_id": "1350a37d-fd1b-44d6-847e-e168b2f5ccf1",
            "dx_settings": {
              "ALLOW_NOTEABLE_ATTRS": true,
              "COLUMN_SAMPLING_METHOD": "outer",
              "DB_LOCATION": ":memory:",
              "DEV_MODE": false,
              "DISPLAY_MAX_COLUMNS": 100,
              "DISPLAY_MAX_ROWS": 50000,
              "DISPLAY_MODE": "simple",
              "ENABLE_ASSIGNMENT": true,
              "ENABLE_DATALINK": true,
              "FLATTEN_COLUMN_VALUES": true,
              "FLATTEN_INDEX_VALUES": false,
              "GENERATE_DEX_METADATA": false,
              "HTML_TABLE_SCHEMA": false,
              "LOG_LEVEL": 30,
              "MAX_RENDER_SIZE_BYTES": 104857600,
              "MAX_STRING_LENGTH": 250,
              "NUM_PAST_SAMPLES_TRACKED": 3,
              "RANDOM_STATE": 12648430,
              "RESET_INDEX_VALUES": false,
              "ROW_SAMPLING_METHOD": "random",
              "SAMPLING_FACTOR": 0.1,
              "SAMPLING_METHOD": "random",
              "STRINGIFY_COLUMN_VALUES": true,
              "STRINGIFY_INDEX_VALUES": false
            },
            "sample_history": [],
            "sampling_time": "2023-08-16T19:09:12.994635",
            "user_variable_name": null,
            "variable_name": "unk_dataframe_ffa87dd8c613495aa7524e5a4eb9d40b"
          },
          "179b44bc-df31-4709-bd60-2d23476263b1": {
            "applied_filters": [],
            "dataframe_info": {
              "default_index_used": true,
              "orig_num_cols": 1,
              "orig_num_rows": 5,
              "orig_size_bytes": 80,
              "truncated_num_cols": 1,
              "truncated_num_rows": 5,
              "truncated_size_bytes": 80,
              "truncated_string_columns": []
            },
            "display_id": "179b44bc-df31-4709-bd60-2d23476263b1",
            "dx_settings": {
              "ALLOW_NOTEABLE_ATTRS": true,
              "COLUMN_SAMPLING_METHOD": "outer",
              "DB_LOCATION": ":memory:",
              "DEV_MODE": false,
              "DISPLAY_MAX_COLUMNS": 100,
              "DISPLAY_MAX_ROWS": 50000,
              "DISPLAY_MODE": "simple",
              "ENABLE_ASSIGNMENT": true,
              "ENABLE_DATALINK": true,
              "FLATTEN_COLUMN_VALUES": true,
              "FLATTEN_INDEX_VALUES": false,
              "GENERATE_DEX_METADATA": false,
              "HTML_TABLE_SCHEMA": false,
              "LOG_LEVEL": 30,
              "MAX_RENDER_SIZE_BYTES": 104857600,
              "MAX_STRING_LENGTH": 250,
              "NUM_PAST_SAMPLES_TRACKED": 3,
              "RANDOM_STATE": 12648430,
              "RESET_INDEX_VALUES": false,
              "ROW_SAMPLING_METHOD": "random",
              "SAMPLING_FACTOR": 0.1,
              "SAMPLING_METHOD": "random",
              "STRINGIFY_COLUMN_VALUES": true,
              "STRINGIFY_INDEX_VALUES": false
            },
            "sample_history": [],
            "sampling_time": "2023-08-16T19:06:22.428184",
            "user_variable_name": null,
            "variable_name": "unk_dataframe_dd5583c18d244a8e889a032323f8eb07"
          },
          "8d2176d3-b058-4c79-b8f8-83e7861c8870": {
            "applied_filters": [],
            "dataframe_info": {
              "default_index_used": true,
              "orig_num_cols": 4,
              "orig_num_rows": 5,
              "orig_size_bytes": 200,
              "truncated_num_cols": 4,
              "truncated_num_rows": 5,
              "truncated_size_bytes": 200,
              "truncated_string_columns": []
            },
            "display_id": "8d2176d3-b058-4c79-b8f8-83e7861c8870",
            "dx_settings": {
              "ALLOW_NOTEABLE_ATTRS": true,
              "COLUMN_SAMPLING_METHOD": "outer",
              "DB_LOCATION": ":memory:",
              "DEV_MODE": false,
              "DISPLAY_MAX_COLUMNS": 100,
              "DISPLAY_MAX_ROWS": 50000,
              "DISPLAY_MODE": "simple",
              "ENABLE_ASSIGNMENT": true,
              "ENABLE_DATALINK": true,
              "FLATTEN_COLUMN_VALUES": true,
              "FLATTEN_INDEX_VALUES": false,
              "GENERATE_DEX_METADATA": false,
              "HTML_TABLE_SCHEMA": false,
              "LOG_LEVEL": 30,
              "MAX_RENDER_SIZE_BYTES": 104857600,
              "MAX_STRING_LENGTH": 250,
              "NUM_PAST_SAMPLES_TRACKED": 3,
              "RANDOM_STATE": 12648430,
              "RESET_INDEX_VALUES": false,
              "ROW_SAMPLING_METHOD": "random",
              "SAMPLING_FACTOR": 0.1,
              "SAMPLING_METHOD": "random",
              "STRINGIFY_COLUMN_VALUES": true,
              "STRINGIFY_INDEX_VALUES": false
            },
            "sample_history": [],
            "sampling_time": "2023-08-16T19:15:53.424507",
            "user_variable_name": null,
            "variable_name": "unk_dataframe_0b42701a41484d0c93a6cdb7ed6f28d4"
          },
          "b5b097ed-f13e-4c18-b17a-2e464f82f11f": {
            "applied_filters": [],
            "dataframe_info": {
              "default_index_used": true,
              "orig_num_cols": 1,
              "orig_num_rows": 5,
              "orig_size_bytes": 80,
              "truncated_num_cols": 1,
              "truncated_num_rows": 5,
              "truncated_size_bytes": 80,
              "truncated_string_columns": []
            },
            "display_id": "b5b097ed-f13e-4c18-b17a-2e464f82f11f",
            "dx_settings": {
              "ALLOW_NOTEABLE_ATTRS": true,
              "COLUMN_SAMPLING_METHOD": "outer",
              "DB_LOCATION": ":memory:",
              "DEV_MODE": false,
              "DISPLAY_MAX_COLUMNS": 100,
              "DISPLAY_MAX_ROWS": 50000,
              "DISPLAY_MODE": "simple",
              "ENABLE_ASSIGNMENT": true,
              "ENABLE_DATALINK": true,
              "FLATTEN_COLUMN_VALUES": true,
              "FLATTEN_INDEX_VALUES": false,
              "GENERATE_DEX_METADATA": false,
              "HTML_TABLE_SCHEMA": false,
              "LOG_LEVEL": 30,
              "MAX_RENDER_SIZE_BYTES": 104857600,
              "MAX_STRING_LENGTH": 250,
              "NUM_PAST_SAMPLES_TRACKED": 3,
              "RANDOM_STATE": 12648430,
              "RESET_INDEX_VALUES": false,
              "ROW_SAMPLING_METHOD": "random",
              "SAMPLING_FACTOR": 0.1,
              "SAMPLING_METHOD": "random",
              "STRINGIFY_COLUMN_VALUES": true,
              "STRINGIFY_INDEX_VALUES": false
            },
            "sample_history": [],
            "sampling_time": "2023-08-16T19:09:05.490832",
            "user_variable_name": null,
            "variable_name": "unk_dataframe_8211366ab651486a9ab0686801f0b9f3"
          }
        },
        "dx": {
          "fieldMetadata": {},
          "simpleTable": true,
          "updated": 1692212789216,
          "views": []
        },
        "noteable": {
          "cell_type": "code"
        },
        "vscode": {
          "languageId": "python"
        }
      },
      "outputs": [
        {
          "data": {
            "application/vnd.dataresource+json": {
              "data": [
                {
                  "Name": "Walmart",
                  "Rank": 1,
                  "Revenue": "559151",
                  "Year": 2021,
                  "index": 0
                },
                {
                  "Name": "Amazon",
                  "Rank": 2,
                  "Revenue": "386064",
                  "Year": 2021,
                  "index": 1
                },
                {
                  "Name": "Apple",
                  "Rank": 3,
                  "Revenue": "274515",
                  "Year": 2021,
                  "index": 2
                },
                {
                  "Name": "CVS",
                  "Rank": 4,
                  "Revenue": "268706",
                  "Year": 2021,
                  "index": 3
                },
                {
                  "Name": "UnitedHealth Group",
                  "Rank": 5,
                  "Revenue": "257141",
                  "Year": 2021,
                  "index": 4
                }
              ],
              "datalink": {
                "display_id": "8d2176d3-b058-4c79-b8f8-83e7861c8870"
              },
              "schema": {
                "fields": [
                  {
                    "name": "index",
                    "type": "integer"
                  },
                  {
                    "name": "Year",
                    "type": "integer"
                  },
                  {
                    "name": "Name",
                    "type": "string"
                  },
                  {
                    "name": "Revenue",
                    "type": "string"
                  },
                  {
                    "name": "Rank",
                    "type": "integer"
                  }
                ],
                "pandas_version": "1.4.0",
                "primaryKey": [
                  "index"
                ]
              }
            }
          },
          "metadata": {
            "application/vnd.dataresource+json": {
              "datalink": {
                "applied_filters": [],
                "dataframe_info": {
                  "default_index_used": true,
                  "orig_num_cols": 4,
                  "orig_num_rows": 5,
                  "orig_size_bytes": 200,
                  "truncated_num_cols": 4,
                  "truncated_num_rows": 5,
                  "truncated_size_bytes": 200,
                  "truncated_string_columns": []
                },
                "display_id": "8d2176d3-b058-4c79-b8f8-83e7861c8870",
                "dx_settings": {
                  "ALLOW_NOTEABLE_ATTRS": true,
                  "COLUMN_SAMPLING_METHOD": "outer",
                  "DB_LOCATION": ":memory:",
                  "DEV_MODE": false,
                  "DISPLAY_MAX_COLUMNS": 100,
                  "DISPLAY_MAX_ROWS": 50000,
                  "DISPLAY_MODE": "simple",
                  "ENABLE_ASSIGNMENT": true,
                  "ENABLE_DATALINK": true,
                  "FLATTEN_COLUMN_VALUES": true,
                  "FLATTEN_INDEX_VALUES": false,
                  "GENERATE_DEX_METADATA": false,
                  "HTML_TABLE_SCHEMA": false,
                  "LOG_LEVEL": 30,
                  "MAX_RENDER_SIZE_BYTES": 104857600,
                  "MAX_STRING_LENGTH": 250,
                  "NUM_PAST_SAMPLES_TRACKED": 3,
                  "RANDOM_STATE": 12648430,
                  "RESET_INDEX_VALUES": false,
                  "ROW_SAMPLING_METHOD": "random",
                  "SAMPLING_FACTOR": 0.1,
                  "SAMPLING_METHOD": "random",
                  "STRINGIFY_COLUMN_VALUES": true,
                  "STRINGIFY_INDEX_VALUES": false
                },
                "sample_history": [],
                "sampling_time": "2023-08-16T19:15:53.424507",
                "user_variable_name": null,
                "variable_name": "unk_dataframe_0b42701a41484d0c93a6cdb7ed6f28d4"
              },
              "display_id": "8d2176d3-b058-4c79-b8f8-83e7861c8870"
            }
          },
          "output_type": "display_data"
        }
      ],
      "source": [
        "# Importing necessary libraries\n",
        "import pandas as pd\n",
        "\n",
        "# Reading a sample CSV file related to business and economy\n",
        "# For this example, I'll use a dataset about Fortune 500 companies\n",
        "url = 'https://raw.githubusercontent.com/hizocar/datasets/main/fortune500.csv'\n",
        "fortune_df = pd.read_csv(url, sep=',', on_bad_lines='skip')\n",
        "\n",
        "# Displaying the first few rows of the dataset using .head()\n",
        "fortune_df.head()"
      ]
    },
    {
      "cell_type": "markdown",
      "id": "bc8765f2-be5c-472a-88a5-74ec425c4890",
      "metadata": {
        "noteable": {
          "cell_type": "markdown"
        }
      },
      "source": [
        "### Descripción de las Columnas\n",
        "\n",
        "- **Year**: Esta columna representa el año en el que se registraron los datos de la empresa. Es de tipo `int64`, lo que significa que contiene valores enteros.\n",
        "\n",
        "- **Name**: Esta columna contiene el nombre de la empresa. Es de tipo `object`, lo que generalmente indica que contiene cadenas de texto.\n",
        "\n",
        "- **Revenue**: Esta columna representa los ingresos de la empresa en millones. Es de tipo `float64`, lo que indica que contiene valores decimales.\n",
        "\n",
        "Cada columna tiene un significado específico y es esencial para el análisis de las empresas Fortune 500 y su rendimiento a lo largo de los años."
      ]
    },
    {
      "cell_type": "code",
      "execution_count": null,
      "id": "0f3d8a63-3868-4335-9e57-b5547fa99b73",
      "metadata": {
        "ExecuteTime": {
          "end_time": "2023-08-16T19:22:16.319367+00:00",
          "start_time": "2023-08-16T19:22:16.119331+00:00"
        },
        "datalink": {
          "b6c78f76-1bf2-4cb9-91bd-c40fbe32c1e9": {
            "applied_filters": [],
            "dataframe_info": {
              "default_index_used": false,
              "orig_num_cols": 1,
              "orig_num_rows": 4,
              "orig_size_bytes": 64,
              "truncated_num_cols": 1,
              "truncated_num_rows": 4,
              "truncated_size_bytes": 64,
              "truncated_string_columns": []
            },
            "display_id": "b6c78f76-1bf2-4cb9-91bd-c40fbe32c1e9",
            "dx_settings": {
              "ALLOW_NOTEABLE_ATTRS": true,
              "COLUMN_SAMPLING_METHOD": "outer",
              "DB_LOCATION": ":memory:",
              "DEV_MODE": false,
              "DISPLAY_MAX_COLUMNS": 100,
              "DISPLAY_MAX_ROWS": 50000,
              "DISPLAY_MODE": "simple",
              "ENABLE_ASSIGNMENT": true,
              "ENABLE_DATALINK": true,
              "FLATTEN_COLUMN_VALUES": true,
              "FLATTEN_INDEX_VALUES": false,
              "GENERATE_DEX_METADATA": false,
              "HTML_TABLE_SCHEMA": false,
              "LOG_LEVEL": 30,
              "MAX_RENDER_SIZE_BYTES": 104857600,
              "MAX_STRING_LENGTH": 250,
              "NUM_PAST_SAMPLES_TRACKED": 3,
              "RANDOM_STATE": 12648430,
              "RESET_INDEX_VALUES": false,
              "ROW_SAMPLING_METHOD": "random",
              "SAMPLING_FACTOR": 0.1,
              "SAMPLING_METHOD": "random",
              "STRINGIFY_COLUMN_VALUES": true,
              "STRINGIFY_INDEX_VALUES": false
            },
            "sample_history": [],
            "sampling_time": "2023-08-16T19:22:16.163519",
            "user_variable_name": null,
            "variable_name": "unk_dataframe_e3715f76c5e947cba3f6d1bba1905887"
          }
        },
        "dx": {
          "fieldMetadata": {},
          "simpleTable": true,
          "updated": 1692213739047,
          "views": []
        },
        "noteable": {
          "cell_type": "code"
        },
        "vscode": {
          "languageId": "python"
        }
      },
      "outputs": [
        {
          "data": {
            "application/vnd.dataresource+json": {
              "data": [
                {
                  "0": "int64",
                  "index": "Year"
                },
                {
                  "0": "object",
                  "index": "Name"
                },
                {
                  "0": "object",
                  "index": "Revenue"
                },
                {
                  "0": "int64",
                  "index": "Rank"
                }
              ],
              "datalink": {
                "display_id": "b6c78f76-1bf2-4cb9-91bd-c40fbe32c1e9"
              },
              "schema": {
                "fields": [
                  {
                    "name": "index",
                    "type": "string"
                  },
                  {
                    "name": "0",
                    "type": "string"
                  }
                ],
                "pandas_version": "1.4.0",
                "primaryKey": [
                  "index"
                ]
              }
            }
          },
          "metadata": {
            "application/vnd.dataresource+json": {
              "datalink": {
                "applied_filters": [],
                "dataframe_info": {
                  "default_index_used": false,
                  "orig_num_cols": 1,
                  "orig_num_rows": 4,
                  "orig_size_bytes": 64,
                  "truncated_num_cols": 1,
                  "truncated_num_rows": 4,
                  "truncated_size_bytes": 64,
                  "truncated_string_columns": []
                },
                "display_id": "b6c78f76-1bf2-4cb9-91bd-c40fbe32c1e9",
                "dx_settings": {
                  "ALLOW_NOTEABLE_ATTRS": true,
                  "COLUMN_SAMPLING_METHOD": "outer",
                  "DB_LOCATION": ":memory:",
                  "DEV_MODE": false,
                  "DISPLAY_MAX_COLUMNS": 100,
                  "DISPLAY_MAX_ROWS": 50000,
                  "DISPLAY_MODE": "simple",
                  "ENABLE_ASSIGNMENT": true,
                  "ENABLE_DATALINK": true,
                  "FLATTEN_COLUMN_VALUES": true,
                  "FLATTEN_INDEX_VALUES": false,
                  "GENERATE_DEX_METADATA": false,
                  "HTML_TABLE_SCHEMA": false,
                  "LOG_LEVEL": 30,
                  "MAX_RENDER_SIZE_BYTES": 104857600,
                  "MAX_STRING_LENGTH": 250,
                  "NUM_PAST_SAMPLES_TRACKED": 3,
                  "RANDOM_STATE": 12648430,
                  "RESET_INDEX_VALUES": false,
                  "ROW_SAMPLING_METHOD": "random",
                  "SAMPLING_FACTOR": 0.1,
                  "SAMPLING_METHOD": "random",
                  "STRINGIFY_COLUMN_VALUES": true,
                  "STRINGIFY_INDEX_VALUES": false
                },
                "sample_history": [],
                "sampling_time": "2023-08-16T19:22:16.163519",
                "user_variable_name": null,
                "variable_name": "unk_dataframe_e3715f76c5e947cba3f6d1bba1905887"
              },
              "display_id": "b6c78f76-1bf2-4cb9-91bd-c40fbe32c1e9"
            }
          },
          "output_type": "display_data"
        }
      ],
      "source": [
        "# Checking the data types of each column \n",
        "data_types = fortune_df.dtypes\n",
        "data_types"
      ]
    },
    {
      "cell_type": "markdown",
      "id": "23f1f2bf-2b2c-446d-b400-c33789b75307",
      "metadata": {
        "noteable": {
          "cell_type": "markdown"
        }
      },
      "source": [
        "### Data Cleaning: Transforming the 'Revenue' Column"
      ]
    },
    {
      "cell_type": "code",
      "execution_count": null,
      "id": "8d582c02-5c29-4b8b-ab64-ac5e58fed793",
      "metadata": {
        "ExecuteTime": {
          "end_time": "2023-08-16T19:29:26.998299+00:00",
          "start_time": "2023-08-16T19:29:26.720349+00:00"
        },
        "datalink": {
          "f6301bf1-f321-4f2a-a77e-0087da01242d": {
            "applied_filters": [],
            "dataframe_info": {
              "default_index_used": false,
              "orig_num_cols": 1,
              "orig_num_rows": 4,
              "orig_size_bytes": 64,
              "truncated_num_cols": 1,
              "truncated_num_rows": 4,
              "truncated_size_bytes": 64,
              "truncated_string_columns": []
            },
            "display_id": "f6301bf1-f321-4f2a-a77e-0087da01242d",
            "dx_settings": {
              "ALLOW_NOTEABLE_ATTRS": true,
              "COLUMN_SAMPLING_METHOD": "outer",
              "DB_LOCATION": ":memory:",
              "DEV_MODE": false,
              "DISPLAY_MAX_COLUMNS": 100,
              "DISPLAY_MAX_ROWS": 50000,
              "DISPLAY_MODE": "simple",
              "ENABLE_ASSIGNMENT": true,
              "ENABLE_DATALINK": true,
              "FLATTEN_COLUMN_VALUES": true,
              "FLATTEN_INDEX_VALUES": false,
              "GENERATE_DEX_METADATA": false,
              "HTML_TABLE_SCHEMA": false,
              "LOG_LEVEL": 30,
              "MAX_RENDER_SIZE_BYTES": 104857600,
              "MAX_STRING_LENGTH": 250,
              "NUM_PAST_SAMPLES_TRACKED": 3,
              "RANDOM_STATE": 12648430,
              "RESET_INDEX_VALUES": false,
              "ROW_SAMPLING_METHOD": "random",
              "SAMPLING_FACTOR": 0.1,
              "SAMPLING_METHOD": "random",
              "STRINGIFY_COLUMN_VALUES": true,
              "STRINGIFY_INDEX_VALUES": false
            },
            "sample_history": [],
            "sampling_time": "2023-08-16T19:29:26.839847",
            "user_variable_name": null,
            "variable_name": "unk_dataframe_02e5010af11048a7889d2cf61be076e9"
          }
        },
        "dx": {
          "fieldMetadata": {},
          "simpleTable": true,
          "updated": 1692214170613,
          "views": []
        },
        "noteable": {
          "cell_type": "code"
        },
        "vscode": {
          "languageId": "python"
        }
      },
      "outputs": [
        {
          "data": {
            "application/vnd.dataresource+json": {
              "data": [
                {
                  "0": "int64",
                  "index": "Year"
                },
                {
                  "0": "object",
                  "index": "Name"
                },
                {
                  "0": "float64",
                  "index": "Revenue"
                },
                {
                  "0": "int64",
                  "index": "Rank"
                }
              ],
              "datalink": {
                "display_id": "f6301bf1-f321-4f2a-a77e-0087da01242d"
              },
              "schema": {
                "fields": [
                  {
                    "name": "index",
                    "type": "string"
                  },
                  {
                    "name": "0",
                    "type": "string"
                  }
                ],
                "pandas_version": "1.4.0",
                "primaryKey": [
                  "index"
                ]
              }
            }
          },
          "metadata": {
            "application/vnd.dataresource+json": {
              "datalink": {
                "applied_filters": [],
                "dataframe_info": {
                  "default_index_used": false,
                  "orig_num_cols": 1,
                  "orig_num_rows": 4,
                  "orig_size_bytes": 64,
                  "truncated_num_cols": 1,
                  "truncated_num_rows": 4,
                  "truncated_size_bytes": 64,
                  "truncated_string_columns": []
                },
                "display_id": "f6301bf1-f321-4f2a-a77e-0087da01242d",
                "dx_settings": {
                  "ALLOW_NOTEABLE_ATTRS": true,
                  "COLUMN_SAMPLING_METHOD": "outer",
                  "DB_LOCATION": ":memory:",
                  "DEV_MODE": false,
                  "DISPLAY_MAX_COLUMNS": 100,
                  "DISPLAY_MAX_ROWS": 50000,
                  "DISPLAY_MODE": "simple",
                  "ENABLE_ASSIGNMENT": true,
                  "ENABLE_DATALINK": true,
                  "FLATTEN_COLUMN_VALUES": true,
                  "FLATTEN_INDEX_VALUES": false,
                  "GENERATE_DEX_METADATA": false,
                  "HTML_TABLE_SCHEMA": false,
                  "LOG_LEVEL": 30,
                  "MAX_RENDER_SIZE_BYTES": 104857600,
                  "MAX_STRING_LENGTH": 250,
                  "NUM_PAST_SAMPLES_TRACKED": 3,
                  "RANDOM_STATE": 12648430,
                  "RESET_INDEX_VALUES": false,
                  "ROW_SAMPLING_METHOD": "random",
                  "SAMPLING_FACTOR": 0.1,
                  "SAMPLING_METHOD": "random",
                  "STRINGIFY_COLUMN_VALUES": true,
                  "STRINGIFY_INDEX_VALUES": false
                },
                "sample_history": [],
                "sampling_time": "2023-08-16T19:29:26.839847",
                "user_variable_name": null,
                "variable_name": "unk_dataframe_02e5010af11048a7889d2cf61be076e9"
              },
              "display_id": "f6301bf1-f321-4f2a-a77e-0087da01242d"
            }
          },
          "output_type": "display_data"
        }
      ],
      "source": [
        "# Replacing '-' with 0\n",
        "fortune_df['Revenue'] = fortune_df['Revenue'].replace('-', '0')\n",
        "\n",
        "# Removing any remaining non-numeric characters and converting to float\n",
        "fortune_df['Revenue'] = fortune_df['Revenue'].replace('[\\$,]', '', regex=True).astype(float)\n",
        "\n",
        "# Checking the data types of each column again\n",
        "data_types_updated = fortune_df.dtypes\n",
        "data_types_updated"
      ]
    },
    {
      "cell_type": "code",
      "execution_count": null,
      "id": "52deda99-f908-425a-b663-1ac68a67b0e3",
      "metadata": {
        "ExecuteTime": {
          "end_time": "2023-08-16T19:30:42.183052+00:00",
          "start_time": "2023-08-16T19:30:42.019871+00:00"
        },
        "noteable": {
          "cell_type": "code"
        },
        "vscode": {
          "languageId": "python"
        }
      },
      "outputs": [
        {
          "data": {
            "text/plain": [
              "Index(['year', 'name', 'revenue', 'rank'], dtype='object')"
            ]
          },
          "execution_count": null,
          "metadata": {},
          "output_type": "execute_result"
        }
      ],
      "source": [
        "# Standardizing column names to lowercase and replacing spaces with underscores\n",
        "fortune_df.columns = fortune_df.columns.str.lower().str.replace(' ', '_')\n",
        "\n",
        "# Displaying the updated column names\n",
        "fortune_df.columns"
      ]
    },
    {
      "cell_type": "markdown",
      "id": "573769e6-b3a4-4338-bb5d-c165c917fbd7",
      "metadata": {
        "noteable": {
          "cell_type": "markdown"
        }
      },
      "source": [
        "### Data Exploration"
      ]
    },
    {
      "cell_type": "code",
      "execution_count": null,
      "id": "37409aa1-1fb3-4efc-92a5-306852bdb261",
      "metadata": {
        "ExecuteTime": {
          "end_time": "2023-08-16T19:32:45.050524+00:00",
          "start_time": "2023-08-16T19:32:44.845488+00:00"
        },
        "datalink": {
          "d9ba0064-af08-4b56-8017-c354553bc6f8": {
            "applied_filters": [],
            "dataframe_info": {
              "default_index_used": false,
              "orig_num_cols": 1,
              "orig_num_rows": 4,
              "orig_size_bytes": 64,
              "truncated_num_cols": 1,
              "truncated_num_rows": 4,
              "truncated_size_bytes": 64,
              "truncated_string_columns": []
            },
            "display_id": "d9ba0064-af08-4b56-8017-c354553bc6f8",
            "dx_settings": {
              "ALLOW_NOTEABLE_ATTRS": true,
              "COLUMN_SAMPLING_METHOD": "outer",
              "DB_LOCATION": ":memory:",
              "DEV_MODE": false,
              "DISPLAY_MAX_COLUMNS": 100,
              "DISPLAY_MAX_ROWS": 50000,
              "DISPLAY_MODE": "simple",
              "ENABLE_ASSIGNMENT": true,
              "ENABLE_DATALINK": true,
              "FLATTEN_COLUMN_VALUES": true,
              "FLATTEN_INDEX_VALUES": false,
              "GENERATE_DEX_METADATA": false,
              "HTML_TABLE_SCHEMA": false,
              "LOG_LEVEL": 30,
              "MAX_RENDER_SIZE_BYTES": 104857600,
              "MAX_STRING_LENGTH": 250,
              "NUM_PAST_SAMPLES_TRACKED": 3,
              "RANDOM_STATE": 12648430,
              "RESET_INDEX_VALUES": false,
              "ROW_SAMPLING_METHOD": "random",
              "SAMPLING_FACTOR": 0.1,
              "SAMPLING_METHOD": "random",
              "STRINGIFY_COLUMN_VALUES": true,
              "STRINGIFY_INDEX_VALUES": false
            },
            "sample_history": [],
            "sampling_time": "2023-08-16T19:32:44.894824",
            "user_variable_name": null,
            "variable_name": "unk_dataframe_b70a64c3cad1454587351ee753b48b7c"
          }
        },
        "dx": {
          "fieldMetadata": {},
          "simpleTable": true,
          "updated": 1692214403687,
          "views": []
        },
        "noteable": {
          "cell_type": "code"
        },
        "vscode": {
          "languageId": "python"
        }
      },
      "outputs": [
        {
          "data": {
            "application/vnd.dataresource+json": {
              "data": [
                {
                  "0": 0,
                  "index": "year"
                },
                {
                  "0": 0,
                  "index": "name"
                },
                {
                  "0": 0,
                  "index": "revenue"
                },
                {
                  "0": 0,
                  "index": "rank"
                }
              ],
              "datalink": {
                "display_id": "d9ba0064-af08-4b56-8017-c354553bc6f8"
              },
              "schema": {
                "fields": [
                  {
                    "name": "index",
                    "type": "string"
                  },
                  {
                    "name": "0",
                    "type": "integer"
                  }
                ],
                "pandas_version": "1.4.0",
                "primaryKey": [
                  "index"
                ]
              }
            }
          },
          "metadata": {
            "application/vnd.dataresource+json": {
              "datalink": {
                "applied_filters": [],
                "dataframe_info": {
                  "default_index_used": false,
                  "orig_num_cols": 1,
                  "orig_num_rows": 4,
                  "orig_size_bytes": 64,
                  "truncated_num_cols": 1,
                  "truncated_num_rows": 4,
                  "truncated_size_bytes": 64,
                  "truncated_string_columns": []
                },
                "display_id": "d9ba0064-af08-4b56-8017-c354553bc6f8",
                "dx_settings": {
                  "ALLOW_NOTEABLE_ATTRS": true,
                  "COLUMN_SAMPLING_METHOD": "outer",
                  "DB_LOCATION": ":memory:",
                  "DEV_MODE": false,
                  "DISPLAY_MAX_COLUMNS": 100,
                  "DISPLAY_MAX_ROWS": 50000,
                  "DISPLAY_MODE": "simple",
                  "ENABLE_ASSIGNMENT": true,
                  "ENABLE_DATALINK": true,
                  "FLATTEN_COLUMN_VALUES": true,
                  "FLATTEN_INDEX_VALUES": false,
                  "GENERATE_DEX_METADATA": false,
                  "HTML_TABLE_SCHEMA": false,
                  "LOG_LEVEL": 30,
                  "MAX_RENDER_SIZE_BYTES": 104857600,
                  "MAX_STRING_LENGTH": 250,
                  "NUM_PAST_SAMPLES_TRACKED": 3,
                  "RANDOM_STATE": 12648430,
                  "RESET_INDEX_VALUES": false,
                  "ROW_SAMPLING_METHOD": "random",
                  "SAMPLING_FACTOR": 0.1,
                  "SAMPLING_METHOD": "random",
                  "STRINGIFY_COLUMN_VALUES": true,
                  "STRINGIFY_INDEX_VALUES": false
                },
                "sample_history": [],
                "sampling_time": "2023-08-16T19:32:44.894824",
                "user_variable_name": null,
                "variable_name": "unk_dataframe_b70a64c3cad1454587351ee753b48b7c"
              },
              "display_id": "d9ba0064-af08-4b56-8017-c354553bc6f8"
            }
          },
          "output_type": "display_data"
        }
      ],
      "source": [
        "# Checking for missing values in the dataframe\n",
        "missing_values = fortune_df.isnull().sum()\n",
        "missing_values"
      ]
    },
    {
      "cell_type": "markdown",
      "id": "4b0eced4-c8b0-4912-a79f-b28561f83b87",
      "metadata": {
        "noteable": {
          "cell_type": "markdown"
        }
      },
      "source": [
        "From the initial check for missing values, it appears that there are no missing values in any of the columns of the dataframe. This is great as it means we don't have to perform any imputation or data filling for this dataset.\n",
        "\n",
        "Next, let's use the `.describe()` method to get a summary of the distribution of the numerical data."
      ]
    },
    {
      "cell_type": "code",
      "execution_count": null,
      "id": "d81f13b7-db71-4102-ae86-2f20d84a414a",
      "metadata": {
        "ExecuteTime": {
          "end_time": "2023-08-16T19:33:22.129271+00:00",
          "start_time": "2023-08-16T19:33:21.902723+00:00"
        },
        "datalink": {
          "07f6583c-8e62-42c1-a8aa-6500d1cf701d": {
            "applied_filters": [],
            "dataframe_info": {
              "default_index_used": false,
              "orig_num_cols": 3,
              "orig_num_rows": 8,
              "orig_size_bytes": 256,
              "truncated_num_cols": 3,
              "truncated_num_rows": 8,
              "truncated_size_bytes": 256,
              "truncated_string_columns": []
            },
            "display_id": "07f6583c-8e62-42c1-a8aa-6500d1cf701d",
            "dx_settings": {
              "ALLOW_NOTEABLE_ATTRS": true,
              "COLUMN_SAMPLING_METHOD": "outer",
              "DB_LOCATION": ":memory:",
              "DEV_MODE": false,
              "DISPLAY_MAX_COLUMNS": 100,
              "DISPLAY_MAX_ROWS": 50000,
              "DISPLAY_MODE": "simple",
              "ENABLE_ASSIGNMENT": true,
              "ENABLE_DATALINK": true,
              "FLATTEN_COLUMN_VALUES": true,
              "FLATTEN_INDEX_VALUES": false,
              "GENERATE_DEX_METADATA": false,
              "HTML_TABLE_SCHEMA": false,
              "LOG_LEVEL": 30,
              "MAX_RENDER_SIZE_BYTES": 104857600,
              "MAX_STRING_LENGTH": 250,
              "NUM_PAST_SAMPLES_TRACKED": 3,
              "RANDOM_STATE": 12648430,
              "RESET_INDEX_VALUES": false,
              "ROW_SAMPLING_METHOD": "random",
              "SAMPLING_FACTOR": 0.1,
              "SAMPLING_METHOD": "random",
              "STRINGIFY_COLUMN_VALUES": true,
              "STRINGIFY_INDEX_VALUES": false
            },
            "sample_history": [],
            "sampling_time": "2023-08-16T19:33:21.972670",
            "user_variable_name": "data_summary",
            "variable_name": "data_summary"
          }
        },
        "dx": {
          "fieldMetadata": {},
          "simpleTable": true,
          "updated": 1692214411049,
          "views": []
        },
        "noteable": {
          "cell_type": "code"
        },
        "vscode": {
          "languageId": "python"
        }
      },
      "outputs": [
        {
          "data": {
            "application/vnd.dataresource+json": {
              "data": [
                {
                  "index": "count",
                  "rank": 33500,
                  "revenue": 33500,
                  "year": 33500
                },
                {
                  "index": "mean",
                  "rank": 250.4994328358209,
                  "revenue": 8488.474343283582,
                  "year": 1988
                },
                {
                  "index": "std",
                  "rank": 144.33904621126803,
                  "revenue": 22364.646349675204,
                  "year": 19.339368255255224
                },
                {
                  "index": "min",
                  "rank": 1,
                  "revenue": 0,
                  "year": 1955
                },
                {
                  "index": "25%",
                  "rank": 125.75,
                  "revenue": 480.45,
                  "year": 1971
                },
                {
                  "index": "50%",
                  "rank": 250.5,
                  "revenue": 2184.2,
                  "year": 1988
                },
                {
                  "index": "75%",
                  "rank": 375.25,
                  "revenue": 7829.15,
                  "year": 2005
                },
                {
                  "index": "max",
                  "rank": 500,
                  "revenue": 559151,
                  "year": 2021
                }
              ],
              "datalink": {
                "display_id": "07f6583c-8e62-42c1-a8aa-6500d1cf701d"
              },
              "schema": {
                "fields": [
                  {
                    "name": "index",
                    "type": "string"
                  },
                  {
                    "name": "year",
                    "type": "number"
                  },
                  {
                    "name": "revenue",
                    "type": "number"
                  },
                  {
                    "name": "rank",
                    "type": "number"
                  }
                ],
                "pandas_version": "1.4.0",
                "primaryKey": [
                  "index"
                ]
              }
            }
          },
          "metadata": {
            "application/vnd.dataresource+json": {
              "datalink": {
                "applied_filters": [],
                "dataframe_info": {
                  "default_index_used": false,
                  "orig_num_cols": 3,
                  "orig_num_rows": 8,
                  "orig_size_bytes": 256,
                  "truncated_num_cols": 3,
                  "truncated_num_rows": 8,
                  "truncated_size_bytes": 256,
                  "truncated_string_columns": []
                },
                "display_id": "07f6583c-8e62-42c1-a8aa-6500d1cf701d",
                "dx_settings": {
                  "ALLOW_NOTEABLE_ATTRS": true,
                  "COLUMN_SAMPLING_METHOD": "outer",
                  "DB_LOCATION": ":memory:",
                  "DEV_MODE": false,
                  "DISPLAY_MAX_COLUMNS": 100,
                  "DISPLAY_MAX_ROWS": 50000,
                  "DISPLAY_MODE": "simple",
                  "ENABLE_ASSIGNMENT": true,
                  "ENABLE_DATALINK": true,
                  "FLATTEN_COLUMN_VALUES": true,
                  "FLATTEN_INDEX_VALUES": false,
                  "GENERATE_DEX_METADATA": false,
                  "HTML_TABLE_SCHEMA": false,
                  "LOG_LEVEL": 30,
                  "MAX_RENDER_SIZE_BYTES": 104857600,
                  "MAX_STRING_LENGTH": 250,
                  "NUM_PAST_SAMPLES_TRACKED": 3,
                  "RANDOM_STATE": 12648430,
                  "RESET_INDEX_VALUES": false,
                  "ROW_SAMPLING_METHOD": "random",
                  "SAMPLING_FACTOR": 0.1,
                  "SAMPLING_METHOD": "random",
                  "STRINGIFY_COLUMN_VALUES": true,
                  "STRINGIFY_INDEX_VALUES": false
                },
                "sample_history": [],
                "sampling_time": "2023-08-16T19:33:21.972670",
                "user_variable_name": "data_summary",
                "variable_name": "data_summary"
              },
              "display_id": "07f6583c-8e62-42c1-a8aa-6500d1cf701d"
            }
          },
          "output_type": "display_data"
        }
      ],
      "source": [
        "# Using .describe() to get a summary of the numerical columns\n",
        "data_summary = fortune_df.describe()\n",
        "data_summary"
      ]
    },
    {
      "cell_type": "markdown",
      "id": "a83be155-2953-4861-8df0-b4938d16720b",
      "metadata": {
        "noteable": {
          "cell_type": "markdown"
        }
      },
      "source": [
        "The `.describe()` method provides a summary of the numerical columns in the dataframe. Here are some insights from the summary:\n",
        "\n",
        "- **Year**: The data spans from 1955 to 2021.\n",
        "- **Revenue**: The average revenue of the companies listed is approximately 8,488.47 million. The minimum revenue is 0 million (which might indicate missing or unreported data for some companies), and the maximum revenue is a staggering 559,151 million. The 25th percentile is 480.45 million, the median (50th percentile) is 2,184.2 million, and the 75th percentile is 7,829.15 million.\n",
        "- **Rank**: The rank ranges from 1 to 500, which is expected for a list of the top 500 companies.\n",
        "\n",
        "Next, let's check the shape of the dataframe to understand its dimensions and then explore the unique values in the non-numerical columns."
      ]
    },
    {
      "cell_type": "code",
      "execution_count": null,
      "id": "4f9f2875-c7de-4db3-b6a9-344d2044f4be",
      "metadata": {
        "ExecuteTime": {
          "end_time": "2023-08-16T19:34:14.896100+00:00",
          "start_time": "2023-08-16T19:34:14.733096+00:00"
        },
        "noteable": {
          "cell_type": "code"
        },
        "vscode": {
          "languageId": "python"
        }
      },
      "outputs": [
        {
          "data": {
            "text/plain": [
              "((33500, 4), 2273)"
            ]
          },
          "execution_count": null,
          "metadata": {},
          "output_type": "execute_result"
        }
      ],
      "source": [
        "# Checking the shape of the dataframe\n",
        "data_shape = fortune_df.shape\n",
        "\n",
        "# Checking unique values in the 'name' column\n",
        "unique_companies = fortune_df['name'].nunique()\n",
        "\n",
        "data_shape, unique_companies"
      ]
    },
    {
      "cell_type": "markdown",
      "id": "27cd5722-37b3-4c4f-9f33-aa7d0edf9a23",
      "metadata": {
        "noteable": {
          "cell_type": "markdown"
        }
      },
      "source": [
        "Here are some additional insights from our exploration:\n",
        "\n",
        "- The dataframe has **33,500 rows** and **4 columns**. This means we have data for 33,500 entries across the 4 columns.\n",
        "- The `name` column, which represents the names of the companies, has **2,273 unique values**. This indicates that many companies have appeared on the list multiple times over the years.\n",
        "\n",
        "Given the size of the dataset and the number of unique companies, there's a wealth of information to explore further, such as trends over time, the distribution of revenues among the top companies, and more."
      ]
    },
    {
      "cell_type": "code",
      "execution_count": null,
      "id": "06e95f7c-3fbc-4bca-94dd-d4b7c6064ff7",
      "metadata": {
        "ExecuteTime": {
          "end_time": "2023-08-16T19:38:23.859029+00:00",
          "start_time": "2023-08-16T19:38:21.542078+00:00"
        },
        "noteable": {
          "cell_type": "code"
        },
        "vscode": {
          "languageId": "python"
        }
      },
      "outputs": [
        {
          "data": {
            "image/png": "[encoded data removed]"
          },
          "metadata": {},
          "output_type": "display_data"
        }
      ],
      "source": [
        "# Importing necessary libraries for data visualization\n",
        "import seaborn as sns\n",
        "import matplotlib.pyplot as plt\n",
        "\n",
        "# Setting the style for the plots\n",
        "sns.set_style('whitegrid')\n",
        "\n",
        "# Plotting the distribution of the 'year' column\n",
        "plt.figure(figsize=(14, 6))\n",
        "sns.countplot(x='year', data=fortune_df, palette='viridis')\n",
        "plt.title('Distribution of Companies by Year')\n",
        "plt.xticks(rotation=45)\n",
        "plt.tight_layout()\n",
        "plt.show()"
      ]
    },
    {
      "cell_type": "code",
      "execution_count": null,
      "id": "e7b5df36-99e8-43e3-94d2-04275679e463",
      "metadata": {
        "ExecuteTime": {
          "end_time": "2023-08-16T19:38:50.594628+00:00",
          "start_time": "2023-08-16T19:38:49.332388+00:00"
        },
        "noteable": {
          "cell_type": "code"
        },
        "vscode": {
          "languageId": "python"
        }
      },
      "outputs": [
        {
          "data": {
            "image/png": "[encoded data removed]"
          },
          "metadata": {},
          "output_type": "display_data"
        }
      ],
      "source": [
        "# Plotting the distribution of the 'revenue' column\n",
        "plt.figure(figsize=(14, 6))\n",
        "sns.histplot(fortune_df['revenue'], bins=50, color='blue', kde=True)\n",
        "plt.title('Distribution of Revenue')\n",
        "plt.xlabel('Revenue (in millions)')\n",
        "plt.ylabel('Frequency')\n",
        "plt.tight_layout()\n",
        "plt.show()"
      ]
    },
    {
      "cell_type": "markdown",
      "id": "4b1e176a-6c0f-436c-b64f-1e5c8e798534",
      "metadata": {
        "noteable": {
          "cell_type": "markdown"
        }
      },
      "source": [
        "Now, let's explore the relationships between the numerical variables. One of the best ways to visualize relationships between numerical variables is by using a correlation heatmap. This will allow us to see if there are any strong linear relationships between the variables in our dataset."
      ]
    },
    {
      "cell_type": "code",
      "execution_count": null,
      "id": "33f0dc53-8c07-427d-810d-2dc5d9c040d6",
      "metadata": {
        "ExecuteTime": {
          "end_time": "2023-08-16T19:40:03.211522+00:00",
          "start_time": "2023-08-16T19:40:02.493849+00:00"
        },
        "noteable": {
          "cell_type": "code"
        },
        "vscode": {
          "languageId": "python"
        }
      },
      "outputs": [
        {
          "data": {
            "image/png": "[encoded data removed]"
          },
          "metadata": {},
          "output_type": "display_data"
        }
      ],
      "source": [
        "# Calculating the correlation matrix\n",
        "correlation_matrix = fortune_df.corr()\n",
        "\n",
        "# Plotting the correlation heatmap\n",
        "plt.figure(figsize=(10, 6))\n",
        "sns.heatmap(correlation_matrix, annot=True, cmap='coolwarm', linewidths=0.5, vmin=-1, vmax=1)\n",
        "plt.title('Correlation Heatmap')\n",
        "plt.tight_layout()\n",
        "plt.show()"
      ]
    },
    {
      "cell_type": "markdown",
      "id": "556d60fc-324f-4fc6-8581-a06b54fa1ded",
      "metadata": {
        "noteable": {
          "cell_type": "markdown"
        }
      },
      "source": [
        "From the correlation heatmap, we can observe the following:\n",
        "\n",
        "- **Year and Rank**: There's a negative correlation between the year and the rank. This might indicate that over the years, the ranking criteria or the companies in the list have changed.\n",
        "- **Revenue and Rank**: There's also a negative correlation between revenue and rank. This is expected since a higher revenue would generally mean a higher rank (or a lower rank number) on the Fortune 500 list.\n",
        "\n",
        "It's important to note that correlation does not imply causation. While these variables might be correlated, it doesn't mean that one causes the other. The heatmap provides a quick overview of potential relationships that might be worth exploring further."
      ]
    },
    {
      "cell_type": "code",
      "execution_count": null,
      "id": "74801a8e-b372-428d-bafa-70aba4c8a6df",
      "metadata": {
        "ExecuteTime": {
          "end_time": "2023-08-16T19:43:24.946759+00:00",
          "start_time": "2023-08-16T19:43:24.179826+00:00"
        },
        "noteable": {
          "cell_type": "code"
        },
        "vscode": {
          "languageId": "python"
        }
      },
      "outputs": [
        {
          "data": {
            "image/png": "[encoded data removed]"
          },
          "metadata": {},
          "output_type": "display_data"
        }
      ],
      "source": [
        "# Grouping the data by company and year\n",
        "grouped_data = fortune_df.groupby(['name', 'year']).mean().reset_index()\n",
        "\n",
        "# Plotting the correlation heatmap for the grouped data\n",
        "correlation_matrix_grouped = grouped_data.corr()\n",
        "plt.figure(figsize=(10, 6))\n",
        "sns.heatmap(correlation_matrix_grouped, annot=True, cmap='coolwarm', linewidths=0.5, vmin=-1, vmax=1)\n",
        "plt.title('Correlation Heatmap (Grouped Data)')\n",
        "plt.tight_layout()\n",
        "plt.show()"
      ]
    },
    {
      "cell_type": "markdown",
      "id": "02f1dafd-d89a-4d20-a1b7-10c0beed7a1b",
      "metadata": {
        "noteable": {
          "cell_type": "markdown"
        }
      },
      "source": [
        "After grouping the data by company and year, the correlation heatmap for the grouped data shows similar insights as before. The negative correlation between `year` and `rank` and between `revenue` and `rank` remains consistent.\n",
        "\n",
        "Next, let's visualize the revenue evolution over the years for three companies. We'll choose 'Walmart', 'Exxon Mobil', and 'Apple' as our sample companies for this analysis."
      ]
    },
    {
      "cell_type": "code",
      "execution_count": null,
      "id": "bf9b51e6-7c4b-4bad-9fda-f5730ba07fd5",
      "metadata": {
        "ExecuteTime": {
          "end_time": "2023-08-16T19:44:25.172146+00:00",
          "start_time": "2023-08-16T19:44:24.190048+00:00"
        },
        "noteable": {
          "cell_type": "code"
        },
        "vscode": {
          "languageId": "python"
        }
      },
      "outputs": [
        {
          "data": {
            "image/png": "[encoded data removed]"
          },
          "metadata": {},
          "output_type": "display_data"
        }
      ],
      "source": [
        "# Filtering data for the three chosen companies\n",
        "companies = ['Walmart', 'Exxon Mobil', 'Apple']\n",
        "filtered_data = grouped_data[grouped_data['name'].isin(companies)]\n",
        "\n",
        "# Plotting the revenue evolution over the years for the three companies\n",
        "plt.figure(figsize=(14, 7))\n",
        "sns.lineplot(data=filtered_data, x='year', y='revenue', hue='name', palette='tab10', marker='o')\n",
        "plt.title('Revenue Evolution Over the Years')\n",
        "plt.xlabel('Year')\n",
        "plt.ylabel('Revenue (in millions)')\n",
        "plt.legend(title='Company')\n",
        "plt.tight_layout()\n",
        "plt.show()"
      ]
    }
  ],
  "metadata": {
    "kernel_info": {
      "name": "python3"
    },
    "kernelspec": {
      "display_name": "Python 3.9",
      "language": "python",
      "name": "python3"
    },
    "noteable": {
      "last_delta_id": "08af6929-9bc2-4bd1-961b-a85dc79a97b8",
      "last_transaction_id": "70101a10-50e0-4aa0-9a8b-9cf3e8e7f155"
    },
    "noteable-chatgpt": {
      "create_notebook": {
        "openai_conversation_id": "409d53ed-92ef-5987-b057-20ced889f8a4",
        "openai_ephemeral_user_id": "2be207d7-f7da-51b7-a136-7b07ec45cec7",
        "openai_subdivision1_iso_code": "ES-MD"
      }
    },
    "nteract": {
      "version": "noteable@2.9.0"
    },
    "selected_hardware_size": "small"
  },
  "nbformat": 4,
  "nbformat_minor": 5
}
