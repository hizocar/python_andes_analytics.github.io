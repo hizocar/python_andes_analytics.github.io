{
  "cells": [
    {
      "attachments": {},
      "cell_type": "markdown",
      "id": "c26e33dd-bb3e-46eb-9cba-bbf1bfa72b2e",
      "metadata": {
        "noteable": {
          "cell_type": "markdown"
        }
      },
      "source": [
        "[![](http://colab.research.google.com/assets/colab-badge.svg)](https://drive.google.com/file/d/1UqFWQAIzjaviA9PW_DAv1yjmXG1fskug/view?usp=drive_link)"
      ]
    },
    {
      "attachments": {},
      "cell_type": "markdown",
      "id": "47b87a7d-6e10-4dfb-a088-2bc80b098a2c",
      "metadata": {
        "noteable": {
          "cell_type": "markdown"
        }
      },
      "source": [
        "## Class1: Different types of Data\n",
        "<p align=\"center\">\n",
        "<img src=\"images/class1.png\" width=\"50%\" height=\"50%\">\n",
        "</p>"
      ]
    },
    {
      "cell_type": "markdown",
      "id": "6c014665",
      "metadata": {},
      "source": []
    },
    {
      "cell_type": "markdown",
      "id": "e2b14a65-4339-4a98-947b-faa76996491f",
      "metadata": {
        "noteable": {
          "cell_type": "markdown"
        }
      },
      "source": [
        "In the field of data science, we often talk about different types of data. Understanding these types is crucial for proper data analysis and interpretation. Here are some of the most common types of data:\n",
        "\n",
        "1. **Numerical Data**: This type of data is quantitative and can be divided into two types: discrete and continuous. Discrete numerical data is countable (e.g., the number of employees in a company), while continuous numerical data can take any value within a range (e.g., the weight of a person).\n",
        "\n",
        "2. **Categorical Data**: This type of data is qualitative and describes categories or groups (e.g., the color of a car). It can be further divided into nominal data (no order implied) and ordinal data (order is significant).\n",
        "\n",
        "3. **Binary Data**: A special case of categorical data where the variable has only two categories or groups (e.g., yes/no, true/false).\n",
        "\n",
        "4. **Time-series Data**: This type of data is collected over time and the order of the data points is important (e.g., stock prices over time).\n",
        "\n",
        "5. **Text Data**: This type of data is unstructured and is typically in the form of sentences or paragraphs (e.g., customer reviews)."
      ]
    },
    {
      "cell_type": "markdown",
      "id": "8b1a1d41-1b70-4fc5-8168-aad271c30315",
      "metadata": {
        "noteable": {
          "cell_type": "markdown"
        }
      },
      "source": [
        "In Python, we have several data types that are commonly used. Here are some of them with examples:\n",
        "\n",
        "1. **Integers**: These are whole numbers. For example, `5`, `10`, `-1`.\n",
        "\n",
        "2. **Floats**: These are real numbers (i.e., numbers that can have a decimal point). For example, `5.0`, `1.23`, `-0.5`.\n",
        "\n",
        "3. **Strings**: These are sequences of characters. For example, `'Hello, World!'`, `'Python'`.\n",
        "\n",
        "4. **Booleans**: These represent truth values `True` and `False`.\n",
        "\n",
        "5. **Lists**: These are ordered collections of items (which can be of different types). For example, `[1, 2, 3]`, `['apple', 'banana', 'cherry']`.\n",
        "\n",
        "6. **Tuples**: These are like lists, but they are immutable (i.e., they can't be modified after they are created). For example, `(1, 2, 3)`, `('apple', 'banana', 'cherry')`.\n",
        "\n",
        "7. **Dictionaries**: These are collections of key-value pairs. For example, `{'name': 'John', 'age': 30}`."
      ]
    },
    {
      "cell_type": "markdown",
      "id": "78b3a1ec-1e4e-41f6-8a07-f1505249b322",
      "metadata": {
        "noteable": {
          "cell_type": "markdown"
        }
      },
      "source": [
        "Python has a variety of operators that can be used with different data types. Here are some examples:\n",
        "\n",
        "1. **Arithmetic Operators**: These are used with numeric values to perform common mathematical operations.\n",
        "   - Addition: `5 + 3` returns `8`\n",
        "   - Subtraction: `5 - 3` returns `2`\n",
        "   - Multiplication: `5 * 3` returns `15`\n",
        "   - Division: `5 / 3` returns `1.6666666666666667`\n",
        "   - Modulus: `5 % 3` returns `2`\n",
        "   - Exponentiation: `5 ** 3` returns `125`\n",
        "   - Floor division: `5 // 3` returns `1`\n",
        "\n",
        "2. **Comparison Operators**: These are used to compare two values.\n",
        "   - Equal: `5 == 3` returns `False`\n",
        "   - Not equal: `5 != 3` returns `True`\n",
        "   - Greater than: `5 > 3` returns `True`\n",
        "   - Less than: `5 < 3` returns `False`\n",
        "   - Greater than or equal to: `5 >= 3` returns `True`\n",
        "   - Less than or equal to: `5 <= 3` returns `False`\n",
        "\n",
        "3. **Logical Operators**: These are used to combine conditional statements.\n",
        "   - and: Returns `True` if both statements are true\n",
        "   - or: Returns `True` if one of the statements is true\n",
        "   - not: Reverse the result, returns `False` if the result is true\n",
        "\n",
        "4. **Membership Operators**: These are used to test if a sequence is presented in an object.\n",
        "   - in: Returns `True` if a sequence with the specified value is present in the object\n",
        "   - not in: Returns `True` if a sequence with the specified value is not present in the object\n",
        "\n",
        "5. **String Operators**: Python also has a set of operators that are specifically designed to work with strings. These include the `+` operator for concatenation and the `*` operator for repetition."
      ]
    },
    {
      "cell_type": "markdown",
      "id": "0e6fcfc8-6182-4923-aea6-08b1f6c37dbd",
      "metadata": {
        "noteable": {
          "cell_type": "markdown"
        }
      },
      "source": [
        "## Python Data Types: Exercises"
      ]
    },
    {
      "cell_type": "code",
      "execution_count": null,
      "id": "f09e265a-03ca-44d5-9c63-c8c05ef0f7ef",
      "metadata": {
        "ExecuteTime": {
          "end_time": "2023-07-26T19:51:27.348244+00:00",
          "start_time": "2023-07-26T19:51:27.188758+00:00"
        },
        "noteable": {
          "cell_type": "code"
        },
        "vscode": {
          "languageId": "python"
        }
      },
      "outputs": [
        {
          "name": "stdout",
          "output_type": "stream",
          "text": [
            "Addition: 13\n",
            "Subtraction: 7\n",
            "Multiplication: 30\n",
            "Division: 3.3333333333333335\n",
            "Floor Division: 3\n",
            "Modulus: 1\n",
            "Exponentiation: 1000\n"
          ]
        }
      ],
      "source": [
        "# Exercise 1: Working with integers and floats\n",
        "num1 = 10\n",
        "num2 = 3\n",
        "\n",
        "# Addition\n",
        "print('Addition:', num1 + num2)\n",
        "\n",
        "# Subtraction\n",
        "print('Subtraction:', num1 - num2)\n",
        "\n",
        "# Multiplication\n",
        "print('Multiplication:', num1 * num2)\n",
        "\n",
        "# Division\n",
        "print('Division:', num1 / num2)\n",
        "\n",
        "# Floor Division\n",
        "print('Floor Division:', num1 // num2)\n",
        "\n",
        "# Modulus\n",
        "print('Modulus:', num1 % num2)\n",
        "\n",
        "# Exponentiation\n",
        "print('Exponentiation:', num1 ** num2)"
      ]
    },
    {
      "cell_type": "code",
      "execution_count": null,
      "id": "c6d471ea-a7f5-4ee3-942d-49a631bc3676",
      "metadata": {
        "ExecuteTime": {
          "end_time": "2023-07-26T19:51:43.049192+00:00",
          "start_time": "2023-07-26T19:51:42.889158+00:00"
        },
        "noteable": {
          "cell_type": "code"
        },
        "vscode": {
          "languageId": "python"
        }
      },
      "outputs": [
        {
          "name": "stdout",
          "output_type": "stream",
          "text": [
            "Concatenation: Hello World\n",
            "Repetition: HelloHelloHello\n",
            "Slicing: ell\n",
            "Length: 5\n"
          ]
        }
      ],
      "source": [
        "# Exercise 2: Working with strings\n",
        "str1 = 'Hello'\n",
        "str2 = 'World'\n",
        "\n",
        "# String concatenation\n",
        "print('Concatenation:', str1 + ' ' + str2)\n",
        "\n",
        "# String repetition\n",
        "print('Repetition:', str1 * 3)\n",
        "\n",
        "# String slicing\n",
        "print('Slicing:', str1[1:4])\n",
        "\n",
        "# String length\n",
        "print('Length:', len(str1))"
      ]
    },
    {
      "cell_type": "code",
      "execution_count": null,
      "id": "603791cc-10bd-4e48-af13-f04f50452804",
      "metadata": {
        "ExecuteTime": {
          "end_time": "2023-07-26T19:52:03.506522+00:00",
          "start_time": "2023-07-26T19:52:03.346150+00:00"
        },
        "noteable": {
          "cell_type": "code"
        },
        "vscode": {
          "languageId": "python"
        }
      },
      "outputs": [
        {
          "name": "stdout",
          "output_type": "stream",
          "text": [
            "First element: 1\n",
            "Last element: 5\n",
            "Slicing: [2, 3, 4]\n",
            "Length: 5\n",
            "After adding an element: [1, 2, 3, 4, 5, 6]\n",
            "After removing an element: [2, 3, 4, 5, 6]\n"
          ]
        }
      ],
      "source": [
        "# Exercise 3: Working with lists\n",
        "list1 = [1, 2, 3, 4, 5]\n",
        "\n",
        "# Accessing elements\n",
        "print('First element:', list1[0])\n",
        "print('Last element:', list1[-1])\n",
        "\n",
        "# List slicing\n",
        "print('Slicing:', list1[1:4])\n",
        "\n",
        "# List length\n",
        "print('Length:', len(list1))\n",
        "\n",
        "# Adding elements\n",
        "list1.append(6)\n",
        "print('After adding an element:', list1)\n",
        "\n",
        "# Removing elements\n",
        "list1.remove(1)\n",
        "print('After removing an element:', list1)"
      ]
    },
    {
      "cell_type": "code",
      "execution_count": null,
      "id": "af590a5e-e247-44e3-90bc-31b348bb9048",
      "metadata": {
        "ExecuteTime": {
          "end_time": "2023-07-26T19:52:20.246475+00:00",
          "start_time": "2023-07-26T19:52:20.088178+00:00"
        },
        "noteable": {
          "cell_type": "code"
        },
        "vscode": {
          "languageId": "python"
        }
      },
      "outputs": [
        {
          "name": "stdout",
          "output_type": "stream",
          "text": [
            "Name: John\n",
            "Age: 30\n",
            "After adding an element: {'name': 'John', 'age': 30, 'city': 'New York', 'job': 'Engineer'}\n",
            "After removing an element: {'name': 'John', 'city': 'New York', 'job': 'Engineer'}\n"
          ]
        }
      ],
      "source": [
        "# Exercise 4: Working with dictionaries\n",
        "dict1 = {'name': 'John', 'age': 30, 'city': 'New York'}\n",
        "\n",
        "# Accessing elements\n",
        "print('Name:', dict1['name'])\n",
        "print('Age:', dict1['age'])\n",
        "\n",
        "# Adding elements\n",
        "dict1['job'] = 'Engineer'\n",
        "print('After adding an element:', dict1)\n",
        "\n",
        "# Removing elements\n",
        "del dict1['age']\n",
        "print('After removing an element:', dict1)"
      ]
    },
    {
      "cell_type": "markdown",
      "id": "850b8e0e-30d7-4681-b51c-2676afd8bdae",
      "metadata": {
        "noteable": {
          "cell_type": "markdown"
        }
      },
      "source": [
        "## Python Functions"
      ]
    },
    {
      "cell_type": "markdown",
      "id": "6de1c3d0-cb49-4d16-83d9-871512753f8b",
      "metadata": {
        "noteable": {
          "cell_type": "markdown"
        }
      },
      "source": [
        "In Python, a function is a block of reusable code that performs a specific task. Functions help break our program into smaller and modular chunks, making it organized and manageable. They also prevent repetition and make the code reusable.\n",
        "\n",
        "Here's the basic syntax of a Python function:\n",
        "\n",
        "```python\n",
        "def function_name(parameters):\n",
        "    \"\"\"docstring\"\"\"\n",
        "    statement(s)\n",
        "```\n",
        "\n",
        "1. The `def` keyword is a statement for defining a function in Python.\n",
        "2. `function_name` is a unique identifier for the function.\n",
        "3. `parameters` (arguments) through which we pass values to a function. These are optional.\n",
        "4. A colon (`:`) to mark the end of the function header.\n",
        "5. Optional documentation string (`docstring`) to describe what the function does.\n",
        "6. One or more valid python statements that make up the function body. Statements must have the same indentation level (usually 4 spaces).\n",
        "7. An optional `return` statement to return a value from the function."
      ]
    },
    {
      "cell_type": "code",
      "execution_count": null,
      "id": "8476b4b3-ff79-43c5-8430-205834219937",
      "metadata": {
        "ExecuteTime": {
          "end_time": "2023-07-26T20:04:04.214504+00:00",
          "start_time": "2023-07-26T20:04:04.056807+00:00"
        },
        "noteable": {
          "cell_type": "code"
        },
        "vscode": {
          "languageId": "python"
        }
      },
      "outputs": [
        {
          "name": "stdout",
          "output_type": "stream",
          "text": [
            "Hello, John. Good morning!\n"
          ]
        }
      ],
      "source": [
        "# Example of a Python function\n",
        "\n",
        "def greet(name):\n",
        "    \"\"\"\n",
        "    This function greets the person passed in as a parameter\n",
        "    \"\"\"\n",
        "    print(f'Hello, {name}. Good morning!')\n",
        "\n",
        "# Calling the function\n",
        "greet('John')"
      ]
    },
    {
      "cell_type": "code",
      "execution_count": null,
      "id": "af74c8de-5069-4cff-8fe7-5922f53b9972",
      "metadata": {
        "ExecuteTime": {
          "end_time": "2023-07-26T20:04:17.762266+00:00",
          "start_time": "2023-07-26T20:04:17.603665+00:00"
        },
        "noteable": {
          "cell_type": "code"
        },
        "vscode": {
          "languageId": "python"
        }
      },
      "outputs": [
        {
          "name": "stdout",
          "output_type": "stream",
          "text": [
            "The sum is 8\n"
          ]
        }
      ],
      "source": [
        "# Example of a Python function with a return statement\n",
        "\n",
        "def add_numbers(num1, num2):\n",
        "    \"\"\"\n",
        "    This function adds the two numbers passed in as parameters\n",
        "    \"\"\"\n",
        "    return num1 + num2\n",
        "\n",
        "# Calling the function and printing the result\n",
        "result = add_numbers(5, 3)\n",
        "print(f'The sum is {result}')"
      ]
    },
    {
      "cell_type": "markdown",
      "id": "81c969ae-2b8f-45e3-b1c6-7c803a313823",
      "metadata": {
        "noteable": {
          "cell_type": "markdown"
        }
      },
      "source": [
        "## Exercises"
      ]
    },
    {
      "cell_type": "markdown",
      "id": "36ba9e5f-5cb1-46f1-a279-4303695a7d2b",
      "metadata": {
        "noteable": {
          "cell_type": "markdown"
        }
      },
      "source": [
        "### Exercise 1: Data Types\n",
        "\n",
        "Given the following variables, convert each one to a different data type:\n",
        "\n",
        "```python\n",
        "num = '123'\n",
        "str_num = 456\n",
        "```\n",
        "\n",
        "Convert `num` to an integer and `str_num` to a string. Print the new variables and their types."
      ]
    },
    {
      "cell_type": "markdown",
      "id": "7f48ce08-c063-44c9-8f51-064b2e54cd0e",
      "metadata": {
        "noteable": {
          "cell_type": "markdown"
        }
      },
      "source": [
        "### Exercise 2: Functions\n",
        "\n",
        "Write a function named `calculate_average` that takes a list of numbers as a parameter and returns their average.\n",
        "\n",
        "Then, call your function with the list `[1, 2, 3, 4, 5]` and print the result."
      ]
    },
    {
      "cell_type": "markdown",
      "id": "4c454db7-1c22-4edc-8a6d-4a96674ad6ee",
      "metadata": {
        "noteable": {
          "cell_type": "markdown"
        }
      },
      "source": [
        "### Exercise 3: Lists and Dictionaries\n",
        "\n",
        "Given the following list of dictionaries:\n",
        "\n",
        "```python\n",
        "data = [\n",
        "    {'name': 'John', 'age': 30, 'job': 'Engineer'},\n",
        "    {'name': 'Anna', 'age': 27, 'job': 'Doctor'},\n",
        "    {'name': 'Mike', 'age': 35, 'job': 'Artist'}\n",
        "]\n",
        "```\n",
        "\n",
        "Write a function named `get_ages` that takes the list as a parameter and returns a list of all ages. Then, call your function with the `data` list and print the result."
      ]
    }
  ],
  "metadata": {
    "kernel_info": {
      "name": "python3"
    },
    "kernelspec": {
      "display_name": "Python 3.9",
      "language": "python",
      "name": "python3"
    },
    "noteable": {
      "last_delta_id": "54b8c50c-850d-4abf-8e40-398184b3a0c5",
      "last_transaction_id": "049a3e1d-dfc7-4623-a2b0-36ea8ec64104"
    },
    "noteable-chatgpt": {
      "create_notebook": {
        "openai_conversation_id": "26e1e74e-c49f-51b9-a833-a81fc4daf432",
        "openai_ephemeral_user_id": "45d78c50-7ef5-51a1-989d-458dcc0633ee",
        "openai_subdivision1_iso_code": "CL-RM"
      }
    },
    "nteract": {
      "version": "noteable@2.9.0"
    },
    "selected_hardware_size": "small"
  },
  "nbformat": 4,
  "nbformat_minor": 5
}
